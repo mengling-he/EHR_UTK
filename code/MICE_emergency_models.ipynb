{
 "cells": [
  {
   "cell_type": "code",
   "execution_count": 1,
   "id": "127ace4d",
   "metadata": {},
   "outputs": [],
   "source": [
    "import pandas as pd\n",
    "import numpy as np\n",
    "import scipy.stats as st\n",
    "from sklearn.preprocessing import LabelEncoder\n",
    "from catboost import CatBoostClassifier\n",
    "from collections import Counter\n",
    "import matplotlib.pyplot as plt\n",
    "import seaborn as sns\n",
    "import os\n",
    "from sklearn.metrics import accuracy_score, precision_score, recall_score, roc_auc_score，confusion_matrix"
   ]
  },
  {
   "cell_type": "code",
   "execution_count": 40,
   "id": "4833f1f3",
   "metadata": {},
   "outputs": [],
   "source": [
    "from functions import helpers\n",
    "from functions import models\n",
    "from functions import classifiers\n",
    "from functions import metric"
   ]
  },
  {
   "cell_type": "code",
   "execution_count": 3,
   "id": "21c39c13",
   "metadata": {},
   "outputs": [],
   "source": [
    "df_mice = pd.read_csv('../data/data_mice.csv')\n",
    "df_mice = df_mice[df_mice['Csection.Urgency'] != 'Schedule']\n",
    "del df_mice['Method.of.Delivery.A']\n",
    "del df_mice['Csection.Incidence'] "
   ]
  },
  {
   "cell_type": "code",
   "execution_count": 4,
   "id": "3383f205-844c-4622-a358-1ddebee8ecd2",
   "metadata": {},
   "outputs": [
    {
     "data": {
      "text/html": [
       "<div>\n",
       "<style scoped>\n",
       "    .dataframe tbody tr th:only-of-type {\n",
       "        vertical-align: middle;\n",
       "    }\n",
       "\n",
       "    .dataframe tbody tr th {\n",
       "        vertical-align: top;\n",
       "    }\n",
       "\n",
       "    .dataframe thead th {\n",
       "        text-align: right;\n",
       "    }\n",
       "</style>\n",
       "<table border=\"1\" class=\"dataframe\">\n",
       "  <thead>\n",
       "    <tr style=\"text-align: right;\">\n",
       "      <th></th>\n",
       "      <th>Age</th>\n",
       "      <th>Gravida</th>\n",
       "      <th>Para</th>\n",
       "      <th>Number.of.Babies.In.Womb</th>\n",
       "      <th>Delivery.Year</th>\n",
       "      <th>Infant.Cord.Vessels.A</th>\n",
       "      <th>Infant.Length.A</th>\n",
       "      <th>Birthweight.A</th>\n",
       "      <th>GA.At.Birth.A</th>\n",
       "      <th>Weight.Prepregnancy</th>\n",
       "      <th>...</th>\n",
       "      <th>reason_for_admission_ROM</th>\n",
       "      <th>reason_for_admission_Observe</th>\n",
       "      <th>reason_for_admission_other</th>\n",
       "      <th>race_black</th>\n",
       "      <th>race_white</th>\n",
       "      <th>race_pacific_islander</th>\n",
       "      <th>race_asian</th>\n",
       "      <th>race_arabic</th>\n",
       "      <th>race_american_indian</th>\n",
       "      <th>race_other</th>\n",
       "    </tr>\n",
       "  </thead>\n",
       "  <tbody>\n",
       "    <tr>\n",
       "      <th>0</th>\n",
       "      <td>24</td>\n",
       "      <td>2</td>\n",
       "      <td>1</td>\n",
       "      <td>1</td>\n",
       "      <td>2019</td>\n",
       "      <td>3</td>\n",
       "      <td>21.00</td>\n",
       "      <td>3590</td>\n",
       "      <td>39.1</td>\n",
       "      <td>248</td>\n",
       "      <td>...</td>\n",
       "      <td>False</td>\n",
       "      <td>False</td>\n",
       "      <td>False</td>\n",
       "      <td>False</td>\n",
       "      <td>True</td>\n",
       "      <td>False</td>\n",
       "      <td>False</td>\n",
       "      <td>False</td>\n",
       "      <td>False</td>\n",
       "      <td>False</td>\n",
       "    </tr>\n",
       "    <tr>\n",
       "      <th>1</th>\n",
       "      <td>26</td>\n",
       "      <td>4</td>\n",
       "      <td>2</td>\n",
       "      <td>1</td>\n",
       "      <td>2019</td>\n",
       "      <td>3</td>\n",
       "      <td>18.75</td>\n",
       "      <td>2880</td>\n",
       "      <td>37.5</td>\n",
       "      <td>195</td>\n",
       "      <td>...</td>\n",
       "      <td>False</td>\n",
       "      <td>False</td>\n",
       "      <td>False</td>\n",
       "      <td>False</td>\n",
       "      <td>True</td>\n",
       "      <td>False</td>\n",
       "      <td>False</td>\n",
       "      <td>False</td>\n",
       "      <td>False</td>\n",
       "      <td>False</td>\n",
       "    </tr>\n",
       "    <tr>\n",
       "      <th>2</th>\n",
       "      <td>21</td>\n",
       "      <td>1</td>\n",
       "      <td>0</td>\n",
       "      <td>1</td>\n",
       "      <td>2019</td>\n",
       "      <td>3</td>\n",
       "      <td>20.00</td>\n",
       "      <td>2830</td>\n",
       "      <td>39.1</td>\n",
       "      <td>135</td>\n",
       "      <td>...</td>\n",
       "      <td>False</td>\n",
       "      <td>False</td>\n",
       "      <td>False</td>\n",
       "      <td>False</td>\n",
       "      <td>True</td>\n",
       "      <td>False</td>\n",
       "      <td>False</td>\n",
       "      <td>False</td>\n",
       "      <td>False</td>\n",
       "      <td>False</td>\n",
       "    </tr>\n",
       "    <tr>\n",
       "      <th>3</th>\n",
       "      <td>31</td>\n",
       "      <td>1</td>\n",
       "      <td>0</td>\n",
       "      <td>1</td>\n",
       "      <td>2019</td>\n",
       "      <td>3</td>\n",
       "      <td>20.25</td>\n",
       "      <td>3730</td>\n",
       "      <td>39.3</td>\n",
       "      <td>130</td>\n",
       "      <td>...</td>\n",
       "      <td>False</td>\n",
       "      <td>False</td>\n",
       "      <td>False</td>\n",
       "      <td>False</td>\n",
       "      <td>True</td>\n",
       "      <td>False</td>\n",
       "      <td>False</td>\n",
       "      <td>False</td>\n",
       "      <td>False</td>\n",
       "      <td>False</td>\n",
       "    </tr>\n",
       "    <tr>\n",
       "      <th>4</th>\n",
       "      <td>23</td>\n",
       "      <td>6</td>\n",
       "      <td>1</td>\n",
       "      <td>1</td>\n",
       "      <td>2019</td>\n",
       "      <td>3</td>\n",
       "      <td>17.00</td>\n",
       "      <td>2150</td>\n",
       "      <td>32.4</td>\n",
       "      <td>138</td>\n",
       "      <td>...</td>\n",
       "      <td>False</td>\n",
       "      <td>False</td>\n",
       "      <td>False</td>\n",
       "      <td>False</td>\n",
       "      <td>True</td>\n",
       "      <td>False</td>\n",
       "      <td>False</td>\n",
       "      <td>False</td>\n",
       "      <td>False</td>\n",
       "      <td>False</td>\n",
       "    </tr>\n",
       "    <tr>\n",
       "      <th>...</th>\n",
       "      <td>...</td>\n",
       "      <td>...</td>\n",
       "      <td>...</td>\n",
       "      <td>...</td>\n",
       "      <td>...</td>\n",
       "      <td>...</td>\n",
       "      <td>...</td>\n",
       "      <td>...</td>\n",
       "      <td>...</td>\n",
       "      <td>...</td>\n",
       "      <td>...</td>\n",
       "      <td>...</td>\n",
       "      <td>...</td>\n",
       "      <td>...</td>\n",
       "      <td>...</td>\n",
       "      <td>...</td>\n",
       "      <td>...</td>\n",
       "      <td>...</td>\n",
       "      <td>...</td>\n",
       "      <td>...</td>\n",
       "      <td>...</td>\n",
       "    </tr>\n",
       "    <tr>\n",
       "      <th>17613</th>\n",
       "      <td>27</td>\n",
       "      <td>1</td>\n",
       "      <td>0</td>\n",
       "      <td>1</td>\n",
       "      <td>2023</td>\n",
       "      <td>3</td>\n",
       "      <td>19.75</td>\n",
       "      <td>3290</td>\n",
       "      <td>39.3</td>\n",
       "      <td>187</td>\n",
       "      <td>...</td>\n",
       "      <td>False</td>\n",
       "      <td>False</td>\n",
       "      <td>False</td>\n",
       "      <td>False</td>\n",
       "      <td>True</td>\n",
       "      <td>False</td>\n",
       "      <td>False</td>\n",
       "      <td>False</td>\n",
       "      <td>False</td>\n",
       "      <td>False</td>\n",
       "    </tr>\n",
       "    <tr>\n",
       "      <th>17616</th>\n",
       "      <td>23</td>\n",
       "      <td>2</td>\n",
       "      <td>1</td>\n",
       "      <td>1</td>\n",
       "      <td>2023</td>\n",
       "      <td>3</td>\n",
       "      <td>21.00</td>\n",
       "      <td>3700</td>\n",
       "      <td>40.3</td>\n",
       "      <td>110</td>\n",
       "      <td>...</td>\n",
       "      <td>False</td>\n",
       "      <td>False</td>\n",
       "      <td>False</td>\n",
       "      <td>False</td>\n",
       "      <td>True</td>\n",
       "      <td>False</td>\n",
       "      <td>False</td>\n",
       "      <td>False</td>\n",
       "      <td>False</td>\n",
       "      <td>False</td>\n",
       "    </tr>\n",
       "    <tr>\n",
       "      <th>17617</th>\n",
       "      <td>25</td>\n",
       "      <td>1</td>\n",
       "      <td>1</td>\n",
       "      <td>1</td>\n",
       "      <td>2023</td>\n",
       "      <td>3</td>\n",
       "      <td>20.00</td>\n",
       "      <td>2710</td>\n",
       "      <td>39.3</td>\n",
       "      <td>231</td>\n",
       "      <td>...</td>\n",
       "      <td>True</td>\n",
       "      <td>False</td>\n",
       "      <td>False</td>\n",
       "      <td>False</td>\n",
       "      <td>True</td>\n",
       "      <td>False</td>\n",
       "      <td>False</td>\n",
       "      <td>False</td>\n",
       "      <td>False</td>\n",
       "      <td>False</td>\n",
       "    </tr>\n",
       "    <tr>\n",
       "      <th>17618</th>\n",
       "      <td>34</td>\n",
       "      <td>1</td>\n",
       "      <td>0</td>\n",
       "      <td>1</td>\n",
       "      <td>2023</td>\n",
       "      <td>3</td>\n",
       "      <td>19.75</td>\n",
       "      <td>3160</td>\n",
       "      <td>39.0</td>\n",
       "      <td>138</td>\n",
       "      <td>...</td>\n",
       "      <td>False</td>\n",
       "      <td>False</td>\n",
       "      <td>False</td>\n",
       "      <td>False</td>\n",
       "      <td>True</td>\n",
       "      <td>False</td>\n",
       "      <td>False</td>\n",
       "      <td>False</td>\n",
       "      <td>False</td>\n",
       "      <td>False</td>\n",
       "    </tr>\n",
       "    <tr>\n",
       "      <th>17619</th>\n",
       "      <td>29</td>\n",
       "      <td>2</td>\n",
       "      <td>1</td>\n",
       "      <td>1</td>\n",
       "      <td>2023</td>\n",
       "      <td>3</td>\n",
       "      <td>19.00</td>\n",
       "      <td>2605</td>\n",
       "      <td>36.3</td>\n",
       "      <td>324</td>\n",
       "      <td>...</td>\n",
       "      <td>False</td>\n",
       "      <td>False</td>\n",
       "      <td>False</td>\n",
       "      <td>True</td>\n",
       "      <td>False</td>\n",
       "      <td>False</td>\n",
       "      <td>False</td>\n",
       "      <td>False</td>\n",
       "      <td>False</td>\n",
       "      <td>False</td>\n",
       "    </tr>\n",
       "  </tbody>\n",
       "</table>\n",
       "<p>15406 rows × 91 columns</p>\n",
       "</div>"
      ],
      "text/plain": [
       "       Age  Gravida  Para  Number.of.Babies.In.Womb  Delivery.Year  \\\n",
       "0       24        2     1                         1           2019   \n",
       "1       26        4     2                         1           2019   \n",
       "2       21        1     0                         1           2019   \n",
       "3       31        1     0                         1           2019   \n",
       "4       23        6     1                         1           2019   \n",
       "...    ...      ...   ...                       ...            ...   \n",
       "17613   27        1     0                         1           2023   \n",
       "17616   23        2     1                         1           2023   \n",
       "17617   25        1     1                         1           2023   \n",
       "17618   34        1     0                         1           2023   \n",
       "17619   29        2     1                         1           2023   \n",
       "\n",
       "       Infant.Cord.Vessels.A  Infant.Length.A  Birthweight.A  GA.At.Birth.A  \\\n",
       "0                          3            21.00           3590           39.1   \n",
       "1                          3            18.75           2880           37.5   \n",
       "2                          3            20.00           2830           39.1   \n",
       "3                          3            20.25           3730           39.3   \n",
       "4                          3            17.00           2150           32.4   \n",
       "...                      ...              ...            ...            ...   \n",
       "17613                      3            19.75           3290           39.3   \n",
       "17616                      3            21.00           3700           40.3   \n",
       "17617                      3            20.00           2710           39.3   \n",
       "17618                      3            19.75           3160           39.0   \n",
       "17619                      3            19.00           2605           36.3   \n",
       "\n",
       "       Weight.Prepregnancy  ...  reason_for_admission_ROM  \\\n",
       "0                      248  ...                     False   \n",
       "1                      195  ...                     False   \n",
       "2                      135  ...                     False   \n",
       "3                      130  ...                     False   \n",
       "4                      138  ...                     False   \n",
       "...                    ...  ...                       ...   \n",
       "17613                  187  ...                     False   \n",
       "17616                  110  ...                     False   \n",
       "17617                  231  ...                      True   \n",
       "17618                  138  ...                     False   \n",
       "17619                  324  ...                     False   \n",
       "\n",
       "       reason_for_admission_Observe  reason_for_admission_other  race_black  \\\n",
       "0                             False                       False       False   \n",
       "1                             False                       False       False   \n",
       "2                             False                       False       False   \n",
       "3                             False                       False       False   \n",
       "4                             False                       False       False   \n",
       "...                             ...                         ...         ...   \n",
       "17613                         False                       False       False   \n",
       "17616                         False                       False       False   \n",
       "17617                         False                       False       False   \n",
       "17618                         False                       False       False   \n",
       "17619                         False                       False        True   \n",
       "\n",
       "       race_white  race_pacific_islander  race_asian race_arabic  \\\n",
       "0            True                  False       False       False   \n",
       "1            True                  False       False       False   \n",
       "2            True                  False       False       False   \n",
       "3            True                  False       False       False   \n",
       "4            True                  False       False       False   \n",
       "...           ...                    ...         ...         ...   \n",
       "17613        True                  False       False       False   \n",
       "17616        True                  False       False       False   \n",
       "17617        True                  False       False       False   \n",
       "17618        True                  False       False       False   \n",
       "17619       False                  False       False       False   \n",
       "\n",
       "      race_american_indian race_other  \n",
       "0                    False      False  \n",
       "1                    False      False  \n",
       "2                    False      False  \n",
       "3                    False      False  \n",
       "4                    False      False  \n",
       "...                    ...        ...  \n",
       "17613                False      False  \n",
       "17616                False      False  \n",
       "17617                False      False  \n",
       "17618                False      False  \n",
       "17619                False      False  \n",
       "\n",
       "[15406 rows x 91 columns]"
      ]
     },
     "execution_count": 4,
     "metadata": {},
     "output_type": "execute_result"
    }
   ],
   "source": [
    "df_mice"
   ]
  },
  {
   "cell_type": "code",
   "execution_count": null,
   "id": "a1348970-465f-430d-9629-968775a85bee",
   "metadata": {},
   "outputs": [],
   "source": []
  },
  {
   "cell_type": "code",
   "execution_count": null,
   "id": "a86e2380-7c3a-4a48-a80c-0e852287f178",
   "metadata": {},
   "outputs": [],
   "source": []
  },
  {
   "cell_type": "code",
   "execution_count": 5,
   "id": "1e97bed1",
   "metadata": {},
   "outputs": [],
   "source": [
    "urgency_mice = df_mice.pop('Csection.Urgency')"
   ]
  },
  {
   "cell_type": "code",
   "execution_count": 6,
   "id": "2716934c",
   "metadata": {},
   "outputs": [
    {
     "name": "stdout",
     "output_type": "stream",
     "text": [
      "Counter({1: 12334, 2: 2572, 0: 500})\n"
     ]
    }
   ],
   "source": [
    "labels_mice=LabelEncoder().fit_transform(urgency_mice)\n",
    "print(Counter(labels_mice))"
   ]
  },
  {
   "cell_type": "code",
   "execution_count": 7,
   "id": "d1bfb8b8",
   "metadata": {},
   "outputs": [
    {
     "name": "stdout",
     "output_type": "stream",
     "text": [
      "<class 'pandas.core.frame.DataFrame'>\n",
      "Index: 15406 entries, 0 to 17619\n",
      "Data columns (total 90 columns):\n",
      " #   Column                           Non-Null Count  Dtype  \n",
      "---  ------                           --------------  -----  \n",
      " 0   Age                              15406 non-null  int64  \n",
      " 1   Gravida                          15406 non-null  int64  \n",
      " 2   Para                             15406 non-null  int64  \n",
      " 3   Number.of.Babies.In.Womb         15406 non-null  int64  \n",
      " 4   Delivery.Year                    15406 non-null  int64  \n",
      " 5   Infant.Cord.Vessels.A            15406 non-null  int64  \n",
      " 6   Infant.Length.A                  15406 non-null  float64\n",
      " 7   Birthweight.A                    15406 non-null  int64  \n",
      " 8   GA.At.Birth.A                    15406 non-null  float64\n",
      " 9   Weight.Prepregnancy              15406 non-null  int64  \n",
      " 10  Weight.Gain.Pounds               15406 non-null  int64  \n",
      " 11  OFC.At.Birth.Baby.A.In           15406 non-null  float64\n",
      " 12  Quantitative.Blood.Loss.DS       15406 non-null  int64  \n",
      " 13  Weight.Delivery                  15406 non-null  int64  \n",
      " 14  BMI_delivery                     15406 non-null  float64\n",
      " 15  BMI_prepregnancy                 15406 non-null  float64\n",
      " 16  Labortime                        15406 non-null  int64  \n",
      " 17  County                           15406 non-null  object \n",
      " 18  Episiotomy                       430 non-null    object \n",
      " 19  Laceration.Extension             15406 non-null  object \n",
      " 20  Amniotic.Fluid.Color             15406 non-null  object \n",
      " 21  Attempt.to.Vbac                  15406 non-null  object \n",
      " 22  Membranes.Rupture.Method         15406 non-null  object \n",
      " 23  Oxytocin                         15406 non-null  object \n",
      " 24  Delivery.Month                   15406 non-null  object \n",
      " 25  Gestational.Status.A             15406 non-null  object \n",
      " 26  Born.In.Route.A                  15406 non-null  object \n",
      " 27  Fetal.Presentation.A             15406 non-null  object \n",
      " 28  Forceps.a                        15406 non-null  object \n",
      " 29  Vacuum.Extraction.A              15406 non-null  object \n",
      " 30  VBAC.A                           15406 non-null  object \n",
      " 31  Infant.Sex.A                     15406 non-null  object \n",
      " 32  Cervical.Ripening.Agents         15406 non-null  object \n",
      " 33  Preterm.Labor                    15406 non-null  object \n",
      " 34  Premature.Rom                    15406 non-null  object \n",
      " 35  Hypertensive.Disorders.Preg      15406 non-null  object \n",
      " 36  Diabetes                         15406 non-null  object \n",
      " 37  Adm.Alcohol                      15406 non-null  object \n",
      " 38  Adm.Cigarettes                   15406 non-null  object \n",
      " 39  Adm.Marijuana                    15406 non-null  object \n",
      " 40  Adm.Cocaine.Crack                15406 non-null  object \n",
      " 41  Adm.Illicit.Drugs                15406 non-null  object \n",
      " 42  Provider.On.Admission            15406 non-null  object \n",
      " 43  Ethnicity                        15406 non-null  object \n",
      " 44  delivery_anesthesia_epidural     15406 non-null  bool   \n",
      " 45  delivery_anesthesia_spinal       15406 non-null  bool   \n",
      " 46  delivery_anesthesia_local        15406 non-null  bool   \n",
      " 47  delivery_anesthesia_pudenal      15406 non-null  bool   \n",
      " 48  delivery_anesthesia_cse          15406 non-null  bool   \n",
      " 49  delivery_anesthesia_general      15406 non-null  bool   \n",
      " 50  delivery_anesthesia_intrathe     15406 non-null  bool   \n",
      " 51  labor_anesthesia_epidural        15406 non-null  bool   \n",
      " 52  labor_anesthesia_spinal          15406 non-null  bool   \n",
      " 53  labor_anesthesia_cse             15406 non-null  bool   \n",
      " 54  labor_anesthesia_general         15406 non-null  bool   \n",
      " 55  labor_anesthesia_iv_sedation     15406 non-null  bool   \n",
      " 56  laceration_type_none             15406 non-null  bool   \n",
      " 57  laceration_type_vaginal          15406 non-null  bool   \n",
      " 58  laceration_type_perineal         15406 non-null  bool   \n",
      " 59  laceration_type_periuret         15406 non-null  bool   \n",
      " 60  laceration_type_cervical         15406 non-null  bool   \n",
      " 61  laceration_type_other            15406 non-null  bool   \n",
      " 62  infant_complications_A_brady     15406 non-null  bool   \n",
      " 63  infant_complications_A_acidosis  15406 non-null  bool   \n",
      " 64  infant_complications_A_meconium  15406 non-null  bool   \n",
      " 65  infant_complications_A_cord_pro  15406 non-null  bool   \n",
      " 66  infant_complications_A_MLD       15406 non-null  bool   \n",
      " 67  infant_complications_A_MVD       15406 non-null  bool   \n",
      " 68  infant_complications_A_oligohyd  15406 non-null  bool   \n",
      " 69  infant_complications_A_shol_dys  15406 non-null  bool   \n",
      " 70  infant_complications_A_polyhydr  15406 non-null  bool   \n",
      " 71  infant_complications_A_decvarib  15406 non-null  bool   \n",
      " 72  infant_complications_A_tachy     15406 non-null  bool   \n",
      " 73  infant_complications_A_other     15406 non-null  bool   \n",
      " 74  reason_for_admission_Spon_Ab     15406 non-null  bool   \n",
      " 75  reason_for_admission_Labor       15406 non-null  bool   \n",
      " 76  reason_for_admission_PTL         15406 non-null  bool   \n",
      " 77  reason_for_admission_Induce      15406 non-null  bool   \n",
      " 78  reason_for_admission_Rept_CS     15406 non-null  bool   \n",
      " 79  reason_for_admission_Prim_CS     15406 non-null  bool   \n",
      " 80  reason_for_admission_ROM         15406 non-null  bool   \n",
      " 81  reason_for_admission_Observe     15406 non-null  bool   \n",
      " 82  reason_for_admission_other       15406 non-null  bool   \n",
      " 83  race_black                       15406 non-null  bool   \n",
      " 84  race_white                       15406 non-null  bool   \n",
      " 85  race_pacific_islander            15406 non-null  bool   \n",
      " 86  race_asian                       15406 non-null  bool   \n",
      " 87  race_arabic                      15406 non-null  bool   \n",
      " 88  race_american_indian             15406 non-null  bool   \n",
      " 89  race_other                       15406 non-null  bool   \n",
      "dtypes: bool(46), float64(5), int64(12), object(27)\n",
      "memory usage: 6.0+ MB\n"
     ]
    }
   ],
   "source": [
    "df_mice.info()"
   ]
  },
  {
   "cell_type": "markdown",
   "id": "4e24ce48",
   "metadata": {},
   "source": [
    "###  Model ( RF / CatBoost)"
   ]
  },
  {
   "cell_type": "code",
   "execution_count": 8,
   "id": "64d85a45",
   "metadata": {},
   "outputs": [],
   "source": [
    "features = pd.get_dummies(df_mice)"
   ]
  },
  {
   "cell_type": "code",
   "execution_count": 9,
   "id": "d273c47c",
   "metadata": {},
   "outputs": [],
   "source": [
    "X_train, X_test, y_train, y_test = helpers.split_and_scale_data(features, labels_mice)"
   ]
  },
  {
   "cell_type": "code",
   "execution_count": 10,
   "id": "c860c680",
   "metadata": {},
   "outputs": [
    {
     "name": "stdout",
     "output_type": "stream",
     "text": [
      "(10784, 234) (4622, 234)\n"
     ]
    }
   ],
   "source": [
    "print(X_train.shape,X_test.shape)"
   ]
  },
  {
   "cell_type": "code",
   "execution_count": 11,
   "id": "24aa0e1d",
   "metadata": {},
   "outputs": [
    {
     "name": "stdout",
     "output_type": "stream",
     "text": [
      "Counter({1: 8608, 2: 1815, 0: 361})\n"
     ]
    }
   ],
   "source": [
    "print(Counter(y_train))"
   ]
  },
  {
   "cell_type": "code",
   "execution_count": 12,
   "id": "9e4c585c",
   "metadata": {},
   "outputs": [
    {
     "name": "stdout",
     "output_type": "stream",
     "text": [
      "Counter({1: 3726, 2: 757, 0: 139})\n"
     ]
    }
   ],
   "source": [
    "print(Counter(y_test))"
   ]
  },
  {
   "cell_type": "code",
   "execution_count": 13,
   "id": "1d2aae0f",
   "metadata": {},
   "outputs": [
    {
     "name": "stdout",
     "output_type": "stream",
     "text": [
      "Counter({1: 8608, 2: 8608, 0: 8608})\n"
     ]
    }
   ],
   "source": [
    "X_train, y_train = helpers.perform_SMOTE(X_train, y_train)\n",
    "print(Counter(y_train))"
   ]
  },
  {
   "cell_type": "code",
   "execution_count": 14,
   "id": "84d57d2e",
   "metadata": {},
   "outputs": [
    {
     "data": {
      "text/plain": [
       "array([1, 1, 1, ..., 1, 1, 1])"
      ]
     },
     "execution_count": 14,
     "metadata": {},
     "output_type": "execute_result"
    }
   ],
   "source": [
    "y_test"
   ]
  },
  {
   "cell_type": "code",
   "execution_count": null,
   "id": "87928328",
   "metadata": {},
   "outputs": [],
   "source": []
  },
  {
   "cell_type": "markdown",
   "id": "56431ae2",
   "metadata": {},
   "source": [
    "#### LASSO"
   ]
  },
  {
   "cell_type": "markdown",
   "id": "50733d8a",
   "metadata": {},
   "source": [
    "#### RF"
   ]
  },
  {
   "cell_type": "code",
   "execution_count": 15,
   "id": "a84abc2c",
   "metadata": {},
   "outputs": [
    {
     "name": "stdout",
     "output_type": "stream",
     "text": [
      "Building model for label: Urgent Csection\n"
     ]
    },
    {
     "name": "stderr",
     "output_type": "stream",
     "text": [
      "/lustre/isaac/scratch/mhe8/medenv/lib/python3.11/site-packages/numpy/ma/core.py:2820: RuntimeWarning: invalid value encountered in cast\n",
      "  _data = np.array(data, dtype=dtype, copy=copy,\n"
     ]
    },
    {
     "name": "stdout",
     "output_type": "stream",
     "text": [
      "Predicting on test data for label: Urgent Csection\n"
     ]
    }
   ],
   "source": [
    "y_pred_binary2, y_pred2 = classifiers.run_RF(X_train, X_test, y_train, y_test, label='Urgent Csection')"
   ]
  },
  {
   "cell_type": "code",
   "execution_count": 16,
   "id": "8426b704",
   "metadata": {},
   "outputs": [
    {
     "name": "stdout",
     "output_type": "stream",
     "text": [
      "Counter({1: 3726, 2: 757, 0: 139})\n"
     ]
    }
   ],
   "source": [
    "print(Counter(y_test))"
   ]
  },
  {
   "cell_type": "code",
   "execution_count": 17,
   "id": "5fda95aa",
   "metadata": {},
   "outputs": [
    {
     "name": "stdout",
     "output_type": "stream",
     "text": [
      "Counter({1: 2156, 0: 2076, 2: 390})\n"
     ]
    }
   ],
   "source": [
    "print(Counter(y_pred_binary2))"
   ]
  },
  {
   "cell_type": "code",
   "execution_count": 20,
   "id": "cc8ff4b3",
   "metadata": {},
   "outputs": [],
   "source": []
  },
  {
   "cell_type": "code",
   "execution_count": 21,
   "id": "40346c84",
   "metadata": {},
   "outputs": [
    {
     "data": {
      "text/plain": [
       "array([[ 120,    3,   16],\n",
       "       [1513, 2151,   62],\n",
       "       [ 443,    2,  312]])"
      ]
     },
     "execution_count": 21,
     "metadata": {},
     "output_type": "execute_result"
    }
   ],
   "source": [
    "confusion_matrix(y_test,y_pred_binary2)"
   ]
  },
  {
   "cell_type": "code",
   "execution_count": 22,
   "id": "ddf74718",
   "metadata": {},
   "outputs": [
    {
     "data": {
      "image/png": "[encoded data removed]",
      "text/plain": [
       "<Figure size 1600x800 with 2 Axes>"
      ]
     },
     "metadata": {},
     "output_type": "display_data"
    }
   ],
   "source": [
    "metric.confusion_matrix2(y_test,y_pred_binary2)"
   ]
  },
  {
   "cell_type": "code",
   "execution_count": 23,
   "id": "36c908e7",
   "metadata": {},
   "outputs": [
    {
     "name": "stdout",
     "output_type": "stream",
     "text": [
      "AUC: {0: 0.7134971924311989, 1: 0.7858571644237405, 2: 0.6959860619555985}\n",
      "Accuracy: 0.5588489831241886\n",
      "Precision: 0.618494785401418\n",
      "Recall: 0.6175857560192605\n",
      "F1: 0.46125429808463814\n"
     ]
    }
   ],
   "source": [
    "print('AUC:', metric.roc_auc_score_multiclass(y_test, y_pred_binary2))\n",
    "print('Accuracy:', metric.accuracy(y_test, y_pred_binary2))\n",
    "print('Precision:', metric.macro_precision(y_test, y_pred_binary2))\n",
    "print('Recall:', metric.macro_recall(y_test, y_pred_binary2))\n",
    "print('F1:', metric.macro_f1(y_test, y_pred_binary2))"
   ]
  },
  {
   "cell_type": "code",
   "execution_count": null,
   "id": "93c6490b-de6a-43a7-9f9f-e4e6eeac525f",
   "metadata": {},
   "outputs": [],
   "source": []
  },
  {
   "cell_type": "code",
   "execution_count": null,
   "id": "1f73ffd3-ff5c-4ffc-96bb-3cafbc99505f",
   "metadata": {},
   "outputs": [],
   "source": []
  },
  {
   "cell_type": "code",
   "execution_count": 25,
   "id": "a00b90c9",
   "metadata": {},
   "outputs": [
    {
     "name": "stdout",
     "output_type": "stream",
     "text": [
      "Specific Recall for emergency C-Section: 0.863309346307127\n"
     ]
    }
   ],
   "source": [
    "print('Specific Recall for emergency C-Section:', metric.specific_recall(y_test, y_pred_binary2,specific_class=0))"
   ]
  },
  {
   "cell_type": "code",
   "execution_count": null,
   "id": "eb0e3570-0bf7-4348-916a-d5f44474f3fd",
   "metadata": {},
   "outputs": [],
   "source": []
  },
  {
   "cell_type": "code",
   "execution_count": 44,
   "id": "60aa0def-6de8-4ca3-a599-652f8106d150",
   "metadata": {},
   "outputs": [],
   "source": [
    "def specific_precision(y_true, y_pred,specific_class):# calculate the recall  for class 0\n",
    "\n",
    "\n",
    "    # all classes except specific_class are considered negative\n",
    "    temp_true = [1 if p == specific_class else 0 for p in y_true]\n",
    "    temp_pred = [1 if p == specific_class else 0 for p in y_pred]\n",
    "    \n",
    "    \n",
    "    # compute true positive for specific_class \n",
    "    tp = metric.true_positive(temp_true, temp_pred)\n",
    "    \n",
    "    # compute false negative for specific_class \n",
    "    fp = metric.false_positive(temp_true, temp_pred)\n",
    "    \n",
    "    \n",
    "    # compute recall for specific_class\n",
    "    precision = tp / (tp + fp)\n",
    "    \n",
    "    return precision"
   ]
  },
  {
   "cell_type": "code",
   "execution_count": null,
   "id": "8e6d760b-a033-4f68-b4d7-b6bae4e76707",
   "metadata": {},
   "outputs": [],
   "source": []
  },
  {
   "cell_type": "code",
   "execution_count": 45,
   "id": "ddc21f37-b863-49ea-be96-115699cd0826",
   "metadata": {},
   "outputs": [
    {
     "name": "stdout",
     "output_type": "stream",
     "text": [
      "Specific precision for emergency C-Section: 0.057803468208092484\n"
     ]
    }
   ],
   "source": [
    "print('Specific precision for emergency C-Section:', specific_precision(y_test, y_pred_binary2,specific_class=0))"
   ]
  },
  {
   "cell_type": "markdown",
   "id": "faaee169",
   "metadata": {},
   "source": [
    "#### CatBoost "
   ]
  },
  {
   "cell_type": "code",
   "execution_count": 27,
   "id": "22c7bc5f",
   "metadata": {},
   "outputs": [
    {
     "name": "stderr",
     "output_type": "stream",
     "text": [
      "TBB Warning: The number of workers is currently limited to 0. The request for 47 workers is ignored. Further requests for more workers will be silently ignored until the limit changes.\n",
      "\n"
     ]
    },
    {
     "name": "stdout",
     "output_type": "stream",
     "text": [
      "0:\tlearn: 0.9879661\ttotal: 220ms\tremaining: 21.8s\n",
      "10:\tlearn: 0.5541804\ttotal: 1.55s\tremaining: 12.6s\n",
      "20:\tlearn: 0.4283746\ttotal: 2.85s\tremaining: 10.7s\n",
      "30:\tlearn: 0.3621965\ttotal: 4.13s\tremaining: 9.2s\n",
      "40:\tlearn: 0.3233442\ttotal: 5.43s\tremaining: 7.82s\n",
      "50:\tlearn: 0.2951688\ttotal: 6.71s\tremaining: 6.44s\n",
      "60:\tlearn: 0.2727461\ttotal: 7.95s\tremaining: 5.08s\n",
      "70:\tlearn: 0.2552463\ttotal: 9.2s\tremaining: 3.76s\n",
      "80:\tlearn: 0.2419520\ttotal: 10.5s\tremaining: 2.45s\n",
      "90:\tlearn: 0.2274287\ttotal: 11.7s\tremaining: 1.16s\n",
      "99:\tlearn: 0.2174577\ttotal: 12.9s\tremaining: 0us\n"
     ]
    },
    {
     "data": {
      "text/plain": [
       "<catboost.core.CatBoostClassifier at 0x7efc99b57a90>"
      ]
     },
     "execution_count": 27,
     "metadata": {},
     "output_type": "execute_result"
    }
   ],
   "source": [
    "from catboost import CatBoostClassifier\n",
    "# Create CatBoost classifier\n",
    "random.seed(1992)\n",
    "clf = CatBoostClassifier(iterations=100, learning_rate=0.1, depth=6)\n",
    "\n",
    "# Fit the classifier to the training data\n",
    "clf.fit(X_train, y_train, verbose=10)"
   ]
  },
  {
   "cell_type": "code",
   "execution_count": 28,
   "id": "c32ac5e9",
   "metadata": {},
   "outputs": [],
   "source": [
    "# Make predictions on the testing data\n",
    "y_pred_prob = clf.predict_proba(X_test)"
   ]
  },
  {
   "cell_type": "code",
   "execution_count": 29,
   "id": "fae227c0",
   "metadata": {},
   "outputs": [],
   "source": [
    "y_pred = clf.predict(X_test)"
   ]
  },
  {
   "cell_type": "code",
   "execution_count": 30,
   "id": "20dd65f8",
   "metadata": {},
   "outputs": [
    {
     "data": {
      "text/plain": [
       "array([[1],\n",
       "       [1],\n",
       "       [1],\n",
       "       ...,\n",
       "       [1],\n",
       "       [1],\n",
       "       [1]])"
      ]
     },
     "execution_count": 30,
     "metadata": {},
     "output_type": "execute_result"
    }
   ],
   "source": [
    "y_pred"
   ]
  },
  {
   "cell_type": "code",
   "execution_count": null,
   "id": "7d83cbdb",
   "metadata": {},
   "outputs": [],
   "source": [
    "#y_pred_prob_0 = y_pred_prob[:,0]"
   ]
  },
  {
   "cell_type": "code",
   "execution_count": null,
   "id": "7cb51582",
   "metadata": {},
   "outputs": [],
   "source": [
    "#y_pred_prob_0"
   ]
  },
  {
   "cell_type": "code",
   "execution_count": 35,
   "id": "0e6e69e8",
   "metadata": {},
   "outputs": [
    {
     "data": {
      "text/plain": [
       "array([[  83,    9,   47],\n",
       "       [  50, 3496,  180],\n",
       "       [  65,   30,  662]])"
      ]
     },
     "execution_count": 35,
     "metadata": {},
     "output_type": "execute_result"
    }
   ],
   "source": [
    "confusion_matrix(y_test,y_pred)"
   ]
  },
  {
   "cell_type": "code",
   "execution_count": 34,
   "id": "14a071b9",
   "metadata": {},
   "outputs": [
    {
     "data": {
      "image/png": "[encoded data removed]",
      "text/plain": [
       "<Figure size 1600x800 with 2 Axes>"
      ]
     },
     "metadata": {},
     "output_type": "display_data"
    }
   ],
   "source": [
    "metric.confusion_matrix2(y_test,y_pred)"
   ]
  },
  {
   "cell_type": "code",
   "execution_count": 36,
   "id": "74af2616",
   "metadata": {},
   "outputs": [
    {
     "name": "stdout",
     "output_type": "stream",
     "text": [
      "AUC: {0: 0.7857349186454985, 1: 0.9473724096119929, 2: 0.9078862056767283}\n",
      "Accuracy: 0.9175681523150151\n",
      "Precision: 0.7176054340060144\n",
      "Recall: 0.80329950830251\n",
      "F1: 0.7533023730022977\n"
     ]
    }
   ],
   "source": [
    "print('AUC:', metric.roc_auc_score_multiclass(y_test, y_pred))\n",
    "print('Accuracy:', metric.accuracy(y_test, y_pred))\n",
    "print('Precision:', metric.macro_precision(y_test, y_pred))\n",
    "print('Recall:', metric.macro_recall(y_test, y_pred))\n",
    "print('F1:', metric.macro_f1(y_test, y_pred))"
   ]
  },
  {
   "cell_type": "code",
   "execution_count": 47,
   "id": "c13c7cd6",
   "metadata": {},
   "outputs": [
    {
     "name": "stdout",
     "output_type": "stream",
     "text": [
      "Specific Recall for emergency C-Section: 0.5971222978624295\n"
     ]
    }
   ],
   "source": [
    "print('Specific Recall for emergency C-Section:', metric.specific_recall(y_test, y_pred,specific_class=0))\n",
    "print('Specific Precision for emergency C-Section:', metric.specific_precision(y_test, y_pred,specific_class=0))"
   ]
  },
  {
   "cell_type": "code",
   "execution_count": null,
   "id": "de01d35e",
   "metadata": {},
   "outputs": [],
   "source": []
  },
  {
   "cell_type": "code",
   "execution_count": null,
   "id": "1f3c3b11",
   "metadata": {},
   "outputs": [],
   "source": []
  },
  {
   "cell_type": "markdown",
   "id": "1b86204e",
   "metadata": {},
   "source": [
    "###  Model (AE +LASSO / RF/ CatBoost)"
   ]
  },
  {
   "cell_type": "code",
   "execution_count": 39,
   "id": "ef6f0561",
   "metadata": {},
   "outputs": [
    {
     "ename": "ValueError",
     "evalue": "Invalid parameter activation for estimator KerasClassifier.\nThis issue can likely be resolved by setting this parameter in the KerasClassifier constructor:\n`KerasClassifier(activation=relu)`\nCheck the list of available parameters with `estimator.get_params().keys()`",
     "output_type": "error",
     "traceback": [
      "\u001b[0;31m---------------------------------------------------------------------------\u001b[0m",
      "\u001b[0;31mValueError\u001b[0m                                Traceback (most recent call last)",
      "Cell \u001b[0;32mIn[39], line 1\u001b[0m\n\u001b[0;32m----> 1\u001b[0m AE_train, AE_test \u001b[38;5;241m=\u001b[39m \u001b[43mmodels\u001b[49m\u001b[38;5;241;43m.\u001b[39;49m\u001b[43mrun_AE\u001b[49m\u001b[43m(\u001b[49m\u001b[43mX_train\u001b[49m\u001b[43m,\u001b[49m\u001b[43m \u001b[49m\u001b[43mX_test\u001b[49m\u001b[43m)\u001b[49m\n",
      "File \u001b[0;32m/lustre/isaac/scratch/mhe8/EHR_UTK/code/functions/models.py:117\u001b[0m, in \u001b[0;36mrun_AE\u001b[0;34m(X_train_scaled, X_test_scaled, param_grid)\u001b[0m\n\u001b[1;32m    109\u001b[0m model \u001b[38;5;241m=\u001b[39m KerasClassifier(build_fn\u001b[38;5;241m=\u001b[39mcreate_AE, epochs\u001b[38;5;241m=\u001b[39m\u001b[38;5;241m10\u001b[39m, verbose\u001b[38;5;241m=\u001b[39m\u001b[38;5;241m0\u001b[39m)\n\u001b[1;32m    110\u001b[0m grid \u001b[38;5;241m=\u001b[39m GridSearchCV(\n\u001b[1;32m    111\u001b[0m     estimator\u001b[38;5;241m=\u001b[39mmodel,\n\u001b[1;32m    112\u001b[0m     param_grid\u001b[38;5;241m=\u001b[39mparam_grid,\n\u001b[1;32m    113\u001b[0m     cv\u001b[38;5;241m=\u001b[39m\u001b[38;5;241m5\u001b[39m,\n\u001b[1;32m    114\u001b[0m     verbose\u001b[38;5;241m=\u001b[39m\u001b[38;5;241m0\u001b[39m\n\u001b[1;32m    115\u001b[0m )\n\u001b[0;32m--> 117\u001b[0m result \u001b[38;5;241m=\u001b[39m \u001b[43mgrid\u001b[49m\u001b[38;5;241;43m.\u001b[39;49m\u001b[43mfit\u001b[49m\u001b[43m(\u001b[49m\u001b[43mX_train_scaled\u001b[49m\u001b[43m,\u001b[49m\u001b[43m \u001b[49m\u001b[43mX_train_scaled\u001b[49m\u001b[43m,\u001b[49m\u001b[43m \u001b[49m\u001b[43mvalidation_data\u001b[49m\u001b[38;5;241;43m=\u001b[39;49m\u001b[43m(\u001b[49m\u001b[43mX_test_scaled\u001b[49m\u001b[43m,\u001b[49m\u001b[43m \u001b[49m\u001b[43mX_test_scaled\u001b[49m\u001b[43m)\u001b[49m\u001b[43m)\u001b[49m\n\u001b[1;32m    118\u001b[0m params \u001b[38;5;241m=\u001b[39m grid\u001b[38;5;241m.\u001b[39mbest_params_\n\u001b[1;32m    119\u001b[0m autoencoder \u001b[38;5;241m=\u001b[39m create_AE(\u001b[38;5;241m*\u001b[39m\u001b[38;5;241m*\u001b[39mparams)\n",
      "File \u001b[0;32m/lustre/isaac/scratch/mhe8/medenv/lib/python3.11/site-packages/sklearn/base.py:1473\u001b[0m, in \u001b[0;36m_fit_context.<locals>.decorator.<locals>.wrapper\u001b[0;34m(estimator, *args, **kwargs)\u001b[0m\n\u001b[1;32m   1466\u001b[0m     estimator\u001b[38;5;241m.\u001b[39m_validate_params()\n\u001b[1;32m   1468\u001b[0m \u001b[38;5;28;01mwith\u001b[39;00m config_context(\n\u001b[1;32m   1469\u001b[0m     skip_parameter_validation\u001b[38;5;241m=\u001b[39m(\n\u001b[1;32m   1470\u001b[0m         prefer_skip_nested_validation \u001b[38;5;129;01mor\u001b[39;00m global_skip_validation\n\u001b[1;32m   1471\u001b[0m     )\n\u001b[1;32m   1472\u001b[0m ):\n\u001b[0;32m-> 1473\u001b[0m     \u001b[38;5;28;01mreturn\u001b[39;00m \u001b[43mfit_method\u001b[49m\u001b[43m(\u001b[49m\u001b[43mestimator\u001b[49m\u001b[43m,\u001b[49m\u001b[43m \u001b[49m\u001b[38;5;241;43m*\u001b[39;49m\u001b[43margs\u001b[49m\u001b[43m,\u001b[49m\u001b[43m \u001b[49m\u001b[38;5;241;43m*\u001b[39;49m\u001b[38;5;241;43m*\u001b[39;49m\u001b[43mkwargs\u001b[49m\u001b[43m)\u001b[49m\n",
      "File \u001b[0;32m/lustre/isaac/scratch/mhe8/medenv/lib/python3.11/site-packages/sklearn/model_selection/_search.py:1018\u001b[0m, in \u001b[0;36mBaseSearchCV.fit\u001b[0;34m(self, X, y, **params)\u001b[0m\n\u001b[1;32m   1012\u001b[0m     results \u001b[38;5;241m=\u001b[39m \u001b[38;5;28mself\u001b[39m\u001b[38;5;241m.\u001b[39m_format_results(\n\u001b[1;32m   1013\u001b[0m         all_candidate_params, n_splits, all_out, all_more_results\n\u001b[1;32m   1014\u001b[0m     )\n\u001b[1;32m   1016\u001b[0m     \u001b[38;5;28;01mreturn\u001b[39;00m results\n\u001b[0;32m-> 1018\u001b[0m \u001b[38;5;28;43mself\u001b[39;49m\u001b[38;5;241;43m.\u001b[39;49m\u001b[43m_run_search\u001b[49m\u001b[43m(\u001b[49m\u001b[43mevaluate_candidates\u001b[49m\u001b[43m)\u001b[49m\n\u001b[1;32m   1020\u001b[0m \u001b[38;5;66;03m# multimetric is determined here because in the case of a callable\u001b[39;00m\n\u001b[1;32m   1021\u001b[0m \u001b[38;5;66;03m# self.scoring the return type is only known after calling\u001b[39;00m\n\u001b[1;32m   1022\u001b[0m first_test_score \u001b[38;5;241m=\u001b[39m all_out[\u001b[38;5;241m0\u001b[39m][\u001b[38;5;124m\"\u001b[39m\u001b[38;5;124mtest_scores\u001b[39m\u001b[38;5;124m\"\u001b[39m]\n",
      "File \u001b[0;32m/lustre/isaac/scratch/mhe8/medenv/lib/python3.11/site-packages/sklearn/model_selection/_search.py:1572\u001b[0m, in \u001b[0;36mGridSearchCV._run_search\u001b[0;34m(self, evaluate_candidates)\u001b[0m\n\u001b[1;32m   1570\u001b[0m \u001b[38;5;28;01mdef\u001b[39;00m \u001b[38;5;21m_run_search\u001b[39m(\u001b[38;5;28mself\u001b[39m, evaluate_candidates):\n\u001b[1;32m   1571\u001b[0m \u001b[38;5;250m    \u001b[39m\u001b[38;5;124;03m\"\"\"Search all candidates in param_grid\"\"\"\u001b[39;00m\n\u001b[0;32m-> 1572\u001b[0m     \u001b[43mevaluate_candidates\u001b[49m\u001b[43m(\u001b[49m\u001b[43mParameterGrid\u001b[49m\u001b[43m(\u001b[49m\u001b[38;5;28;43mself\u001b[39;49m\u001b[38;5;241;43m.\u001b[39;49m\u001b[43mparam_grid\u001b[49m\u001b[43m)\u001b[49m\u001b[43m)\u001b[49m\n",
      "File \u001b[0;32m/lustre/isaac/scratch/mhe8/medenv/lib/python3.11/site-packages/sklearn/model_selection/_search.py:964\u001b[0m, in \u001b[0;36mBaseSearchCV.fit.<locals>.evaluate_candidates\u001b[0;34m(candidate_params, cv, more_results)\u001b[0m\n\u001b[1;32m    956\u001b[0m \u001b[38;5;28;01mif\u001b[39;00m \u001b[38;5;28mself\u001b[39m\u001b[38;5;241m.\u001b[39mverbose \u001b[38;5;241m>\u001b[39m \u001b[38;5;241m0\u001b[39m:\n\u001b[1;32m    957\u001b[0m     \u001b[38;5;28mprint\u001b[39m(\n\u001b[1;32m    958\u001b[0m         \u001b[38;5;124m\"\u001b[39m\u001b[38;5;124mFitting \u001b[39m\u001b[38;5;132;01m{0}\u001b[39;00m\u001b[38;5;124m folds for each of \u001b[39m\u001b[38;5;132;01m{1}\u001b[39;00m\u001b[38;5;124m candidates,\u001b[39m\u001b[38;5;124m\"\u001b[39m\n\u001b[1;32m    959\u001b[0m         \u001b[38;5;124m\"\u001b[39m\u001b[38;5;124m totalling \u001b[39m\u001b[38;5;132;01m{2}\u001b[39;00m\u001b[38;5;124m fits\u001b[39m\u001b[38;5;124m\"\u001b[39m\u001b[38;5;241m.\u001b[39mformat(\n\u001b[1;32m    960\u001b[0m             n_splits, n_candidates, n_candidates \u001b[38;5;241m*\u001b[39m n_splits\n\u001b[1;32m    961\u001b[0m         )\n\u001b[1;32m    962\u001b[0m     )\n\u001b[0;32m--> 964\u001b[0m out \u001b[38;5;241m=\u001b[39m \u001b[43mparallel\u001b[49m\u001b[43m(\u001b[49m\n\u001b[1;32m    965\u001b[0m \u001b[43m    \u001b[49m\u001b[43mdelayed\u001b[49m\u001b[43m(\u001b[49m\u001b[43m_fit_and_score\u001b[49m\u001b[43m)\u001b[49m\u001b[43m(\u001b[49m\n\u001b[1;32m    966\u001b[0m \u001b[43m        \u001b[49m\u001b[43mclone\u001b[49m\u001b[43m(\u001b[49m\u001b[43mbase_estimator\u001b[49m\u001b[43m)\u001b[49m\u001b[43m,\u001b[49m\n\u001b[1;32m    967\u001b[0m \u001b[43m        \u001b[49m\u001b[43mX\u001b[49m\u001b[43m,\u001b[49m\n\u001b[1;32m    968\u001b[0m \u001b[43m        \u001b[49m\u001b[43my\u001b[49m\u001b[43m,\u001b[49m\n\u001b[1;32m    969\u001b[0m \u001b[43m        \u001b[49m\u001b[43mtrain\u001b[49m\u001b[38;5;241;43m=\u001b[39;49m\u001b[43mtrain\u001b[49m\u001b[43m,\u001b[49m\n\u001b[1;32m    970\u001b[0m \u001b[43m        \u001b[49m\u001b[43mtest\u001b[49m\u001b[38;5;241;43m=\u001b[39;49m\u001b[43mtest\u001b[49m\u001b[43m,\u001b[49m\n\u001b[1;32m    971\u001b[0m \u001b[43m        \u001b[49m\u001b[43mparameters\u001b[49m\u001b[38;5;241;43m=\u001b[39;49m\u001b[43mparameters\u001b[49m\u001b[43m,\u001b[49m\n\u001b[1;32m    972\u001b[0m \u001b[43m        \u001b[49m\u001b[43msplit_progress\u001b[49m\u001b[38;5;241;43m=\u001b[39;49m\u001b[43m(\u001b[49m\u001b[43msplit_idx\u001b[49m\u001b[43m,\u001b[49m\u001b[43m \u001b[49m\u001b[43mn_splits\u001b[49m\u001b[43m)\u001b[49m\u001b[43m,\u001b[49m\n\u001b[1;32m    973\u001b[0m \u001b[43m        \u001b[49m\u001b[43mcandidate_progress\u001b[49m\u001b[38;5;241;43m=\u001b[39;49m\u001b[43m(\u001b[49m\u001b[43mcand_idx\u001b[49m\u001b[43m,\u001b[49m\u001b[43m \u001b[49m\u001b[43mn_candidates\u001b[49m\u001b[43m)\u001b[49m\u001b[43m,\u001b[49m\n\u001b[1;32m    974\u001b[0m \u001b[43m        \u001b[49m\u001b[38;5;241;43m*\u001b[39;49m\u001b[38;5;241;43m*\u001b[39;49m\u001b[43mfit_and_score_kwargs\u001b[49m\u001b[43m,\u001b[49m\n\u001b[1;32m    975\u001b[0m \u001b[43m    \u001b[49m\u001b[43m)\u001b[49m\n\u001b[1;32m    976\u001b[0m \u001b[43m    \u001b[49m\u001b[38;5;28;43;01mfor\u001b[39;49;00m\u001b[43m \u001b[49m\u001b[43m(\u001b[49m\u001b[43mcand_idx\u001b[49m\u001b[43m,\u001b[49m\u001b[43m \u001b[49m\u001b[43mparameters\u001b[49m\u001b[43m)\u001b[49m\u001b[43m,\u001b[49m\u001b[43m \u001b[49m\u001b[43m(\u001b[49m\u001b[43msplit_idx\u001b[49m\u001b[43m,\u001b[49m\u001b[43m \u001b[49m\u001b[43m(\u001b[49m\u001b[43mtrain\u001b[49m\u001b[43m,\u001b[49m\u001b[43m \u001b[49m\u001b[43mtest\u001b[49m\u001b[43m)\u001b[49m\u001b[43m)\u001b[49m\u001b[43m \u001b[49m\u001b[38;5;129;43;01min\u001b[39;49;00m\u001b[43m \u001b[49m\u001b[43mproduct\u001b[49m\u001b[43m(\u001b[49m\n\u001b[1;32m    977\u001b[0m \u001b[43m        \u001b[49m\u001b[38;5;28;43menumerate\u001b[39;49m\u001b[43m(\u001b[49m\u001b[43mcandidate_params\u001b[49m\u001b[43m)\u001b[49m\u001b[43m,\u001b[49m\n\u001b[1;32m    978\u001b[0m \u001b[43m        \u001b[49m\u001b[38;5;28;43menumerate\u001b[39;49m\u001b[43m(\u001b[49m\u001b[43mcv\u001b[49m\u001b[38;5;241;43m.\u001b[39;49m\u001b[43msplit\u001b[49m\u001b[43m(\u001b[49m\u001b[43mX\u001b[49m\u001b[43m,\u001b[49m\u001b[43m \u001b[49m\u001b[43my\u001b[49m\u001b[43m,\u001b[49m\u001b[43m \u001b[49m\u001b[38;5;241;43m*\u001b[39;49m\u001b[38;5;241;43m*\u001b[39;49m\u001b[43mrouted_params\u001b[49m\u001b[38;5;241;43m.\u001b[39;49m\u001b[43msplitter\u001b[49m\u001b[38;5;241;43m.\u001b[39;49m\u001b[43msplit\u001b[49m\u001b[43m)\u001b[49m\u001b[43m)\u001b[49m\u001b[43m,\u001b[49m\n\u001b[1;32m    979\u001b[0m \u001b[43m    \u001b[49m\u001b[43m)\u001b[49m\n\u001b[1;32m    980\u001b[0m \u001b[43m\u001b[49m\u001b[43m)\u001b[49m\n\u001b[1;32m    982\u001b[0m \u001b[38;5;28;01mif\u001b[39;00m \u001b[38;5;28mlen\u001b[39m(out) \u001b[38;5;241m<\u001b[39m \u001b[38;5;241m1\u001b[39m:\n\u001b[1;32m    983\u001b[0m     \u001b[38;5;28;01mraise\u001b[39;00m \u001b[38;5;167;01mValueError\u001b[39;00m(\n\u001b[1;32m    984\u001b[0m         \u001b[38;5;124m\"\u001b[39m\u001b[38;5;124mNo fits were performed. \u001b[39m\u001b[38;5;124m\"\u001b[39m\n\u001b[1;32m    985\u001b[0m         \u001b[38;5;124m\"\u001b[39m\u001b[38;5;124mWas the CV iterator empty? \u001b[39m\u001b[38;5;124m\"\u001b[39m\n\u001b[1;32m    986\u001b[0m         \u001b[38;5;124m\"\u001b[39m\u001b[38;5;124mWere there no candidates?\u001b[39m\u001b[38;5;124m\"\u001b[39m\n\u001b[1;32m    987\u001b[0m     )\n",
      "File \u001b[0;32m/lustre/isaac/scratch/mhe8/medenv/lib/python3.11/site-packages/sklearn/utils/parallel.py:74\u001b[0m, in \u001b[0;36mParallel.__call__\u001b[0;34m(self, iterable)\u001b[0m\n\u001b[1;32m     69\u001b[0m config \u001b[38;5;241m=\u001b[39m get_config()\n\u001b[1;32m     70\u001b[0m iterable_with_config \u001b[38;5;241m=\u001b[39m (\n\u001b[1;32m     71\u001b[0m     (_with_config(delayed_func, config), args, kwargs)\n\u001b[1;32m     72\u001b[0m     \u001b[38;5;28;01mfor\u001b[39;00m delayed_func, args, kwargs \u001b[38;5;129;01min\u001b[39;00m iterable\n\u001b[1;32m     73\u001b[0m )\n\u001b[0;32m---> 74\u001b[0m \u001b[38;5;28;01mreturn\u001b[39;00m \u001b[38;5;28;43msuper\u001b[39;49m\u001b[43m(\u001b[49m\u001b[43m)\u001b[49m\u001b[38;5;241;43m.\u001b[39;49m\u001b[38;5;21;43m__call__\u001b[39;49m\u001b[43m(\u001b[49m\u001b[43miterable_with_config\u001b[49m\u001b[43m)\u001b[49m\n",
      "File \u001b[0;32m/lustre/isaac/scratch/mhe8/medenv/lib/python3.11/site-packages/joblib/parallel.py:1918\u001b[0m, in \u001b[0;36mParallel.__call__\u001b[0;34m(self, iterable)\u001b[0m\n\u001b[1;32m   1916\u001b[0m     output \u001b[38;5;241m=\u001b[39m \u001b[38;5;28mself\u001b[39m\u001b[38;5;241m.\u001b[39m_get_sequential_output(iterable)\n\u001b[1;32m   1917\u001b[0m     \u001b[38;5;28mnext\u001b[39m(output)\n\u001b[0;32m-> 1918\u001b[0m     \u001b[38;5;28;01mreturn\u001b[39;00m output \u001b[38;5;28;01mif\u001b[39;00m \u001b[38;5;28mself\u001b[39m\u001b[38;5;241m.\u001b[39mreturn_generator \u001b[38;5;28;01melse\u001b[39;00m \u001b[38;5;28;43mlist\u001b[39;49m\u001b[43m(\u001b[49m\u001b[43moutput\u001b[49m\u001b[43m)\u001b[49m\n\u001b[1;32m   1920\u001b[0m \u001b[38;5;66;03m# Let's create an ID that uniquely identifies the current call. If the\u001b[39;00m\n\u001b[1;32m   1921\u001b[0m \u001b[38;5;66;03m# call is interrupted early and that the same instance is immediately\u001b[39;00m\n\u001b[1;32m   1922\u001b[0m \u001b[38;5;66;03m# re-used, this id will be used to prevent workers that were\u001b[39;00m\n\u001b[1;32m   1923\u001b[0m \u001b[38;5;66;03m# concurrently finalizing a task from the previous call to run the\u001b[39;00m\n\u001b[1;32m   1924\u001b[0m \u001b[38;5;66;03m# callback.\u001b[39;00m\n\u001b[1;32m   1925\u001b[0m \u001b[38;5;28;01mwith\u001b[39;00m \u001b[38;5;28mself\u001b[39m\u001b[38;5;241m.\u001b[39m_lock:\n",
      "File \u001b[0;32m/lustre/isaac/scratch/mhe8/medenv/lib/python3.11/site-packages/joblib/parallel.py:1847\u001b[0m, in \u001b[0;36mParallel._get_sequential_output\u001b[0;34m(self, iterable)\u001b[0m\n\u001b[1;32m   1845\u001b[0m \u001b[38;5;28mself\u001b[39m\u001b[38;5;241m.\u001b[39mn_dispatched_batches \u001b[38;5;241m+\u001b[39m\u001b[38;5;241m=\u001b[39m \u001b[38;5;241m1\u001b[39m\n\u001b[1;32m   1846\u001b[0m \u001b[38;5;28mself\u001b[39m\u001b[38;5;241m.\u001b[39mn_dispatched_tasks \u001b[38;5;241m+\u001b[39m\u001b[38;5;241m=\u001b[39m \u001b[38;5;241m1\u001b[39m\n\u001b[0;32m-> 1847\u001b[0m res \u001b[38;5;241m=\u001b[39m \u001b[43mfunc\u001b[49m\u001b[43m(\u001b[49m\u001b[38;5;241;43m*\u001b[39;49m\u001b[43margs\u001b[49m\u001b[43m,\u001b[49m\u001b[43m \u001b[49m\u001b[38;5;241;43m*\u001b[39;49m\u001b[38;5;241;43m*\u001b[39;49m\u001b[43mkwargs\u001b[49m\u001b[43m)\u001b[49m\n\u001b[1;32m   1848\u001b[0m \u001b[38;5;28mself\u001b[39m\u001b[38;5;241m.\u001b[39mn_completed_tasks \u001b[38;5;241m+\u001b[39m\u001b[38;5;241m=\u001b[39m \u001b[38;5;241m1\u001b[39m\n\u001b[1;32m   1849\u001b[0m \u001b[38;5;28mself\u001b[39m\u001b[38;5;241m.\u001b[39mprint_progress()\n",
      "File \u001b[0;32m/lustre/isaac/scratch/mhe8/medenv/lib/python3.11/site-packages/sklearn/utils/parallel.py:136\u001b[0m, in \u001b[0;36m_FuncWrapper.__call__\u001b[0;34m(self, *args, **kwargs)\u001b[0m\n\u001b[1;32m    134\u001b[0m     config \u001b[38;5;241m=\u001b[39m {}\n\u001b[1;32m    135\u001b[0m \u001b[38;5;28;01mwith\u001b[39;00m config_context(\u001b[38;5;241m*\u001b[39m\u001b[38;5;241m*\u001b[39mconfig):\n\u001b[0;32m--> 136\u001b[0m     \u001b[38;5;28;01mreturn\u001b[39;00m \u001b[38;5;28;43mself\u001b[39;49m\u001b[38;5;241;43m.\u001b[39;49m\u001b[43mfunction\u001b[49m\u001b[43m(\u001b[49m\u001b[38;5;241;43m*\u001b[39;49m\u001b[43margs\u001b[49m\u001b[43m,\u001b[49m\u001b[43m \u001b[49m\u001b[38;5;241;43m*\u001b[39;49m\u001b[38;5;241;43m*\u001b[39;49m\u001b[43mkwargs\u001b[49m\u001b[43m)\u001b[49m\n",
      "File \u001b[0;32m/lustre/isaac/scratch/mhe8/medenv/lib/python3.11/site-packages/sklearn/model_selection/_validation.py:876\u001b[0m, in \u001b[0;36m_fit_and_score\u001b[0;34m(estimator, X, y, scorer, train, test, verbose, parameters, fit_params, score_params, return_train_score, return_parameters, return_n_test_samples, return_times, return_estimator, split_progress, candidate_progress, error_score)\u001b[0m\n\u001b[1;32m    869\u001b[0m score_params_test \u001b[38;5;241m=\u001b[39m _check_method_params(X, params\u001b[38;5;241m=\u001b[39mscore_params, indices\u001b[38;5;241m=\u001b[39mtest)\n\u001b[1;32m    871\u001b[0m \u001b[38;5;28;01mif\u001b[39;00m parameters \u001b[38;5;129;01mis\u001b[39;00m \u001b[38;5;129;01mnot\u001b[39;00m \u001b[38;5;28;01mNone\u001b[39;00m:\n\u001b[1;32m    872\u001b[0m     \u001b[38;5;66;03m# here we clone the parameters, since sometimes the parameters\u001b[39;00m\n\u001b[1;32m    873\u001b[0m     \u001b[38;5;66;03m# themselves might be estimators, e.g. when we search over different\u001b[39;00m\n\u001b[1;32m    874\u001b[0m     \u001b[38;5;66;03m# estimators in a pipeline.\u001b[39;00m\n\u001b[1;32m    875\u001b[0m     \u001b[38;5;66;03m# ref: https://github.com/scikit-learn/scikit-learn/pull/26786\u001b[39;00m\n\u001b[0;32m--> 876\u001b[0m     estimator \u001b[38;5;241m=\u001b[39m \u001b[43mestimator\u001b[49m\u001b[38;5;241;43m.\u001b[39;49m\u001b[43mset_params\u001b[49m\u001b[43m(\u001b[49m\u001b[38;5;241;43m*\u001b[39;49m\u001b[38;5;241;43m*\u001b[39;49m\u001b[43mclone\u001b[49m\u001b[43m(\u001b[49m\u001b[43mparameters\u001b[49m\u001b[43m,\u001b[49m\u001b[43m \u001b[49m\u001b[43msafe\u001b[49m\u001b[38;5;241;43m=\u001b[39;49m\u001b[38;5;28;43;01mFalse\u001b[39;49;00m\u001b[43m)\u001b[49m\u001b[43m)\u001b[49m\n\u001b[1;32m    878\u001b[0m start_time \u001b[38;5;241m=\u001b[39m time\u001b[38;5;241m.\u001b[39mtime()\n\u001b[1;32m    880\u001b[0m X_train, y_train \u001b[38;5;241m=\u001b[39m _safe_split(estimator, X, y, train)\n",
      "File \u001b[0;32m/lustre/isaac/scratch/mhe8/medenv/lib/python3.11/site-packages/scikeras/wrappers.py:1175\u001b[0m, in \u001b[0;36mBaseWrapper.set_params\u001b[0;34m(self, **params)\u001b[0m\n\u001b[1;32m   1171\u001b[0m             \u001b[38;5;28msuper\u001b[39m()\u001b[38;5;241m.\u001b[39mset_params(\u001b[38;5;241m*\u001b[39m\u001b[38;5;241m*\u001b[39m{param: value})\n\u001b[1;32m   1172\u001b[0m         \u001b[38;5;28;01mexcept\u001b[39;00m \u001b[38;5;167;01mValueError\u001b[39;00m:\n\u001b[1;32m   1173\u001b[0m             \u001b[38;5;66;03m# Give a SciKeras specific user message to aid\u001b[39;00m\n\u001b[1;32m   1174\u001b[0m             \u001b[38;5;66;03m# in moving from the Keras wrappers\u001b[39;00m\n\u001b[0;32m-> 1175\u001b[0m             \u001b[38;5;28;01mraise\u001b[39;00m \u001b[38;5;167;01mValueError\u001b[39;00m(\n\u001b[1;32m   1176\u001b[0m                 \u001b[38;5;124mf\u001b[39m\u001b[38;5;124m\"\u001b[39m\u001b[38;5;124mInvalid parameter \u001b[39m\u001b[38;5;132;01m{\u001b[39;00mparam\u001b[38;5;132;01m}\u001b[39;00m\u001b[38;5;124m for estimator \u001b[39m\u001b[38;5;132;01m{\u001b[39;00m\u001b[38;5;28mself\u001b[39m\u001b[38;5;241m.\u001b[39m\u001b[38;5;18m__name__\u001b[39m\u001b[38;5;132;01m}\u001b[39;00m\u001b[38;5;124m.\u001b[39m\u001b[38;5;124m\"\u001b[39m\n\u001b[1;32m   1177\u001b[0m                 \u001b[38;5;124m\"\u001b[39m\u001b[38;5;130;01m\\n\u001b[39;00m\u001b[38;5;124mThis issue can likely be resolved by setting this parameter\u001b[39m\u001b[38;5;124m\"\u001b[39m\n\u001b[1;32m   1178\u001b[0m                 \u001b[38;5;124mf\u001b[39m\u001b[38;5;124m\"\u001b[39m\u001b[38;5;124m in the \u001b[39m\u001b[38;5;132;01m{\u001b[39;00m\u001b[38;5;28mself\u001b[39m\u001b[38;5;241m.\u001b[39m\u001b[38;5;18m__name__\u001b[39m\u001b[38;5;132;01m}\u001b[39;00m\u001b[38;5;124m constructor:\u001b[39m\u001b[38;5;124m\"\u001b[39m\n\u001b[1;32m   1179\u001b[0m                 \u001b[38;5;124mf\u001b[39m\u001b[38;5;124m\"\u001b[39m\u001b[38;5;130;01m\\n\u001b[39;00m\u001b[38;5;124m`\u001b[39m\u001b[38;5;132;01m{\u001b[39;00m\u001b[38;5;28mself\u001b[39m\u001b[38;5;241m.\u001b[39m\u001b[38;5;18m__name__\u001b[39m\u001b[38;5;132;01m}\u001b[39;00m\u001b[38;5;124m(\u001b[39m\u001b[38;5;132;01m{\u001b[39;00mparam\u001b[38;5;132;01m}\u001b[39;00m\u001b[38;5;124m=\u001b[39m\u001b[38;5;132;01m{\u001b[39;00mvalue\u001b[38;5;132;01m}\u001b[39;00m\u001b[38;5;124m)`\u001b[39m\u001b[38;5;124m\"\u001b[39m\n\u001b[1;32m   1180\u001b[0m                 \u001b[38;5;124m\"\u001b[39m\u001b[38;5;130;01m\\n\u001b[39;00m\u001b[38;5;124mCheck the list of available parameters with\u001b[39m\u001b[38;5;124m\"\u001b[39m\n\u001b[1;32m   1181\u001b[0m                 \u001b[38;5;124m\"\u001b[39m\u001b[38;5;124m `estimator.get_params().keys()`\u001b[39m\u001b[38;5;124m\"\u001b[39m\n\u001b[1;32m   1182\u001b[0m             ) \u001b[38;5;28;01mfrom\u001b[39;00m \u001b[38;5;28;01mNone\u001b[39;00m\n\u001b[1;32m   1183\u001b[0m \u001b[38;5;28;01mreturn\u001b[39;00m \u001b[38;5;28mself\u001b[39m\n",
      "\u001b[0;31mValueError\u001b[0m: Invalid parameter activation for estimator KerasClassifier.\nThis issue can likely be resolved by setting this parameter in the KerasClassifier constructor:\n`KerasClassifier(activation=relu)`\nCheck the list of available parameters with `estimator.get_params().keys()`"
     ]
    }
   ],
   "source": [
    "AE_train, AE_test = models.run_AE(X_train, X_test)"
   ]
  },
  {
   "cell_type": "code",
   "execution_count": null,
   "id": "9f11a5ef",
   "metadata": {},
   "outputs": [],
   "source": []
  },
  {
   "cell_type": "markdown",
   "id": "74f012e6",
   "metadata": {},
   "source": [
    "#### RF"
   ]
  },
  {
   "cell_type": "code",
   "execution_count": null,
   "id": "a97deb3e",
   "metadata": {},
   "outputs": [],
   "source": [
    "y_pred_AErf, y_pred_prob_AE = classifiers.run_RF(AE_train, AE_test, y_train, y_test, label='Urgent Csection')"
   ]
  },
  {
   "cell_type": "code",
   "execution_count": null,
   "id": "340aa329",
   "metadata": {},
   "outputs": [],
   "source": [
    "confusion_matrix2(y_test,y_pred_AErf)"
   ]
  },
  {
   "cell_type": "code",
   "execution_count": null,
   "id": "1fef484a",
   "metadata": {},
   "outputs": [],
   "source": [
    "print('AUC:', metric.roc_auc_score_multiclass(y_test, y_pred_AErf))\n",
    "print('Accuracy:', metric.accuracy(y_test, y_pred_AErf))"
   ]
  },
  {
   "cell_type": "code",
   "execution_count": null,
   "id": "ee6fcb08",
   "metadata": {},
   "outputs": [],
   "source": [
    "print('Precision:', metric.macro_precision(y_test, y_pred_AErf))\n",
    "print('Recall:', metric.macro_recall(y_test, y_pred_AErf))\n",
    "print('F1:', metric.macro_f1(y_test, y_pred_AErf))"
   ]
  },
  {
   "cell_type": "code",
   "execution_count": null,
   "id": "a1d05078",
   "metadata": {},
   "outputs": [],
   "source": [
    "print('Specific Recall for emergency C-Section:', metric.specific_recall(y_test, y_pred_AErf,specific_class=0))"
   ]
  },
  {
   "cell_type": "markdown",
   "id": "8a8dcc2b",
   "metadata": {},
   "source": [
    "#### CatBoost"
   ]
  },
  {
   "cell_type": "code",
   "execution_count": null,
   "id": "fc4b90a1",
   "metadata": {},
   "outputs": [],
   "source": [
    "## AE+catboost (very fast, because no grid search?)\n",
    "clf_AE = CatBoostClassifier(iterations=100, learning_rate=0.1, depth=6)\n",
    "# Fit the classifier to the training data\n",
    "clf_AE.fit(AE_train, y_train, verbose=10)"
   ]
  },
  {
   "cell_type": "code",
   "execution_count": null,
   "id": "a8d2963c",
   "metadata": {},
   "outputs": [],
   "source": [
    "# Make predictions on the testing data\n",
    "y_pred_prob_AEcat = clf_AE.predict_proba(AE_test)\n",
    "y_pred_AEcat = clf_AE.predict(AE_test)"
   ]
  },
  {
   "cell_type": "code",
   "execution_count": null,
   "id": "c8f724f0",
   "metadata": {},
   "outputs": [],
   "source": [
    "confusion_matrix2(y_test,y_pred_AEcat)"
   ]
  },
  {
   "cell_type": "code",
   "execution_count": null,
   "id": "5f6be2c4",
   "metadata": {},
   "outputs": [],
   "source": [
    "print('AUC:', metric.roc_auc_score_multiclass(y_test, y_pred_AEcat))\n",
    "print('Accuracy:', metric.accuracy(y_test, y_pred_AEcat))"
   ]
  },
  {
   "cell_type": "code",
   "execution_count": null,
   "id": "04ca8cff",
   "metadata": {},
   "outputs": [],
   "source": [
    "print('Precision:', metric.macro_precision(y_test, y_pred_AEcat))\n",
    "print('Recall:',metric.macro_recall(y_test, y_pred_AEcat))\n",
    "print('F1:', metric.macro_f1(y_test, y_pred_AEcat))"
   ]
  },
  {
   "cell_type": "code",
   "execution_count": null,
   "id": "07864005",
   "metadata": {},
   "outputs": [],
   "source": [
    "print('Specific Recall for emergency C-Section:', metric.specific_recall(y_test, y_pred_AEcat,specific_class=0))"
   ]
  },
  {
   "cell_type": "code",
   "execution_count": null,
   "id": "f7873813-9dcf-4440-8742-50be5d7405d7",
   "metadata": {},
   "outputs": [],
   "source": []
  },
  {
   "cell_type": "code",
   "execution_count": null,
   "id": "b82f7029-ac63-4116-bd5e-cba7033f9ed7",
   "metadata": {},
   "outputs": [],
   "source": []
  },
  {
   "cell_type": "markdown",
   "id": "d220fa51-1b34-417b-b38a-fdcafe754aba",
   "metadata": {},
   "source": [
    "### Deep Neural Network Model"
   ]
  },
  {
   "cell_type": "code",
   "execution_count": null,
   "id": "cd74c86e-506d-46fc-a853-9cf936d625b9",
   "metadata": {},
   "outputs": [],
   "source": []
  },
  {
   "cell_type": "code",
   "execution_count": null,
   "id": "19b65d35",
   "metadata": {},
   "outputs": [],
   "source": [
    "labels_mice"
   ]
  },
  {
   "cell_type": "code",
   "execution_count": null,
   "id": "5f008811",
   "metadata": {},
   "outputs": [],
   "source": [
    "y_onehot = to_categorical(labels_mice, num_classes=3) "
   ]
  },
  {
   "cell_type": "code",
   "execution_count": null,
   "id": "56db7e56",
   "metadata": {},
   "outputs": [],
   "source": [
    "y_onehot"
   ]
  },
  {
   "cell_type": "code",
   "execution_count": null,
   "id": "fc9b28bb",
   "metadata": {},
   "outputs": [],
   "source": [
    "X_train_nn, X_test_nn, y_train_nn, y_test_nn = helpers.split_and_scale_data(features, y_onehot)"
   ]
  },
  {
   "cell_type": "code",
   "execution_count": null,
   "id": "b24814f6",
   "metadata": {},
   "outputs": [],
   "source": [
    "import tensorflow as tf\n",
    "from tensorflow.keras.models import Sequential\n",
    "from tensorflow.keras.layers import Dense\n",
    "from tensorflow.keras.utils import to_categorical\n",
    "from sklearn.datasets import make_classification"
   ]
  },
  {
   "cell_type": "code",
   "execution_count": null,
   "id": "ba7ab866",
   "metadata": {},
   "outputs": [],
   "source": [
    "# Build the DNN model\n",
    "model_nn = Sequential()\n",
    "model_nn.add(Dense(64, input_dim=X_train.shape[1], activation='relu'))\n",
    "model_nn.add(Dense(32, activation='relu'))\n",
    "model_nn.add(Dense(16, activation='relu'))\n",
    "model_nn.add(Dense(3, activation='softmax'))  # 3 output classes"
   ]
  },
  {
   "cell_type": "code",
   "execution_count": null,
   "id": "f3b9639e",
   "metadata": {},
   "outputs": [],
   "source": [
    "# Compile the model\n",
    "model_nn.compile(optimizer='adam', loss='categorical_crossentropy', metrics=['accuracy'])"
   ]
  },
  {
   "cell_type": "code",
   "execution_count": null,
   "id": "8933e85c",
   "metadata": {},
   "outputs": [],
   "source": [
    "# Train the model\n",
    "history = model_nn.fit(X_train_nn, y_train_nn, epochs=50, batch_size=32, validation_split=0.2)\n"
   ]
  },
  {
   "cell_type": "code",
   "execution_count": null,
   "id": "2d12e2c1",
   "metadata": {},
   "outputs": [],
   "source": [
    "\n",
    "# Evaluate the model\n",
    "loss, accuracy = model.evaluate(X_test, y_test)\n",
    "print(f'Test Accuracy: {accuracy:.4f}')\n"
   ]
  },
  {
   "cell_type": "code",
   "execution_count": null,
   "id": "f4ae1126",
   "metadata": {},
   "outputs": [],
   "source": [
    "# Make predictions\n",
    "y_pred = model.predict(X_test)\n",
    "y_pred_classes = np.argmax(y_pred, axis=1)\n",
    "y_true = np.argmax(y_test, axis=1)"
   ]
  },
  {
   "cell_type": "code",
   "execution_count": null,
   "id": "57aa540f",
   "metadata": {},
   "outputs": [],
   "source": []
  }
 ],
 "metadata": {
  "kernelspec": {
   "display_name": "Python 3 (ipykernel)",
   "language": "python",
   "name": "python3"
  },
  "language_info": {
   "codemirror_mode": {
    "name": "ipython",
    "version": 3
   },
   "file_extension": ".py",
   "mimetype": "text/x-python",
   "name": "python",
   "nbconvert_exporter": "python",
   "pygments_lexer": "ipython3",
   "version": "3.10.9"
  }
 },
 "nbformat": 4,
 "nbformat_minor": 5
}
