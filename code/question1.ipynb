{
 "cells": [
  {
   "cell_type": "code",
   "execution_count": 3,
   "id": "814627cb",
   "metadata": {},
   "outputs": [],
   "source": [
    "import os\n",
    "import pandas as pd\n",
    "import numpy as np\n",
    "import scipy.stats as st\n",
    "import matplotlib.pyplot as plt\n",
    "import seaborn as sns\n",
    "from statsmodels.formula.api import ols\n",
    "import statsmodels.api as sm\n",
    "from sklearn.model_selection import train_test_split\n",
    "from sklearn.linear_model import LinearRegression\n",
    "from sklearn.linear_model import LogisticRegression\n",
    "from sklearn.metrics import mean_squared_error\n",
    "from sklearn.metrics import accuracy_score"
   ]
  },
  {
   "cell_type": "code",
   "execution_count": 4,
   "id": "5c72fd67",
   "metadata": {},
   "outputs": [
    {
     "name": "stderr",
     "output_type": "stream",
     "text": [
      "2024-07-03 02:35:19.483545: I tensorflow/core/platform/cpu_feature_guard.cc:193] This TensorFlow binary is optimized with oneAPI Deep Neural Network Library (oneDNN) to use the following CPU instructions in performance-critical operations:  SSE4.1 SSE4.2 AVX AVX2 FMA\n",
      "To enable them in other operations, rebuild TensorFlow with the appropriate compiler flags.\n"
     ]
    }
   ],
   "source": [
    "from functions import helpers\n",
    "from functions import models\n",
    "from functions import classifiers"
   ]
  },
  {
   "cell_type": "code",
   "execution_count": 5,
   "id": "7a4ad325",
   "metadata": {},
   "outputs": [
    {
     "name": "stderr",
     "output_type": "stream",
     "text": [
      "/var/folders/0r/r2dplk4d72d437ygr7ycq8kw0000gn/T/ipykernel_98545/3149221205.py:3: DtypeWarning: Columns (82,83,84,85,86,87,88,89,90,91,92,93,94,95,96,97,98,99,100,101,102,103,104,105,106,107,108,109,110,111,112,113,114,115,116,117,118,119,120,121,122,123,124,125,126,127) have mixed types. Specify dtype option on import or set low_memory=False.\n",
      "  df0 = pd.read_csv(data_path, index_col=0)\n"
     ]
    }
   ],
   "source": [
    "FILE = 'UTK_med_data_cleaned_with_nan.csv'# this dataset do not have immutation\n",
    "data_path = os.path.join('../data', FILE)\n",
    "df0 = pd.read_csv(data_path, index_col=0)"
   ]
  },
  {
   "cell_type": "code",
   "execution_count": 6,
   "id": "962c9179",
   "metadata": {},
   "outputs": [
    {
     "data": {
      "text/plain": [
       "(17620, 127)"
      ]
     },
     "execution_count": 6,
     "metadata": {},
     "output_type": "execute_result"
    }
   ],
   "source": [
    "df0.shape"
   ]
  },
  {
   "cell_type": "code",
   "execution_count": null,
   "id": "83af720b",
   "metadata": {},
   "outputs": [],
   "source": []
  },
  {
   "cell_type": "code",
   "execution_count": 7,
   "id": "7e4ab4cc",
   "metadata": {},
   "outputs": [
    {
     "name": "stdout",
     "output_type": "stream",
     "text": [
      "6105\n"
     ]
    }
   ],
   "source": [
    "print(df0['Labortime'].isna().sum())"
   ]
  },
  {
   "cell_type": "code",
   "execution_count": 8,
   "id": "0b52e89e",
   "metadata": {},
   "outputs": [
    {
     "name": "stdout",
     "output_type": "stream",
     "text": [
      "0\n"
     ]
    }
   ],
   "source": [
    "print((df0['Labortime'] == \"\").sum())"
   ]
  },
  {
   "cell_type": "code",
   "execution_count": 10,
   "id": "df60c625",
   "metadata": {},
   "outputs": [
    {
     "name": "stdout",
     "output_type": "stream",
     "text": [
      "          Labortime\n",
      "count  11515.000000\n",
      "mean      63.411637\n",
      "std       82.185478\n",
      "min        1.000000\n",
      "25%       13.000000\n",
      "50%       30.000000\n",
      "75%       80.000000\n",
      "max      844.000000\n"
     ]
    }
   ],
   "source": [
    "print(df0[['Labortime']].describe())"
   ]
  },
  {
   "cell_type": "code",
   "execution_count": 11,
   "id": "658bec0d",
   "metadata": {},
   "outputs": [
    {
     "name": "stdout",
     "output_type": "stream",
     "text": [
      "16865\n"
     ]
    }
   ],
   "source": [
    "print(df0['VBAC A'].isna().sum())"
   ]
  },
  {
   "cell_type": "code",
   "execution_count": 12,
   "id": "d8e5d2ad",
   "metadata": {},
   "outputs": [
    {
     "name": "stdout",
     "output_type": "stream",
     "text": [
      "0\n"
     ]
    }
   ],
   "source": [
    "print((df0['VBAC A'] == \"\").sum())"
   ]
  },
  {
   "cell_type": "code",
   "execution_count": null,
   "id": "81ac8be0",
   "metadata": {},
   "outputs": [],
   "source": []
  },
  {
   "cell_type": "code",
   "execution_count": null,
   "id": "b93f8726",
   "metadata": {},
   "outputs": [],
   "source": []
  },
  {
   "cell_type": "code",
   "execution_count": null,
   "id": "58bae94c",
   "metadata": {},
   "outputs": [],
   "source": []
  },
  {
   "cell_type": "code",
   "execution_count": 127,
   "id": "bfbde20f",
   "metadata": {},
   "outputs": [],
   "source": [
    "df = df0.dropna(subset=['Weight Delivery','Weight Prepregnancy','Height Inches'])"
   ]
  },
  {
   "cell_type": "code",
   "execution_count": 128,
   "id": "6c0e7c81",
   "metadata": {},
   "outputs": [
    {
     "data": {
      "text/plain": [
       "(14319, 127)"
      ]
     },
     "execution_count": 128,
     "metadata": {},
     "output_type": "execute_result"
    }
   ],
   "source": [
    "df.shape"
   ]
  },
  {
   "cell_type": "code",
   "execution_count": null,
   "id": "5b62673a",
   "metadata": {},
   "outputs": [],
   "source": []
  },
  {
   "cell_type": "markdown",
   "id": "2e56279c",
   "metadata": {},
   "source": [
    "### BMI"
   ]
  },
  {
   "cell_type": "code",
   "execution_count": 129,
   "id": "dd59009a",
   "metadata": {},
   "outputs": [
    {
     "data": {
      "text/plain": [
       "count    14319.000000\n",
       "mean       163.902717\n",
       "std         46.603559\n",
       "min         70.000000\n",
       "25%        130.000000\n",
       "50%        153.000000\n",
       "75%        186.000000\n",
       "max        456.000000\n",
       "Name: Weight Prepregnancy, dtype: float64"
      ]
     },
     "execution_count": 129,
     "metadata": {},
     "output_type": "execute_result"
    }
   ],
   "source": [
    "df['Weight Prepregnancy'].describe()"
   ]
  },
  {
   "cell_type": "code",
   "execution_count": 130,
   "id": "efb96734",
   "metadata": {},
   "outputs": [
    {
     "data": {
      "text/plain": [
       "count    14319.000000\n",
       "mean        64.225351\n",
       "std          3.061532\n",
       "min         45.300000\n",
       "25%         62.000000\n",
       "50%         64.000000\n",
       "75%         66.000000\n",
       "max         96.000000\n",
       "Name: Height Inches, dtype: float64"
      ]
     },
     "execution_count": 130,
     "metadata": {},
     "output_type": "execute_result"
    }
   ],
   "source": [
    "df['Height Inches'].describe()"
   ]
  },
  {
   "cell_type": "code",
   "execution_count": 131,
   "id": "bcbb07ea",
   "metadata": {},
   "outputs": [
    {
     "data": {
      "text/plain": [
       "count    14319.000000\n",
       "mean        27.887771\n",
       "std          7.476443\n",
       "min         13.043945\n",
       "25%         22.456944\n",
       "50%         26.167222\n",
       "75%         31.614201\n",
       "max         80.767952\n",
       "Name: BMI_prepregnancy, dtype: float64"
      ]
     },
     "execution_count": 131,
     "metadata": {},
     "output_type": "execute_result"
    }
   ],
   "source": [
    "df['BMI_prepregnancy'].describe()"
   ]
  },
  {
   "cell_type": "code",
   "execution_count": 132,
   "id": "b20ab978",
   "metadata": {},
   "outputs": [
    {
     "data": {
      "text/plain": [
       "count    14319.000000\n",
       "mean        33.001100\n",
       "std          7.209561\n",
       "min         12.466696\n",
       "25%         27.808264\n",
       "50%         31.746482\n",
       "75%         36.841522\n",
       "max         84.310406\n",
       "Name: BMI_delivery, dtype: float64"
      ]
     },
     "execution_count": 132,
     "metadata": {},
     "output_type": "execute_result"
    }
   ],
   "source": [
    "df['BMI_delivery'].describe()"
   ]
  },
  {
   "cell_type": "code",
   "execution_count": 133,
   "id": "3ac990ad",
   "metadata": {},
   "outputs": [],
   "source": [
    "df_c = df.copy()"
   ]
  },
  {
   "cell_type": "code",
   "execution_count": 134,
   "id": "63c4245f",
   "metadata": {},
   "outputs": [],
   "source": [
    "threshold = 30\n",
    "df_c[ 'BMI_dm1'] = df_c['BMI_delivery'].gt(threshold).astype(int)\n",
    "df_c[ 'BMI_dm0'] = df_c['BMI_prepregnancy'].gt(threshold).astype(int)"
   ]
  },
  {
   "cell_type": "code",
   "execution_count": 135,
   "id": "bb4f0c64",
   "metadata": {},
   "outputs": [],
   "source": [
    "df = df_c"
   ]
  },
  {
   "cell_type": "code",
   "execution_count": 136,
   "id": "7ad2a107",
   "metadata": {},
   "outputs": [
    {
     "data": {
      "text/html": [
       "<div>\n",
       "<style scoped>\n",
       "    .dataframe tbody tr th:only-of-type {\n",
       "        vertical-align: middle;\n",
       "    }\n",
       "\n",
       "    .dataframe tbody tr th {\n",
       "        vertical-align: top;\n",
       "    }\n",
       "\n",
       "    .dataframe thead th {\n",
       "        text-align: right;\n",
       "    }\n",
       "</style>\n",
       "<table border=\"1\" class=\"dataframe\">\n",
       "  <thead>\n",
       "    <tr style=\"text-align: right;\">\n",
       "      <th>BMI_dm1</th>\n",
       "      <th>0</th>\n",
       "      <th>1</th>\n",
       "      <th>All</th>\n",
       "    </tr>\n",
       "    <tr>\n",
       "      <th>BMI_dm0</th>\n",
       "      <th></th>\n",
       "      <th></th>\n",
       "      <th></th>\n",
       "    </tr>\n",
       "  </thead>\n",
       "  <tbody>\n",
       "    <tr>\n",
       "      <th>0</th>\n",
       "      <td>5570</td>\n",
       "      <td>4310</td>\n",
       "      <td>9880</td>\n",
       "    </tr>\n",
       "    <tr>\n",
       "      <th>1</th>\n",
       "      <td>25</td>\n",
       "      <td>4414</td>\n",
       "      <td>4439</td>\n",
       "    </tr>\n",
       "    <tr>\n",
       "      <th>All</th>\n",
       "      <td>5595</td>\n",
       "      <td>8724</td>\n",
       "      <td>14319</td>\n",
       "    </tr>\n",
       "  </tbody>\n",
       "</table>\n",
       "</div>"
      ],
      "text/plain": [
       "BMI_dm1     0     1    All\n",
       "BMI_dm0                   \n",
       "0        5570  4310   9880\n",
       "1          25  4414   4439\n",
       "All      5595  8724  14319"
      ]
     },
     "execution_count": 136,
     "metadata": {},
     "output_type": "execute_result"
    }
   ],
   "source": [
    "pd.crosstab(df['BMI_dm0'], df['BMI_dm1'], margins=True)"
   ]
  },
  {
   "cell_type": "code",
   "execution_count": null,
   "id": "433b8846",
   "metadata": {},
   "outputs": [],
   "source": []
  },
  {
   "cell_type": "markdown",
   "id": "5d700ee3",
   "metadata": {},
   "source": [
    "### Response"
   ]
  },
  {
   "cell_type": "markdown",
   "id": "a9324b24",
   "metadata": {},
   "source": [
    "##### Labor time;  Method of Delivery A; Condition A; Preterm Labor,VBAC A"
   ]
  },
  {
   "cell_type": "code",
   "execution_count": 137,
   "id": "4b48b05c",
   "metadata": {},
   "outputs": [
    {
     "name": "stdout",
     "output_type": "stream",
     "text": [
      "        Labortime  Labortime_3\n",
      "count  9301.00000  9326.000000\n",
      "mean     65.20858     6.379798\n",
      "std      82.34967    14.641015\n",
      "min       1.00000     1.000000\n",
      "25%      14.00000     3.000000\n",
      "50%      32.00000     4.000000\n",
      "75%      83.00000     7.000000\n",
      "max     844.00000   740.000000\n"
     ]
    }
   ],
   "source": [
    "print(df[['Labortime','Labortime_3']].describe())"
   ]
  },
  {
   "cell_type": "code",
   "execution_count": 138,
   "id": "934d7b56",
   "metadata": {},
   "outputs": [
    {
     "name": "stdout",
     "output_type": "stream",
     "text": [
      "                 Labortime            Labortime_3           \n",
      "                      mean        std        mean        std\n",
      "BMI_dm0 BMI_dm1                                             \n",
      "0       0        62.429251  79.380827    6.381559  14.235358\n",
      "        1        70.287729  84.873794    6.360056  13.879402\n",
      "1       0        15.000000   9.446204    5.428571   2.173770\n",
      "        1        64.149308  84.026393    6.405109  16.117851\n"
     ]
    }
   ],
   "source": [
    "result = df.groupby(['BMI_dm0', 'BMI_dm1']).agg({\n",
    "    'Labortime': ['mean', 'std'],  # Calculate mean and std deviation\n",
    "    'Labortime_3': ['mean', 'std']\n",
    "})\n",
    "\n",
    "print(result)"
   ]
  },
  {
   "cell_type": "code",
   "execution_count": 189,
   "id": "23090fd5",
   "metadata": {},
   "outputs": [
    {
     "data": {
      "text/html": [
       "<div>\n",
       "<style scoped>\n",
       "    .dataframe tbody tr th:only-of-type {\n",
       "        vertical-align: middle;\n",
       "    }\n",
       "\n",
       "    .dataframe tbody tr th {\n",
       "        vertical-align: top;\n",
       "    }\n",
       "\n",
       "    .dataframe thead tr th {\n",
       "        text-align: left;\n",
       "    }\n",
       "\n",
       "    .dataframe thead tr:last-of-type th {\n",
       "        text-align: right;\n",
       "    }\n",
       "</style>\n",
       "<table border=\"1\" class=\"dataframe\">\n",
       "  <thead>\n",
       "    <tr>\n",
       "      <th></th>\n",
       "      <th colspan=\"2\" halign=\"left\">Labortime</th>\n",
       "      <th colspan=\"2\" halign=\"left\">Labortime_3</th>\n",
       "    </tr>\n",
       "    <tr>\n",
       "      <th></th>\n",
       "      <th>mean</th>\n",
       "      <th>std</th>\n",
       "      <th>mean</th>\n",
       "      <th>std</th>\n",
       "    </tr>\n",
       "    <tr>\n",
       "      <th>BMI_dm0</th>\n",
       "      <th></th>\n",
       "      <th></th>\n",
       "      <th></th>\n",
       "      <th></th>\n",
       "    </tr>\n",
       "  </thead>\n",
       "  <tbody>\n",
       "    <tr>\n",
       "      <th>0</th>\n",
       "      <td>65.692781</td>\n",
       "      <td>81.79245</td>\n",
       "      <td>6.372626</td>\n",
       "      <td>14.087561</td>\n",
       "    </tr>\n",
       "    <tr>\n",
       "      <th>1</th>\n",
       "      <td>63.870955</td>\n",
       "      <td>83.87199</td>\n",
       "      <td>6.399597</td>\n",
       "      <td>16.073211</td>\n",
       "    </tr>\n",
       "  </tbody>\n",
       "</table>\n",
       "</div>"
      ],
      "text/plain": [
       "         Labortime           Labortime_3           \n",
       "              mean       std        mean        std\n",
       "BMI_dm0                                            \n",
       "0        65.692781  81.79245    6.372626  14.087561\n",
       "1        63.870955  83.87199    6.399597  16.073211"
      ]
     },
     "execution_count": 189,
     "metadata": {},
     "output_type": "execute_result"
    }
   ],
   "source": [
    "df.groupby(['BMI_dm0']).agg({\n",
    "    'Labortime': ['mean', 'std'],  # Calculate mean and std deviation\n",
    "    'Labortime_3': ['mean', 'std']\n",
    "})"
   ]
  },
  {
   "cell_type": "code",
   "execution_count": 139,
   "id": "75310ee9",
   "metadata": {},
   "outputs": [
    {
     "data": {
      "text/plain": [
       "Vag    9840\n",
       "C/S    4477\n",
       "NaN       2\n",
       "Name: Method of Delivery A, dtype: int64"
      ]
     },
     "execution_count": 139,
     "metadata": {},
     "output_type": "execute_result"
    }
   ],
   "source": [
    "df['Method of Delivery A'].value_counts(dropna=False)"
   ]
  },
  {
   "cell_type": "code",
   "execution_count": 140,
   "id": "2085eb3d",
   "metadata": {},
   "outputs": [
    {
     "data": {
      "text/plain": [
       "Stable            13547\n",
       "Fair                505\n",
       "IUFD                111\n",
       "Critical            108\n",
       "NaN                  25\n",
       "Neonatal Death       23\n",
       "Name: Condition A, dtype: int64"
      ]
     },
     "execution_count": 140,
     "metadata": {},
     "output_type": "execute_result"
    }
   ],
   "source": [
    "df['Condition A'].value_counts(dropna=False)"
   ]
  },
  {
   "cell_type": "code",
   "execution_count": 141,
   "id": "eadfe199",
   "metadata": {},
   "outputs": [
    {
     "data": {
      "text/plain": [
       "No     12928\n",
       "Yes      892\n",
       "NaN      499\n",
       "Name: Preterm Labor, dtype: int64"
      ]
     },
     "execution_count": 141,
     "metadata": {},
     "output_type": "execute_result"
    }
   ],
   "source": [
    "df['Preterm Labor'].value_counts(dropna=False)"
   ]
  },
  {
   "cell_type": "code",
   "execution_count": 142,
   "id": "77034541",
   "metadata": {},
   "outputs": [
    {
     "data": {
      "text/plain": [
       "NaN        13774\n",
       "Success      422\n",
       "Failed       123\n",
       "Name: VBAC A, dtype: int64"
      ]
     },
     "execution_count": 142,
     "metadata": {},
     "output_type": "execute_result"
    }
   ],
   "source": [
    "df['VBAC A'].value_counts(dropna=False)"
   ]
  },
  {
   "cell_type": "code",
   "execution_count": null,
   "id": "4e242281",
   "metadata": {},
   "outputs": [],
   "source": []
  },
  {
   "cell_type": "code",
   "execution_count": 143,
   "id": "d6d30495",
   "metadata": {},
   "outputs": [
    {
     "data": {
      "text/plain": [
       "BMI_dm0  Method of Delivery A\n",
       "0        Vag                     7227\n",
       "         C/S                     2651\n",
       "1        Vag                     2613\n",
       "         C/S                     1826\n",
       "dtype: int64"
      ]
     },
     "execution_count": 143,
     "metadata": {},
     "output_type": "execute_result"
    }
   ],
   "source": [
    "df[['BMI_dm0','Method of Delivery A']].value_counts()"
   ]
  },
  {
   "cell_type": "code",
   "execution_count": 397,
   "id": "05cb6c3a",
   "metadata": {},
   "outputs": [
    {
     "data": {
      "image/png": "[encoded data removed]",
      "text/plain": [
       "<Figure size 640x480 with 1 Axes>"
      ]
     },
     "metadata": {},
     "output_type": "display_data"
    }
   ],
   "source": [
    "# Prepare the data\n",
    "plot_data = pd.crosstab(index=df['BMI_dm0'], columns=df['Method of Delivery A'])\n",
    "\n",
    "# Plotting\n",
    "plot_data.plot(kind='bar', stacked=True)\n",
    "plt.title('Observations by Method of Delivery and BMI')\n",
    "plt.xlabel('BMI')\n",
    "plt.ylabel('Number of Observations')\n",
    "plt.xticks(rotation=0)  # Rotate x-axis labels to horizontal\n",
    "plt.legend(title='Method of Delivery')\n",
    "plt.show()"
   ]
  },
  {
   "cell_type": "code",
   "execution_count": 144,
   "id": "07a7c9fd",
   "metadata": {},
   "outputs": [
    {
     "data": {
      "text/plain": [
       "BMI_dm0  Condition A   \n",
       "0        Stable            9420\n",
       "1        Stable            4127\n",
       "0        Fair               293\n",
       "1        Fair               212\n",
       "0        IUFD                73\n",
       "         Critical            65\n",
       "1        Critical            43\n",
       "         IUFD                38\n",
       "0        Neonatal Death      13\n",
       "1        Neonatal Death      10\n",
       "dtype: int64"
      ]
     },
     "execution_count": 144,
     "metadata": {},
     "output_type": "execute_result"
    }
   ],
   "source": [
    "df[['BMI_dm0','Condition A']].value_counts()"
   ]
  },
  {
   "cell_type": "code",
   "execution_count": 398,
   "id": "d2672592",
   "metadata": {},
   "outputs": [
    {
     "data": {
      "image/png": "[encoded data removed]",
      "text/plain": [
       "<Figure size 640x480 with 1 Axes>"
      ]
     },
     "metadata": {},
     "output_type": "display_data"
    }
   ],
   "source": [
    "# Prepare the data\n",
    "plot_data = pd.crosstab(index=df['BMI_dm0'], columns=df['Condition A'])\n",
    "\n",
    "# Plotting\n",
    "plot_data.plot(kind='bar', stacked=True)\n",
    "plt.title('Observations by Condition and BMI')\n",
    "plt.xlabel('BMI')\n",
    "plt.ylabel('Number of Observations')\n",
    "plt.xticks(rotation=0)  # Rotate x-axis labels to horizontal\n",
    "plt.legend(title='Condition A')\n",
    "plt.show()"
   ]
  },
  {
   "cell_type": "code",
   "execution_count": null,
   "id": "1422b778",
   "metadata": {},
   "outputs": [],
   "source": []
  },
  {
   "cell_type": "code",
   "execution_count": 145,
   "id": "2abe2a54",
   "metadata": {},
   "outputs": [
    {
     "data": {
      "text/plain": [
       "BMI_dm0  Preterm Labor\n",
       "0        No               8881\n",
       "1        No               4047\n",
       "0        Yes               635\n",
       "1        Yes               257\n",
       "dtype: int64"
      ]
     },
     "execution_count": 145,
     "metadata": {},
     "output_type": "execute_result"
    }
   ],
   "source": [
    "df[['BMI_dm0','Preterm Labor']].value_counts()"
   ]
  },
  {
   "cell_type": "code",
   "execution_count": 399,
   "id": "af5805ed",
   "metadata": {},
   "outputs": [
    {
     "data": {
      "image/png": "[encoded data removed]",
      "text/plain": [
       "<Figure size 640x480 with 1 Axes>"
      ]
     },
     "metadata": {},
     "output_type": "display_data"
    }
   ],
   "source": [
    "# Prepare the data\n",
    "plot_data = pd.crosstab(index=df['BMI_dm0'], columns=df['Preterm Labor'])\n",
    "\n",
    "# Plotting\n",
    "plot_data.plot(kind='bar', stacked=True)\n",
    "plt.title('Observations by Preterm Labor and BMI')\n",
    "plt.xlabel('BMI')\n",
    "plt.ylabel('Number of Observations')\n",
    "plt.xticks(rotation=0)  # Rotate x-axis labels to horizontal\n",
    "plt.legend(title='Preterm Labor')\n",
    "plt.show()"
   ]
  },
  {
   "cell_type": "code",
   "execution_count": 116,
   "id": "540b8777",
   "metadata": {},
   "outputs": [
    {
     "data": {
      "text/plain": [
       "BMI_dm0  VBAC A \n",
       "0        Success    303\n",
       "1        Success    119\n",
       "0        Failed      71\n",
       "1        Failed      52\n",
       "dtype: int64"
      ]
     },
     "execution_count": 116,
     "metadata": {},
     "output_type": "execute_result"
    }
   ],
   "source": [
    "df[['BMI_dm0','VBAC A']].value_counts()"
   ]
  },
  {
   "cell_type": "code",
   "execution_count": 400,
   "id": "49695fb3",
   "metadata": {},
   "outputs": [
    {
     "data": {
      "image/png": "[encoded data removed]",
      "text/plain": [
       "<Figure size 640x480 with 1 Axes>"
      ]
     },
     "metadata": {},
     "output_type": "display_data"
    }
   ],
   "source": [
    "# Prepare the data\n",
    "plot_data = pd.crosstab(index=df['BMI_dm0'], columns=df['VBAC A'])\n",
    "\n",
    "# Plotting\n",
    "plot_data.plot(kind='bar', stacked=True)\n",
    "plt.title('Observations by VBAC A and BMI')\n",
    "plt.xlabel('BMI')\n",
    "plt.ylabel('Number of Observations')\n",
    "plt.xticks(rotation=0)  # Rotate x-axis labels to horizontal\n",
    "plt.legend(title='VBAC A')\n",
    "plt.show()"
   ]
  },
  {
   "cell_type": "code",
   "execution_count": 404,
   "id": "47920167",
   "metadata": {},
   "outputs": [
    {
     "data": {
      "text/html": [
       "<div>\n",
       "<style scoped>\n",
       "    .dataframe tbody tr th:only-of-type {\n",
       "        vertical-align: middle;\n",
       "    }\n",
       "\n",
       "    .dataframe tbody tr th {\n",
       "        vertical-align: top;\n",
       "    }\n",
       "\n",
       "    .dataframe thead th {\n",
       "        text-align: right;\n",
       "    }\n",
       "</style>\n",
       "<table border=\"1\" class=\"dataframe\">\n",
       "  <thead>\n",
       "    <tr style=\"text-align: right;\">\n",
       "      <th>VBAC A</th>\n",
       "      <th>Failed</th>\n",
       "      <th>Success</th>\n",
       "    </tr>\n",
       "    <tr>\n",
       "      <th>BMI_dm0</th>\n",
       "      <th></th>\n",
       "      <th></th>\n",
       "    </tr>\n",
       "  </thead>\n",
       "  <tbody>\n",
       "    <tr>\n",
       "      <th>0</th>\n",
       "      <td>71</td>\n",
       "      <td>303</td>\n",
       "    </tr>\n",
       "    <tr>\n",
       "      <th>1</th>\n",
       "      <td>52</td>\n",
       "      <td>119</td>\n",
       "    </tr>\n",
       "  </tbody>\n",
       "</table>\n",
       "</div>"
      ],
      "text/plain": [
       "VBAC A   Failed  Success\n",
       "BMI_dm0                 \n",
       "0            71      303\n",
       "1            52      119"
      ]
     },
     "execution_count": 404,
     "metadata": {},
     "output_type": "execute_result"
    }
   ],
   "source": [
    "plot_data"
   ]
  },
  {
   "cell_type": "code",
   "execution_count": 405,
   "id": "ce8903a9",
   "metadata": {},
   "outputs": [
    {
     "ename": "ValueError",
     "evalue": "The number of FixedLocator locations (2), usually from a call to set_ticks, does not match the number of labels (1).",
     "output_type": "error",
     "traceback": [
      "\u001b[0;31m---------------------------------------------------------------------------\u001b[0m",
      "\u001b[0;31mValueError\u001b[0m                                Traceback (most recent call last)",
      "Cell \u001b[0;32mIn[405], line 7\u001b[0m\n\u001b[1;32m      5\u001b[0m axes[\u001b[38;5;241m0\u001b[39m]\u001b[38;5;241m.\u001b[39mset_title(\u001b[38;5;124m'\u001b[39m\u001b[38;5;124mVBAC A for Low BMI\u001b[39m\u001b[38;5;124m'\u001b[39m)\n\u001b[1;32m      6\u001b[0m axes[\u001b[38;5;241m0\u001b[39m]\u001b[38;5;241m.\u001b[39mset_ylabel(\u001b[38;5;124m'\u001b[39m\u001b[38;5;124mNumber of Observations\u001b[39m\u001b[38;5;124m'\u001b[39m)\n\u001b[0;32m----> 7\u001b[0m \u001b[43maxes\u001b[49m\u001b[43m[\u001b[49m\u001b[38;5;241;43m0\u001b[39;49m\u001b[43m]\u001b[49m\u001b[38;5;241;43m.\u001b[39;49m\u001b[43mset_xticklabels\u001b[49m\u001b[43m(\u001b[49m\u001b[43m[\u001b[49m\u001b[38;5;124;43m'\u001b[39;49m\u001b[38;5;124;43mLow BMI\u001b[39;49m\u001b[38;5;124;43m'\u001b[39;49m\u001b[43m]\u001b[49m\u001b[43m,\u001b[49m\u001b[43m \u001b[49m\u001b[43mrotation\u001b[49m\u001b[38;5;241;43m=\u001b[39;49m\u001b[38;5;241;43m0\u001b[39;49m\u001b[43m)\u001b[49m  \u001b[38;5;66;03m# Prevents rotation of x-tick labels\u001b[39;00m\n\u001b[1;32m      9\u001b[0m \u001b[38;5;66;03m# Plotting data for 'high' BMI\u001b[39;00m\n\u001b[1;32m     10\u001b[0m plot_data\u001b[38;5;241m.\u001b[39mloc[\u001b[38;5;241m1\u001b[39m]\u001b[38;5;241m.\u001b[39mplot(kind\u001b[38;5;241m=\u001b[39m\u001b[38;5;124m'\u001b[39m\u001b[38;5;124mbar\u001b[39m\u001b[38;5;124m'\u001b[39m, ax\u001b[38;5;241m=\u001b[39maxes[\u001b[38;5;241m1\u001b[39m], color\u001b[38;5;241m=\u001b[39m[\u001b[38;5;124m'\u001b[39m\u001b[38;5;124mred\u001b[39m\u001b[38;5;124m'\u001b[39m, \u001b[38;5;124m'\u001b[39m\u001b[38;5;124mblue\u001b[39m\u001b[38;5;124m'\u001b[39m])\n",
      "File \u001b[0;32m~/anaconda3/lib/python3.10/site-packages/matplotlib/axes/_base.py:74\u001b[0m, in \u001b[0;36m_axis_method_wrapper.__set_name__.<locals>.wrapper\u001b[0;34m(self, *args, **kwargs)\u001b[0m\n\u001b[1;32m     73\u001b[0m \u001b[38;5;28;01mdef\u001b[39;00m \u001b[38;5;21mwrapper\u001b[39m(\u001b[38;5;28mself\u001b[39m, \u001b[38;5;241m*\u001b[39margs, \u001b[38;5;241m*\u001b[39m\u001b[38;5;241m*\u001b[39mkwargs):\n\u001b[0;32m---> 74\u001b[0m     \u001b[38;5;28;01mreturn\u001b[39;00m \u001b[43mget_method\u001b[49m\u001b[43m(\u001b[49m\u001b[38;5;28;43mself\u001b[39;49m\u001b[43m)\u001b[49m\u001b[43m(\u001b[49m\u001b[38;5;241;43m*\u001b[39;49m\u001b[43margs\u001b[49m\u001b[43m,\u001b[49m\u001b[43m \u001b[49m\u001b[38;5;241;43m*\u001b[39;49m\u001b[38;5;241;43m*\u001b[39;49m\u001b[43mkwargs\u001b[49m\u001b[43m)\u001b[49m\n",
      "File \u001b[0;32m~/anaconda3/lib/python3.10/site-packages/matplotlib/_api/deprecation.py:297\u001b[0m, in \u001b[0;36mrename_parameter.<locals>.wrapper\u001b[0;34m(*args, **kwargs)\u001b[0m\n\u001b[1;32m    292\u001b[0m     warn_deprecated(\n\u001b[1;32m    293\u001b[0m         since, message\u001b[38;5;241m=\u001b[39m\u001b[38;5;124mf\u001b[39m\u001b[38;5;124m\"\u001b[39m\u001b[38;5;124mThe \u001b[39m\u001b[38;5;132;01m{\u001b[39;00mold\u001b[38;5;132;01m!r}\u001b[39;00m\u001b[38;5;124m parameter of \u001b[39m\u001b[38;5;132;01m{\u001b[39;00mfunc\u001b[38;5;241m.\u001b[39m\u001b[38;5;18m__name__\u001b[39m\u001b[38;5;132;01m}\u001b[39;00m\u001b[38;5;124m() \u001b[39m\u001b[38;5;124m\"\u001b[39m\n\u001b[1;32m    294\u001b[0m         \u001b[38;5;124mf\u001b[39m\u001b[38;5;124m\"\u001b[39m\u001b[38;5;124mhas been renamed \u001b[39m\u001b[38;5;132;01m{\u001b[39;00mnew\u001b[38;5;132;01m!r}\u001b[39;00m\u001b[38;5;124m since Matplotlib \u001b[39m\u001b[38;5;132;01m{\u001b[39;00msince\u001b[38;5;132;01m}\u001b[39;00m\u001b[38;5;124m; support \u001b[39m\u001b[38;5;124m\"\u001b[39m\n\u001b[1;32m    295\u001b[0m         \u001b[38;5;124mf\u001b[39m\u001b[38;5;124m\"\u001b[39m\u001b[38;5;124mfor the old name will be dropped %(removal)s.\u001b[39m\u001b[38;5;124m\"\u001b[39m)\n\u001b[1;32m    296\u001b[0m     kwargs[new] \u001b[38;5;241m=\u001b[39m kwargs\u001b[38;5;241m.\u001b[39mpop(old)\n\u001b[0;32m--> 297\u001b[0m \u001b[38;5;28;01mreturn\u001b[39;00m \u001b[43mfunc\u001b[49m\u001b[43m(\u001b[49m\u001b[38;5;241;43m*\u001b[39;49m\u001b[43margs\u001b[49m\u001b[43m,\u001b[49m\u001b[43m \u001b[49m\u001b[38;5;241;43m*\u001b[39;49m\u001b[38;5;241;43m*\u001b[39;49m\u001b[43mkwargs\u001b[49m\u001b[43m)\u001b[49m\n",
      "File \u001b[0;32m~/anaconda3/lib/python3.10/site-packages/matplotlib/axis.py:1973\u001b[0m, in \u001b[0;36mAxis.set_ticklabels\u001b[0;34m(self, labels, minor, fontdict, **kwargs)\u001b[0m\n\u001b[1;32m   1969\u001b[0m \u001b[38;5;28;01mif\u001b[39;00m \u001b[38;5;28misinstance\u001b[39m(locator, mticker\u001b[38;5;241m.\u001b[39mFixedLocator):\n\u001b[1;32m   1970\u001b[0m     \u001b[38;5;66;03m# Passing [] as a list of labels is often used as a way to\u001b[39;00m\n\u001b[1;32m   1971\u001b[0m     \u001b[38;5;66;03m# remove all tick labels, so only error for > 0 labels\u001b[39;00m\n\u001b[1;32m   1972\u001b[0m     \u001b[38;5;28;01mif\u001b[39;00m \u001b[38;5;28mlen\u001b[39m(locator\u001b[38;5;241m.\u001b[39mlocs) \u001b[38;5;241m!=\u001b[39m \u001b[38;5;28mlen\u001b[39m(labels) \u001b[38;5;129;01mand\u001b[39;00m \u001b[38;5;28mlen\u001b[39m(labels) \u001b[38;5;241m!=\u001b[39m \u001b[38;5;241m0\u001b[39m:\n\u001b[0;32m-> 1973\u001b[0m         \u001b[38;5;28;01mraise\u001b[39;00m \u001b[38;5;167;01mValueError\u001b[39;00m(\n\u001b[1;32m   1974\u001b[0m             \u001b[38;5;124m\"\u001b[39m\u001b[38;5;124mThe number of FixedLocator locations\u001b[39m\u001b[38;5;124m\"\u001b[39m\n\u001b[1;32m   1975\u001b[0m             \u001b[38;5;124mf\u001b[39m\u001b[38;5;124m\"\u001b[39m\u001b[38;5;124m (\u001b[39m\u001b[38;5;132;01m{\u001b[39;00m\u001b[38;5;28mlen\u001b[39m(locator\u001b[38;5;241m.\u001b[39mlocs)\u001b[38;5;132;01m}\u001b[39;00m\u001b[38;5;124m), usually from a call to\u001b[39m\u001b[38;5;124m\"\u001b[39m\n\u001b[1;32m   1976\u001b[0m             \u001b[38;5;124m\"\u001b[39m\u001b[38;5;124m set_ticks, does not match\u001b[39m\u001b[38;5;124m\"\u001b[39m\n\u001b[1;32m   1977\u001b[0m             \u001b[38;5;124mf\u001b[39m\u001b[38;5;124m\"\u001b[39m\u001b[38;5;124m the number of labels (\u001b[39m\u001b[38;5;132;01m{\u001b[39;00m\u001b[38;5;28mlen\u001b[39m(labels)\u001b[38;5;132;01m}\u001b[39;00m\u001b[38;5;124m).\u001b[39m\u001b[38;5;124m\"\u001b[39m)\n\u001b[1;32m   1978\u001b[0m     tickd \u001b[38;5;241m=\u001b[39m {loc: lab \u001b[38;5;28;01mfor\u001b[39;00m loc, lab \u001b[38;5;129;01min\u001b[39;00m \u001b[38;5;28mzip\u001b[39m(locator\u001b[38;5;241m.\u001b[39mlocs, labels)}\n\u001b[1;32m   1979\u001b[0m     func \u001b[38;5;241m=\u001b[39m functools\u001b[38;5;241m.\u001b[39mpartial(\u001b[38;5;28mself\u001b[39m\u001b[38;5;241m.\u001b[39m_format_with_dict, tickd)\n",
      "\u001b[0;31mValueError\u001b[0m: The number of FixedLocator locations (2), usually from a call to set_ticks, does not match the number of labels (1)."
     ]
    },
    {
     "data": {
      "image/png": "[encoded data removed]",
      "text/plain": [
       "<Figure size 800x1000 with 2 Axes>"
      ]
     },
     "metadata": {},
     "output_type": "display_data"
    }
   ],
   "source": [
    "\n",
    "fig, axes = plt.subplots(nrows=2, ncols=1, figsize=(8, 10))  # Adjust figsize to fit your screen\n",
    "\n",
    "# Plotting data for 'low' BMI\n",
    "plot_data.loc[0].plot(kind='bar', ax=axes[0], color=['red', 'blue'])\n",
    "axes[0].set_title('VBAC A for Low BMI')\n",
    "axes[0].set_ylabel('Number of Observations')\n",
    "axes[0].set_xticklabels(['Low BMI'], rotation=0)  # Prevents rotation of x-tick labels\n",
    "\n",
    "# Plotting data for 'high' BMI\n",
    "plot_data.loc[1].plot(kind='bar', ax=axes[1], color=['red', 'blue'])\n",
    "axes[1].set_title('VBAC A for High BMI')\n",
    "axes[1].set_ylabel('Number of Observations')\n",
    "axes[1].set_xticklabels(['High BMI'], rotation=0)  # Prevents rotation of x-tick labels\n",
    "\n",
    "# Adding space between plots for clarity\n",
    "plt.tight_layout(pad=3.0)\n",
    "plt.show()"
   ]
  },
  {
   "cell_type": "code",
   "execution_count": null,
   "id": "ad97f5c1",
   "metadata": {},
   "outputs": [],
   "source": []
  },
  {
   "cell_type": "code",
   "execution_count": null,
   "id": "80b51d64",
   "metadata": {},
   "outputs": [],
   "source": []
  },
  {
   "cell_type": "code",
   "execution_count": null,
   "id": "61795a6c",
   "metadata": {},
   "outputs": [],
   "source": []
  },
  {
   "cell_type": "markdown",
   "id": "b6cee127",
   "metadata": {},
   "source": []
  },
  {
   "cell_type": "code",
   "execution_count": 146,
   "id": "4a4033c0",
   "metadata": {},
   "outputs": [
    {
     "data": {
      "image/png": "[encoded data removed]",
      "text/plain": [
       "<Figure size 640x480 with 1 Axes>"
      ]
     },
     "metadata": {},
     "output_type": "display_data"
    }
   ],
   "source": [
    "plt.hist(df['Labortime'], bins=100, color='skyblue', edgecolor='black')\n",
    "plt.xlabel('Labor time')\n",
    "plt.ylabel('Frequency')\n",
    "plt.title('Histogram of Labor time')\n",
    "plt.show()"
   ]
  },
  {
   "cell_type": "code",
   "execution_count": 147,
   "id": "b1509e16",
   "metadata": {},
   "outputs": [
    {
     "name": "stdout",
     "output_type": "stream",
     "text": [
      "Shapiro-Wilk Test: Test Statistic = nan, p-value = 1.0\n",
      "Kolmogorov-Smirnov Test: Test Statistic = nan, p-value = nan\n"
     ]
    },
    {
     "name": "stderr",
     "output_type": "stream",
     "text": [
      "/Users/menglinghe/anaconda3/lib/python3.10/site-packages/scipy/stats/_morestats.py:1816: UserWarning: p-value may not be accurate for N > 5000.\n",
      "  warnings.warn(\"p-value may not be accurate for N > 5000.\")\n"
     ]
    }
   ],
   "source": [
    "# Shapiro-Wilk test\n",
    "shapiro_stat, shapiro_p = st.shapiro(df['Labortime'])\n",
    "print(f\"Shapiro-Wilk Test: Test Statistic = {shapiro_stat}, p-value = {shapiro_p}\")\n",
    "\n",
    "# Kolmogorov-Smirnov test\n",
    "ks_stat, ks_p = st.kstest(df['Labortime'], 'norm')\n",
    "print(f\"Kolmogorov-Smirnov Test: Test Statistic = {ks_stat}, p-value = {ks_p}\")"
   ]
  },
  {
   "cell_type": "code",
   "execution_count": 148,
   "id": "d7e2cf46",
   "metadata": {},
   "outputs": [],
   "source": [
    "df['lbtime_log'] = np.log(df['Labortime'])"
   ]
  },
  {
   "cell_type": "code",
   "execution_count": 149,
   "id": "44a0d431",
   "metadata": {},
   "outputs": [
    {
     "data": {
      "image/png": "[encoded data removed]",
      "text/plain": [
       "<Figure size 640x480 with 1 Axes>"
      ]
     },
     "metadata": {},
     "output_type": "display_data"
    }
   ],
   "source": [
    "plt.hist(df['lbtime_log'], bins=100, color='skyblue', edgecolor='black')\n",
    "plt.xlabel('Labor time_log')\n",
    "plt.ylabel('Frequency')\n",
    "plt.title('Histogram of log of Labor time')\n",
    "plt.show()"
   ]
  },
  {
   "cell_type": "code",
   "execution_count": 150,
   "id": "34845931",
   "metadata": {},
   "outputs": [
    {
     "data": {
      "text/plain": [
       "Text(0.5, 1.0, 'Q-Q Plot')"
      ]
     },
     "execution_count": 150,
     "metadata": {},
     "output_type": "execute_result"
    },
    {
     "data": {
      "image/png": "[encoded data removed]",
      "text/plain": [
       "<Figure size 640x480 with 1 Axes>"
      ]
     },
     "metadata": {},
     "output_type": "display_data"
    }
   ],
   "source": [
    "# Q-Q plot\n",
    "plt.subplot(1, 2, 2)\n",
    "st.probplot(df['lbtime_log'], dist=\"norm\", plot=plt)\n",
    "plt.title('Q-Q Plot')"
   ]
  },
  {
   "cell_type": "code",
   "execution_count": 151,
   "id": "db128a7e",
   "metadata": {},
   "outputs": [
    {
     "name": "stdout",
     "output_type": "stream",
     "text": [
      "Shapiro-Wilk Test: Test Statistic = nan, p-value = 1.0\n",
      "Kolmogorov-Smirnov Test: Test Statistic = nan, p-value = nan\n"
     ]
    },
    {
     "name": "stderr",
     "output_type": "stream",
     "text": [
      "/Users/menglinghe/anaconda3/lib/python3.10/site-packages/scipy/stats/_morestats.py:1816: UserWarning: p-value may not be accurate for N > 5000.\n",
      "  warnings.warn(\"p-value may not be accurate for N > 5000.\")\n"
     ]
    }
   ],
   "source": [
    "# Shapiro-Wilk test\n",
    "shapiro_stat, shapiro_p = st.shapiro(df['lbtime_log'])\n",
    "print(f\"Shapiro-Wilk Test: Test Statistic = {shapiro_stat}, p-value = {shapiro_p}\")\n",
    "\n",
    "# Kolmogorov-Smirnov test\n",
    "ks_stat, ks_p = st.kstest(df['lbtime_log'], 'norm')\n",
    "print(f\"Kolmogorov-Smirnov Test: Test Statistic = {ks_stat}, p-value = {ks_p}\")"
   ]
  },
  {
   "cell_type": "code",
   "execution_count": null,
   "id": "94d08fb2",
   "metadata": {},
   "outputs": [],
   "source": []
  },
  {
   "cell_type": "code",
   "execution_count": null,
   "id": "4a25b909",
   "metadata": {},
   "outputs": [],
   "source": []
  },
  {
   "cell_type": "code",
   "execution_count": null,
   "id": "e5a260bf",
   "metadata": {},
   "outputs": [],
   "source": []
  },
  {
   "cell_type": "code",
   "execution_count": null,
   "id": "aae552f9",
   "metadata": {},
   "outputs": [],
   "source": []
  },
  {
   "cell_type": "code",
   "execution_count": null,
   "id": "ecb65051",
   "metadata": {},
   "outputs": [],
   "source": []
  },
  {
   "cell_type": "code",
   "execution_count": null,
   "id": "bbaf0fc1",
   "metadata": {},
   "outputs": [],
   "source": []
  },
  {
   "cell_type": "code",
   "execution_count": null,
   "id": "77cf8883",
   "metadata": {},
   "outputs": [],
   "source": []
  },
  {
   "cell_type": "code",
   "execution_count": 152,
   "id": "99c7f128",
   "metadata": {},
   "outputs": [
    {
     "data": {
      "image/png": "[encoded data removed]",
      "text/plain": [
       "<Figure size 500x500 with 1 Axes>"
      ]
     },
     "metadata": {},
     "output_type": "display_data"
    }
   ],
   "source": [
    "rho, p = st.spearmanr(df['BMI_delivery'], df['Labortime'], nan_policy='omit')\n",
    "ax = sns.lmplot(df, x='BMI_delivery', y='Labortime', scatter_kws={'color': '#068cf9'}, line_kws={'color': '#ff0051'})\n",
    "ax.fig.text(0.18, 0.9, 'r_s = '+str(round(rho, 3)), color='#ff0051');"
   ]
  },
  {
   "cell_type": "code",
   "execution_count": 153,
   "id": "0427e294",
   "metadata": {},
   "outputs": [
    {
     "name": "stdout",
     "output_type": "stream",
     "text": [
      "0.004232360605105501\n"
     ]
    }
   ],
   "source": [
    "print(p)"
   ]
  },
  {
   "cell_type": "code",
   "execution_count": 154,
   "id": "e8a6197a",
   "metadata": {},
   "outputs": [
    {
     "data": {
      "image/png": "[encoded data removed]",
      "text/plain": [
       "<Figure size 500x500 with 1 Axes>"
      ]
     },
     "metadata": {},
     "output_type": "display_data"
    }
   ],
   "source": [
    "rho, p = st.spearmanr(df['BMI_prepregnancy'], df['Labortime'], nan_policy='omit')\n",
    "ax = sns.lmplot(df, x='BMI_prepregnancy', y='Labortime', scatter_kws={'color': '#068cf9'}, line_kws={'color': '#ff0051'})\n",
    "ax.fig.text(0.18, 0.9, 'r_s = '+str(round(rho, 3)), color='#ff0051');"
   ]
  },
  {
   "cell_type": "code",
   "execution_count": null,
   "id": "e6176fb7",
   "metadata": {},
   "outputs": [],
   "source": []
  },
  {
   "cell_type": "code",
   "execution_count": 155,
   "id": "218fa354",
   "metadata": {},
   "outputs": [
    {
     "data": {
      "image/png": "[encoded data removed]",
      "text/plain": [
       "<Figure size 500x500 with 1 Axes>"
      ]
     },
     "metadata": {},
     "output_type": "display_data"
    }
   ],
   "source": [
    "rho, p = st.spearmanr(df['BMI_delivery'], df['lbtime_log'], nan_policy='omit')\n",
    "ax = sns.lmplot(df, x='BMI_delivery', y='lbtime_log', scatter_kws={'color': '#068cf9'}, line_kws={'color': '#ff0051'})\n",
    "ax.fig.text(0.18, 0.9, 'r_s = '+str(round(rho, 3)), color='#ff0051');"
   ]
  },
  {
   "cell_type": "code",
   "execution_count": 156,
   "id": "0c2a5a7b",
   "metadata": {},
   "outputs": [
    {
     "data": {
      "image/png": "[encoded data removed]",
      "text/plain": [
       "<Figure size 500x500 with 1 Axes>"
      ]
     },
     "metadata": {},
     "output_type": "display_data"
    }
   ],
   "source": [
    "rho, p = st.spearmanr(df['BMI_prepregnancy'], df['lbtime_log'], nan_policy='omit')\n",
    "ax = sns.lmplot(df, x='BMI_prepregnancy', y='lbtime_log', scatter_kws={'color': '#068cf9'}, line_kws={'color': '#ff0051'})\n",
    "ax.fig.text(0.18, 0.9, 'r_s = '+str(round(rho, 3)), color='#ff0051');"
   ]
  },
  {
   "cell_type": "markdown",
   "id": "d4af93ad",
   "metadata": {},
   "source": [
    "### missing percentage of other variables"
   ]
  },
  {
   "cell_type": "code",
   "execution_count": 157,
   "id": "b555aa95",
   "metadata": {},
   "outputs": [],
   "source": [
    "missing_percentage=df.isnull().mean().round(4).mul(100)"
   ]
  },
  {
   "cell_type": "code",
   "execution_count": 158,
   "id": "778492ee",
   "metadata": {},
   "outputs": [
    {
     "name": "stdout",
     "output_type": "stream",
     "text": [
      "Laceration Extension          57.83\n",
      "Attempt to Vbac               82.60\n",
      "Csection Incidence            68.75\n",
      "Csection Urgency              68.82\n",
      "Reason For Csection           68.80\n",
      "Forceps a                     97.75\n",
      "Vacuum Extraction A           97.19\n",
      "VBAC A                        96.19\n",
      "APGAR 10 minutes A            97.49\n",
      "Cervical Ripening Agents      73.85\n",
      "Comments Diabetes             80.45\n",
      "Pitocin Start Date Time       97.71\n",
      "Adm Illicit Drugs Text        91.60\n",
      "CS Called Date Time           87.72\n",
      "Reason For Admission Other    86.17\n",
      "QBL2 hrs PP                   81.89\n",
      "Units RBCS Transfused         97.67\n",
      "Total Units RBCS Received     97.78\n",
      "QBL Total LD                  84.64\n",
      "dtype: float64\n"
     ]
    }
   ],
   "source": [
    "print(missing_percentage[missing_percentage>50])"
   ]
  },
  {
   "cell_type": "code",
   "execution_count": null,
   "id": "aea68078",
   "metadata": {},
   "outputs": [],
   "source": []
  },
  {
   "cell_type": "code",
   "execution_count": 56,
   "id": "e0274b9e",
   "metadata": {},
   "outputs": [],
   "source": []
  },
  {
   "cell_type": "code",
   "execution_count": 159,
   "id": "2e3e6d3b",
   "metadata": {},
   "outputs": [
    {
     "data": {
      "text/plain": [
       "<Axes: xlabel='BMI_dm1', ylabel='Labortime'>"
      ]
     },
     "execution_count": 159,
     "metadata": {},
     "output_type": "execute_result"
    },
    {
     "data": {
      "image/png": "[encoded data removed]",
      "text/plain": [
       "<Figure size 640x480 with 1 Axes>"
      ]
     },
     "metadata": {},
     "output_type": "display_data"
    }
   ],
   "source": [
    "sns.boxplot(data=df, x='BMI_dm1', y='Labortime')"
   ]
  },
  {
   "cell_type": "code",
   "execution_count": 160,
   "id": "aba3c032",
   "metadata": {},
   "outputs": [],
   "source": [
    "model = ols('Labortime ~ C(BMI_dm1)', data=df).fit()\n",
    "anova_results = sm.stats.anova_lm(model, typ=1)"
   ]
  },
  {
   "cell_type": "code",
   "execution_count": 161,
   "id": "2bd9212e",
   "metadata": {},
   "outputs": [
    {
     "name": "stdout",
     "output_type": "stream",
     "text": [
      "                df        sum_sq       mean_sq         F   PR(>F)\n",
      "C(BMI_dm1)     1.0  6.105872e+04  61058.722776  9.011518  0.00269\n",
      "Residual    9299.0  6.300659e+07   6775.631211       NaN      NaN\n"
     ]
    }
   ],
   "source": [
    "print(anova_results)"
   ]
  },
  {
   "cell_type": "code",
   "execution_count": 162,
   "id": "466bbb24",
   "metadata": {},
   "outputs": [
    {
     "data": {
      "text/html": [
       "<table class=\"simpletable\">\n",
       "<caption>OLS Regression Results</caption>\n",
       "<tr>\n",
       "  <th>Dep. Variable:</th>        <td>Labortime</td>    <th>  R-squared:         </th> <td>   0.001</td> \n",
       "</tr>\n",
       "<tr>\n",
       "  <th>Model:</th>                   <td>OLS</td>       <th>  Adj. R-squared:    </th> <td>   0.001</td> \n",
       "</tr>\n",
       "<tr>\n",
       "  <th>Method:</th>             <td>Least Squares</td>  <th>  F-statistic:       </th> <td>   9.012</td> \n",
       "</tr>\n",
       "<tr>\n",
       "  <th>Date:</th>             <td>Sun, 12 May 2024</td> <th>  Prob (F-statistic):</th>  <td>0.00269</td> \n",
       "</tr>\n",
       "<tr>\n",
       "  <th>Time:</th>                 <td>22:06:13</td>     <th>  Log-Likelihood:    </th> <td> -54219.</td> \n",
       "</tr>\n",
       "<tr>\n",
       "  <th>No. Observations:</th>      <td>  9301</td>      <th>  AIC:               </th> <td>1.084e+05</td>\n",
       "</tr>\n",
       "<tr>\n",
       "  <th>Df Residuals:</th>          <td>  9299</td>      <th>  BIC:               </th> <td>1.085e+05</td>\n",
       "</tr>\n",
       "<tr>\n",
       "  <th>Df Model:</th>              <td>     1</td>      <th>                     </th>     <td> </td>    \n",
       "</tr>\n",
       "<tr>\n",
       "  <th>Covariance Type:</th>      <td>nonrobust</td>    <th>                     </th>     <td> </td>    \n",
       "</tr>\n",
       "</table>\n",
       "<table class=\"simpletable\">\n",
       "<tr>\n",
       "         <td></td>            <th>coef</th>     <th>std err</th>      <th>t</th>      <th>P>|t|</th>  <th>[0.025</th>    <th>0.975]</th>  \n",
       "</tr>\n",
       "<tr>\n",
       "  <th>Intercept</th>       <td>   62.2635</td> <td>    1.300</td> <td>   47.882</td> <td> 0.000</td> <td>   59.715</td> <td>   64.813</td>\n",
       "</tr>\n",
       "<tr>\n",
       "  <th>C(BMI_dm1)[T.1]</th> <td>    5.1741</td> <td>    1.724</td> <td>    3.002</td> <td> 0.003</td> <td>    1.795</td> <td>    8.553</td>\n",
       "</tr>\n",
       "</table>\n",
       "<table class=\"simpletable\">\n",
       "<tr>\n",
       "  <th>Omnibus:</th>       <td>4893.443</td> <th>  Durbin-Watson:     </th> <td>   1.980</td> \n",
       "</tr>\n",
       "<tr>\n",
       "  <th>Prob(Omnibus):</th>  <td> 0.000</td>  <th>  Jarque-Bera (JB):  </th> <td>36146.000</td>\n",
       "</tr>\n",
       "<tr>\n",
       "  <th>Skew:</th>           <td> 2.455</td>  <th>  Prob(JB):          </th> <td>    0.00</td> \n",
       "</tr>\n",
       "<tr>\n",
       "  <th>Kurtosis:</th>       <td>11.316</td>  <th>  Cond. No.          </th> <td>    2.81</td> \n",
       "</tr>\n",
       "</table><br/><br/>Notes:<br/>[1] Standard Errors assume that the covariance matrix of the errors is correctly specified."
      ],
      "text/plain": [
       "<class 'statsmodels.iolib.summary.Summary'>\n",
       "\"\"\"\n",
       "                            OLS Regression Results                            \n",
       "==============================================================================\n",
       "Dep. Variable:              Labortime   R-squared:                       0.001\n",
       "Model:                            OLS   Adj. R-squared:                  0.001\n",
       "Method:                 Least Squares   F-statistic:                     9.012\n",
       "Date:                Sun, 12 May 2024   Prob (F-statistic):            0.00269\n",
       "Time:                        22:06:13   Log-Likelihood:                -54219.\n",
       "No. Observations:                9301   AIC:                         1.084e+05\n",
       "Df Residuals:                    9299   BIC:                         1.085e+05\n",
       "Df Model:                           1                                         \n",
       "Covariance Type:            nonrobust                                         \n",
       "===================================================================================\n",
       "                      coef    std err          t      P>|t|      [0.025      0.975]\n",
       "-----------------------------------------------------------------------------------\n",
       "Intercept          62.2635      1.300     47.882      0.000      59.715      64.813\n",
       "C(BMI_dm1)[T.1]     5.1741      1.724      3.002      0.003       1.795       8.553\n",
       "==============================================================================\n",
       "Omnibus:                     4893.443   Durbin-Watson:                   1.980\n",
       "Prob(Omnibus):                  0.000   Jarque-Bera (JB):            36146.000\n",
       "Skew:                           2.455   Prob(JB):                         0.00\n",
       "Kurtosis:                      11.316   Cond. No.                         2.81\n",
       "==============================================================================\n",
       "\n",
       "Notes:\n",
       "[1] Standard Errors assume that the covariance matrix of the errors is correctly specified.\n",
       "\"\"\""
      ]
     },
     "execution_count": 162,
     "metadata": {},
     "output_type": "execute_result"
    }
   ],
   "source": [
    "model.summary()"
   ]
  },
  {
   "cell_type": "code",
   "execution_count": 163,
   "id": "aa3f6802",
   "metadata": {},
   "outputs": [
    {
     "data": {
      "text/plain": [
       "<Axes: xlabel='BMI_dm0', ylabel='Labortime'>"
      ]
     },
     "execution_count": 163,
     "metadata": {},
     "output_type": "execute_result"
    },
    {
     "data": {
      "image/png": "[encoded data removed]",
      "text/plain": [
       "<Figure size 640x480 with 1 Axes>"
      ]
     },
     "metadata": {},
     "output_type": "display_data"
    }
   ],
   "source": [
    "sns.boxplot(data=df, x='BMI_dm0', y='Labortime')"
   ]
  },
  {
   "cell_type": "code",
   "execution_count": 164,
   "id": "98fddcfa",
   "metadata": {},
   "outputs": [],
   "source": [
    "model = ols('Labortime ~ C(BMI_dm0)', data=df).fit()\n",
    "anova_results = sm.stats.anova_lm(model, typ=1)"
   ]
  },
  {
   "cell_type": "code",
   "execution_count": 165,
   "id": "f2fb0760",
   "metadata": {},
   "outputs": [
    {
     "name": "stdout",
     "output_type": "stream",
     "text": [
      "                df        sum_sq      mean_sq         F    PR(>F)\n",
      "C(BMI_dm0)     1.0  6.024067e+03  6024.066698  0.888302  0.345962\n",
      "Residual    9299.0  6.306163e+07  6781.549552       NaN       NaN\n"
     ]
    }
   ],
   "source": [
    "print(anova_results)"
   ]
  },
  {
   "cell_type": "code",
   "execution_count": null,
   "id": "97c3b419",
   "metadata": {},
   "outputs": [],
   "source": []
  },
  {
   "cell_type": "code",
   "execution_count": 42,
   "id": "44a373ad",
   "metadata": {},
   "outputs": [],
   "source": [
    "#df['BMI_dm1_m'] = pd.cut(df['BMI_delivery'], bins=[0, 10, 20,30,40,50,60,70,80, float('Inf')],labels=['0', '1', '2','3','4','5','6','7','8'])"
   ]
  },
  {
   "cell_type": "code",
   "execution_count": 43,
   "id": "84a9b403",
   "metadata": {},
   "outputs": [
    {
     "data": {
      "text/plain": [
       "<Axes: xlabel='BMI_dm1_m', ylabel='lbtime_log'>"
      ]
     },
     "execution_count": 43,
     "metadata": {},
     "output_type": "execute_result"
    },
    {
     "data": {
      "image/png": "[encoded data removed]",
      "text/plain": [
       "<Figure size 640x480 with 1 Axes>"
      ]
     },
     "metadata": {},
     "output_type": "display_data"
    }
   ],
   "source": [
    "#sns.boxplot(data=df, x='BMI_dm1_m', y='lbtime_log')"
   ]
  },
  {
   "cell_type": "code",
   "execution_count": null,
   "id": "ab896097",
   "metadata": {},
   "outputs": [],
   "source": []
  },
  {
   "cell_type": "code",
   "execution_count": 166,
   "id": "7c006ed5",
   "metadata": {},
   "outputs": [
    {
     "data": {
      "text/plain": [
       "<Axes: xlabel='BMI_dm1', ylabel='lbtime_log'>"
      ]
     },
     "execution_count": 166,
     "metadata": {},
     "output_type": "execute_result"
    },
    {
     "data": {
      "image/png": "[encoded data removed]",
      "text/plain": [
       "<Figure size 640x480 with 1 Axes>"
      ]
     },
     "metadata": {},
     "output_type": "display_data"
    }
   ],
   "source": [
    "sns.boxplot(data=df, x='BMI_dm1', y='lbtime_log')"
   ]
  },
  {
   "cell_type": "code",
   "execution_count": 167,
   "id": "0245df6d",
   "metadata": {},
   "outputs": [],
   "source": [
    "model = ols('lbtime_log ~ C(BMI_dm1)', data=df).fit()\n",
    "anova_results = sm.stats.anova_lm(model, typ=1)"
   ]
  },
  {
   "cell_type": "code",
   "execution_count": 168,
   "id": "5c5b4e56",
   "metadata": {},
   "outputs": [
    {
     "name": "stdout",
     "output_type": "stream",
     "text": [
      "                df        sum_sq   mean_sq         F    PR(>F)\n",
      "C(BMI_dm1)     1.0      6.982636  6.982636  4.453225  0.034862\n",
      "Residual    9299.0  14580.787545  1.567995       NaN       NaN\n"
     ]
    }
   ],
   "source": [
    "print(anova_results)"
   ]
  },
  {
   "cell_type": "code",
   "execution_count": 169,
   "id": "d3c182ee",
   "metadata": {},
   "outputs": [
    {
     "data": {
      "text/html": [
       "<table class=\"simpletable\">\n",
       "<caption>OLS Regression Results</caption>\n",
       "<tr>\n",
       "  <th>Dep. Variable:</th>       <td>lbtime_log</td>    <th>  R-squared:         </th> <td>   0.000</td> \n",
       "</tr>\n",
       "<tr>\n",
       "  <th>Model:</th>                   <td>OLS</td>       <th>  Adj. R-squared:    </th> <td>   0.000</td> \n",
       "</tr>\n",
       "<tr>\n",
       "  <th>Method:</th>             <td>Least Squares</td>  <th>  F-statistic:       </th> <td>   4.453</td> \n",
       "</tr>\n",
       "<tr>\n",
       "  <th>Date:</th>             <td>Sun, 12 May 2024</td> <th>  Prob (F-statistic):</th>  <td>0.0349</td>  \n",
       "</tr>\n",
       "<tr>\n",
       "  <th>Time:</th>                 <td>22:07:26</td>     <th>  Log-Likelihood:    </th> <td> -15288.</td> \n",
       "</tr>\n",
       "<tr>\n",
       "  <th>No. Observations:</th>      <td>  9301</td>      <th>  AIC:               </th> <td>3.058e+04</td>\n",
       "</tr>\n",
       "<tr>\n",
       "  <th>Df Residuals:</th>          <td>  9299</td>      <th>  BIC:               </th> <td>3.059e+04</td>\n",
       "</tr>\n",
       "<tr>\n",
       "  <th>Df Model:</th>              <td>     1</td>      <th>                     </th>     <td> </td>    \n",
       "</tr>\n",
       "<tr>\n",
       "  <th>Covariance Type:</th>      <td>nonrobust</td>    <th>                     </th>     <td> </td>    \n",
       "</tr>\n",
       "</table>\n",
       "<table class=\"simpletable\">\n",
       "<tr>\n",
       "         <td></td>            <th>coef</th>     <th>std err</th>      <th>t</th>      <th>P>|t|</th>  <th>[0.025</th>    <th>0.975]</th>  \n",
       "</tr>\n",
       "<tr>\n",
       "  <th>Intercept</th>       <td>    3.4475</td> <td>    0.020</td> <td>  174.276</td> <td> 0.000</td> <td>    3.409</td> <td>    3.486</td>\n",
       "</tr>\n",
       "<tr>\n",
       "  <th>C(BMI_dm1)[T.1]</th> <td>    0.0553</td> <td>    0.026</td> <td>    2.110</td> <td> 0.035</td> <td>    0.004</td> <td>    0.107</td>\n",
       "</tr>\n",
       "</table>\n",
       "<table class=\"simpletable\">\n",
       "<tr>\n",
       "  <th>Omnibus:</th>       <td>113.885</td> <th>  Durbin-Watson:     </th> <td>   1.964</td>\n",
       "</tr>\n",
       "<tr>\n",
       "  <th>Prob(Omnibus):</th> <td> 0.000</td>  <th>  Jarque-Bera (JB):  </th> <td>  89.966</td>\n",
       "</tr>\n",
       "<tr>\n",
       "  <th>Skew:</th>          <td>-0.162</td>  <th>  Prob(JB):          </th> <td>2.91e-20</td>\n",
       "</tr>\n",
       "<tr>\n",
       "  <th>Kurtosis:</th>      <td> 2.643</td>  <th>  Cond. No.          </th> <td>    2.81</td>\n",
       "</tr>\n",
       "</table><br/><br/>Notes:<br/>[1] Standard Errors assume that the covariance matrix of the errors is correctly specified."
      ],
      "text/plain": [
       "<class 'statsmodels.iolib.summary.Summary'>\n",
       "\"\"\"\n",
       "                            OLS Regression Results                            \n",
       "==============================================================================\n",
       "Dep. Variable:             lbtime_log   R-squared:                       0.000\n",
       "Model:                            OLS   Adj. R-squared:                  0.000\n",
       "Method:                 Least Squares   F-statistic:                     4.453\n",
       "Date:                Sun, 12 May 2024   Prob (F-statistic):             0.0349\n",
       "Time:                        22:07:26   Log-Likelihood:                -15288.\n",
       "No. Observations:                9301   AIC:                         3.058e+04\n",
       "Df Residuals:                    9299   BIC:                         3.059e+04\n",
       "Df Model:                           1                                         \n",
       "Covariance Type:            nonrobust                                         \n",
       "===================================================================================\n",
       "                      coef    std err          t      P>|t|      [0.025      0.975]\n",
       "-----------------------------------------------------------------------------------\n",
       "Intercept           3.4475      0.020    174.276      0.000       3.409       3.486\n",
       "C(BMI_dm1)[T.1]     0.0553      0.026      2.110      0.035       0.004       0.107\n",
       "==============================================================================\n",
       "Omnibus:                      113.885   Durbin-Watson:                   1.964\n",
       "Prob(Omnibus):                  0.000   Jarque-Bera (JB):               89.966\n",
       "Skew:                          -0.162   Prob(JB):                     2.91e-20\n",
       "Kurtosis:                       2.643   Cond. No.                         2.81\n",
       "==============================================================================\n",
       "\n",
       "Notes:\n",
       "[1] Standard Errors assume that the covariance matrix of the errors is correctly specified.\n",
       "\"\"\""
      ]
     },
     "execution_count": 169,
     "metadata": {},
     "output_type": "execute_result"
    }
   ],
   "source": [
    "model.summary()"
   ]
  },
  {
   "cell_type": "code",
   "execution_count": 170,
   "id": "362c4116",
   "metadata": {},
   "outputs": [
    {
     "data": {
      "text/plain": [
       "1.0568576244089793"
      ]
     },
     "execution_count": 170,
     "metadata": {},
     "output_type": "execute_result"
    }
   ],
   "source": [
    "np.exp(0.0553)"
   ]
  },
  {
   "cell_type": "code",
   "execution_count": 171,
   "id": "11f049ec",
   "metadata": {},
   "outputs": [
    {
     "data": {
      "text/plain": [
       "<Axes: xlabel='BMI_dm0', ylabel='lbtime_log'>"
      ]
     },
     "execution_count": 171,
     "metadata": {},
     "output_type": "execute_result"
    },
    {
     "data": {
      "image/png": "[encoded data removed]",
      "text/plain": [
       "<Figure size 640x480 with 1 Axes>"
      ]
     },
     "metadata": {},
     "output_type": "display_data"
    }
   ],
   "source": [
    "sns.boxplot(data=df, x='BMI_dm0', y='lbtime_log')"
   ]
  },
  {
   "cell_type": "code",
   "execution_count": 190,
   "id": "a3fdc8bf",
   "metadata": {},
   "outputs": [
    {
     "data": {
      "text/html": [
       "<div>\n",
       "<style scoped>\n",
       "    .dataframe tbody tr th:only-of-type {\n",
       "        vertical-align: middle;\n",
       "    }\n",
       "\n",
       "    .dataframe tbody tr th {\n",
       "        vertical-align: top;\n",
       "    }\n",
       "\n",
       "    .dataframe thead tr th {\n",
       "        text-align: left;\n",
       "    }\n",
       "\n",
       "    .dataframe thead tr:last-of-type th {\n",
       "        text-align: right;\n",
       "    }\n",
       "</style>\n",
       "<table border=\"1\" class=\"dataframe\">\n",
       "  <thead>\n",
       "    <tr>\n",
       "      <th></th>\n",
       "      <th colspan=\"2\" halign=\"left\">lbtime_log</th>\n",
       "    </tr>\n",
       "    <tr>\n",
       "      <th></th>\n",
       "      <th>mean</th>\n",
       "      <th>std</th>\n",
       "    </tr>\n",
       "    <tr>\n",
       "      <th>BMI_dm0</th>\n",
       "      <th></th>\n",
       "      <th></th>\n",
       "    </tr>\n",
       "  </thead>\n",
       "  <tbody>\n",
       "    <tr>\n",
       "      <th>0</th>\n",
       "      <td>3.500452</td>\n",
       "      <td>1.240907</td>\n",
       "    </tr>\n",
       "    <tr>\n",
       "      <th>1</th>\n",
       "      <td>3.419609</td>\n",
       "      <td>1.282104</td>\n",
       "    </tr>\n",
       "  </tbody>\n",
       "</table>\n",
       "</div>"
      ],
      "text/plain": [
       "        lbtime_log          \n",
       "              mean       std\n",
       "BMI_dm0                     \n",
       "0         3.500452  1.240907\n",
       "1         3.419609  1.282104"
      ]
     },
     "execution_count": 190,
     "metadata": {},
     "output_type": "execute_result"
    }
   ],
   "source": [
    "df.groupby(['BMI_dm0']).agg({\n",
    "    'lbtime_log': ['mean', 'std']\n",
    "})"
   ]
  },
  {
   "cell_type": "code",
   "execution_count": 172,
   "id": "cbdb98c3",
   "metadata": {},
   "outputs": [],
   "source": [
    "model = ols('lbtime_log ~ C(BMI_dm0)', data=df).fit()\n",
    "anova_results = sm.stats.anova_lm(model, typ=1)"
   ]
  },
  {
   "cell_type": "code",
   "execution_count": 173,
   "id": "585fd4d5",
   "metadata": {},
   "outputs": [
    {
     "name": "stdout",
     "output_type": "stream",
     "text": [
      "                df        sum_sq    mean_sq        F    PR(>F)\n",
      "C(BMI_dm0)     1.0     11.861802  11.861802  7.56748  0.005955\n",
      "Residual    9299.0  14575.908380   1.567471      NaN       NaN\n"
     ]
    }
   ],
   "source": [
    "print(anova_results)"
   ]
  },
  {
   "cell_type": "code",
   "execution_count": 174,
   "id": "c67b818b",
   "metadata": {},
   "outputs": [
    {
     "data": {
      "text/html": [
       "<table class=\"simpletable\">\n",
       "<caption>OLS Regression Results</caption>\n",
       "<tr>\n",
       "  <th>Dep. Variable:</th>       <td>lbtime_log</td>    <th>  R-squared:         </th> <td>   0.001</td> \n",
       "</tr>\n",
       "<tr>\n",
       "  <th>Model:</th>                   <td>OLS</td>       <th>  Adj. R-squared:    </th> <td>   0.001</td> \n",
       "</tr>\n",
       "<tr>\n",
       "  <th>Method:</th>             <td>Least Squares</td>  <th>  F-statistic:       </th> <td>   7.567</td> \n",
       "</tr>\n",
       "<tr>\n",
       "  <th>Date:</th>             <td>Sun, 12 May 2024</td> <th>  Prob (F-statistic):</th>  <td>0.00595</td> \n",
       "</tr>\n",
       "<tr>\n",
       "  <th>Time:</th>                 <td>22:07:36</td>     <th>  Log-Likelihood:    </th> <td> -15287.</td> \n",
       "</tr>\n",
       "<tr>\n",
       "  <th>No. Observations:</th>      <td>  9301</td>      <th>  AIC:               </th> <td>3.058e+04</td>\n",
       "</tr>\n",
       "<tr>\n",
       "  <th>Df Residuals:</th>          <td>  9299</td>      <th>  BIC:               </th> <td>3.059e+04</td>\n",
       "</tr>\n",
       "<tr>\n",
       "  <th>Df Model:</th>              <td>     1</td>      <th>                     </th>     <td> </td>    \n",
       "</tr>\n",
       "<tr>\n",
       "  <th>Covariance Type:</th>      <td>nonrobust</td>    <th>                     </th>     <td> </td>    \n",
       "</tr>\n",
       "</table>\n",
       "<table class=\"simpletable\">\n",
       "<tr>\n",
       "         <td></td>            <th>coef</th>     <th>std err</th>      <th>t</th>      <th>P>|t|</th>  <th>[0.025</th>    <th>0.975]</th>  \n",
       "</tr>\n",
       "<tr>\n",
       "  <th>Intercept</th>       <td>    3.5005</td> <td>    0.015</td> <td>  231.048</td> <td> 0.000</td> <td>    3.471</td> <td>    3.530</td>\n",
       "</tr>\n",
       "<tr>\n",
       "  <th>C(BMI_dm0)[T.1]</th> <td>   -0.0808</td> <td>    0.029</td> <td>   -2.751</td> <td> 0.006</td> <td>   -0.138</td> <td>   -0.023</td>\n",
       "</tr>\n",
       "</table>\n",
       "<table class=\"simpletable\">\n",
       "<tr>\n",
       "  <th>Omnibus:</th>       <td>112.578</td> <th>  Durbin-Watson:     </th> <td>   1.965</td>\n",
       "</tr>\n",
       "<tr>\n",
       "  <th>Prob(Omnibus):</th> <td> 0.000</td>  <th>  Jarque-Bera (JB):  </th> <td>  88.216</td>\n",
       "</tr>\n",
       "<tr>\n",
       "  <th>Skew:</th>          <td>-0.157</td>  <th>  Prob(JB):          </th> <td>6.98e-20</td>\n",
       "</tr>\n",
       "<tr>\n",
       "  <th>Kurtosis:</th>      <td> 2.641</td>  <th>  Cond. No.          </th> <td>    2.46</td>\n",
       "</tr>\n",
       "</table><br/><br/>Notes:<br/>[1] Standard Errors assume that the covariance matrix of the errors is correctly specified."
      ],
      "text/plain": [
       "<class 'statsmodels.iolib.summary.Summary'>\n",
       "\"\"\"\n",
       "                            OLS Regression Results                            \n",
       "==============================================================================\n",
       "Dep. Variable:             lbtime_log   R-squared:                       0.001\n",
       "Model:                            OLS   Adj. R-squared:                  0.001\n",
       "Method:                 Least Squares   F-statistic:                     7.567\n",
       "Date:                Sun, 12 May 2024   Prob (F-statistic):            0.00595\n",
       "Time:                        22:07:36   Log-Likelihood:                -15287.\n",
       "No. Observations:                9301   AIC:                         3.058e+04\n",
       "Df Residuals:                    9299   BIC:                         3.059e+04\n",
       "Df Model:                           1                                         \n",
       "Covariance Type:            nonrobust                                         \n",
       "===================================================================================\n",
       "                      coef    std err          t      P>|t|      [0.025      0.975]\n",
       "-----------------------------------------------------------------------------------\n",
       "Intercept           3.5005      0.015    231.048      0.000       3.471       3.530\n",
       "C(BMI_dm0)[T.1]    -0.0808      0.029     -2.751      0.006      -0.138      -0.023\n",
       "==============================================================================\n",
       "Omnibus:                      112.578   Durbin-Watson:                   1.965\n",
       "Prob(Omnibus):                  0.000   Jarque-Bera (JB):               88.216\n",
       "Skew:                          -0.157   Prob(JB):                     6.98e-20\n",
       "Kurtosis:                       2.641   Cond. No.                         2.46\n",
       "==============================================================================\n",
       "\n",
       "Notes:\n",
       "[1] Standard Errors assume that the covariance matrix of the errors is correctly specified.\n",
       "\"\"\""
      ]
     },
     "execution_count": 174,
     "metadata": {},
     "output_type": "execute_result"
    }
   ],
   "source": [
    "model.summary()"
   ]
  },
  {
   "cell_type": "code",
   "execution_count": 320,
   "id": "86f31543",
   "metadata": {},
   "outputs": [],
   "source": [
    "df['BMI_combine'] = df['BMI_dm0']  + df['BMI_dm1'] * 2 # This will give you 0, 1, 2, 3\n",
    "# 0: low BMI\n",
    "# 1: high BMI at pregnancy, Low BMI at delivery\n",
    "# 2: low BMI at pregnancy, high BMI at delivery\n",
    "# 3: high BMI"
   ]
  },
  {
   "cell_type": "code",
   "execution_count": 321,
   "id": "41465e07",
   "metadata": {},
   "outputs": [
    {
     "data": {
      "text/plain": [
       "0    5570\n",
       "3    4414\n",
       "2    4310\n",
       "1      25\n",
       "Name: BMI_combine, dtype: int64"
      ]
     },
     "execution_count": 321,
     "metadata": {},
     "output_type": "execute_result"
    }
   ],
   "source": [
    "df['BMI_combine'] =df['BMI_combine'].astype('category')\n",
    "df['BMI_combine'].value_counts()"
   ]
  },
  {
   "cell_type": "code",
   "execution_count": 322,
   "id": "9423e8f4",
   "metadata": {},
   "outputs": [],
   "source": [
    "# Create dummy variables\n",
    "dummies = pd.get_dummies(df['BMI_combine'], prefix='BMI_combine')\n"
   ]
  },
  {
   "cell_type": "code",
   "execution_count": 323,
   "id": "fed0dbf1",
   "metadata": {},
   "outputs": [],
   "source": [
    "# Concatenate with the original DataFrame\n",
    "df = pd.concat([df, dummies], axis=1)"
   ]
  },
  {
   "cell_type": "code",
   "execution_count": 185,
   "id": "0ad0b8f6",
   "metadata": {},
   "outputs": [
    {
     "name": "stdout",
     "output_type": "stream",
     "text": [
      "Contingency Table:\n",
      "Method of Delivery A   C/S   Vag\n",
      "BMI_dm0                         \n",
      "0                     2651  7227\n",
      "1                     1826  2613\n",
      "\n",
      "Chi2 Stat: 290.656941012021\n",
      "P-value: 3.576147016434855e-65\n",
      "Degrees of freedom: 1\n",
      "Expected counts:\n",
      "[[3088.90172522 6789.09827478]\n",
      " [1388.09827478 3050.90172522]]\n"
     ]
    }
   ],
   "source": [
    "contingency_table = pd.crosstab(df['BMI_dm0'], df['Method of Delivery A'])\n",
    "print(\"Contingency Table:\")\n",
    "print(contingency_table)\n",
    "chi2, p, dof, expected = st.chi2_contingency(contingency_table)\n",
    "print(\"\\nChi2 Stat:\", chi2)\n",
    "print(\"P-value:\", p)\n",
    "print(\"Degrees of freedom:\", dof)\n",
    "print(\"Expected counts:\")\n",
    "print(expected)"
   ]
  },
  {
   "cell_type": "markdown",
   "id": "c909c128",
   "metadata": {},
   "source": [
    "If the p-value is less than 0.05 (assuming a 5% significance level), you can reject the null hypothesis, concluding that there is a significant association between gender and fruit preference."
   ]
  },
  {
   "cell_type": "code",
   "execution_count": 184,
   "id": "fe56ed70",
   "metadata": {},
   "outputs": [
    {
     "name": "stdout",
     "output_type": "stream",
     "text": [
      "Contingency Table:\n",
      "Condition A  Critical  Fair  IUFD  Neonatal Death  Stable\n",
      "BMI_dm0                                                  \n",
      "0                  65   293    73              13    9420\n",
      "1                  43   212    38              10    4127\n",
      "\n",
      "Chi2 Stat: 36.426784407553875\n",
      "P-value: 2.3638957360396326e-07\n",
      "Degrees of freedom: 4\n",
      "Expected counts:\n",
      "[[7.45286134e+01 3.48490276e+02 7.65988527e+01 1.58718343e+01\n",
      "  9.34851042e+03]\n",
      " [3.34713866e+01 1.56509724e+02 3.44011473e+01 7.12816566e+00\n",
      "  4.19848958e+03]]\n"
     ]
    }
   ],
   "source": [
    "contingency_table = pd.crosstab(df['BMI_dm0'], df['Condition A'])\n",
    "print(\"Contingency Table:\")\n",
    "print(contingency_table)\n",
    "chi2, p, dof, expected = st.chi2_contingency(contingency_table)\n",
    "print(\"\\nChi2 Stat:\", chi2)\n",
    "print(\"P-value:\", p)\n",
    "print(\"Degrees of freedom:\", dof)\n",
    "print(\"Expected counts:\")\n",
    "print(expected)"
   ]
  },
  {
   "cell_type": "code",
   "execution_count": 186,
   "id": "1fb3d0dc",
   "metadata": {},
   "outputs": [
    {
     "name": "stdout",
     "output_type": "stream",
     "text": [
      "Contingency Table:\n",
      "Preterm Labor    No  Yes\n",
      "BMI_dm0                 \n",
      "0              8881  635\n",
      "1              4047  257\n",
      "\n",
      "Chi2 Stat: 2.3025369959162596\n",
      "P-value: 0.12916287748661226\n",
      "Degrees of freedom: 1\n",
      "Expected counts:\n",
      "[[8901.79797395  614.20202605]\n",
      " [4026.20202605  277.79797395]]\n"
     ]
    }
   ],
   "source": [
    "contingency_table = pd.crosstab(df['BMI_dm0'], df['Preterm Labor'])\n",
    "print(\"Contingency Table:\")\n",
    "print(contingency_table)\n",
    "chi2, p, dof, expected = st.chi2_contingency(contingency_table)\n",
    "print(\"\\nChi2 Stat:\", chi2)\n",
    "print(\"P-value:\", p)\n",
    "print(\"Degrees of freedom:\", dof)\n",
    "print(\"Expected counts:\")\n",
    "print(expected)"
   ]
  },
  {
   "cell_type": "code",
   "execution_count": 187,
   "id": "9776e0d7",
   "metadata": {},
   "outputs": [
    {
     "name": "stdout",
     "output_type": "stream",
     "text": [
      "Contingency Table:\n",
      "VBAC A   Failed  Success\n",
      "BMI_dm0                 \n",
      "0            71      303\n",
      "1            52      119\n",
      "\n",
      "Chi2 Stat: 8.124145544827394\n",
      "P-value: 0.004367956516150099\n",
      "Degrees of freedom: 1\n",
      "Expected counts:\n",
      "[[ 84.40733945 289.59266055]\n",
      " [ 38.59266055 132.40733945]]\n"
     ]
    }
   ],
   "source": [
    "contingency_table = pd.crosstab(df['BMI_dm0'], df['VBAC A'])\n",
    "print(\"Contingency Table:\")\n",
    "print(contingency_table)\n",
    "chi2, p, dof, expected = st.chi2_contingency(contingency_table)\n",
    "print(\"\\nChi2 Stat:\", chi2)\n",
    "print(\"P-value:\", p)\n",
    "print(\"Degrees of freedom:\", dof)\n",
    "print(\"Expected counts:\")\n",
    "print(expected)"
   ]
  },
  {
   "cell_type": "code",
   "execution_count": null,
   "id": "f689cefa",
   "metadata": {},
   "outputs": [],
   "source": []
  },
  {
   "cell_type": "code",
   "execution_count": null,
   "id": "69924b30",
   "metadata": {},
   "outputs": [],
   "source": []
  },
  {
   "cell_type": "code",
   "execution_count": null,
   "id": "469a5a0c",
   "metadata": {},
   "outputs": [],
   "source": []
  },
  {
   "cell_type": "code",
   "execution_count": 325,
   "id": "8772a9d7",
   "metadata": {},
   "outputs": [
    {
     "data": {
      "text/plain": [
       "Index(['Age', 'County', 'Gravida', 'Para', 'Delivery Anesthesia',\n",
       "       'Labor Anesthesia', 'Episiotomy', 'Laceration Extension',\n",
       "       'Laceration Type', 'Amniotic Fluid Color',\n",
       "       ...\n",
       "       'race_american_indian', 'race_other', 'BMI_dm1', 'BMI_dm0',\n",
       "       'lbtime_log', 'BMI_combine', 'BMI_combine_0', 'BMI_combine_1',\n",
       "       'BMI_combine_2', 'BMI_combine_3'],\n",
       "      dtype='object', length=135)"
      ]
     },
     "execution_count": 325,
     "metadata": {},
     "output_type": "execute_result"
    }
   ],
   "source": [
    "df.columns"
   ]
  },
  {
   "cell_type": "markdown",
   "id": "494da9e8",
   "metadata": {},
   "source": [
    "#### include other predictors"
   ]
  },
  {
   "cell_type": "markdown",
   "id": "ad1a5c5b",
   "metadata": {},
   "source": [
    "Age\n",
    "County\n",
    "Gravida\n",
    "Para (keep 1)\n",
    "Resident (too many missing values)\n",
    "Weight Prepregnancy\n",
    "Weight\n",
    "Weight Gain Pounds\n",
    "Height Inches\n",
    "Diabetes\n",
    "Comments Diabetes\n",
    "Adm Alcohol\n",
    "Adm Cigarettes\n",
    "Adm Marijuana\n",
    "Adm Cocaine Crack\n",
    "Adm Illicit Drugs\n",
    "Adm Illicit Drugs Text\n",
    "Race (do not include for now)\n",
    "Ethnicity"
   ]
  },
  {
   "cell_type": "code",
   "execution_count": 326,
   "id": "96a57aa1",
   "metadata": {},
   "outputs": [],
   "source": [
    "predictors = ['Age','Gravida','Para','Diabetes','Adm Alcohol','Adm Cigarettes','Adm Marijuana'\n",
    "             ,'Adm Cocaine Crack','Adm Illicit Drugs','Ethnicity','BMI_combine_0', 'BMI_combine_1',\n",
    "       'BMI_combine_2', 'BMI_combine_3']"
   ]
  },
  {
   "cell_type": "code",
   "execution_count": 327,
   "id": "88440b3f",
   "metadata": {},
   "outputs": [],
   "source": [
    "response = ['lbtime_log','Method of Delivery A','Condition A','VBAC A']"
   ]
  },
  {
   "cell_type": "code",
   "execution_count": 328,
   "id": "a9e527f7",
   "metadata": {},
   "outputs": [],
   "source": [
    "df_list = []\n",
    "for i in range(len(response)):\n",
    "    columns = [response[i],*predictors]\n",
    "    df_list.append(df[columns])"
   ]
  },
  {
   "cell_type": "code",
   "execution_count": 329,
   "id": "83563f13",
   "metadata": {},
   "outputs": [],
   "source": [
    "for i in range(len(response)):\n",
    "    df_list[i] = df_list[i].dropna()"
   ]
  },
  {
   "cell_type": "code",
   "execution_count": 330,
   "id": "5be765aa",
   "metadata": {},
   "outputs": [
    {
     "name": "stdout",
     "output_type": "stream",
     "text": [
      "8269\n",
      "12711\n",
      "12695\n",
      "486\n"
     ]
    }
   ],
   "source": [
    "for i in range(len(response)):\n",
    "    print(len(df_list[i]))"
   ]
  },
  {
   "cell_type": "code",
   "execution_count": null,
   "id": "ccbd645e",
   "metadata": {},
   "outputs": [],
   "source": []
  },
  {
   "cell_type": "code",
   "execution_count": 392,
   "id": "56e324b4",
   "metadata": {},
   "outputs": [],
   "source": [
    "df1 = df_list[0]"
   ]
  },
  {
   "cell_type": "code",
   "execution_count": 393,
   "id": "8986eabe",
   "metadata": {},
   "outputs": [],
   "source": [
    "X = df1[predictors]  # Predictor variables\n",
    "y = df1[response[0]]  "
   ]
  },
  {
   "cell_type": "code",
   "execution_count": 394,
   "id": "22f981bd",
   "metadata": {},
   "outputs": [
    {
     "data": {
      "text/plain": [
       "Age                  float64\n",
       "Gravida              float64\n",
       "Para                 float64\n",
       "Diabetes              object\n",
       "Adm Alcohol           object\n",
       "Adm Cigarettes        object\n",
       "Adm Marijuana         object\n",
       "Adm Cocaine Crack     object\n",
       "Adm Illicit Drugs     object\n",
       "Ethnicity             object\n",
       "BMI_combine_0          uint8\n",
       "BMI_combine_1          uint8\n",
       "BMI_combine_2          uint8\n",
       "BMI_combine_3          uint8\n",
       "dtype: object"
      ]
     },
     "execution_count": 394,
     "metadata": {},
     "output_type": "execute_result"
    }
   ],
   "source": [
    "X.dtypes"
   ]
  },
  {
   "cell_type": "code",
   "execution_count": 395,
   "id": "2ee8edf0",
   "metadata": {},
   "outputs": [],
   "source": [
    "X = pd.get_dummies(X, drop_first=True)"
   ]
  },
  {
   "cell_type": "code",
   "execution_count": 336,
   "id": "0a51f270",
   "metadata": {},
   "outputs": [
    {
     "name": "stdout",
     "output_type": "stream",
     "text": [
      "                            OLS Regression Results                            \n",
      "==============================================================================\n",
      "Dep. Variable:             lbtime_log   R-squared:                       0.284\n",
      "Model:                            OLS   Adj. R-squared:                  0.282\n",
      "Method:                 Least Squares   F-statistic:                     181.4\n",
      "Date:                Mon, 13 May 2024   Prob (F-statistic):               0.00\n",
      "Time:                        00:53:36   Log-Likelihood:                -12232.\n",
      "No. Observations:                8269   AIC:                         2.450e+04\n",
      "Df Residuals:                    8250   BIC:                         2.463e+04\n",
      "Df Model:                          18                                         \n",
      "Covariance Type:            nonrobust                                         \n",
      "=========================================================================================\n",
      "                            coef    std err          t      P>|t|      [0.025      0.975]\n",
      "-----------------------------------------------------------------------------------------\n",
      "const                     2.6209      0.117     22.355      0.000       2.391       2.851\n",
      "Age                       0.0204      0.002      8.747      0.000       0.016       0.025\n",
      "Gravida                  -0.0519      0.013     -3.952      0.000      -0.078      -0.026\n",
      "Para                     -0.5019      0.018    -28.599      0.000      -0.536      -0.468\n",
      "BMI_combine_0             0.7366      0.066     11.176      0.000       0.607       0.866\n",
      "BMI_combine_1             0.2803      0.238      1.178      0.239      -0.186       0.746\n",
      "BMI_combine_2             0.8397      0.067     12.587      0.000       0.709       0.970\n",
      "BMI_combine_3             0.7644      0.067     11.404      0.000       0.633       0.896\n",
      "Diabetes_Yes              0.1223      0.036      3.415      0.001       0.052       0.193\n",
      "Adm Alcohol_YES           0.0362      0.082      0.441      0.659      -0.125       0.197\n",
      "Adm Cigarettes_former     0.1396      0.051      2.722      0.006       0.039       0.240\n",
      "Adm Cigarettes_light      0.0701      0.310      0.226      0.821      -0.537       0.677\n",
      "Adm Cigarettes_never      0.1470      0.045      3.291      0.001       0.059       0.234\n",
      "Adm Cigarettes_vape       1.7590      0.753      2.336      0.020       0.283       3.235\n",
      "Adm Marijuana_YES        -0.1023      0.040     -2.549      0.011      -0.181      -0.024\n",
      "Adm Cocaine Crack_YES    -0.0403      0.133     -0.303      0.762      -0.301       0.220\n",
      "Adm Illicit Drugs_YES     0.2245      0.055      4.086      0.000       0.117       0.332\n",
      "Ethnicity_H               0.0046      0.109      0.042      0.967      -0.209       0.218\n",
      "Ethnicity_O               0.0410      0.104      0.396      0.692      -0.162       0.244\n",
      "Ethnicity_U               0.1378      0.172      0.803      0.422      -0.199       0.474\n",
      "==============================================================================\n",
      "Omnibus:                       39.242   Durbin-Watson:                   1.976\n",
      "Prob(Omnibus):                  0.000   Jarque-Bera (JB):               46.393\n",
      "Skew:                          -0.104   Prob(JB):                     8.43e-11\n",
      "Kurtosis:                       3.302   Cond. No.                     2.27e+16\n",
      "==============================================================================\n",
      "\n",
      "Notes:\n",
      "[1] Standard Errors assume that the covariance matrix of the errors is correctly specified.\n",
      "[2] The smallest eigenvalue is 1.31e-26. This might indicate that there are\n",
      "strong multicollinearity problems or that the design matrix is singular.\n"
     ]
    }
   ],
   "source": [
    "# Adding a constant (intercept)\n",
    "X = sm.add_constant(X)\n",
    "\n",
    "# Fitting the OLS model\n",
    "model_ols = sm.OLS(y, X)\n",
    "results = model_ols.fit()\n",
    "\n",
    "# Printing the summary of the model\n",
    "print(results.summary())"
   ]
  },
  {
   "cell_type": "code",
   "execution_count": null,
   "id": "853bfb28",
   "metadata": {},
   "outputs": [],
   "source": []
  },
  {
   "cell_type": "code",
   "execution_count": 269,
   "id": "0504aebc",
   "metadata": {},
   "outputs": [
    {
     "name": "stdout",
     "output_type": "stream",
     "text": [
      "Mean Squared Error: 1.1394782159679366\n",
      "Mean Squared Error: 1.106080638014874\n"
     ]
    }
   ],
   "source": [
    "# Splitting data into training and testing sets\n",
    "X_train, X_test, y_train, y_test = train_test_split(X, y, test_size=0.2, random_state=42)\n",
    "\n",
    "# Linear Regression model\n",
    "model = LinearRegression()\n",
    "model.fit(X_train, y_train)\n",
    "\n",
    "predictions = model.predict(X_train)\n",
    "mse = mean_squared_error(y_train, predictions)\n",
    "print(\"Mean Squared Error:\", mse)\n",
    "\n",
    "# Predictions\n",
    "predictions = model.predict(X_test)\n",
    "mse = mean_squared_error(y_test, predictions)\n",
    "print(\"Mean Squared Error:\", mse)"
   ]
  },
  {
   "cell_type": "code",
   "execution_count": 266,
   "id": "69467178",
   "metadata": {},
   "outputs": [
    {
     "name": "stdout",
     "output_type": "stream",
     "text": [
      "Intercept: 3.3335005193178864\n"
     ]
    }
   ],
   "source": [
    "print(\"Intercept:\", model.intercept_)"
   ]
  },
  {
   "cell_type": "code",
   "execution_count": 267,
   "id": "f3c75e89",
   "metadata": {},
   "outputs": [
    {
     "name": "stdout",
     "output_type": "stream",
     "text": [
      "                       Coefficient\n",
      "Age                       0.020271\n",
      "Gravida                  -0.050227\n",
      "Para                     -0.515580\n",
      "Diabetes_Yes              0.069090\n",
      "Adm Alcohol_YES           0.025011\n",
      "Adm Cigarettes_former     0.143337\n",
      "Adm Cigarettes_light      0.169647\n",
      "Adm Cigarettes_never      0.173931\n",
      "Adm Cigarettes_vape       1.719577\n",
      "Adm Marijuana_YES        -0.112787\n",
      "Adm Cocaine Crack_YES    -0.165613\n",
      "Adm Illicit Drugs_YES     0.259500\n",
      "Ethnicity_H               0.105992\n",
      "Ethnicity_O               0.104307\n",
      "Ethnicity_U               0.283504\n"
     ]
    }
   ],
   "source": [
    "coefficients = pd.DataFrame(model.coef_, X.columns, columns=['Coefficient'])\n",
    "print(coefficients)"
   ]
  },
  {
   "cell_type": "code",
   "execution_count": null,
   "id": "b2b1c056",
   "metadata": {},
   "outputs": [],
   "source": []
  },
  {
   "cell_type": "code",
   "execution_count": null,
   "id": "8ce26bf7",
   "metadata": {},
   "outputs": [],
   "source": []
  },
  {
   "cell_type": "code",
   "execution_count": null,
   "id": "6f004f33",
   "metadata": {},
   "outputs": [],
   "source": []
  },
  {
   "cell_type": "code",
   "execution_count": null,
   "id": "eb2918e3",
   "metadata": {},
   "outputs": [],
   "source": []
  },
  {
   "cell_type": "code",
   "execution_count": null,
   "id": "716f7855",
   "metadata": {},
   "outputs": [],
   "source": []
  },
  {
   "cell_type": "code",
   "execution_count": null,
   "id": "f62ad023",
   "metadata": {},
   "outputs": [],
   "source": []
  },
  {
   "cell_type": "code",
   "execution_count": null,
   "id": "249b3e29",
   "metadata": {},
   "outputs": [],
   "source": []
  },
  {
   "cell_type": "code",
   "execution_count": null,
   "id": "aeff5250",
   "metadata": {},
   "outputs": [],
   "source": []
  },
  {
   "cell_type": "code",
   "execution_count": 382,
   "id": "654a8e67",
   "metadata": {},
   "outputs": [],
   "source": [
    "df2 = df_list[1]\n",
    "X = df2[predictors]  # Predictor variables\n",
    "y = df2[response[1]]  # Numerical response variable"
   ]
  },
  {
   "cell_type": "code",
   "execution_count": 383,
   "id": "0c73d5c3",
   "metadata": {},
   "outputs": [
    {
     "data": {
      "text/plain": [
       "Age                  float64\n",
       "Gravida              float64\n",
       "Para                 float64\n",
       "Diabetes              object\n",
       "Adm Alcohol           object\n",
       "Adm Cigarettes        object\n",
       "Adm Marijuana         object\n",
       "Adm Cocaine Crack     object\n",
       "Adm Illicit Drugs     object\n",
       "Ethnicity             object\n",
       "BMI_combine_0          uint8\n",
       "BMI_combine_1          uint8\n",
       "BMI_combine_2          uint8\n",
       "BMI_combine_3          uint8\n",
       "dtype: object"
      ]
     },
     "execution_count": 383,
     "metadata": {},
     "output_type": "execute_result"
    }
   ],
   "source": [
    "X.dtypes"
   ]
  },
  {
   "cell_type": "code",
   "execution_count": 384,
   "id": "35de125a",
   "metadata": {},
   "outputs": [],
   "source": [
    "X = pd.get_dummies(X, drop_first=True)"
   ]
  },
  {
   "cell_type": "code",
   "execution_count": 386,
   "id": "67c71889",
   "metadata": {},
   "outputs": [
    {
     "data": {
      "text/plain": [
       "Index(['Age', 'Gravida', 'Para', 'BMI_combine_0', 'BMI_combine_1',\n",
       "       'BMI_combine_2', 'BMI_combine_3', 'Diabetes_Yes', 'Adm Alcohol_YES',\n",
       "       'Adm Cigarettes_former', 'Adm Cigarettes_light', 'Adm Cigarettes_never',\n",
       "       'Adm Cigarettes_vape', 'Adm Marijuana_YES', 'Adm Cocaine Crack_YES',\n",
       "       'Adm Illicit Drugs_YES', 'Ethnicity_H', 'Ethnicity_O', 'Ethnicity_U'],\n",
       "      dtype='object')"
      ]
     },
     "execution_count": 386,
     "metadata": {},
     "output_type": "execute_result"
    }
   ],
   "source": [
    "X.columns"
   ]
  },
  {
   "cell_type": "code",
   "execution_count": 345,
   "id": "ccaa5512",
   "metadata": {},
   "outputs": [
    {
     "name": "stdout",
     "output_type": "stream",
     "text": [
      "Accuracy: 0.6869838773102634\n"
     ]
    },
    {
     "name": "stderr",
     "output_type": "stream",
     "text": [
      "/Users/menglinghe/anaconda3/lib/python3.10/site-packages/sklearn/linear_model/_logistic.py:458: ConvergenceWarning: lbfgs failed to converge (status=1):\n",
      "STOP: TOTAL NO. of ITERATIONS REACHED LIMIT.\n",
      "\n",
      "Increase the number of iterations (max_iter) or scale the data as shown in:\n",
      "    https://scikit-learn.org/stable/modules/preprocessing.html\n",
      "Please also refer to the documentation for alternative solver options:\n",
      "    https://scikit-learn.org/stable/modules/linear_model.html#logistic-regression\n",
      "  n_iter_i = _check_optimize_result(\n"
     ]
    }
   ],
   "source": [
    "# Splitting data into training and testing sets\n",
    "X_train, X_test, y_train, y_test = train_test_split(X, y, test_size=0.2, random_state=42)\n",
    "\n",
    "# Logistic Regression model\n",
    "model = LogisticRegression()\n",
    "model.fit(X_train, y_train)\n",
    "\n",
    "# Predictions\n",
    "predictions = model.predict(X_test)\n",
    "\n",
    "# Evaluating the model\n",
    "accuracy = accuracy_score(y_test, predictions)\n",
    "print(\"Accuracy:\", accuracy)"
   ]
  },
  {
   "cell_type": "code",
   "execution_count": 349,
   "id": "a53ccf2b",
   "metadata": {},
   "outputs": [
    {
     "name": "stdout",
     "output_type": "stream",
     "text": [
      "Intercept: [1.63783056]\n",
      "Coefficients:          0         1         2         3         4         5         6   \\\n",
      "0 -0.058383 -0.083114  0.243242  0.842878  0.238833  0.474537  0.002989   \n",
      "\n",
      "         7         8         9         10        11        12        13  \\\n",
      "0 -0.365443 -0.287329  0.006168  0.042775  0.178414 -0.035011  0.043199   \n",
      "\n",
      "         14        15        16        17        18  \n",
      "0  0.192542 -0.131213  0.330589  0.248968  0.408061  \n"
     ]
    }
   ],
   "source": [
    "print(\"Intercept:\", model.intercept_)\n",
    "print(\"Coefficients:\", coefficients)"
   ]
  },
  {
   "cell_type": "code",
   "execution_count": 355,
   "id": "4bffbdb4",
   "metadata": {},
   "outputs": [
    {
     "data": {
      "text/plain": [
       "Vag    8727\n",
       "C/S    3984\n",
       "Name: Method of Delivery A, dtype: int64"
      ]
     },
     "execution_count": 355,
     "metadata": {},
     "output_type": "execute_result"
    }
   ],
   "source": [
    "y.value_counts()"
   ]
  },
  {
   "cell_type": "code",
   "execution_count": 356,
   "id": "7f926664",
   "metadata": {},
   "outputs": [
    {
     "name": "stdout",
     "output_type": "stream",
     "text": [
      "Optimization terminated successfully.\n",
      "         Current function value: 0.592427\n",
      "         Iterations 5\n",
      "                            Logit Regression Results                            \n",
      "================================================================================\n",
      "Dep. Variable:     Method of Delivery A   No. Observations:                12711\n",
      "Model:                            Logit   Df Residuals:                    12692\n",
      "Method:                             MLE   Df Model:                           18\n",
      "Date:                  Mon, 13 May 2024   Pseudo R-squ.:                 0.04727\n",
      "Time:                          06:10:17   Log-Likelihood:                -7530.3\n",
      "converged:                         True   LL-Null:                       -7903.9\n",
      "Covariance Type:              nonrobust   LLR p-value:                5.487e-147\n",
      "=========================================================================================\n",
      "                            coef    std err          z      P>|z|      [0.025      0.975]\n",
      "-----------------------------------------------------------------------------------------\n",
      "const                    -1.9125   1.37e+06  -1.39e-06      1.000   -2.69e+06    2.69e+06\n",
      "Age                       0.0618      0.004     16.006      0.000       0.054       0.069\n",
      "Gravida                   0.0666      0.019      3.483      0.000       0.029       0.104\n",
      "Para                     -0.2281      0.027     -8.350      0.000      -0.282      -0.175\n",
      "BMI_combine_0            -0.9038   1.37e+06  -6.57e-07      1.000   -2.69e+06    2.69e+06\n",
      "BMI_combine_1            -0.3815   1.37e+06  -2.78e-07      1.000   -2.69e+06    2.69e+06\n",
      "BMI_combine_2            -0.5274   1.37e+06  -3.84e-07      1.000   -2.69e+06    2.69e+06\n",
      "BMI_combine_3            -0.0997   1.37e+06  -7.26e-08      1.000   -2.69e+06    2.69e+06\n",
      "Diabetes_Yes              0.3407      0.053      6.409      0.000       0.237       0.445\n",
      "Adm Alcohol_YES           0.2775      0.121      2.287      0.022       0.040       0.515\n",
      "Adm Cigarettes_former    -0.1103      0.084     -1.312      0.190      -0.275       0.054\n",
      "Adm Cigarettes_light     -0.1874      0.593     -0.316      0.752      -1.349       0.974\n",
      "Adm Cigarettes_never     -0.1870      0.073     -2.554      0.011      -0.330      -0.044\n",
      "Adm Cigarettes_vape       1.2607      1.440      0.876      0.381      -1.561       4.082\n",
      "Adm Marijuana_YES         0.0308      0.068      0.455      0.649      -0.102       0.163\n",
      "Adm Cocaine Crack_YES    -0.4844      0.234     -2.073      0.038      -0.942      -0.027\n",
      "Adm Illicit Drugs_YES     0.1539      0.089      1.725      0.085      -0.021       0.329\n",
      "Ethnicity_H              -0.0313      0.185     -0.169      0.865      -0.393       0.330\n",
      "Ethnicity_O               0.0410      0.175      0.235      0.814      -0.301       0.383\n",
      "Ethnicity_U              -0.1445      0.299     -0.484      0.629      -0.730       0.441\n",
      "=========================================================================================\n"
     ]
    }
   ],
   "source": [
    "y = y.map({'C/S': 1, 'Vag': 0})\n",
    "\n",
    "# Add constant to the feature set for the intercept\n",
    "X_with_const = sm.add_constant(X)\n",
    "\n",
    "# Fit the logistic regression model\n",
    "logit_model = sm.Logit(y, X_with_const)\n",
    "result = logit_model.fit()\n",
    "\n",
    "# Print the summary of the regression\n",
    "print(result.summary())"
   ]
  },
  {
   "cell_type": "code",
   "execution_count": 390,
   "id": "fc6dcfa9",
   "metadata": {},
   "outputs": [],
   "source": [
    "X_train, X_test, y_train, y_test = helpers.split_and_scale_data(X, y)"
   ]
  },
  {
   "cell_type": "code",
   "execution_count": 391,
   "id": "13b6ec5c",
   "metadata": {},
   "outputs": [
    {
     "data": {
      "text/plain": [
       "Vag    6110\n",
       "C/S    2787\n",
       "Name: Method of Delivery A, dtype: int64"
      ]
     },
     "execution_count": 391,
     "metadata": {},
     "output_type": "execute_result"
    }
   ],
   "source": [
    "y_train.value_counts()"
   ]
  },
  {
   "cell_type": "code",
   "execution_count": null,
   "id": "9b9684cb",
   "metadata": {},
   "outputs": [],
   "source": []
  },
  {
   "cell_type": "code",
   "execution_count": null,
   "id": "971ad60a",
   "metadata": {},
   "outputs": [],
   "source": []
  },
  {
   "cell_type": "code",
   "execution_count": null,
   "id": "596f9fd7",
   "metadata": {},
   "outputs": [],
   "source": []
  },
  {
   "cell_type": "code",
   "execution_count": null,
   "id": "9db0ad39",
   "metadata": {},
   "outputs": [],
   "source": []
  },
  {
   "cell_type": "code",
   "execution_count": null,
   "id": "f619a5a3",
   "metadata": {},
   "outputs": [],
   "source": []
  },
  {
   "cell_type": "code",
   "execution_count": null,
   "id": "4414d12f",
   "metadata": {},
   "outputs": [],
   "source": []
  },
  {
   "cell_type": "code",
   "execution_count": null,
   "id": "5278e543",
   "metadata": {},
   "outputs": [],
   "source": []
  },
  {
   "cell_type": "code",
   "execution_count": null,
   "id": "80ad2041",
   "metadata": {},
   "outputs": [],
   "source": []
  },
  {
   "cell_type": "code",
   "execution_count": null,
   "id": "5a7f8270",
   "metadata": {},
   "outputs": [],
   "source": []
  },
  {
   "cell_type": "code",
   "execution_count": null,
   "id": "03b7f4bb",
   "metadata": {},
   "outputs": [],
   "source": []
  },
  {
   "cell_type": "code",
   "execution_count": null,
   "id": "c66754f6",
   "metadata": {},
   "outputs": [],
   "source": []
  },
  {
   "cell_type": "code",
   "execution_count": null,
   "id": "269f0dbf",
   "metadata": {},
   "outputs": [],
   "source": []
  },
  {
   "cell_type": "code",
   "execution_count": null,
   "id": "409201fc",
   "metadata": {},
   "outputs": [],
   "source": []
  },
  {
   "cell_type": "code",
   "execution_count": null,
   "id": "75612722",
   "metadata": {},
   "outputs": [],
   "source": []
  },
  {
   "cell_type": "code",
   "execution_count": null,
   "id": "f7b6f7f3",
   "metadata": {},
   "outputs": [],
   "source": []
  },
  {
   "cell_type": "code",
   "execution_count": null,
   "id": "51560f08",
   "metadata": {},
   "outputs": [],
   "source": []
  },
  {
   "cell_type": "code",
   "execution_count": null,
   "id": "9fabf482",
   "metadata": {},
   "outputs": [],
   "source": []
  },
  {
   "cell_type": "code",
   "execution_count": 370,
   "id": "4dc350b9",
   "metadata": {},
   "outputs": [],
   "source": [
    "df3 = df_list[2]\n",
    "df3[response[2]]   = pd.Categorical(df3[response[2]])\n",
    "X = df3[predictors]  # Predictor variables\n",
    "y = df3[response[2]].cat.codes "
   ]
  },
  {
   "cell_type": "code",
   "execution_count": 371,
   "id": "9e23eaa1",
   "metadata": {},
   "outputs": [
    {
     "data": {
      "text/plain": [
       "4    12046\n",
       "1      435\n",
       "2       98\n",
       "0       95\n",
       "3       21\n",
       "dtype: int64"
      ]
     },
     "execution_count": 371,
     "metadata": {},
     "output_type": "execute_result"
    }
   ],
   "source": [
    "y.value_counts()"
   ]
  },
  {
   "cell_type": "code",
   "execution_count": null,
   "id": "88aa42e0",
   "metadata": {},
   "outputs": [],
   "source": []
  },
  {
   "cell_type": "code",
   "execution_count": 372,
   "id": "068f6cda",
   "metadata": {},
   "outputs": [
    {
     "name": "stderr",
     "output_type": "stream",
     "text": [
      "/var/folders/0r/r2dplk4d72d437ygr7ycq8kw0000gn/T/ipykernel_81447/840215723.py:6: SettingWithCopyWarning: \n",
      "A value is trying to be set on a copy of a slice from a DataFrame\n",
      "\n",
      "See the caveats in the documentation: https://pandas.pydata.org/pandas-docs/stable/user_guide/indexing.html#returning-a-view-versus-a-copy\n",
      "  X.drop(categorical_df.columns, axis=1, inplace=True)\n"
     ]
    }
   ],
   "source": [
    "# Select only non-numerical columns\n",
    "categorical_df = X.select_dtypes(include=['object'])\n",
    "# Convert categorical columns to dummies\n",
    "dummies = pd.get_dummies(categorical_df, drop_first=True)  # Using drop_first to avoid multicollinearity\n",
    "# Drop original non-numerical columns from df\n",
    "X.drop(categorical_df.columns, axis=1, inplace=True)\n",
    "# Concatenate the original DataFrame and the new dummy columns\n",
    "X = pd.concat([X, dummies], axis=1)"
   ]
  },
  {
   "cell_type": "code",
   "execution_count": 373,
   "id": "0dec1a5d",
   "metadata": {},
   "outputs": [
    {
     "data": {
      "text/plain": [
       "(12695, 19)"
      ]
     },
     "execution_count": 373,
     "metadata": {},
     "output_type": "execute_result"
    }
   ],
   "source": [
    "X.shape"
   ]
  },
  {
   "cell_type": "code",
   "execution_count": 374,
   "id": "f3032ed0",
   "metadata": {},
   "outputs": [
    {
     "ename": "TypeError",
     "evalue": "MultiIndex.name must be a hashable type",
     "output_type": "error",
     "traceback": [
      "\u001b[0;31m---------------------------------------------------------------------------\u001b[0m",
      "\u001b[0;31mTypeError\u001b[0m                                 Traceback (most recent call last)",
      "Cell \u001b[0;32mIn[374], line 5\u001b[0m\n\u001b[1;32m      2\u001b[0m X \u001b[38;5;241m=\u001b[39m sm\u001b[38;5;241m.\u001b[39madd_constant(X)\n\u001b[1;32m      4\u001b[0m \u001b[38;5;66;03m# Fitting the multinomial logistic regression model\u001b[39;00m\n\u001b[0;32m----> 5\u001b[0m model \u001b[38;5;241m=\u001b[39m \u001b[43msm\u001b[49m\u001b[38;5;241;43m.\u001b[39;49m\u001b[43mMNLogit\u001b[49m\u001b[43m(\u001b[49m\u001b[43my\u001b[49m\u001b[43m,\u001b[49m\u001b[43m \u001b[49m\u001b[43mX\u001b[49m\u001b[43m)\u001b[49m\n\u001b[1;32m      6\u001b[0m result \u001b[38;5;241m=\u001b[39m model\u001b[38;5;241m.\u001b[39mfit()\n\u001b[1;32m      8\u001b[0m \u001b[38;5;66;03m# Print the summary of the regression\u001b[39;00m\n",
      "File \u001b[0;32m~/anaconda3/lib/python3.10/site-packages/statsmodels/discrete/discrete_model.py:2270\u001b[0m, in \u001b[0;36mMNLogit.__init__\u001b[0;34m(self, endog, exog, check_rank, **kwargs)\u001b[0m\n\u001b[1;32m   2268\u001b[0m \u001b[38;5;66;03m# use range below to ensure sortedness\u001b[39;00m\n\u001b[1;32m   2269\u001b[0m ynames \u001b[38;5;241m=\u001b[39m [ynames[key] \u001b[38;5;28;01mfor\u001b[39;00m key \u001b[38;5;129;01min\u001b[39;00m \u001b[38;5;28mrange\u001b[39m(\u001b[38;5;28mint\u001b[39m(\u001b[38;5;28mself\u001b[39m\u001b[38;5;241m.\u001b[39mJ))]\n\u001b[0;32m-> 2270\u001b[0m idx \u001b[38;5;241m=\u001b[39m \u001b[43mMultiIndex\u001b[49m\u001b[38;5;241;43m.\u001b[39;49m\u001b[43mfrom_product\u001b[49m\u001b[43m(\u001b[49m\u001b[43m(\u001b[49m\u001b[43mynames\u001b[49m\u001b[43m[\u001b[49m\u001b[38;5;241;43m1\u001b[39;49m\u001b[43m:\u001b[49m\u001b[43m]\u001b[49m\u001b[43m,\u001b[49m\u001b[43m \u001b[49m\u001b[38;5;28;43mself\u001b[39;49m\u001b[38;5;241;43m.\u001b[39;49m\u001b[43mdata\u001b[49m\u001b[38;5;241;43m.\u001b[39;49m\u001b[43mxnames\u001b[49m\u001b[43m)\u001b[49m\u001b[43m,\u001b[49m\n\u001b[1;32m   2271\u001b[0m \u001b[43m                              \u001b[49m\u001b[43mnames\u001b[49m\u001b[38;5;241;43m=\u001b[39;49m\u001b[43m(\u001b[49m\u001b[43myname\u001b[49m\u001b[43m,\u001b[49m\u001b[43m \u001b[49m\u001b[38;5;28;43;01mNone\u001b[39;49;00m\u001b[43m)\u001b[49m\u001b[43m)\u001b[49m\n\u001b[1;32m   2272\u001b[0m \u001b[38;5;28mself\u001b[39m\u001b[38;5;241m.\u001b[39mdata\u001b[38;5;241m.\u001b[39mcov_names \u001b[38;5;241m=\u001b[39m idx\n",
      "File \u001b[0;32m~/anaconda3/lib/python3.10/site-packages/pandas/core/indexes/multi.py:644\u001b[0m, in \u001b[0;36mMultiIndex.from_product\u001b[0;34m(cls, iterables, sortorder, names)\u001b[0m\n\u001b[1;32m    642\u001b[0m \u001b[38;5;66;03m# codes are all ndarrays, so cartesian_product is lossless\u001b[39;00m\n\u001b[1;32m    643\u001b[0m codes \u001b[38;5;241m=\u001b[39m cartesian_product(codes)\n\u001b[0;32m--> 644\u001b[0m \u001b[38;5;28;01mreturn\u001b[39;00m \u001b[38;5;28;43mcls\u001b[39;49m\u001b[43m(\u001b[49m\u001b[43mlevels\u001b[49m\u001b[43m,\u001b[49m\u001b[43m \u001b[49m\u001b[43mcodes\u001b[49m\u001b[43m,\u001b[49m\u001b[43m \u001b[49m\u001b[43msortorder\u001b[49m\u001b[38;5;241;43m=\u001b[39;49m\u001b[43msortorder\u001b[49m\u001b[43m,\u001b[49m\u001b[43m \u001b[49m\u001b[43mnames\u001b[49m\u001b[38;5;241;43m=\u001b[39;49m\u001b[43mnames\u001b[49m\u001b[43m)\u001b[49m\n",
      "File \u001b[0;32m~/anaconda3/lib/python3.10/site-packages/pandas/core/indexes/multi.py:334\u001b[0m, in \u001b[0;36mMultiIndex.__new__\u001b[0;34m(cls, levels, codes, sortorder, names, dtype, copy, name, verify_integrity)\u001b[0m\n\u001b[1;32m    331\u001b[0m result\u001b[38;5;241m.\u001b[39m_names \u001b[38;5;241m=\u001b[39m [\u001b[38;5;28;01mNone\u001b[39;00m] \u001b[38;5;241m*\u001b[39m \u001b[38;5;28mlen\u001b[39m(levels)\n\u001b[1;32m    332\u001b[0m \u001b[38;5;28;01mif\u001b[39;00m names \u001b[38;5;129;01mis\u001b[39;00m \u001b[38;5;129;01mnot\u001b[39;00m \u001b[38;5;28;01mNone\u001b[39;00m:\n\u001b[1;32m    333\u001b[0m     \u001b[38;5;66;03m# handles name validation\u001b[39;00m\n\u001b[0;32m--> 334\u001b[0m     \u001b[43mresult\u001b[49m\u001b[38;5;241;43m.\u001b[39;49m\u001b[43m_set_names\u001b[49m\u001b[43m(\u001b[49m\u001b[43mnames\u001b[49m\u001b[43m)\u001b[49m\n\u001b[1;32m    336\u001b[0m \u001b[38;5;28;01mif\u001b[39;00m sortorder \u001b[38;5;129;01mis\u001b[39;00m \u001b[38;5;129;01mnot\u001b[39;00m \u001b[38;5;28;01mNone\u001b[39;00m:\n\u001b[1;32m    337\u001b[0m     result\u001b[38;5;241m.\u001b[39msortorder \u001b[38;5;241m=\u001b[39m \u001b[38;5;28mint\u001b[39m(sortorder)\n",
      "File \u001b[0;32m~/anaconda3/lib/python3.10/site-packages/pandas/core/indexes/multi.py:1489\u001b[0m, in \u001b[0;36mMultiIndex._set_names\u001b[0;34m(self, names, level, validate)\u001b[0m\n\u001b[1;32m   1485\u001b[0m     \u001b[38;5;28;01mif\u001b[39;00m name \u001b[38;5;129;01mis\u001b[39;00m \u001b[38;5;129;01mnot\u001b[39;00m \u001b[38;5;28;01mNone\u001b[39;00m:\n\u001b[1;32m   1486\u001b[0m         \u001b[38;5;66;03m# GH 20527\u001b[39;00m\n\u001b[1;32m   1487\u001b[0m         \u001b[38;5;66;03m# All items in 'names' need to be hashable:\u001b[39;00m\n\u001b[1;32m   1488\u001b[0m         \u001b[38;5;28;01mif\u001b[39;00m \u001b[38;5;129;01mnot\u001b[39;00m is_hashable(name):\n\u001b[0;32m-> 1489\u001b[0m             \u001b[38;5;28;01mraise\u001b[39;00m \u001b[38;5;167;01mTypeError\u001b[39;00m(\n\u001b[1;32m   1490\u001b[0m                 \u001b[38;5;124mf\u001b[39m\u001b[38;5;124m\"\u001b[39m\u001b[38;5;132;01m{\u001b[39;00m\u001b[38;5;28mtype\u001b[39m(\u001b[38;5;28mself\u001b[39m)\u001b[38;5;241m.\u001b[39m\u001b[38;5;18m__name__\u001b[39m\u001b[38;5;132;01m}\u001b[39;00m\u001b[38;5;124m.name must be a hashable type\u001b[39m\u001b[38;5;124m\"\u001b[39m\n\u001b[1;32m   1491\u001b[0m             )\n\u001b[1;32m   1492\u001b[0m     \u001b[38;5;28mself\u001b[39m\u001b[38;5;241m.\u001b[39m_names[lev] \u001b[38;5;241m=\u001b[39m name\n\u001b[1;32m   1494\u001b[0m \u001b[38;5;66;03m# If .levels has been accessed, the names in our cache will be stale.\u001b[39;00m\n",
      "\u001b[0;31mTypeError\u001b[0m: MultiIndex.name must be a hashable type"
     ]
    }
   ],
   "source": [
    "# Add a constant to the model (the intercept)\n",
    "X = sm.add_constant(X)\n",
    "\n",
    "# Fitting the multinomial logistic regression model\n",
    "model = sm.MNLogit(y, X)\n",
    "result = model.fit()\n",
    "\n",
    "# Print the summary of the regression\n",
    "print(result.summary())"
   ]
  },
  {
   "cell_type": "code",
   "execution_count": null,
   "id": "a6801a63",
   "metadata": {},
   "outputs": [],
   "source": []
  },
  {
   "cell_type": "code",
   "execution_count": null,
   "id": "aa2daf65",
   "metadata": {},
   "outputs": [],
   "source": []
  },
  {
   "cell_type": "code",
   "execution_count": null,
   "id": "6d983fb4",
   "metadata": {},
   "outputs": [],
   "source": []
  },
  {
   "cell_type": "code",
   "execution_count": null,
   "id": "17771fe7",
   "metadata": {},
   "outputs": [],
   "source": []
  },
  {
   "cell_type": "code",
   "execution_count": null,
   "id": "1cb1d586",
   "metadata": {},
   "outputs": [],
   "source": []
  },
  {
   "cell_type": "code",
   "execution_count": null,
   "id": "c2c35866",
   "metadata": {},
   "outputs": [],
   "source": []
  },
  {
   "cell_type": "code",
   "execution_count": null,
   "id": "7e73f3a2",
   "metadata": {},
   "outputs": [],
   "source": []
  },
  {
   "cell_type": "code",
   "execution_count": 357,
   "id": "ad748790",
   "metadata": {},
   "outputs": [],
   "source": [
    "df2 = df_list[3]\n",
    "X = df2[predictors]  # Predictor variables\n",
    "y = df2[response[3]]  # Numerical response variable"
   ]
  },
  {
   "cell_type": "code",
   "execution_count": 358,
   "id": "570e3133",
   "metadata": {},
   "outputs": [
    {
     "data": {
      "text/plain": [
       "Success    375\n",
       "Failed     111\n",
       "Name: VBAC A, dtype: int64"
      ]
     },
     "execution_count": 358,
     "metadata": {},
     "output_type": "execute_result"
    }
   ],
   "source": [
    "y.value_counts()"
   ]
  },
  {
   "cell_type": "code",
   "execution_count": 359,
   "id": "fccff10e",
   "metadata": {},
   "outputs": [],
   "source": [
    "y = y.map({'Success': 1, 'Failed': 0})"
   ]
  },
  {
   "cell_type": "code",
   "execution_count": 360,
   "id": "74466338",
   "metadata": {},
   "outputs": [
    {
     "name": "stderr",
     "output_type": "stream",
     "text": [
      "/var/folders/0r/r2dplk4d72d437ygr7ycq8kw0000gn/T/ipykernel_81447/840215723.py:6: SettingWithCopyWarning: \n",
      "A value is trying to be set on a copy of a slice from a DataFrame\n",
      "\n",
      "See the caveats in the documentation: https://pandas.pydata.org/pandas-docs/stable/user_guide/indexing.html#returning-a-view-versus-a-copy\n",
      "  X.drop(categorical_df.columns, axis=1, inplace=True)\n"
     ]
    }
   ],
   "source": [
    "# Select only non-numerical columns\n",
    "categorical_df = X.select_dtypes(include=['object'])\n",
    "# Convert categorical columns to dummies\n",
    "dummies = pd.get_dummies(categorical_df, drop_first=True)  # Using drop_first to avoid multicollinearity\n",
    "# Drop original non-numerical columns from df\n",
    "X.drop(categorical_df.columns, axis=1, inplace=True)\n",
    "# Concatenate the original DataFrame and the new dummy columns\n",
    "X = pd.concat([X, dummies], axis=1)"
   ]
  },
  {
   "cell_type": "code",
   "execution_count": 361,
   "id": "ba5cb335",
   "metadata": {},
   "outputs": [
    {
     "data": {
      "text/plain": [
       "(486, 18)"
      ]
     },
     "execution_count": 361,
     "metadata": {},
     "output_type": "execute_result"
    }
   ],
   "source": [
    "X.shape"
   ]
  },
  {
   "cell_type": "code",
   "execution_count": 362,
   "id": "06b255f9",
   "metadata": {},
   "outputs": [
    {
     "name": "stdout",
     "output_type": "stream",
     "text": [
      "Accuracy: 0.7653061224489796\n"
     ]
    },
    {
     "name": "stderr",
     "output_type": "stream",
     "text": [
      "/Users/menglinghe/anaconda3/lib/python3.10/site-packages/sklearn/linear_model/_logistic.py:458: ConvergenceWarning: lbfgs failed to converge (status=1):\n",
      "STOP: TOTAL NO. of ITERATIONS REACHED LIMIT.\n",
      "\n",
      "Increase the number of iterations (max_iter) or scale the data as shown in:\n",
      "    https://scikit-learn.org/stable/modules/preprocessing.html\n",
      "Please also refer to the documentation for alternative solver options:\n",
      "    https://scikit-learn.org/stable/modules/linear_model.html#logistic-regression\n",
      "  n_iter_i = _check_optimize_result(\n"
     ]
    }
   ],
   "source": [
    "# Splitting data into training and testing sets\n",
    "X_train, X_test, y_train, y_test = train_test_split(X, y, test_size=0.2, random_state=42)\n",
    "\n",
    "# Logistic Regression model\n",
    "model = LogisticRegression()\n",
    "model.fit(X_train, y_train)\n",
    "\n",
    "# Predictions\n",
    "predictions = model.predict(X_test)\n",
    "\n",
    "# Evaluating the model\n",
    "accuracy = accuracy_score(y_test, predictions)\n",
    "print(\"Accuracy:\", accuracy)"
   ]
  },
  {
   "cell_type": "code",
   "execution_count": 363,
   "id": "e440ffc2",
   "metadata": {},
   "outputs": [
    {
     "name": "stdout",
     "output_type": "stream",
     "text": [
      "Warning: Maximum number of iterations has been exceeded.\n",
      "         Current function value: 0.494605\n",
      "         Iterations: 35\n",
      "                           Logit Regression Results                           \n",
      "==============================================================================\n",
      "Dep. Variable:                 VBAC A   No. Observations:                  486\n",
      "Model:                          Logit   Df Residuals:                      468\n",
      "Method:                           MLE   Df Model:                           17\n",
      "Date:                Mon, 13 May 2024   Pseudo R-squ.:                 0.07951\n",
      "Time:                        06:16:05   Log-Likelihood:                -240.38\n",
      "converged:                      False   LL-Null:                       -261.14\n",
      "Covariance Type:            nonrobust   LLR p-value:                 0.0007842\n",
      "=========================================================================================\n",
      "                            coef    std err          z      P>|z|      [0.025      0.975]\n",
      "-----------------------------------------------------------------------------------------\n",
      "const                     0.4884   5.59e+06   8.74e-08      1.000    -1.1e+07     1.1e+07\n",
      "Age                      -0.0187      0.024     -0.765      0.444      -0.067       0.029\n",
      "Gravida                   0.0128      0.130      0.098      0.922      -0.241       0.267\n",
      "Para                      0.4721      0.186      2.539      0.011       0.108       0.837\n",
      "BMI_combine_0             1.1745   5.59e+06    2.1e-07      1.000    -1.1e+07     1.1e+07\n",
      "BMI_combine_1            -2.1872   5.59e+06  -3.91e-07      1.000    -1.1e+07     1.1e+07\n",
      "BMI_combine_2             1.0202   5.59e+06   1.83e-07      1.000    -1.1e+07     1.1e+07\n",
      "BMI_combine_3             0.4809   5.59e+06   8.61e-08      1.000    -1.1e+07     1.1e+07\n",
      "Diabetes_Yes             -0.4847      0.293     -1.654      0.098      -1.059       0.090\n",
      "Adm Alcohol_YES          -1.2534      0.815     -1.539      0.124      -2.850       0.343\n",
      "Adm Cigarettes_former    -0.2193      0.552     -0.397      0.691      -1.301       0.862\n",
      "Adm Cigarettes_light    -22.1581   4.13e+04     -0.001      1.000   -8.11e+04     8.1e+04\n",
      "Adm Cigarettes_never      0.2681      0.437      0.613      0.540      -0.589       1.125\n",
      "Adm Marijuana_YES         0.6881      0.535      1.286      0.198      -0.360       1.736\n",
      "Adm Cocaine Crack_YES    28.3774   1.63e+06   1.74e-05      1.000   -3.19e+06    3.19e+06\n",
      "Adm Illicit Drugs_YES     0.0677      0.526      0.129      0.898      -0.963       1.099\n",
      "Ethnicity_H              -0.7861      1.155     -0.681      0.496      -3.050       1.478\n",
      "Ethnicity_O              -0.5657      1.139     -0.497      0.620      -2.799       1.667\n",
      "Ethnicity_U              -2.0548      1.842     -1.116      0.265      -5.665       1.555\n",
      "=========================================================================================\n"
     ]
    },
    {
     "name": "stderr",
     "output_type": "stream",
     "text": [
      "/Users/menglinghe/anaconda3/lib/python3.10/site-packages/statsmodels/base/model.py:604: ConvergenceWarning: Maximum Likelihood optimization failed to converge. Check mle_retvals\n",
      "  warnings.warn(\"Maximum Likelihood optimization failed to \"\n"
     ]
    }
   ],
   "source": [
    "# Add constant to the feature set for the intercept\n",
    "X_with_const = sm.add_constant(X)\n",
    "\n",
    "# Fit the logistic regression model\n",
    "logit_model = sm.Logit(y, X_with_const)\n",
    "result = logit_model.fit()\n",
    "\n",
    "# Print the summary of the regression\n",
    "print(result.summary())"
   ]
  },
  {
   "cell_type": "code",
   "execution_count": null,
   "id": "5e81f14b",
   "metadata": {},
   "outputs": [],
   "source": []
  },
  {
   "cell_type": "code",
   "execution_count": null,
   "id": "b2b17761",
   "metadata": {},
   "outputs": [],
   "source": []
  },
  {
   "cell_type": "code",
   "execution_count": null,
   "id": "e181be95",
   "metadata": {},
   "outputs": [],
   "source": []
  },
  {
   "cell_type": "code",
   "execution_count": null,
   "id": "c36a0a51",
   "metadata": {},
   "outputs": [],
   "source": []
  },
  {
   "cell_type": "code",
   "execution_count": null,
   "id": "73dcb96d",
   "metadata": {},
   "outputs": [],
   "source": []
  },
  {
   "cell_type": "code",
   "execution_count": null,
   "id": "0b8d4dd3",
   "metadata": {},
   "outputs": [],
   "source": []
  },
  {
   "cell_type": "markdown",
   "id": "de9f14b4",
   "metadata": {},
   "source": [
    "###  Gravida and BMI"
   ]
  },
  {
   "cell_type": "code",
   "execution_count": 62,
   "id": "a8e55fd0",
   "metadata": {},
   "outputs": [
    {
     "data": {
      "text/plain": [
       "1.0     3158\n",
       "2.0     2559\n",
       "3.0     1638\n",
       "4.0      990\n",
       "5.0      449\n",
       "6.0      248\n",
       "7.0      116\n",
       "8.0       61\n",
       "9.0       41\n",
       "10.0      19\n",
       "12.0       7\n",
       "13.0       4\n",
       "11.0       4\n",
       "20.0       2\n",
       "14.0       1\n",
       "17.0       1\n",
       "15.0       1\n",
       "Name: Gravida, dtype: int64"
      ]
     },
     "execution_count": 62,
     "metadata": {},
     "output_type": "execute_result"
    }
   ],
   "source": [
    "df['Gravida'].value_counts()"
   ]
  },
  {
   "cell_type": "code",
   "execution_count": 63,
   "id": "f2981d13",
   "metadata": {},
   "outputs": [
    {
     "data": {
      "text/plain": [
       "1    6141\n",
       "0    3160\n",
       "Name: Gravida_c, dtype: int64"
      ]
     },
     "execution_count": 63,
     "metadata": {},
     "output_type": "execute_result"
    }
   ],
   "source": [
    "threshold_g = 1\n",
    "df['Gravida_c'] = df['Gravida'].gt(threshold_g).astype(int)\n",
    "df['Gravida_c'].value_counts()"
   ]
  },
  {
   "cell_type": "code",
   "execution_count": 64,
   "id": "63afcdb7",
   "metadata": {},
   "outputs": [],
   "source": [
    "df_g = df.dropna(subset=['Gravida'])"
   ]
  },
  {
   "cell_type": "code",
   "execution_count": 65,
   "id": "9b0167a3",
   "metadata": {},
   "outputs": [
    {
     "data": {
      "text/plain": [
       "(9299, 128)"
      ]
     },
     "execution_count": 65,
     "metadata": {},
     "output_type": "execute_result"
    }
   ],
   "source": [
    "df_g.shape"
   ]
  },
  {
   "cell_type": "code",
   "execution_count": 66,
   "id": "4b3c6a73",
   "metadata": {},
   "outputs": [
    {
     "data": {
      "text/plain": [
       "1    6141\n",
       "0    3158\n",
       "Name: Gravida_c, dtype: int64"
      ]
     },
     "execution_count": 66,
     "metadata": {},
     "output_type": "execute_result"
    }
   ],
   "source": [
    "df_g['Gravida_c'].value_counts()"
   ]
  },
  {
   "cell_type": "code",
   "execution_count": 67,
   "id": "1eafaa66",
   "metadata": {},
   "outputs": [
    {
     "data": {
      "image/png": "[encoded data removed]",
      "text/plain": [
       "<Figure size 580.486x500 with 1 Axes>"
      ]
     },
     "metadata": {},
     "output_type": "display_data"
    }
   ],
   "source": [
    "sns.catplot(data=df_g, x='BMI_dm1', y='Labortime', hue='Gravida_c', kind='box');"
   ]
  },
  {
   "cell_type": "code",
   "execution_count": 68,
   "id": "0dced7c8",
   "metadata": {},
   "outputs": [
    {
     "data": {
      "image/png": "[encoded data removed]",
      "text/plain": [
       "<Figure size 574.986x500 with 1 Axes>"
      ]
     },
     "metadata": {},
     "output_type": "display_data"
    }
   ],
   "source": [
    "sns.catplot(data=df_g, x='Gravida_c', y='Labortime', hue='BMI_dm1', kind='box');"
   ]
  },
  {
   "cell_type": "code",
   "execution_count": null,
   "id": "f454718e",
   "metadata": {},
   "outputs": [],
   "source": []
  },
  {
   "cell_type": "code",
   "execution_count": 69,
   "id": "0fc421e2",
   "metadata": {},
   "outputs": [
    {
     "name": "stdout",
     "output_type": "stream",
     "text": [
      "                               sum_sq      df            F    PR(>F)\n",
      "C(BMI_dm1)               4.933560e+04     1.0     8.651711  0.003276\n",
      "C(Gravida_c)             9.983424e+06     1.0  1750.737756  0.000000\n",
      "C(BMI_dm1):C(Gravida_c)  1.495698e+04     1.0     2.622922  0.105364\n",
      "Residual                 5.300390e+07  9295.0          NaN       NaN\n"
     ]
    }
   ],
   "source": [
    "model = ols('Labortime ~ C(BMI_dm1) + C(Gravida_c) + C(BMI_dm1):C(Gravida_c)', data=df_g).fit()\n",
    "anova_table = sm.stats.anova_lm(model, typ=2)\n",
    "\n",
    "print(anova_table)"
   ]
  },
  {
   "cell_type": "code",
   "execution_count": 70,
   "id": "a005e40f",
   "metadata": {},
   "outputs": [
    {
     "data": {
      "text/html": [
       "<table class=\"simpletable\">\n",
       "<caption>OLS Regression Results</caption>\n",
       "<tr>\n",
       "  <th>Dep. Variable:</th>        <td>Labortime</td>    <th>  R-squared:         </th> <td>   0.160</td> \n",
       "</tr>\n",
       "<tr>\n",
       "  <th>Model:</th>                   <td>OLS</td>       <th>  Adj. R-squared:    </th> <td>   0.159</td> \n",
       "</tr>\n",
       "<tr>\n",
       "  <th>Method:</th>             <td>Least Squares</td>  <th>  F-statistic:       </th> <td>   588.0</td> \n",
       "</tr>\n",
       "<tr>\n",
       "  <th>Date:</th>             <td>Fri, 12 Apr 2024</td> <th>  Prob (F-statistic):</th>  <td>  0.00</td>  \n",
       "</tr>\n",
       "<tr>\n",
       "  <th>Time:</th>                 <td>00:39:12</td>     <th>  Log-Likelihood:    </th> <td> -53405.</td> \n",
       "</tr>\n",
       "<tr>\n",
       "  <th>No. Observations:</th>      <td>  9299</td>      <th>  AIC:               </th> <td>1.068e+05</td>\n",
       "</tr>\n",
       "<tr>\n",
       "  <th>Df Residuals:</th>          <td>  9295</td>      <th>  BIC:               </th> <td>1.068e+05</td>\n",
       "</tr>\n",
       "<tr>\n",
       "  <th>Df Model:</th>              <td>     3</td>      <th>                     </th>     <td> </td>    \n",
       "</tr>\n",
       "<tr>\n",
       "  <th>Covariance Type:</th>      <td>nonrobust</td>    <th>                     </th>     <td> </td>    \n",
       "</tr>\n",
       "</table>\n",
       "<table class=\"simpletable\">\n",
       "<tr>\n",
       "                  <td></td>                     <th>coef</th>     <th>std err</th>      <th>t</th>      <th>P>|t|</th>  <th>[0.025</th>    <th>0.975]</th>  \n",
       "</tr>\n",
       "<tr>\n",
       "  <th>Intercept</th>                         <td>  106.2063</td> <td>    2.061</td> <td>   51.542</td> <td> 0.000</td> <td>  102.167</td> <td>  110.245</td>\n",
       "</tr>\n",
       "<tr>\n",
       "  <th>C(BMI_dm1)[T.1]</th>                   <td>    8.2318</td> <td>    2.718</td> <td>    3.029</td> <td> 0.002</td> <td>    2.904</td> <td>   13.560</td>\n",
       "</tr>\n",
       "<tr>\n",
       "  <th>C(Gravida_c)[T.1]</th>                 <td>  -66.0955</td> <td>    2.527</td> <td>  -26.154</td> <td> 0.000</td> <td>  -71.049</td> <td>  -61.142</td>\n",
       "</tr>\n",
       "<tr>\n",
       "  <th>C(BMI_dm1)[T.1]:C(Gravida_c)[T.1]</th> <td>   -5.4124</td> <td>    3.342</td> <td>   -1.620</td> <td> 0.105</td> <td>  -11.963</td> <td>    1.139</td>\n",
       "</tr>\n",
       "</table>\n",
       "<table class=\"simpletable\">\n",
       "<tr>\n",
       "  <th>Omnibus:</th>       <td>5170.530</td> <th>  Durbin-Watson:     </th> <td>   1.981</td> \n",
       "</tr>\n",
       "<tr>\n",
       "  <th>Prob(Omnibus):</th>  <td> 0.000</td>  <th>  Jarque-Bera (JB):  </th> <td>48968.896</td>\n",
       "</tr>\n",
       "<tr>\n",
       "  <th>Skew:</th>           <td> 2.529</td>  <th>  Prob(JB):          </th> <td>    0.00</td> \n",
       "</tr>\n",
       "<tr>\n",
       "  <th>Kurtosis:</th>       <td>13.040</td>  <th>  Cond. No.          </th> <td>    9.00</td> \n",
       "</tr>\n",
       "</table><br/><br/>Notes:<br/>[1] Standard Errors assume that the covariance matrix of the errors is correctly specified."
      ],
      "text/plain": [
       "<class 'statsmodels.iolib.summary.Summary'>\n",
       "\"\"\"\n",
       "                            OLS Regression Results                            \n",
       "==============================================================================\n",
       "Dep. Variable:              Labortime   R-squared:                       0.160\n",
       "Model:                            OLS   Adj. R-squared:                  0.159\n",
       "Method:                 Least Squares   F-statistic:                     588.0\n",
       "Date:                Fri, 12 Apr 2024   Prob (F-statistic):               0.00\n",
       "Time:                        00:39:12   Log-Likelihood:                -53405.\n",
       "No. Observations:                9299   AIC:                         1.068e+05\n",
       "Df Residuals:                    9295   BIC:                         1.068e+05\n",
       "Df Model:                           3                                         \n",
       "Covariance Type:            nonrobust                                         \n",
       "=====================================================================================================\n",
       "                                        coef    std err          t      P>|t|      [0.025      0.975]\n",
       "-----------------------------------------------------------------------------------------------------\n",
       "Intercept                           106.2063      2.061     51.542      0.000     102.167     110.245\n",
       "C(BMI_dm1)[T.1]                       8.2318      2.718      3.029      0.002       2.904      13.560\n",
       "C(Gravida_c)[T.1]                   -66.0955      2.527    -26.154      0.000     -71.049     -61.142\n",
       "C(BMI_dm1)[T.1]:C(Gravida_c)[T.1]    -5.4124      3.342     -1.620      0.105     -11.963       1.139\n",
       "==============================================================================\n",
       "Omnibus:                     5170.530   Durbin-Watson:                   1.981\n",
       "Prob(Omnibus):                  0.000   Jarque-Bera (JB):            48968.896\n",
       "Skew:                           2.529   Prob(JB):                         0.00\n",
       "Kurtosis:                      13.040   Cond. No.                         9.00\n",
       "==============================================================================\n",
       "\n",
       "Notes:\n",
       "[1] Standard Errors assume that the covariance matrix of the errors is correctly specified.\n",
       "\"\"\""
      ]
     },
     "execution_count": 70,
     "metadata": {},
     "output_type": "execute_result"
    }
   ],
   "source": [
    "model.summary()"
   ]
  },
  {
   "cell_type": "code",
   "execution_count": 71,
   "id": "4e30b4f2",
   "metadata": {},
   "outputs": [
    {
     "name": "stdout",
     "output_type": "stream",
     "text": [
      "                               sum_sq      df             F    PR(>F)\n",
      "C(BMI_dm0)               2.797976e-05     1.0  4.900745e-09  0.999944\n",
      "C(Gravida_c)             9.989759e+06     1.0  1.749739e+03  0.000000\n",
      "C(BMI_dm0):C(Gravida_c)  3.799165e+02     1.0  6.654362e-02  0.796443\n",
      "Residual                 5.306781e+07  9295.0           NaN       NaN\n"
     ]
    }
   ],
   "source": [
    "model = ols('Labortime ~ C(BMI_dm0) + C(Gravida_c) + C(BMI_dm0):C(Gravida_c)', data=df_g).fit()\n",
    "anova_table = sm.stats.anova_lm(model, typ=2)\n",
    "\n",
    "print(anova_table)"
   ]
  },
  {
   "cell_type": "code",
   "execution_count": 72,
   "id": "710c4dd2",
   "metadata": {},
   "outputs": [
    {
     "data": {
      "text/html": [
       "<table class=\"simpletable\">\n",
       "<caption>OLS Regression Results</caption>\n",
       "<tr>\n",
       "  <th>Dep. Variable:</th>        <td>Labortime</td>    <th>  R-squared:         </th> <td>   0.159</td> \n",
       "</tr>\n",
       "<tr>\n",
       "  <th>Model:</th>                   <td>OLS</td>       <th>  Adj. R-squared:    </th> <td>   0.158</td> \n",
       "</tr>\n",
       "<tr>\n",
       "  <th>Method:</th>             <td>Least Squares</td>  <th>  F-statistic:       </th> <td>   583.6</td> \n",
       "</tr>\n",
       "<tr>\n",
       "  <th>Date:</th>             <td>Fri, 12 Apr 2024</td> <th>  Prob (F-statistic):</th>  <td>  0.00</td>  \n",
       "</tr>\n",
       "<tr>\n",
       "  <th>Time:</th>                 <td>00:39:12</td>     <th>  Log-Likelihood:    </th> <td> -53410.</td> \n",
       "</tr>\n",
       "<tr>\n",
       "  <th>No. Observations:</th>      <td>  9299</td>      <th>  AIC:               </th> <td>1.068e+05</td>\n",
       "</tr>\n",
       "<tr>\n",
       "  <th>Df Residuals:</th>          <td>  9295</td>      <th>  BIC:               </th> <td>1.069e+05</td>\n",
       "</tr>\n",
       "<tr>\n",
       "  <th>Df Model:</th>              <td>     3</td>      <th>                     </th>     <td> </td>    \n",
       "</tr>\n",
       "<tr>\n",
       "  <th>Covariance Type:</th>      <td>nonrobust</td>    <th>                     </th>     <td> </td>    \n",
       "</tr>\n",
       "</table>\n",
       "<table class=\"simpletable\">\n",
       "<tr>\n",
       "                  <td></td>                     <th>coef</th>     <th>std err</th>      <th>t</th>      <th>P>|t|</th>  <th>[0.025</th>    <th>0.975]</th>  \n",
       "</tr>\n",
       "<tr>\n",
       "  <th>Intercept</th>                         <td>  111.1019</td> <td>    1.553</td> <td>   71.522</td> <td> 0.000</td> <td>  108.057</td> <td>  114.147</td>\n",
       "</tr>\n",
       "<tr>\n",
       "  <th>C(BMI_dm0)[T.1]</th>                   <td>   -0.6562</td> <td>    3.102</td> <td>   -0.212</td> <td> 0.832</td> <td>   -6.737</td> <td>    5.424</td>\n",
       "</tr>\n",
       "<tr>\n",
       "  <th>C(Gravida_c)[T.1]</th>                 <td>  -69.4821</td> <td>    1.922</td> <td>  -36.160</td> <td> 0.000</td> <td>  -73.249</td> <td>  -65.715</td>\n",
       "</tr>\n",
       "<tr>\n",
       "  <th>C(BMI_dm0)[T.1]:C(Gravida_c)[T.1]</th> <td>    0.9756</td> <td>    3.782</td> <td>    0.258</td> <td> 0.796</td> <td>   -6.438</td> <td>    8.389</td>\n",
       "</tr>\n",
       "</table>\n",
       "<table class=\"simpletable\">\n",
       "<tr>\n",
       "  <th>Omnibus:</th>       <td>5175.241</td> <th>  Durbin-Watson:     </th> <td>   1.980</td> \n",
       "</tr>\n",
       "<tr>\n",
       "  <th>Prob(Omnibus):</th>  <td> 0.000</td>  <th>  Jarque-Bera (JB):  </th> <td>49068.674</td>\n",
       "</tr>\n",
       "<tr>\n",
       "  <th>Skew:</th>           <td> 2.532</td>  <th>  Prob(JB):          </th> <td>    0.00</td> \n",
       "</tr>\n",
       "<tr>\n",
       "  <th>Kurtosis:</th>       <td>13.050</td>  <th>  Cond. No.          </th> <td>    7.95</td> \n",
       "</tr>\n",
       "</table><br/><br/>Notes:<br/>[1] Standard Errors assume that the covariance matrix of the errors is correctly specified."
      ],
      "text/plain": [
       "<class 'statsmodels.iolib.summary.Summary'>\n",
       "\"\"\"\n",
       "                            OLS Regression Results                            \n",
       "==============================================================================\n",
       "Dep. Variable:              Labortime   R-squared:                       0.159\n",
       "Model:                            OLS   Adj. R-squared:                  0.158\n",
       "Method:                 Least Squares   F-statistic:                     583.6\n",
       "Date:                Fri, 12 Apr 2024   Prob (F-statistic):               0.00\n",
       "Time:                        00:39:12   Log-Likelihood:                -53410.\n",
       "No. Observations:                9299   AIC:                         1.068e+05\n",
       "Df Residuals:                    9295   BIC:                         1.069e+05\n",
       "Df Model:                           3                                         \n",
       "Covariance Type:            nonrobust                                         \n",
       "=====================================================================================================\n",
       "                                        coef    std err          t      P>|t|      [0.025      0.975]\n",
       "-----------------------------------------------------------------------------------------------------\n",
       "Intercept                           111.1019      1.553     71.522      0.000     108.057     114.147\n",
       "C(BMI_dm0)[T.1]                      -0.6562      3.102     -0.212      0.832      -6.737       5.424\n",
       "C(Gravida_c)[T.1]                   -69.4821      1.922    -36.160      0.000     -73.249     -65.715\n",
       "C(BMI_dm0)[T.1]:C(Gravida_c)[T.1]     0.9756      3.782      0.258      0.796      -6.438       8.389\n",
       "==============================================================================\n",
       "Omnibus:                     5175.241   Durbin-Watson:                   1.980\n",
       "Prob(Omnibus):                  0.000   Jarque-Bera (JB):            49068.674\n",
       "Skew:                           2.532   Prob(JB):                         0.00\n",
       "Kurtosis:                      13.050   Cond. No.                         7.95\n",
       "==============================================================================\n",
       "\n",
       "Notes:\n",
       "[1] Standard Errors assume that the covariance matrix of the errors is correctly specified.\n",
       "\"\"\""
      ]
     },
     "execution_count": 72,
     "metadata": {},
     "output_type": "execute_result"
    }
   ],
   "source": [
    "model.summary()"
   ]
  },
  {
   "cell_type": "code",
   "execution_count": null,
   "id": "5ad1b8bb",
   "metadata": {},
   "outputs": [],
   "source": []
  },
  {
   "cell_type": "code",
   "execution_count": 73,
   "id": "b9b3eb62",
   "metadata": {},
   "outputs": [
    {
     "data": {
      "image/png": "[encoded data removed]",
      "text/plain": [
       "<Figure size 574.986x500 with 1 Axes>"
      ]
     },
     "metadata": {},
     "output_type": "display_data"
    }
   ],
   "source": [
    "sns.catplot(data=df_g, x='Gravida_c', y='lbtime_log', hue='BMI_dm1', kind='box');"
   ]
  },
  {
   "cell_type": "code",
   "execution_count": 74,
   "id": "8105b16e",
   "metadata": {},
   "outputs": [
    {
     "name": "stdout",
     "output_type": "stream",
     "text": [
      "                               sum_sq      df            F    PR(>F)\n",
      "C(BMI_dm1)                   4.709693     1.0     3.937206  0.047259\n",
      "C(Gravida_c)              3460.799036     1.0  2893.156208  0.000000\n",
      "C(BMI_dm1):C(Gravida_c)      0.871378     1.0     0.728454  0.393407\n",
      "Residual                 11118.696930  9295.0          NaN       NaN\n"
     ]
    }
   ],
   "source": [
    "model = ols('lbtime_log ~ C(BMI_dm1) + C(Gravida_c) + C(BMI_dm1):C(Gravida_c)', data=df_g).fit()\n",
    "anova_table = sm.stats.anova_lm(model, typ=2)\n",
    "\n",
    "print(anova_table)"
   ]
  },
  {
   "cell_type": "code",
   "execution_count": 75,
   "id": "aefc0e36",
   "metadata": {},
   "outputs": [
    {
     "data": {
      "text/html": [
       "<table class=\"simpletable\">\n",
       "<caption>OLS Regression Results</caption>\n",
       "<tr>\n",
       "  <th>Dep. Variable:</th>       <td>lbtime_log</td>    <th>  R-squared:         </th> <td>   0.238</td> \n",
       "</tr>\n",
       "<tr>\n",
       "  <th>Model:</th>                   <td>OLS</td>       <th>  Adj. R-squared:    </th> <td>   0.238</td> \n",
       "</tr>\n",
       "<tr>\n",
       "  <th>Method:</th>             <td>Least Squares</td>  <th>  F-statistic:       </th> <td>   966.6</td> \n",
       "</tr>\n",
       "<tr>\n",
       "  <th>Date:</th>             <td>Fri, 12 Apr 2024</td> <th>  Prob (F-statistic):</th>  <td>  0.00</td>  \n",
       "</tr>\n",
       "<tr>\n",
       "  <th>Time:</th>                 <td>00:39:12</td>     <th>  Log-Likelihood:    </th> <td> -14026.</td> \n",
       "</tr>\n",
       "<tr>\n",
       "  <th>No. Observations:</th>      <td>  9299</td>      <th>  AIC:               </th> <td>2.806e+04</td>\n",
       "</tr>\n",
       "<tr>\n",
       "  <th>Df Residuals:</th>          <td>  9295</td>      <th>  BIC:               </th> <td>2.809e+04</td>\n",
       "</tr>\n",
       "<tr>\n",
       "  <th>Df Model:</th>              <td>     3</td>      <th>                     </th>     <td> </td>    \n",
       "</tr>\n",
       "<tr>\n",
       "  <th>Covariance Type:</th>      <td>nonrobust</td>    <th>                     </th>     <td> </td>    \n",
       "</tr>\n",
       "</table>\n",
       "<table class=\"simpletable\">\n",
       "<tr>\n",
       "                  <td></td>                     <th>coef</th>     <th>std err</th>      <th>t</th>      <th>P>|t|</th>  <th>[0.025</th>    <th>0.975]</th>  \n",
       "</tr>\n",
       "<tr>\n",
       "  <th>Intercept</th>                         <td>    4.2882</td> <td>    0.030</td> <td>  143.686</td> <td> 0.000</td> <td>    4.230</td> <td>    4.347</td>\n",
       "</tr>\n",
       "<tr>\n",
       "  <th>C(BMI_dm1)[T.1]</th>                   <td>    0.0728</td> <td>    0.039</td> <td>    1.849</td> <td> 0.065</td> <td>   -0.004</td> <td>    0.150</td>\n",
       "</tr>\n",
       "<tr>\n",
       "  <th>C(Gravida_c)[T.1]</th>                 <td>   -1.2646</td> <td>    0.037</td> <td>  -34.550</td> <td> 0.000</td> <td>   -1.336</td> <td>   -1.193</td>\n",
       "</tr>\n",
       "<tr>\n",
       "  <th>C(BMI_dm1)[T.1]:C(Gravida_c)[T.1]</th> <td>   -0.0413</td> <td>    0.048</td> <td>   -0.853</td> <td> 0.393</td> <td>   -0.136</td> <td>    0.054</td>\n",
       "</tr>\n",
       "</table>\n",
       "<table class=\"simpletable\">\n",
       "<tr>\n",
       "  <th>Omnibus:</th>       <td> 9.898</td> <th>  Durbin-Watson:     </th> <td>   1.972</td>\n",
       "</tr>\n",
       "<tr>\n",
       "  <th>Prob(Omnibus):</th> <td> 0.007</td> <th>  Jarque-Bera (JB):  </th> <td>  11.071</td>\n",
       "</tr>\n",
       "<tr>\n",
       "  <th>Skew:</th>          <td>-0.026</td> <th>  Prob(JB):          </th> <td> 0.00394</td>\n",
       "</tr>\n",
       "<tr>\n",
       "  <th>Kurtosis:</th>      <td> 3.161</td> <th>  Cond. No.          </th> <td>    9.00</td>\n",
       "</tr>\n",
       "</table><br/><br/>Notes:<br/>[1] Standard Errors assume that the covariance matrix of the errors is correctly specified."
      ],
      "text/plain": [
       "<class 'statsmodels.iolib.summary.Summary'>\n",
       "\"\"\"\n",
       "                            OLS Regression Results                            \n",
       "==============================================================================\n",
       "Dep. Variable:             lbtime_log   R-squared:                       0.238\n",
       "Model:                            OLS   Adj. R-squared:                  0.238\n",
       "Method:                 Least Squares   F-statistic:                     966.6\n",
       "Date:                Fri, 12 Apr 2024   Prob (F-statistic):               0.00\n",
       "Time:                        00:39:12   Log-Likelihood:                -14026.\n",
       "No. Observations:                9299   AIC:                         2.806e+04\n",
       "Df Residuals:                    9295   BIC:                         2.809e+04\n",
       "Df Model:                           3                                         \n",
       "Covariance Type:            nonrobust                                         \n",
       "=====================================================================================================\n",
       "                                        coef    std err          t      P>|t|      [0.025      0.975]\n",
       "-----------------------------------------------------------------------------------------------------\n",
       "Intercept                             4.2882      0.030    143.686      0.000       4.230       4.347\n",
       "C(BMI_dm1)[T.1]                       0.0728      0.039      1.849      0.065      -0.004       0.150\n",
       "C(Gravida_c)[T.1]                    -1.2646      0.037    -34.550      0.000      -1.336      -1.193\n",
       "C(BMI_dm1)[T.1]:C(Gravida_c)[T.1]    -0.0413      0.048     -0.853      0.393      -0.136       0.054\n",
       "==============================================================================\n",
       "Omnibus:                        9.898   Durbin-Watson:                   1.972\n",
       "Prob(Omnibus):                  0.007   Jarque-Bera (JB):               11.071\n",
       "Skew:                          -0.026   Prob(JB):                      0.00394\n",
       "Kurtosis:                       3.161   Cond. No.                         9.00\n",
       "==============================================================================\n",
       "\n",
       "Notes:\n",
       "[1] Standard Errors assume that the covariance matrix of the errors is correctly specified.\n",
       "\"\"\""
      ]
     },
     "execution_count": 75,
     "metadata": {},
     "output_type": "execute_result"
    }
   ],
   "source": [
    "model.summary()"
   ]
  },
  {
   "cell_type": "code",
   "execution_count": 76,
   "id": "787b713b",
   "metadata": {},
   "outputs": [
    {
     "data": {
      "image/png": "[encoded data removed]",
      "text/plain": [
       "<Figure size 574.986x500 with 1 Axes>"
      ]
     },
     "metadata": {},
     "output_type": "display_data"
    }
   ],
   "source": [
    "sns.catplot(data=df_g, x='Gravida_c', y='lbtime_log', hue='BMI_dm0', kind='box');"
   ]
  },
  {
   "cell_type": "code",
   "execution_count": 77,
   "id": "37495f02",
   "metadata": {},
   "outputs": [
    {
     "name": "stdout",
     "output_type": "stream",
     "text": [
      "                               sum_sq      df            F    PR(>F)\n",
      "C(BMI_dm0)                   4.055717     1.0     3.390081  0.065622\n",
      "C(Gravida_c)              3455.404487     1.0  2888.293417  0.000000\n",
      "C(BMI_dm0):C(Gravida_c)      0.166226     1.0     0.138944  0.709341\n",
      "Residual                 11120.056058  9295.0          NaN       NaN\n"
     ]
    }
   ],
   "source": [
    "model = ols('lbtime_log ~ C(BMI_dm0) + C(Gravida_c) + C(BMI_dm0):C(Gravida_c)', data=df_g).fit()\n",
    "anova_table = sm.stats.anova_lm(model, typ=2)\n",
    "\n",
    "print(anova_table)"
   ]
  },
  {
   "cell_type": "code",
   "execution_count": 78,
   "id": "486d1d76",
   "metadata": {},
   "outputs": [
    {
     "data": {
      "text/html": [
       "<table class=\"simpletable\">\n",
       "<caption>OLS Regression Results</caption>\n",
       "<tr>\n",
       "  <th>Dep. Variable:</th>       <td>lbtime_log</td>    <th>  R-squared:         </th> <td>   0.238</td> \n",
       "</tr>\n",
       "<tr>\n",
       "  <th>Model:</th>                   <td>OLS</td>       <th>  Adj. R-squared:    </th> <td>   0.237</td> \n",
       "</tr>\n",
       "<tr>\n",
       "  <th>Method:</th>             <td>Least Squares</td>  <th>  F-statistic:       </th> <td>   966.1</td> \n",
       "</tr>\n",
       "<tr>\n",
       "  <th>Date:</th>             <td>Fri, 12 Apr 2024</td> <th>  Prob (F-statistic):</th>  <td>  0.00</td>  \n",
       "</tr>\n",
       "<tr>\n",
       "  <th>Time:</th>                 <td>00:39:13</td>     <th>  Log-Likelihood:    </th> <td> -14026.</td> \n",
       "</tr>\n",
       "<tr>\n",
       "  <th>No. Observations:</th>      <td>  9299</td>      <th>  AIC:               </th> <td>2.806e+04</td>\n",
       "</tr>\n",
       "<tr>\n",
       "  <th>Df Residuals:</th>          <td>  9295</td>      <th>  BIC:               </th> <td>2.809e+04</td>\n",
       "</tr>\n",
       "<tr>\n",
       "  <th>Df Model:</th>              <td>     3</td>      <th>                     </th>     <td> </td>    \n",
       "</tr>\n",
       "<tr>\n",
       "  <th>Covariance Type:</th>      <td>nonrobust</td>    <th>                     </th>     <td> </td>    \n",
       "</tr>\n",
       "</table>\n",
       "<table class=\"simpletable\">\n",
       "<tr>\n",
       "                  <td></td>                     <th>coef</th>     <th>std err</th>      <th>t</th>      <th>P>|t|</th>  <th>[0.025</th>    <th>0.975]</th>  \n",
       "</tr>\n",
       "<tr>\n",
       "  <th>Intercept</th>                         <td>    4.3454</td> <td>    0.022</td> <td>  193.243</td> <td> 0.000</td> <td>    4.301</td> <td>    4.389</td>\n",
       "</tr>\n",
       "<tr>\n",
       "  <th>C(BMI_dm0)[T.1]</th>                   <td>   -0.0610</td> <td>    0.045</td> <td>   -1.359</td> <td> 0.174</td> <td>   -0.149</td> <td>    0.027</td>\n",
       "</tr>\n",
       "<tr>\n",
       "  <th>C(Gravida_c)[T.1]</th>                 <td>   -1.2928</td> <td>    0.028</td> <td>  -46.479</td> <td> 0.000</td> <td>   -1.347</td> <td>   -1.238</td>\n",
       "</tr>\n",
       "<tr>\n",
       "  <th>C(BMI_dm0)[T.1]:C(Gravida_c)[T.1]</th> <td>    0.0204</td> <td>    0.055</td> <td>    0.373</td> <td> 0.709</td> <td>   -0.087</td> <td>    0.128</td>\n",
       "</tr>\n",
       "</table>\n",
       "<table class=\"simpletable\">\n",
       "<tr>\n",
       "  <th>Omnibus:</th>       <td> 9.387</td> <th>  Durbin-Watson:     </th> <td>   1.972</td>\n",
       "</tr>\n",
       "<tr>\n",
       "  <th>Prob(Omnibus):</th> <td> 0.009</td> <th>  Jarque-Bera (JB):  </th> <td>  10.509</td>\n",
       "</tr>\n",
       "<tr>\n",
       "  <th>Skew:</th>          <td>-0.022</td> <th>  Prob(JB):          </th> <td> 0.00522</td>\n",
       "</tr>\n",
       "<tr>\n",
       "  <th>Kurtosis:</th>      <td> 3.159</td> <th>  Cond. No.          </th> <td>    7.95</td>\n",
       "</tr>\n",
       "</table><br/><br/>Notes:<br/>[1] Standard Errors assume that the covariance matrix of the errors is correctly specified."
      ],
      "text/plain": [
       "<class 'statsmodels.iolib.summary.Summary'>\n",
       "\"\"\"\n",
       "                            OLS Regression Results                            \n",
       "==============================================================================\n",
       "Dep. Variable:             lbtime_log   R-squared:                       0.238\n",
       "Model:                            OLS   Adj. R-squared:                  0.237\n",
       "Method:                 Least Squares   F-statistic:                     966.1\n",
       "Date:                Fri, 12 Apr 2024   Prob (F-statistic):               0.00\n",
       "Time:                        00:39:13   Log-Likelihood:                -14026.\n",
       "No. Observations:                9299   AIC:                         2.806e+04\n",
       "Df Residuals:                    9295   BIC:                         2.809e+04\n",
       "Df Model:                           3                                         \n",
       "Covariance Type:            nonrobust                                         \n",
       "=====================================================================================================\n",
       "                                        coef    std err          t      P>|t|      [0.025      0.975]\n",
       "-----------------------------------------------------------------------------------------------------\n",
       "Intercept                             4.3454      0.022    193.243      0.000       4.301       4.389\n",
       "C(BMI_dm0)[T.1]                      -0.0610      0.045     -1.359      0.174      -0.149       0.027\n",
       "C(Gravida_c)[T.1]                    -1.2928      0.028    -46.479      0.000      -1.347      -1.238\n",
       "C(BMI_dm0)[T.1]:C(Gravida_c)[T.1]     0.0204      0.055      0.373      0.709      -0.087       0.128\n",
       "==============================================================================\n",
       "Omnibus:                        9.387   Durbin-Watson:                   1.972\n",
       "Prob(Omnibus):                  0.009   Jarque-Bera (JB):               10.509\n",
       "Skew:                          -0.022   Prob(JB):                      0.00522\n",
       "Kurtosis:                       3.159   Cond. No.                         7.95\n",
       "==============================================================================\n",
       "\n",
       "Notes:\n",
       "[1] Standard Errors assume that the covariance matrix of the errors is correctly specified.\n",
       "\"\"\""
      ]
     },
     "execution_count": 78,
     "metadata": {},
     "output_type": "execute_result"
    }
   ],
   "source": [
    "model.summary()"
   ]
  },
  {
   "cell_type": "code",
   "execution_count": null,
   "id": "769d4cb9",
   "metadata": {},
   "outputs": [],
   "source": []
  },
  {
   "cell_type": "code",
   "execution_count": 79,
   "id": "21713409",
   "metadata": {},
   "outputs": [
    {
     "name": "stdout",
     "output_type": "stream",
     "text": [
      "                               sum_sq      df            F    PR(>F)\n",
      "C(BMI_dm0)                  13.548493     1.0    11.341155  0.000761\n",
      "C(BMI_dm1)                  14.037968     1.0    11.750884  0.000611\n",
      "C(Gravida_c)              3434.281035     1.0  2874.763602  0.000000\n",
      "C(BMI_dm0):C(Gravida_c)      1.221639     1.0     1.022608  0.311928\n",
      "C(BMI_dm1):C(Gravida_c)      1.722354     1.0     1.441746  0.229888\n",
      "C(BMI_dm1):C(BMI_dm0)        4.750377     1.0     3.976439  0.046170\n",
      "Residual                 11102.898309  9294.0          NaN       NaN\n"
     ]
    }
   ],
   "source": [
    "model = ols('lbtime_log ~ C(BMI_dm0) +C(BMI_dm1)+ C(Gravida_c) + C(BMI_dm0):C(Gravida_c)+C(BMI_dm1):C(Gravida_c)++C(BMI_dm1):C(BMI_dm0)', data=df).fit()\n",
    "anova_table = sm.stats.anova_lm(model, typ=2)\n",
    "\n",
    "print(anova_table)"
   ]
  },
  {
   "cell_type": "code",
   "execution_count": 80,
   "id": "a3235091",
   "metadata": {},
   "outputs": [
    {
     "data": {
      "text/html": [
       "<table class=\"simpletable\">\n",
       "<caption>OLS Regression Results</caption>\n",
       "<tr>\n",
       "  <th>Dep. Variable:</th>       <td>lbtime_log</td>    <th>  R-squared:         </th> <td>   0.239</td> \n",
       "</tr>\n",
       "<tr>\n",
       "  <th>Model:</th>                   <td>OLS</td>       <th>  Adj. R-squared:    </th> <td>   0.238</td> \n",
       "</tr>\n",
       "<tr>\n",
       "  <th>Method:</th>             <td>Least Squares</td>  <th>  F-statistic:       </th> <td>   486.2</td> \n",
       "</tr>\n",
       "<tr>\n",
       "  <th>Date:</th>             <td>Fri, 12 Apr 2024</td> <th>  Prob (F-statistic):</th>  <td>  0.00</td>  \n",
       "</tr>\n",
       "<tr>\n",
       "  <th>Time:</th>                 <td>00:39:13</td>     <th>  Log-Likelihood:    </th> <td> -14021.</td> \n",
       "</tr>\n",
       "<tr>\n",
       "  <th>No. Observations:</th>      <td>  9301</td>      <th>  AIC:               </th> <td>2.806e+04</td>\n",
       "</tr>\n",
       "<tr>\n",
       "  <th>Df Residuals:</th>          <td>  9294</td>      <th>  BIC:               </th> <td>2.811e+04</td>\n",
       "</tr>\n",
       "<tr>\n",
       "  <th>Df Model:</th>              <td>     6</td>      <th>                     </th>     <td> </td>    \n",
       "</tr>\n",
       "<tr>\n",
       "  <th>Covariance Type:</th>      <td>nonrobust</td>    <th>                     </th>     <td> </td>    \n",
       "</tr>\n",
       "</table>\n",
       "<table class=\"simpletable\">\n",
       "<tr>\n",
       "                  <td></td>                     <th>coef</th>     <th>std err</th>      <th>t</th>      <th>P>|t|</th>  <th>[0.025</th>    <th>0.975]</th>  \n",
       "</tr>\n",
       "<tr>\n",
       "  <th>Intercept</th>                         <td>    4.2888</td> <td>    0.030</td> <td>  143.794</td> <td> 0.000</td> <td>    4.230</td> <td>    4.347</td>\n",
       "</tr>\n",
       "<tr>\n",
       "  <th>C(BMI_dm0)[T.1]</th>                   <td>   -0.7253</td> <td>    0.299</td> <td>   -2.429</td> <td> 0.015</td> <td>   -1.311</td> <td>   -0.140</td>\n",
       "</tr>\n",
       "<tr>\n",
       "  <th>C(BMI_dm1)[T.1]</th>                   <td>    0.1308</td> <td>    0.045</td> <td>    2.885</td> <td> 0.004</td> <td>    0.042</td> <td>    0.220</td>\n",
       "</tr>\n",
       "<tr>\n",
       "  <th>C(Gravida_c)[T.1]</th>                 <td>   -1.2619</td> <td>    0.037</td> <td>  -34.481</td> <td> 0.000</td> <td>   -1.334</td> <td>   -1.190</td>\n",
       "</tr>\n",
       "<tr>\n",
       "  <th>C(BMI_dm0)[T.1]:C(Gravida_c)[T.1]</th> <td>    0.0643</td> <td>    0.064</td> <td>    1.011</td> <td> 0.312</td> <td>   -0.060</td> <td>    0.189</td>\n",
       "</tr>\n",
       "<tr>\n",
       "  <th>C(BMI_dm1)[T.1]:C(Gravida_c)[T.1]</th> <td>   -0.0675</td> <td>    0.056</td> <td>   -1.201</td> <td> 0.230</td> <td>   -0.178</td> <td>    0.043</td>\n",
       "</tr>\n",
       "<tr>\n",
       "  <th>C(BMI_dm1)[T.1]:C(BMI_dm0)[T.1]</th>   <td>    0.5879</td> <td>    0.295</td> <td>    1.994</td> <td> 0.046</td> <td>    0.010</td> <td>    1.166</td>\n",
       "</tr>\n",
       "</table>\n",
       "<table class=\"simpletable\">\n",
       "<tr>\n",
       "  <th>Omnibus:</th>       <td> 9.835</td> <th>  Durbin-Watson:     </th> <td>   1.972</td>\n",
       "</tr>\n",
       "<tr>\n",
       "  <th>Prob(Omnibus):</th> <td> 0.007</td> <th>  Jarque-Bera (JB):  </th> <td>  11.043</td>\n",
       "</tr>\n",
       "<tr>\n",
       "  <th>Skew:</th>          <td>-0.023</td> <th>  Prob(JB):          </th> <td> 0.00400</td>\n",
       "</tr>\n",
       "<tr>\n",
       "  <th>Kurtosis:</th>      <td> 3.162</td> <th>  Cond. No.          </th> <td>    57.2</td>\n",
       "</tr>\n",
       "</table><br/><br/>Notes:<br/>[1] Standard Errors assume that the covariance matrix of the errors is correctly specified."
      ],
      "text/plain": [
       "<class 'statsmodels.iolib.summary.Summary'>\n",
       "\"\"\"\n",
       "                            OLS Regression Results                            \n",
       "==============================================================================\n",
       "Dep. Variable:             lbtime_log   R-squared:                       0.239\n",
       "Model:                            OLS   Adj. R-squared:                  0.238\n",
       "Method:                 Least Squares   F-statistic:                     486.2\n",
       "Date:                Fri, 12 Apr 2024   Prob (F-statistic):               0.00\n",
       "Time:                        00:39:13   Log-Likelihood:                -14021.\n",
       "No. Observations:                9301   AIC:                         2.806e+04\n",
       "Df Residuals:                    9294   BIC:                         2.811e+04\n",
       "Df Model:                           6                                         \n",
       "Covariance Type:            nonrobust                                         \n",
       "=====================================================================================================\n",
       "                                        coef    std err          t      P>|t|      [0.025      0.975]\n",
       "-----------------------------------------------------------------------------------------------------\n",
       "Intercept                             4.2888      0.030    143.794      0.000       4.230       4.347\n",
       "C(BMI_dm0)[T.1]                      -0.7253      0.299     -2.429      0.015      -1.311      -0.140\n",
       "C(BMI_dm1)[T.1]                       0.1308      0.045      2.885      0.004       0.042       0.220\n",
       "C(Gravida_c)[T.1]                    -1.2619      0.037    -34.481      0.000      -1.334      -1.190\n",
       "C(BMI_dm0)[T.1]:C(Gravida_c)[T.1]     0.0643      0.064      1.011      0.312      -0.060       0.189\n",
       "C(BMI_dm1)[T.1]:C(Gravida_c)[T.1]    -0.0675      0.056     -1.201      0.230      -0.178       0.043\n",
       "C(BMI_dm1)[T.1]:C(BMI_dm0)[T.1]       0.5879      0.295      1.994      0.046       0.010       1.166\n",
       "==============================================================================\n",
       "Omnibus:                        9.835   Durbin-Watson:                   1.972\n",
       "Prob(Omnibus):                  0.007   Jarque-Bera (JB):               11.043\n",
       "Skew:                          -0.023   Prob(JB):                      0.00400\n",
       "Kurtosis:                       3.162   Cond. No.                         57.2\n",
       "==============================================================================\n",
       "\n",
       "Notes:\n",
       "[1] Standard Errors assume that the covariance matrix of the errors is correctly specified.\n",
       "\"\"\""
      ]
     },
     "execution_count": 80,
     "metadata": {},
     "output_type": "execute_result"
    }
   ],
   "source": [
    "model.summary()"
   ]
  },
  {
   "cell_type": "markdown",
   "id": "0d456941",
   "metadata": {},
   "source": [
    "For nullipara, compared with low BMI patients:\n",
    "low BMI at pregnancy and high BMI at delivery patient, tends to have 13.97% longer labor time.\n",
    "high BMI at pregnancy and low BMI at delivery patient, tends to have 51.44% shorter labor time.\n",
    "high BMI at pregnancy and high BMI at delivery patient, tends to have 0.35% shorter labor time.\n",
    "\n",
    "For multipara, compared with low BMI patients:\n",
    "low BMI at pregnancy and high BMI at delivery patient, tends to have 6.53% longer labor time.\n",
    "high BMI at pregnancy and low BMI at delivery patient, tends to have 48.38% shorter labor time.\n",
    "high BMI at pregnancy and high BMI at delivery patient, tends to have 0.99% shorter labor time.\n"
   ]
  },
  {
   "cell_type": "markdown",
   "id": "f228befe",
   "metadata": {},
   "source": [
    "The overall interpretation of these diagnostics suggests that the residuals from the regression may not be normally distributed (considering the Omnibus and Jarque-Bera tests), but there does not appear to be a significant issue with autocorrelation or asymmetry. However, there may be concerns with multicollinearity due to the high Condition Number."
   ]
  },
  {
   "cell_type": "code",
   "execution_count": 81,
   "id": "ca822c64",
   "metadata": {},
   "outputs": [
    {
     "name": "stderr",
     "output_type": "stream",
     "text": [
      "/var/folders/0r/r2dplk4d72d437ygr7ycq8kw0000gn/T/ipykernel_28402/3720787722.py:3: SettingWithCopyWarning: \n",
      "A value is trying to be set on a copy of a slice from a DataFrame.\n",
      "Try using .loc[row_indexer,col_indexer] = value instead\n",
      "\n",
      "See the caveats in the documentation: https://pandas.pydata.org/pandas-docs/stable/user_guide/indexing.html#returning-a-view-versus-a-copy\n",
      "  df_g['BMI_combine2'] = df['BMI_combine'].map(category_names)\n"
     ]
    }
   ],
   "source": [
    "# Create a dictionary to map numeric values to fruit names\n",
    "category_names = {0: '[0,0]', 1: '[1,0]', 2: '[0,1]',3: '[1,1]'}\n",
    "df_g['BMI_combine2'] = df['BMI_combine'].map(category_names)"
   ]
  },
  {
   "cell_type": "markdown",
   "id": "e45a2df9",
   "metadata": {},
   "source": []
  },
  {
   "cell_type": "code",
   "execution_count": 82,
   "id": "05493016",
   "metadata": {},
   "outputs": [
    {
     "data": {
      "image/png": "[encoded data removed]",
      "text/plain": [
       "<Figure size 612.236x500 with 1 Axes>"
      ]
     },
     "metadata": {},
     "output_type": "display_data"
    }
   ],
   "source": [
    "sns.catplot(data=df_g, x='Gravida_c', y='lbtime_log', hue='BMI_combine2', kind='box');"
   ]
  },
  {
   "cell_type": "code",
   "execution_count": 83,
   "id": "70af572a",
   "metadata": {},
   "outputs": [
    {
     "name": "stdout",
     "output_type": "stream",
     "text": [
      "                                   sum_sq      df            F    PR(>F)\n",
      "C(BMI_combine)                  22.701794     3.0     6.333951  0.000276\n",
      "C(Gravida_c)                  3434.281035     1.0  2874.561571  0.000000\n",
      "C(BMI_combine):C(Gravida_c)      2.395382     3.0     0.668327  0.571396\n",
      "Residual                     11102.483934  9293.0          NaN       NaN\n"
     ]
    }
   ],
   "source": [
    "model = ols('lbtime_log ~ C(BMI_combine)+ C(Gravida_c) + C(BMI_combine):C(Gravida_c)', data=df).fit()\n",
    "anova_table = sm.stats.anova_lm(model, typ=2)\n",
    "\n",
    "print(anova_table)"
   ]
  },
  {
   "cell_type": "code",
   "execution_count": 84,
   "id": "5ea04d84",
   "metadata": {
    "scrolled": true
   },
   "outputs": [
    {
     "data": {
      "text/html": [
       "<table class=\"simpletable\">\n",
       "<caption>OLS Regression Results</caption>\n",
       "<tr>\n",
       "  <th>Dep. Variable:</th>       <td>lbtime_log</td>    <th>  R-squared:         </th> <td>   0.239</td> \n",
       "</tr>\n",
       "<tr>\n",
       "  <th>Model:</th>                   <td>OLS</td>       <th>  Adj. R-squared:    </th> <td>   0.238</td> \n",
       "</tr>\n",
       "<tr>\n",
       "  <th>Method:</th>             <td>Least Squares</td>  <th>  F-statistic:       </th> <td>   416.8</td> \n",
       "</tr>\n",
       "<tr>\n",
       "  <th>Date:</th>             <td>Fri, 12 Apr 2024</td> <th>  Prob (F-statistic):</th>  <td>  0.00</td>  \n",
       "</tr>\n",
       "<tr>\n",
       "  <th>Time:</th>                 <td>00:39:14</td>     <th>  Log-Likelihood:    </th> <td> -14021.</td> \n",
       "</tr>\n",
       "<tr>\n",
       "  <th>No. Observations:</th>      <td>  9301</td>      <th>  AIC:               </th> <td>2.806e+04</td>\n",
       "</tr>\n",
       "<tr>\n",
       "  <th>Df Residuals:</th>          <td>  9293</td>      <th>  BIC:               </th> <td>2.811e+04</td>\n",
       "</tr>\n",
       "<tr>\n",
       "  <th>Df Model:</th>              <td>     7</td>      <th>                     </th>     <td> </td>    \n",
       "</tr>\n",
       "<tr>\n",
       "  <th>Covariance Type:</th>      <td>nonrobust</td>    <th>                     </th>     <td> </td>    \n",
       "</tr>\n",
       "</table>\n",
       "<table class=\"simpletable\">\n",
       "<tr>\n",
       "                    <td></td>                       <th>coef</th>     <th>std err</th>      <th>t</th>      <th>P>|t|</th>  <th>[0.025</th>    <th>0.975]</th>  \n",
       "</tr>\n",
       "<tr>\n",
       "  <th>Intercept</th>                             <td>    4.2892</td> <td>    0.030</td> <td>  143.755</td> <td> 0.000</td> <td>    4.231</td> <td>    4.348</td>\n",
       "</tr>\n",
       "<tr>\n",
       "  <th>C(BMI_combine)[T.1]</th>                   <td>   -1.3448</td> <td>    1.093</td> <td>   -1.230</td> <td> 0.219</td> <td>   -3.488</td> <td>    0.799</td>\n",
       "</tr>\n",
       "<tr>\n",
       "  <th>C(BMI_combine)[T.2]</th>                   <td>    0.1297</td> <td>    0.045</td> <td>    2.860</td> <td> 0.004</td> <td>    0.041</td> <td>    0.219</td>\n",
       "</tr>\n",
       "<tr>\n",
       "  <th>C(BMI_combine)[T.3]</th>                   <td>   -0.0063</td> <td>    0.049</td> <td>   -0.129</td> <td> 0.897</td> <td>   -0.102</td> <td>    0.090</td>\n",
       "</tr>\n",
       "<tr>\n",
       "  <th>C(Gravida_c)[T.1]</th>                     <td>   -1.2626</td> <td>    0.037</td> <td>  -34.480</td> <td> 0.000</td> <td>   -1.334</td> <td>   -1.191</td>\n",
       "</tr>\n",
       "<tr>\n",
       "  <th>C(BMI_combine)[T.1]:C(Gravida_c)[T.1]</th> <td>    0.7316</td> <td>    1.135</td> <td>    0.645</td> <td> 0.519</td> <td>   -1.493</td> <td>    2.956</td>\n",
       "</tr>\n",
       "<tr>\n",
       "  <th>C(BMI_combine)[T.2]:C(Gravida_c)[T.1]</th> <td>   -0.0658</td> <td>    0.056</td> <td>   -1.170</td> <td> 0.242</td> <td>   -0.176</td> <td>    0.044</td>\n",
       "</tr>\n",
       "<tr>\n",
       "  <th>C(BMI_combine)[T.3]:C(Gravida_c)[T.1]</th> <td>   -0.0037</td> <td>    0.060</td> <td>   -0.062</td> <td> 0.951</td> <td>   -0.121</td> <td>    0.113</td>\n",
       "</tr>\n",
       "</table>\n",
       "<table class=\"simpletable\">\n",
       "<tr>\n",
       "  <th>Omnibus:</th>       <td> 9.877</td> <th>  Durbin-Watson:     </th> <td>   1.972</td>\n",
       "</tr>\n",
       "<tr>\n",
       "  <th>Prob(Omnibus):</th> <td> 0.007</td> <th>  Jarque-Bera (JB):  </th> <td>  11.094</td>\n",
       "</tr>\n",
       "<tr>\n",
       "  <th>Skew:</th>          <td>-0.023</td> <th>  Prob(JB):          </th> <td> 0.00390</td>\n",
       "</tr>\n",
       "<tr>\n",
       "  <th>Kurtosis:</th>      <td> 3.163</td> <th>  Cond. No.          </th> <td>    184.</td>\n",
       "</tr>\n",
       "</table><br/><br/>Notes:<br/>[1] Standard Errors assume that the covariance matrix of the errors is correctly specified."
      ],
      "text/plain": [
       "<class 'statsmodels.iolib.summary.Summary'>\n",
       "\"\"\"\n",
       "                            OLS Regression Results                            \n",
       "==============================================================================\n",
       "Dep. Variable:             lbtime_log   R-squared:                       0.239\n",
       "Model:                            OLS   Adj. R-squared:                  0.238\n",
       "Method:                 Least Squares   F-statistic:                     416.8\n",
       "Date:                Fri, 12 Apr 2024   Prob (F-statistic):               0.00\n",
       "Time:                        00:39:14   Log-Likelihood:                -14021.\n",
       "No. Observations:                9301   AIC:                         2.806e+04\n",
       "Df Residuals:                    9293   BIC:                         2.811e+04\n",
       "Df Model:                           7                                         \n",
       "Covariance Type:            nonrobust                                         \n",
       "=========================================================================================================\n",
       "                                            coef    std err          t      P>|t|      [0.025      0.975]\n",
       "---------------------------------------------------------------------------------------------------------\n",
       "Intercept                                 4.2892      0.030    143.755      0.000       4.231       4.348\n",
       "C(BMI_combine)[T.1]                      -1.3448      1.093     -1.230      0.219      -3.488       0.799\n",
       "C(BMI_combine)[T.2]                       0.1297      0.045      2.860      0.004       0.041       0.219\n",
       "C(BMI_combine)[T.3]                      -0.0063      0.049     -0.129      0.897      -0.102       0.090\n",
       "C(Gravida_c)[T.1]                        -1.2626      0.037    -34.480      0.000      -1.334      -1.191\n",
       "C(BMI_combine)[T.1]:C(Gravida_c)[T.1]     0.7316      1.135      0.645      0.519      -1.493       2.956\n",
       "C(BMI_combine)[T.2]:C(Gravida_c)[T.1]    -0.0658      0.056     -1.170      0.242      -0.176       0.044\n",
       "C(BMI_combine)[T.3]:C(Gravida_c)[T.1]    -0.0037      0.060     -0.062      0.951      -0.121       0.113\n",
       "==============================================================================\n",
       "Omnibus:                        9.877   Durbin-Watson:                   1.972\n",
       "Prob(Omnibus):                  0.007   Jarque-Bera (JB):               11.094\n",
       "Skew:                          -0.023   Prob(JB):                      0.00390\n",
       "Kurtosis:                       3.163   Cond. No.                         184.\n",
       "==============================================================================\n",
       "\n",
       "Notes:\n",
       "[1] Standard Errors assume that the covariance matrix of the errors is correctly specified.\n",
       "\"\"\""
      ]
     },
     "execution_count": 84,
     "metadata": {},
     "output_type": "execute_result"
    }
   ],
   "source": [
    "model.summary()"
   ]
  },
  {
   "cell_type": "code",
   "execution_count": 88,
   "id": "807494cf",
   "metadata": {},
   "outputs": [
    {
     "data": {
      "text/html": [
       "<table class=\"simpletable\">\n",
       "<caption>OLS Regression Results</caption>\n",
       "<tr>\n",
       "  <th>Dep. Variable:</th>       <td>lbtime_log</td>    <th>  R-squared:         </th> <td>   0.239</td> \n",
       "</tr>\n",
       "<tr>\n",
       "  <th>Model:</th>                   <td>OLS</td>       <th>  Adj. R-squared:    </th> <td>   0.238</td> \n",
       "</tr>\n",
       "<tr>\n",
       "  <th>Method:</th>             <td>Least Squares</td>  <th>  F-statistic:       </th> <td>   728.9</td> \n",
       "</tr>\n",
       "<tr>\n",
       "  <th>Date:</th>             <td>Fri, 12 Apr 2024</td> <th>  Prob (F-statistic):</th>  <td>  0.00</td>  \n",
       "</tr>\n",
       "<tr>\n",
       "  <th>Time:</th>                 <td>00:39:14</td>     <th>  Log-Likelihood:    </th> <td> -14022.</td> \n",
       "</tr>\n",
       "<tr>\n",
       "  <th>No. Observations:</th>      <td>  9301</td>      <th>  AIC:               </th> <td>2.805e+04</td>\n",
       "</tr>\n",
       "<tr>\n",
       "  <th>Df Residuals:</th>          <td>  9296</td>      <th>  BIC:               </th> <td>2.809e+04</td>\n",
       "</tr>\n",
       "<tr>\n",
       "  <th>Df Model:</th>              <td>     4</td>      <th>                     </th>     <td> </td>    \n",
       "</tr>\n",
       "<tr>\n",
       "  <th>Covariance Type:</th>      <td>nonrobust</td>    <th>                     </th>     <td> </td>    \n",
       "</tr>\n",
       "</table>\n",
       "<table class=\"simpletable\">\n",
       "<tr>\n",
       "           <td></td>              <th>coef</th>     <th>std err</th>      <th>t</th>      <th>P>|t|</th>  <th>[0.025</th>    <th>0.975]</th>  \n",
       "</tr>\n",
       "<tr>\n",
       "  <th>Intercept</th>           <td>    4.3034</td> <td>    0.023</td> <td>  183.178</td> <td> 0.000</td> <td>    4.257</td> <td>    4.349</td>\n",
       "</tr>\n",
       "<tr>\n",
       "  <th>C(BMI_combine)[T.1]</th> <td>   -0.6598</td> <td>    0.293</td> <td>   -2.254</td> <td> 0.024</td> <td>   -1.234</td> <td>   -0.086</td>\n",
       "</tr>\n",
       "<tr>\n",
       "  <th>C(BMI_combine)[T.2]</th> <td>    0.0871</td> <td>    0.027</td> <td>    3.244</td> <td> 0.001</td> <td>    0.034</td> <td>    0.140</td>\n",
       "</tr>\n",
       "<tr>\n",
       "  <th>C(BMI_combine)[T.3]</th> <td>   -0.0085</td> <td>    0.028</td> <td>   -0.305</td> <td> 0.760</td> <td>   -0.063</td> <td>    0.046</td>\n",
       "</tr>\n",
       "<tr>\n",
       "  <th>C(Gravida_c)[T.1]</th>   <td>   -1.2839</td> <td>    0.024</td> <td>  -53.618</td> <td> 0.000</td> <td>   -1.331</td> <td>   -1.237</td>\n",
       "</tr>\n",
       "</table>\n",
       "<table class=\"simpletable\">\n",
       "<tr>\n",
       "  <th>Omnibus:</th>       <td> 9.942</td> <th>  Durbin-Watson:     </th> <td>   1.972</td>\n",
       "</tr>\n",
       "<tr>\n",
       "  <th>Prob(Omnibus):</th> <td> 0.007</td> <th>  Jarque-Bera (JB):  </th> <td>  11.163</td>\n",
       "</tr>\n",
       "<tr>\n",
       "  <th>Skew:</th>          <td>-0.024</td> <th>  Prob(JB):          </th> <td> 0.00377</td>\n",
       "</tr>\n",
       "<tr>\n",
       "  <th>Kurtosis:</th>      <td> 3.163</td> <th>  Cond. No.          </th> <td>    33.5</td>\n",
       "</tr>\n",
       "</table><br/><br/>Notes:<br/>[1] Standard Errors assume that the covariance matrix of the errors is correctly specified."
      ],
      "text/plain": [
       "<class 'statsmodels.iolib.summary.Summary'>\n",
       "\"\"\"\n",
       "                            OLS Regression Results                            \n",
       "==============================================================================\n",
       "Dep. Variable:             lbtime_log   R-squared:                       0.239\n",
       "Model:                            OLS   Adj. R-squared:                  0.238\n",
       "Method:                 Least Squares   F-statistic:                     728.9\n",
       "Date:                Fri, 12 Apr 2024   Prob (F-statistic):               0.00\n",
       "Time:                        00:39:14   Log-Likelihood:                -14022.\n",
       "No. Observations:                9301   AIC:                         2.805e+04\n",
       "Df Residuals:                    9296   BIC:                         2.809e+04\n",
       "Df Model:                           4                                         \n",
       "Covariance Type:            nonrobust                                         \n",
       "=======================================================================================\n",
       "                          coef    std err          t      P>|t|      [0.025      0.975]\n",
       "---------------------------------------------------------------------------------------\n",
       "Intercept               4.3034      0.023    183.178      0.000       4.257       4.349\n",
       "C(BMI_combine)[T.1]    -0.6598      0.293     -2.254      0.024      -1.234      -0.086\n",
       "C(BMI_combine)[T.2]     0.0871      0.027      3.244      0.001       0.034       0.140\n",
       "C(BMI_combine)[T.3]    -0.0085      0.028     -0.305      0.760      -0.063       0.046\n",
       "C(Gravida_c)[T.1]      -1.2839      0.024    -53.618      0.000      -1.331      -1.237\n",
       "==============================================================================\n",
       "Omnibus:                        9.942   Durbin-Watson:                   1.972\n",
       "Prob(Omnibus):                  0.007   Jarque-Bera (JB):               11.163\n",
       "Skew:                          -0.024   Prob(JB):                      0.00377\n",
       "Kurtosis:                       3.163   Cond. No.                         33.5\n",
       "==============================================================================\n",
       "\n",
       "Notes:\n",
       "[1] Standard Errors assume that the covariance matrix of the errors is correctly specified.\n",
       "\"\"\""
      ]
     },
     "execution_count": 88,
     "metadata": {},
     "output_type": "execute_result"
    }
   ],
   "source": [
    "model = ols('lbtime_log ~ C(BMI_combine)+ C(Gravida_c)', data=df).fit()\n",
    "anova_table = sm.stats.anova_lm(model, typ=2)\n",
    "\n",
    "model.summary()"
   ]
  },
  {
   "cell_type": "code",
   "execution_count": 89,
   "id": "87eee078",
   "metadata": {},
   "outputs": [
    {
     "data": {
      "text/html": [
       "<div>\n",
       "<style scoped>\n",
       "    .dataframe tbody tr th:only-of-type {\n",
       "        vertical-align: middle;\n",
       "    }\n",
       "\n",
       "    .dataframe tbody tr th {\n",
       "        vertical-align: top;\n",
       "    }\n",
       "\n",
       "    .dataframe thead th {\n",
       "        text-align: right;\n",
       "    }\n",
       "</style>\n",
       "<table border=\"1\" class=\"dataframe\">\n",
       "  <thead>\n",
       "    <tr style=\"text-align: right;\">\n",
       "      <th>BMI_dm1</th>\n",
       "      <th>0</th>\n",
       "      <th>1</th>\n",
       "      <th>All</th>\n",
       "    </tr>\n",
       "    <tr>\n",
       "      <th>BMI_dm0</th>\n",
       "      <th></th>\n",
       "      <th></th>\n",
       "      <th></th>\n",
       "    </tr>\n",
       "  </thead>\n",
       "  <tbody>\n",
       "    <tr>\n",
       "      <th>0</th>\n",
       "      <td>3993</td>\n",
       "      <td>2836</td>\n",
       "      <td>6829</td>\n",
       "    </tr>\n",
       "    <tr>\n",
       "      <th>1</th>\n",
       "      <td>14</td>\n",
       "      <td>2458</td>\n",
       "      <td>2472</td>\n",
       "    </tr>\n",
       "    <tr>\n",
       "      <th>All</th>\n",
       "      <td>4007</td>\n",
       "      <td>5294</td>\n",
       "      <td>9301</td>\n",
       "    </tr>\n",
       "  </tbody>\n",
       "</table>\n",
       "</div>"
      ],
      "text/plain": [
       "BMI_dm1     0     1   All\n",
       "BMI_dm0                  \n",
       "0        3993  2836  6829\n",
       "1          14  2458  2472\n",
       "All      4007  5294  9301"
      ]
     },
     "execution_count": 89,
     "metadata": {},
     "output_type": "execute_result"
    }
   ],
   "source": [
    "pd.crosstab(df['BMI_dm0'], df['BMI_dm1'], margins=True)"
   ]
  },
  {
   "cell_type": "code",
   "execution_count": 88,
   "id": "8106ab8b",
   "metadata": {},
   "outputs": [
    {
     "data": {
      "text/html": [
       "<div>\n",
       "<style scoped>\n",
       "    .dataframe tbody tr th:only-of-type {\n",
       "        vertical-align: middle;\n",
       "    }\n",
       "\n",
       "    .dataframe tbody tr th {\n",
       "        vertical-align: top;\n",
       "    }\n",
       "\n",
       "    .dataframe thead tr th {\n",
       "        text-align: left;\n",
       "    }\n",
       "\n",
       "    .dataframe thead tr:last-of-type th {\n",
       "        text-align: right;\n",
       "    }\n",
       "</style>\n",
       "<table border=\"1\" class=\"dataframe\">\n",
       "  <thead>\n",
       "    <tr>\n",
       "      <th>Gravida_c</th>\n",
       "      <th colspan=\"2\" halign=\"left\">0</th>\n",
       "      <th colspan=\"2\" halign=\"left\">1</th>\n",
       "      <th>All</th>\n",
       "    </tr>\n",
       "    <tr>\n",
       "      <th>BMI_dm1</th>\n",
       "      <th>0</th>\n",
       "      <th>1</th>\n",
       "      <th>0</th>\n",
       "      <th>1</th>\n",
       "      <th></th>\n",
       "    </tr>\n",
       "    <tr>\n",
       "      <th>BMI_dm0</th>\n",
       "      <th></th>\n",
       "      <th></th>\n",
       "      <th></th>\n",
       "      <th></th>\n",
       "      <th></th>\n",
       "    </tr>\n",
       "  </thead>\n",
       "  <tbody>\n",
       "    <tr>\n",
       "      <th>0</th>\n",
       "      <td>1342</td>\n",
       "      <td>1024</td>\n",
       "      <td>2651</td>\n",
       "      <td>1812</td>\n",
       "      <td>6829</td>\n",
       "    </tr>\n",
       "    <tr>\n",
       "      <th>1</th>\n",
       "      <td>1</td>\n",
       "      <td>793</td>\n",
       "      <td>13</td>\n",
       "      <td>1665</td>\n",
       "      <td>2472</td>\n",
       "    </tr>\n",
       "    <tr>\n",
       "      <th>All</th>\n",
       "      <td>1343</td>\n",
       "      <td>1817</td>\n",
       "      <td>2664</td>\n",
       "      <td>3477</td>\n",
       "      <td>9301</td>\n",
       "    </tr>\n",
       "  </tbody>\n",
       "</table>\n",
       "</div>"
      ],
      "text/plain": [
       "Gravida_c     0           1         All\n",
       "BMI_dm1       0     1     0     1      \n",
       "BMI_dm0                                \n",
       "0          1342  1024  2651  1812  6829\n",
       "1             1   793    13  1665  2472\n",
       "All        1343  1817  2664  3477  9301"
      ]
     },
     "execution_count": 88,
     "metadata": {},
     "output_type": "execute_result"
    }
   ],
   "source": [
    "pd.crosstab(df['BMI_dm0'], [df['Gravida_c'], df['BMI_dm1']], margins=True)"
   ]
  },
  {
   "cell_type": "code",
   "execution_count": 89,
   "id": "f1be6ab4",
   "metadata": {},
   "outputs": [],
   "source": [
    "contingency_table=pd.crosstab(df['BMI_dm0'], df['Gravida_c'], margins=True)"
   ]
  },
  {
   "cell_type": "code",
   "execution_count": 90,
   "id": "e3489030",
   "metadata": {},
   "outputs": [
    {
     "name": "stdout",
     "output_type": "stream",
     "text": [
      "Chi-square statistic: 5.165220963217048\n",
      "p-value: 0.27076100106292245\n",
      "Degrees of freedom: 4\n",
      "Expected frequencies table:\n",
      "[[2320.14192022 4508.85807978 6829.        ]\n",
      " [ 839.85807978 1632.14192022 2472.        ]\n",
      " [3160.         6141.         9301.        ]]\n"
     ]
    }
   ],
   "source": [
    "chi2, p, dof, expected = st.chi2_contingency(contingency_table)\n",
    "print(\"Chi-square statistic:\", chi2)\n",
    "print(\"p-value:\", p)\n",
    "print(\"Degrees of freedom:\", dof)\n",
    "print(\"Expected frequencies table:\")\n",
    "print(expected)"
   ]
  },
  {
   "cell_type": "code",
   "execution_count": null,
   "id": "1e27650d",
   "metadata": {},
   "outputs": [],
   "source": []
  },
  {
   "cell_type": "code",
   "execution_count": null,
   "id": "ccb815aa",
   "metadata": {},
   "outputs": [],
   "source": []
  },
  {
   "cell_type": "code",
   "execution_count": null,
   "id": "a7bfb3e3",
   "metadata": {},
   "outputs": [],
   "source": []
  },
  {
   "cell_type": "code",
   "execution_count": null,
   "id": "80ba41b1",
   "metadata": {},
   "outputs": [],
   "source": []
  },
  {
   "cell_type": "code",
   "execution_count": null,
   "id": "96cf50a8",
   "metadata": {},
   "outputs": [],
   "source": []
  },
  {
   "cell_type": "code",
   "execution_count": null,
   "id": "30bf5e98",
   "metadata": {},
   "outputs": [],
   "source": []
  },
  {
   "cell_type": "markdown",
   "id": "7bd160ce",
   "metadata": {},
   "source": [
    "### Para"
   ]
  },
  {
   "cell_type": "code",
   "execution_count": 91,
   "id": "60c5a462",
   "metadata": {},
   "outputs": [
    {
     "data": {
      "text/plain": [
       "0.0     3804\n",
       "1.0     2862\n",
       "2.0     1541\n",
       "3.0      659\n",
       "4.0      243\n",
       "5.0      103\n",
       "6.0       48\n",
       "7.0       15\n",
       "8.0        8\n",
       "11.0       2\n",
       "9.0        2\n",
       "12.0       1\n",
       "Name: Para, dtype: int64"
      ]
     },
     "execution_count": 91,
     "metadata": {},
     "output_type": "execute_result"
    }
   ],
   "source": [
    "df['Para'].value_counts()"
   ]
  },
  {
   "cell_type": "code",
   "execution_count": 92,
   "id": "93d735fe",
   "metadata": {},
   "outputs": [
    {
     "data": {
      "text/plain": [
       "1    5484\n",
       "0    3817\n",
       "Name: Para_c, dtype: int64"
      ]
     },
     "execution_count": 92,
     "metadata": {},
     "output_type": "execute_result"
    }
   ],
   "source": [
    "threshold_p = 0\n",
    "df['Para_c'] = df['Para'].gt(threshold_p).astype(int)\n",
    "df['Para_c'].value_counts()"
   ]
  },
  {
   "cell_type": "code",
   "execution_count": 93,
   "id": "006e9541",
   "metadata": {},
   "outputs": [
    {
     "data": {
      "text/plain": [
       "(9288, 129)"
      ]
     },
     "execution_count": 93,
     "metadata": {},
     "output_type": "execute_result"
    }
   ],
   "source": [
    "df_p = df.dropna(subset=['Para'])\n",
    "df_p.shape"
   ]
  },
  {
   "cell_type": "code",
   "execution_count": 94,
   "id": "487ba187",
   "metadata": {},
   "outputs": [
    {
     "data": {
      "text/plain": [
       "1    5484\n",
       "0    3804\n",
       "Name: Para_c, dtype: int64"
      ]
     },
     "execution_count": 94,
     "metadata": {},
     "output_type": "execute_result"
    }
   ],
   "source": [
    "df_p['Para_c'].value_counts()"
   ]
  },
  {
   "cell_type": "code",
   "execution_count": 95,
   "id": "fd104f3f",
   "metadata": {},
   "outputs": [
    {
     "data": {
      "image/png": "[encoded data removed]",
      "text/plain": [
       "<Figure size 574.986x500 with 1 Axes>"
      ]
     },
     "metadata": {},
     "output_type": "display_data"
    }
   ],
   "source": [
    "sns.catplot(data=df_p, x='Para_c', y='lbtime_log', hue='BMI_dm1', kind='box');"
   ]
  },
  {
   "cell_type": "code",
   "execution_count": 96,
   "id": "486e8018",
   "metadata": {},
   "outputs": [
    {
     "data": {
      "image/png": "[encoded data removed]",
      "text/plain": [
       "<Figure size 574.986x500 with 1 Axes>"
      ]
     },
     "metadata": {},
     "output_type": "display_data"
    }
   ],
   "source": [
    "sns.catplot(data=df_p, x='Para_c', y='lbtime_log', hue='BMI_dm0', kind='box');"
   ]
  },
  {
   "cell_type": "code",
   "execution_count": 97,
   "id": "449e7c87",
   "metadata": {},
   "outputs": [
    {
     "name": "stdout",
     "output_type": "stream",
     "text": [
      "                           sum_sq      df            F    PR(>F)\n",
      "C(BMI_dm1)               2.842901     1.0     2.656315  0.103173\n",
      "C(Para_c)             4623.645550     1.0  4320.185224  0.000000\n",
      "C(BMI_dm1):C(Para_c)     3.622921     1.0     3.385140  0.065818\n",
      "Residual              9936.130759  9284.0          NaN       NaN\n"
     ]
    }
   ],
   "source": [
    "model = ols('lbtime_log ~ C(BMI_dm1) + C(Para_c) + C(BMI_dm1):C(Para_c)', data=df_p).fit()\n",
    "anova_table = sm.stats.anova_lm(model, typ=2)\n",
    "\n",
    "print(anova_table)"
   ]
  },
  {
   "cell_type": "code",
   "execution_count": 98,
   "id": "b21b0b49",
   "metadata": {},
   "outputs": [
    {
     "data": {
      "text/html": [
       "<table class=\"simpletable\">\n",
       "<caption>OLS Regression Results</caption>\n",
       "<tr>\n",
       "  <th>Dep. Variable:</th>       <td>lbtime_log</td>    <th>  R-squared:         </th> <td>   0.318</td> \n",
       "</tr>\n",
       "<tr>\n",
       "  <th>Model:</th>                   <td>OLS</td>       <th>  Adj. R-squared:    </th> <td>   0.318</td> \n",
       "</tr>\n",
       "<tr>\n",
       "  <th>Method:</th>             <td>Least Squares</td>  <th>  F-statistic:       </th> <td>   1443.</td> \n",
       "</tr>\n",
       "<tr>\n",
       "  <th>Date:</th>             <td>Mon, 25 Mar 2024</td> <th>  Prob (F-statistic):</th>  <td>  0.00</td>  \n",
       "</tr>\n",
       "<tr>\n",
       "  <th>Time:</th>                 <td>14:21:00</td>     <th>  Log-Likelihood:    </th> <td> -13492.</td> \n",
       "</tr>\n",
       "<tr>\n",
       "  <th>No. Observations:</th>      <td>  9288</td>      <th>  AIC:               </th> <td>2.699e+04</td>\n",
       "</tr>\n",
       "<tr>\n",
       "  <th>Df Residuals:</th>          <td>  9284</td>      <th>  BIC:               </th> <td>2.702e+04</td>\n",
       "</tr>\n",
       "<tr>\n",
       "  <th>Df Model:</th>              <td>     3</td>      <th>                     </th>     <td> </td>    \n",
       "</tr>\n",
       "<tr>\n",
       "  <th>Covariance Type:</th>      <td>nonrobust</td>    <th>                     </th>     <td> </td>    \n",
       "</tr>\n",
       "</table>\n",
       "<table class=\"simpletable\">\n",
       "<tr>\n",
       "                 <td></td>                   <th>coef</th>     <th>std err</th>      <th>t</th>      <th>P>|t|</th>  <th>[0.025</th>    <th>0.975]</th>  \n",
       "</tr>\n",
       "<tr>\n",
       "  <th>Intercept</th>                      <td>    4.2782</td> <td>    0.026</td> <td>  165.779</td> <td> 0.000</td> <td>    4.228</td> <td>    4.329</td>\n",
       "</tr>\n",
       "<tr>\n",
       "  <th>C(BMI_dm1)[T.1]</th>                <td>    0.0834</td> <td>    0.034</td> <td>    2.457</td> <td> 0.014</td> <td>    0.017</td> <td>    0.150</td>\n",
       "</tr>\n",
       "<tr>\n",
       "  <th>C(Para_c)[T.1]</th>                 <td>   -1.3885</td> <td>    0.033</td> <td>  -41.623</td> <td> 0.000</td> <td>   -1.454</td> <td>   -1.323</td>\n",
       "</tr>\n",
       "<tr>\n",
       "  <th>C(BMI_dm1)[T.1]:C(Para_c)[T.1]</th> <td>   -0.0812</td> <td>    0.044</td> <td>   -1.840</td> <td> 0.066</td> <td>   -0.168</td> <td>    0.005</td>\n",
       "</tr>\n",
       "</table>\n",
       "<table class=\"simpletable\">\n",
       "<tr>\n",
       "  <th>Omnibus:</th>       <td>39.131</td> <th>  Durbin-Watson:     </th> <td>   1.991</td>\n",
       "</tr>\n",
       "<tr>\n",
       "  <th>Prob(Omnibus):</th> <td> 0.000</td> <th>  Jarque-Bera (JB):  </th> <td>  46.671</td>\n",
       "</tr>\n",
       "<tr>\n",
       "  <th>Skew:</th>          <td>-0.091</td> <th>  Prob(JB):          </th> <td>7.34e-11</td>\n",
       "</tr>\n",
       "<tr>\n",
       "  <th>Kurtosis:</th>      <td> 3.295</td> <th>  Cond. No.          </th> <td>    8.15</td>\n",
       "</tr>\n",
       "</table><br/><br/>Notes:<br/>[1] Standard Errors assume that the covariance matrix of the errors is correctly specified."
      ],
      "text/plain": [
       "<class 'statsmodels.iolib.summary.Summary'>\n",
       "\"\"\"\n",
       "                            OLS Regression Results                            \n",
       "==============================================================================\n",
       "Dep. Variable:             lbtime_log   R-squared:                       0.318\n",
       "Model:                            OLS   Adj. R-squared:                  0.318\n",
       "Method:                 Least Squares   F-statistic:                     1443.\n",
       "Date:                Mon, 25 Mar 2024   Prob (F-statistic):               0.00\n",
       "Time:                        14:21:00   Log-Likelihood:                -13492.\n",
       "No. Observations:                9288   AIC:                         2.699e+04\n",
       "Df Residuals:                    9284   BIC:                         2.702e+04\n",
       "Df Model:                           3                                         \n",
       "Covariance Type:            nonrobust                                         \n",
       "==================================================================================================\n",
       "                                     coef    std err          t      P>|t|      [0.025      0.975]\n",
       "--------------------------------------------------------------------------------------------------\n",
       "Intercept                          4.2782      0.026    165.779      0.000       4.228       4.329\n",
       "C(BMI_dm1)[T.1]                    0.0834      0.034      2.457      0.014       0.017       0.150\n",
       "C(Para_c)[T.1]                    -1.3885      0.033    -41.623      0.000      -1.454      -1.323\n",
       "C(BMI_dm1)[T.1]:C(Para_c)[T.1]    -0.0812      0.044     -1.840      0.066      -0.168       0.005\n",
       "==============================================================================\n",
       "Omnibus:                       39.131   Durbin-Watson:                   1.991\n",
       "Prob(Omnibus):                  0.000   Jarque-Bera (JB):               46.671\n",
       "Skew:                          -0.091   Prob(JB):                     7.34e-11\n",
       "Kurtosis:                       3.295   Cond. No.                         8.15\n",
       "==============================================================================\n",
       "\n",
       "Notes:\n",
       "[1] Standard Errors assume that the covariance matrix of the errors is correctly specified.\n",
       "\"\"\""
      ]
     },
     "execution_count": 98,
     "metadata": {},
     "output_type": "execute_result"
    }
   ],
   "source": [
    "model.summary()"
   ]
  },
  {
   "cell_type": "code",
   "execution_count": 99,
   "id": "c6764de0",
   "metadata": {},
   "outputs": [
    {
     "name": "stdout",
     "output_type": "stream",
     "text": [
      "                           sum_sq      df            F    PR(>F)\n",
      "C(BMI_dm0)               3.741546     1.0     3.495029  0.061585\n",
      "C(Para_c)             4619.471541     1.0  4315.110857  0.000000\n",
      "C(BMI_dm0):C(Para_c)     0.020274     1.0     0.018939  0.890546\n",
      "Residual              9938.834761  9284.0          NaN       NaN\n"
     ]
    }
   ],
   "source": [
    "model = ols('lbtime_log ~ C(BMI_dm0) + C(Para_c) + C(BMI_dm0):C(Para_c)', data=df_p).fit()\n",
    "anova_table = sm.stats.anova_lm(model, typ=2)\n",
    "\n",
    "print(anova_table)"
   ]
  },
  {
   "cell_type": "code",
   "execution_count": 100,
   "id": "f206a61c",
   "metadata": {},
   "outputs": [
    {
     "data": {
      "text/html": [
       "<table class=\"simpletable\">\n",
       "<caption>OLS Regression Results</caption>\n",
       "<tr>\n",
       "  <th>Dep. Variable:</th>       <td>lbtime_log</td>    <th>  R-squared:         </th> <td>   0.318</td> \n",
       "</tr>\n",
       "<tr>\n",
       "  <th>Model:</th>                   <td>OLS</td>       <th>  Adj. R-squared:    </th> <td>   0.318</td> \n",
       "</tr>\n",
       "<tr>\n",
       "  <th>Method:</th>             <td>Least Squares</td>  <th>  F-statistic:       </th> <td>   1442.</td> \n",
       "</tr>\n",
       "<tr>\n",
       "  <th>Date:</th>             <td>Mon, 25 Mar 2024</td> <th>  Prob (F-statistic):</th>  <td>  0.00</td>  \n",
       "</tr>\n",
       "<tr>\n",
       "  <th>Time:</th>                 <td>14:21:00</td>     <th>  Log-Likelihood:    </th> <td> -13494.</td> \n",
       "</tr>\n",
       "<tr>\n",
       "  <th>No. Observations:</th>      <td>  9288</td>      <th>  AIC:               </th> <td>2.700e+04</td>\n",
       "</tr>\n",
       "<tr>\n",
       "  <th>Df Residuals:</th>          <td>  9284</td>      <th>  BIC:               </th> <td>2.702e+04</td>\n",
       "</tr>\n",
       "<tr>\n",
       "  <th>Df Model:</th>              <td>     3</td>      <th>                     </th>     <td> </td>    \n",
       "</tr>\n",
       "<tr>\n",
       "  <th>Covariance Type:</th>      <td>nonrobust</td>    <th>                     </th>     <td> </td>    \n",
       "</tr>\n",
       "</table>\n",
       "<table class=\"simpletable\">\n",
       "<tr>\n",
       "                 <td></td>                   <th>coef</th>     <th>std err</th>      <th>t</th>      <th>P>|t|</th>  <th>[0.025</th>    <th>0.975]</th>  \n",
       "</tr>\n",
       "<tr>\n",
       "  <th>Intercept</th>                      <td>    4.3369</td> <td>    0.019</td> <td>  223.336</td> <td> 0.000</td> <td>    4.299</td> <td>    4.375</td>\n",
       "</tr>\n",
       "<tr>\n",
       "  <th>C(BMI_dm0)[T.1]</th>                <td>   -0.0413</td> <td>    0.039</td> <td>   -1.072</td> <td> 0.284</td> <td>   -0.117</td> <td>    0.034</td>\n",
       "</tr>\n",
       "<tr>\n",
       "  <th>C(Para_c)[T.1]</th>                 <td>   -1.4327</td> <td>    0.025</td> <td>  -56.370</td> <td> 0.000</td> <td>   -1.483</td> <td>   -1.383</td>\n",
       "</tr>\n",
       "<tr>\n",
       "  <th>C(BMI_dm0)[T.1]:C(Para_c)[T.1]</th> <td>   -0.0068</td> <td>    0.050</td> <td>   -0.138</td> <td> 0.891</td> <td>   -0.104</td> <td>    0.091</td>\n",
       "</tr>\n",
       "</table>\n",
       "<table class=\"simpletable\">\n",
       "<tr>\n",
       "  <th>Omnibus:</th>       <td>37.779</td> <th>  Durbin-Watson:     </th> <td>   1.991</td>\n",
       "</tr>\n",
       "<tr>\n",
       "  <th>Prob(Omnibus):</th> <td> 0.000</td> <th>  Jarque-Bera (JB):  </th> <td>  45.095</td>\n",
       "</tr>\n",
       "<tr>\n",
       "  <th>Skew:</th>          <td>-0.088</td> <th>  Prob(JB):          </th> <td>1.61e-10</td>\n",
       "</tr>\n",
       "<tr>\n",
       "  <th>Kurtosis:</th>      <td> 3.292</td> <th>  Cond. No.          </th> <td>    7.17</td>\n",
       "</tr>\n",
       "</table><br/><br/>Notes:<br/>[1] Standard Errors assume that the covariance matrix of the errors is correctly specified."
      ],
      "text/plain": [
       "<class 'statsmodels.iolib.summary.Summary'>\n",
       "\"\"\"\n",
       "                            OLS Regression Results                            \n",
       "==============================================================================\n",
       "Dep. Variable:             lbtime_log   R-squared:                       0.318\n",
       "Model:                            OLS   Adj. R-squared:                  0.318\n",
       "Method:                 Least Squares   F-statistic:                     1442.\n",
       "Date:                Mon, 25 Mar 2024   Prob (F-statistic):               0.00\n",
       "Time:                        14:21:00   Log-Likelihood:                -13494.\n",
       "No. Observations:                9288   AIC:                         2.700e+04\n",
       "Df Residuals:                    9284   BIC:                         2.702e+04\n",
       "Df Model:                           3                                         \n",
       "Covariance Type:            nonrobust                                         \n",
       "==================================================================================================\n",
       "                                     coef    std err          t      P>|t|      [0.025      0.975]\n",
       "--------------------------------------------------------------------------------------------------\n",
       "Intercept                          4.3369      0.019    223.336      0.000       4.299       4.375\n",
       "C(BMI_dm0)[T.1]                   -0.0413      0.039     -1.072      0.284      -0.117       0.034\n",
       "C(Para_c)[T.1]                    -1.4327      0.025    -56.370      0.000      -1.483      -1.383\n",
       "C(BMI_dm0)[T.1]:C(Para_c)[T.1]    -0.0068      0.050     -0.138      0.891      -0.104       0.091\n",
       "==============================================================================\n",
       "Omnibus:                       37.779   Durbin-Watson:                   1.991\n",
       "Prob(Omnibus):                  0.000   Jarque-Bera (JB):               45.095\n",
       "Skew:                          -0.088   Prob(JB):                     1.61e-10\n",
       "Kurtosis:                       3.292   Cond. No.                         7.17\n",
       "==============================================================================\n",
       "\n",
       "Notes:\n",
       "[1] Standard Errors assume that the covariance matrix of the errors is correctly specified.\n",
       "\"\"\""
      ]
     },
     "execution_count": 100,
     "metadata": {},
     "output_type": "execute_result"
    }
   ],
   "source": [
    "model.summary()"
   ]
  },
  {
   "cell_type": "code",
   "execution_count": 101,
   "id": "7eb5f24a",
   "metadata": {},
   "outputs": [
    {
     "name": "stdout",
     "output_type": "stream",
     "text": [
      "                            sum_sq      df            F    PR(>F)\n",
      "C(BMI_dm0)               10.444514     1.0     9.769925  0.001779\n",
      "C(BMI_dm1)                9.861577     1.0     9.224639  0.002394\n",
      "C(Para_c)              4594.971973     1.0  4298.192503  0.000000\n",
      "C(BMI_dm0):C(Para_c)      0.986133     1.0     0.922440  0.336860\n",
      "C(BMI_dm1):C(Para_c)      4.496571     1.0     4.206147  0.040306\n",
      "C(BMI_dm1):C(BMI_dm0)     3.097827     1.0     2.897745  0.088737\n",
      "Residual               9921.829896  9281.0          NaN       NaN\n"
     ]
    }
   ],
   "source": [
    "model = ols('lbtime_log ~ C(BMI_dm0) +C(BMI_dm1)+ C(Para_c) + C(BMI_dm0):C(Para_c)+C(BMI_dm1):C(Para_c)++C(BMI_dm1):C(BMI_dm0)', data=df_p).fit()\n",
    "anova_table = sm.stats.anova_lm(model, typ=2)\n",
    "\n",
    "print(anova_table)"
   ]
  },
  {
   "cell_type": "code",
   "execution_count": 102,
   "id": "565e5797",
   "metadata": {},
   "outputs": [
    {
     "data": {
      "text/html": [
       "<table class=\"simpletable\">\n",
       "<caption>OLS Regression Results</caption>\n",
       "<tr>\n",
       "  <th>Dep. Variable:</th>       <td>lbtime_log</td>    <th>  R-squared:         </th> <td>   0.319</td> \n",
       "</tr>\n",
       "<tr>\n",
       "  <th>Model:</th>                   <td>OLS</td>       <th>  Adj. R-squared:    </th> <td>   0.319</td> \n",
       "</tr>\n",
       "<tr>\n",
       "  <th>Method:</th>             <td>Least Squares</td>  <th>  F-statistic:       </th> <td>   724.7</td> \n",
       "</tr>\n",
       "<tr>\n",
       "  <th>Date:</th>             <td>Mon, 25 Mar 2024</td> <th>  Prob (F-statistic):</th>  <td>  0.00</td>  \n",
       "</tr>\n",
       "<tr>\n",
       "  <th>Time:</th>                 <td>14:21:00</td>     <th>  Log-Likelihood:    </th> <td> -13486.</td> \n",
       "</tr>\n",
       "<tr>\n",
       "  <th>No. Observations:</th>      <td>  9288</td>      <th>  AIC:               </th> <td>2.699e+04</td>\n",
       "</tr>\n",
       "<tr>\n",
       "  <th>Df Residuals:</th>          <td>  9281</td>      <th>  BIC:               </th> <td>2.704e+04</td>\n",
       "</tr>\n",
       "<tr>\n",
       "  <th>Df Model:</th>              <td>     6</td>      <th>                     </th>     <td> </td>    \n",
       "</tr>\n",
       "<tr>\n",
       "  <th>Covariance Type:</th>      <td>nonrobust</td>    <th>                     </th>     <td> </td>    \n",
       "</tr>\n",
       "</table>\n",
       "<table class=\"simpletable\">\n",
       "<tr>\n",
       "                 <td></td>                    <th>coef</th>     <th>std err</th>      <th>t</th>      <th>P>|t|</th>  <th>[0.025</th>    <th>0.975]</th>  \n",
       "</tr>\n",
       "<tr>\n",
       "  <th>Intercept</th>                       <td>    4.2786</td> <td>    0.026</td> <td>  165.882</td> <td> 0.000</td> <td>    4.228</td> <td>    4.329</td>\n",
       "</tr>\n",
       "<tr>\n",
       "  <th>C(BMI_dm0)[T.1]</th>                 <td>   -0.5919</td> <td>    0.282</td> <td>   -2.097</td> <td> 0.036</td> <td>   -1.145</td> <td>   -0.039</td>\n",
       "</tr>\n",
       "<tr>\n",
       "  <th>C(BMI_dm1)[T.1]</th>                 <td>    0.1342</td> <td>    0.039</td> <td>    3.431</td> <td> 0.001</td> <td>    0.058</td> <td>    0.211</td>\n",
       "</tr>\n",
       "<tr>\n",
       "  <th>C(Para_c)[T.1]</th>                  <td>   -1.3860</td> <td>    0.033</td> <td>  -41.537</td> <td> 0.000</td> <td>   -1.451</td> <td>   -1.321</td>\n",
       "</tr>\n",
       "<tr>\n",
       "  <th>C(BMI_dm0)[T.1]:C(Para_c)[T.1]</th>  <td>    0.0556</td> <td>    0.058</td> <td>    0.960</td> <td> 0.337</td> <td>   -0.058</td> <td>    0.169</td>\n",
       "</tr>\n",
       "<tr>\n",
       "  <th>C(BMI_dm1)[T.1]:C(Para_c)[T.1]</th>  <td>   -0.1055</td> <td>    0.051</td> <td>   -2.051</td> <td> 0.040</td> <td>   -0.206</td> <td>   -0.005</td>\n",
       "</tr>\n",
       "<tr>\n",
       "  <th>C(BMI_dm1)[T.1]:C(BMI_dm0)[T.1]</th> <td>    0.4753</td> <td>    0.279</td> <td>    1.702</td> <td> 0.089</td> <td>   -0.072</td> <td>    1.023</td>\n",
       "</tr>\n",
       "</table>\n",
       "<table class=\"simpletable\">\n",
       "<tr>\n",
       "  <th>Omnibus:</th>       <td>38.750</td> <th>  Durbin-Watson:     </th> <td>   1.992</td>\n",
       "</tr>\n",
       "<tr>\n",
       "  <th>Prob(Omnibus):</th> <td> 0.000</td> <th>  Jarque-Bera (JB):  </th> <td>  46.455</td>\n",
       "</tr>\n",
       "<tr>\n",
       "  <th>Skew:</th>          <td>-0.089</td> <th>  Prob(JB):          </th> <td>8.17e-11</td>\n",
       "</tr>\n",
       "<tr>\n",
       "  <th>Kurtosis:</th>      <td> 3.297</td> <th>  Cond. No.          </th> <td>    55.5</td>\n",
       "</tr>\n",
       "</table><br/><br/>Notes:<br/>[1] Standard Errors assume that the covariance matrix of the errors is correctly specified."
      ],
      "text/plain": [
       "<class 'statsmodels.iolib.summary.Summary'>\n",
       "\"\"\"\n",
       "                            OLS Regression Results                            \n",
       "==============================================================================\n",
       "Dep. Variable:             lbtime_log   R-squared:                       0.319\n",
       "Model:                            OLS   Adj. R-squared:                  0.319\n",
       "Method:                 Least Squares   F-statistic:                     724.7\n",
       "Date:                Mon, 25 Mar 2024   Prob (F-statistic):               0.00\n",
       "Time:                        14:21:00   Log-Likelihood:                -13486.\n",
       "No. Observations:                9288   AIC:                         2.699e+04\n",
       "Df Residuals:                    9281   BIC:                         2.704e+04\n",
       "Df Model:                           6                                         \n",
       "Covariance Type:            nonrobust                                         \n",
       "===================================================================================================\n",
       "                                      coef    std err          t      P>|t|      [0.025      0.975]\n",
       "---------------------------------------------------------------------------------------------------\n",
       "Intercept                           4.2786      0.026    165.882      0.000       4.228       4.329\n",
       "C(BMI_dm0)[T.1]                    -0.5919      0.282     -2.097      0.036      -1.145      -0.039\n",
       "C(BMI_dm1)[T.1]                     0.1342      0.039      3.431      0.001       0.058       0.211\n",
       "C(Para_c)[T.1]                     -1.3860      0.033    -41.537      0.000      -1.451      -1.321\n",
       "C(BMI_dm0)[T.1]:C(Para_c)[T.1]      0.0556      0.058      0.960      0.337      -0.058       0.169\n",
       "C(BMI_dm1)[T.1]:C(Para_c)[T.1]     -0.1055      0.051     -2.051      0.040      -0.206      -0.005\n",
       "C(BMI_dm1)[T.1]:C(BMI_dm0)[T.1]     0.4753      0.279      1.702      0.089      -0.072       1.023\n",
       "==============================================================================\n",
       "Omnibus:                       38.750   Durbin-Watson:                   1.992\n",
       "Prob(Omnibus):                  0.000   Jarque-Bera (JB):               46.455\n",
       "Skew:                          -0.089   Prob(JB):                     8.17e-11\n",
       "Kurtosis:                       3.297   Cond. No.                         55.5\n",
       "==============================================================================\n",
       "\n",
       "Notes:\n",
       "[1] Standard Errors assume that the covariance matrix of the errors is correctly specified.\n",
       "\"\"\""
      ]
     },
     "execution_count": 102,
     "metadata": {},
     "output_type": "execute_result"
    }
   ],
   "source": [
    "model.summary()"
   ]
  },
  {
   "cell_type": "code",
   "execution_count": null,
   "id": "7e0a0bc1",
   "metadata": {},
   "outputs": [],
   "source": []
  },
  {
   "cell_type": "code",
   "execution_count": null,
   "id": "5d78e89f",
   "metadata": {},
   "outputs": [],
   "source": []
  },
  {
   "cell_type": "code",
   "execution_count": null,
   "id": "4ac7e970",
   "metadata": {},
   "outputs": [],
   "source": []
  },
  {
   "cell_type": "code",
   "execution_count": null,
   "id": "6b62cdcd",
   "metadata": {},
   "outputs": [],
   "source": []
  },
  {
   "cell_type": "code",
   "execution_count": null,
   "id": "303fee8a",
   "metadata": {},
   "outputs": [],
   "source": []
  },
  {
   "cell_type": "code",
   "execution_count": null,
   "id": "734512e0",
   "metadata": {},
   "outputs": [],
   "source": []
  },
  {
   "cell_type": "code",
   "execution_count": null,
   "id": "0493a5da",
   "metadata": {},
   "outputs": [],
   "source": []
  },
  {
   "cell_type": "code",
   "execution_count": null,
   "id": "acfb9499",
   "metadata": {},
   "outputs": [],
   "source": []
  },
  {
   "cell_type": "code",
   "execution_count": null,
   "id": "46c68c20",
   "metadata": {},
   "outputs": [],
   "source": []
  },
  {
   "cell_type": "code",
   "execution_count": null,
   "id": "9d468c97",
   "metadata": {},
   "outputs": [],
   "source": []
  },
  {
   "cell_type": "code",
   "execution_count": null,
   "id": "c64a057e",
   "metadata": {},
   "outputs": [],
   "source": []
  },
  {
   "cell_type": "code",
   "execution_count": null,
   "id": "cc7f732c",
   "metadata": {},
   "outputs": [],
   "source": []
  },
  {
   "cell_type": "code",
   "execution_count": null,
   "id": "a671068c",
   "metadata": {},
   "outputs": [],
   "source": []
  },
  {
   "cell_type": "code",
   "execution_count": null,
   "id": "30bbb428",
   "metadata": {},
   "outputs": [],
   "source": []
  },
  {
   "cell_type": "code",
   "execution_count": null,
   "id": "405f6a3c",
   "metadata": {},
   "outputs": [],
   "source": []
  },
  {
   "cell_type": "code",
   "execution_count": null,
   "id": "65c0a7d6",
   "metadata": {},
   "outputs": [],
   "source": []
  },
  {
   "cell_type": "code",
   "execution_count": null,
   "id": "12961e8d",
   "metadata": {},
   "outputs": [],
   "source": []
  },
  {
   "cell_type": "code",
   "execution_count": null,
   "id": "ab021b42",
   "metadata": {},
   "outputs": [],
   "source": []
  },
  {
   "cell_type": "code",
   "execution_count": null,
   "id": "21ce92dd",
   "metadata": {},
   "outputs": [],
   "source": []
  },
  {
   "cell_type": "code",
   "execution_count": null,
   "id": "6829e47c",
   "metadata": {},
   "outputs": [],
   "source": []
  },
  {
   "cell_type": "code",
   "execution_count": null,
   "id": "bb1ef80c",
   "metadata": {},
   "outputs": [],
   "source": []
  },
  {
   "cell_type": "code",
   "execution_count": null,
   "id": "eddac969",
   "metadata": {},
   "outputs": [],
   "source": []
  },
  {
   "cell_type": "code",
   "execution_count": null,
   "id": "ab5e01ed",
   "metadata": {},
   "outputs": [],
   "source": []
  }
 ],
 "metadata": {
  "kernelspec": {
   "display_name": "Python 3 (ipykernel)",
   "language": "python",
   "name": "python3"
  },
  "language_info": {
   "codemirror_mode": {
    "name": "ipython",
    "version": 3
   },
   "file_extension": ".py",
   "mimetype": "text/x-python",
   "name": "python",
   "nbconvert_exporter": "python",
   "pygments_lexer": "ipython3",
   "version": "3.10.9"
  }
 },
 "nbformat": 4,
 "nbformat_minor": 5
}
