{
 "cells": [
  {
   "cell_type": "code",
   "execution_count": 1,
   "id": "86192290-0bf9-4f0a-9c1d-825fc91809a2",
   "metadata": {},
   "outputs": [],
   "source": [
    "import pandas as pd\n",
    "import numpy as np\n",
    "from impyute.imputation.cs import fast_knn\n",
    "from sklearn.impute import KNNImputer"
   ]
  },
  {
   "cell_type": "code",
   "execution_count": 2,
   "id": "1e2695a7-324b-45d1-bf5f-86a5f02db4d5",
   "metadata": {},
   "outputs": [
    {
     "name": "stderr",
     "output_type": "stream",
     "text": [
      "/var/folders/0r/r2dplk4d72d437ygr7ycq8kw0000gn/T/ipykernel_1474/1053068604.py:1: DtypeWarning: Columns (47,48,49,50,51,52,53,54,55,56,57,58,59,60,61,62,63,64,65,66,67,68,69,70,71,72,73,74,75,76,77,78,79,80,81,82,83,84,85,86,87,88,89,90,91,92) have mixed types. Specify dtype option on import or set low_memory=False.\n",
      "  df = pd.read_csv('../data/data_NA.csv')\n"
     ]
    }
   ],
   "source": [
    "df = pd.read_csv('../data/data_NA.csv')"
   ]
  },
  {
   "cell_type": "code",
   "execution_count": 6,
   "id": "da0cd80f",
   "metadata": {},
   "outputs": [
    {
     "data": {
      "text/plain": [
       "(17620, 93)"
      ]
     },
     "execution_count": 6,
     "metadata": {},
     "output_type": "execute_result"
    }
   ],
   "source": [
    "df.shape"
   ]
  },
  {
   "cell_type": "code",
   "execution_count": 7,
   "id": "b1e7524c",
   "metadata": {},
   "outputs": [],
   "source": [
    "# Read the file into a vector (list of lines)\n",
    "def read_file_as_vector(file_path):\n",
    "    with open(file_path, 'r') as file:\n",
    "        lines = file.readlines()\n",
    "    # Remove newline characters from each line\n",
    "    lines = [line.strip() for line in lines]\n",
    "    return lines"
   ]
  },
  {
   "cell_type": "code",
   "execution_count": 8,
   "id": "3ec9fd31",
   "metadata": {},
   "outputs": [],
   "source": [
    "num_cols = read_file_as_vector('../data/num_columns.txt')\n",
    "cat_cols = read_file_as_vector('../data/factor_columns.txt')\n",
    "bool_cols = read_file_as_vector('../data/logical_columns.txt')"
   ]
  },
  {
   "cell_type": "code",
   "execution_count": 19,
   "id": "5169c76b",
   "metadata": {},
   "outputs": [
    {
     "data": {
      "text/plain": [
       "46"
      ]
     },
     "execution_count": 19,
     "metadata": {},
     "output_type": "execute_result"
    }
   ],
   "source": [
    "len(bool_cols)"
   ]
  },
  {
   "cell_type": "code",
   "execution_count": 9,
   "id": "b6cdbea6",
   "metadata": {},
   "outputs": [],
   "source": [
    "df[bool_cols] = df[bool_cols].astype(bool)"
   ]
  },
  {
   "cell_type": "code",
   "execution_count": 10,
   "id": "8dfc3cd2-aec5-4131-a556-2a7d10585c59",
   "metadata": {},
   "outputs": [],
   "source": [
    "data_bool = df[bool_cols].copy()\n",
    "data_cat = df[cat_cols].copy()\n",
    "data_num = df[num_cols].copy()"
   ]
  },
  {
   "cell_type": "code",
   "execution_count": 11,
   "id": "a3c20a62",
   "metadata": {},
   "outputs": [],
   "source": [
    "data_bool = data_bool.apply(lambda x: x.fillna(False))"
   ]
  },
  {
   "cell_type": "code",
   "execution_count": 20,
   "id": "b8de023b-0de8-49a2-bf5a-ced74549fafc",
   "metadata": {},
   "outputs": [
    {
     "data": {
      "text/plain": [
       "['delivery_anesthesia_epidural',\n",
       " 'delivery_anesthesia_spinal',\n",
       " 'delivery_anesthesia_local',\n",
       " 'delivery_anesthesia_pudenal',\n",
       " 'delivery_anesthesia_cse',\n",
       " 'delivery_anesthesia_general',\n",
       " 'delivery_anesthesia_intrathe',\n",
       " 'labor_anesthesia_epidural',\n",
       " 'labor_anesthesia_spinal',\n",
       " 'labor_anesthesia_cse',\n",
       " 'labor_anesthesia_general',\n",
       " 'labor_anesthesia_iv_sedation',\n",
       " 'laceration_type_none',\n",
       " 'laceration_type_vaginal',\n",
       " 'laceration_type_perineal',\n",
       " 'laceration_type_periuret',\n",
       " 'laceration_type_cervical',\n",
       " 'laceration_type_other',\n",
       " 'infant_complications_A_brady',\n",
       " 'infant_complications_A_acidosis',\n",
       " 'infant_complications_A_meconium',\n",
       " 'infant_complications_A_cord_pro',\n",
       " 'infant_complications_A_MLD',\n",
       " 'infant_complications_A_MVD',\n",
       " 'infant_complications_A_oligohyd',\n",
       " 'infant_complications_A_shol_dys',\n",
       " 'infant_complications_A_polyhydr',\n",
       " 'infant_complications_A_decvarib',\n",
       " 'infant_complications_A_tachy',\n",
       " 'infant_complications_A_other',\n",
       " 'reason_for_admission_Spon_Ab',\n",
       " 'reason_for_admission_Labor',\n",
       " 'reason_for_admission_PTL',\n",
       " 'reason_for_admission_Induce',\n",
       " 'reason_for_admission_Rept_CS',\n",
       " 'reason_for_admission_Prim_CS',\n",
       " 'reason_for_admission_ROM',\n",
       " 'reason_for_admission_Observe',\n",
       " 'reason_for_admission_other',\n",
       " 'race_black',\n",
       " 'race_white',\n",
       " 'race_pacific_islander',\n",
       " 'race_asian',\n",
       " 'race_arabic',\n",
       " 'race_american_indian',\n",
       " 'race_other']"
      ]
     },
     "execution_count": 20,
     "metadata": {},
     "output_type": "execute_result"
    }
   ],
   "source": [
    "bool_cols"
   ]
  },
  {
   "cell_type": "code",
   "execution_count": 12,
   "id": "aeb8a8c9",
   "metadata": {},
   "outputs": [],
   "source": [
    "data_cat['County'].fillna('unknown', inplace=True)\n",
    "data_cat['Laceration.Extension'].fillna('unknown', inplace=True)\n",
    "data_cat['Oxytocin'].fillna('unknown', inplace=True)\n",
    "data_cat['Provider.On.Admission'].fillna('unknown', inplace=True)"
   ]
  },
  {
   "cell_type": "code",
   "execution_count": 13,
   "id": "8035a192-3dbb-4c93-840f-819ed981e685",
   "metadata": {},
   "outputs": [],
   "source": [
    "data_cat = data_cat.apply(lambda x: x.fillna(x.value_counts().index[0]))"
   ]
  },
  {
   "cell_type": "code",
   "execution_count": null,
   "id": "b9552300-3e36-42db-b1bb-63e5626c9279",
   "metadata": {},
   "outputs": [],
   "source": []
  },
  {
   "cell_type": "code",
   "execution_count": null,
   "id": "1be1f24e-b6a4-4d89-a424-c8e55ad1928b",
   "metadata": {},
   "outputs": [],
   "source": []
  },
  {
   "cell_type": "code",
   "execution_count": 14,
   "id": "a74a9c00-90e9-41d5-838c-9689361055cc",
   "metadata": {},
   "outputs": [],
   "source": [
    "imputed_training = fast_knn(data_num.values, k=10)"
   ]
  },
  {
   "cell_type": "code",
   "execution_count": 15,
   "id": "8c4d915b-8179-482b-92f6-36893b208247",
   "metadata": {},
   "outputs": [],
   "source": [
    "data_num = pd.DataFrame(imputed_training, index=data_num.index, columns=data_num.columns)"
   ]
  },
  {
   "cell_type": "code",
   "execution_count": null,
   "id": "0cb71c83",
   "metadata": {},
   "outputs": [],
   "source": []
  },
  {
   "cell_type": "code",
   "execution_count": 16,
   "id": "17a358be-afc2-4c9c-bd87-5ccab2010187",
   "metadata": {},
   "outputs": [
    {
     "data": {
      "text/plain": [
       "Age                         False\n",
       "Gravida                     False\n",
       "Para                        False\n",
       "Number.of.Babies.In.Womb    False\n",
       "Delivery.Year               False\n",
       "                            ...  \n",
       "race_pacific_islander       False\n",
       "race_asian                  False\n",
       "race_arabic                 False\n",
       "race_american_indian        False\n",
       "race_other                  False\n",
       "Length: 93, dtype: bool"
      ]
     },
     "execution_count": 16,
     "metadata": {},
     "output_type": "execute_result"
    }
   ],
   "source": [
    "new_data = pd.concat([data_num, data_cat, data_bool], axis=1)\n",
    "new_data.isna().any()"
   ]
  },
  {
   "cell_type": "code",
   "execution_count": 289,
   "id": "48cffe6e-2f71-4866-83c6-2fc34f4d10a4",
   "metadata": {},
   "outputs": [],
   "source": [
    "new_data.to_csv('../data/data_ml.csv')"
   ]
  },
  {
   "cell_type": "code",
   "execution_count": 17,
   "id": "e8c908c0",
   "metadata": {},
   "outputs": [
    {
     "data": {
      "text/plain": [
       "(17620, 93)"
      ]
     },
     "execution_count": 17,
     "metadata": {},
     "output_type": "execute_result"
    }
   ],
   "source": [
    "new_data.shape"
   ]
  },
  {
   "cell_type": "code",
   "execution_count": 21,
   "id": "fe692411",
   "metadata": {},
   "outputs": [
    {
     "data": {
      "text/plain": [
       "53"
      ]
     },
     "execution_count": 21,
     "metadata": {},
     "output_type": "execute_result"
    }
   ],
   "source": [
    "93-46+6"
   ]
  }
 ],
 "metadata": {
  "kernelspec": {
   "display_name": "Python 3 (ipykernel)",
   "language": "python",
   "name": "python3"
  },
  "language_info": {
   "codemirror_mode": {
    "name": "ipython",
    "version": 3
   },
   "file_extension": ".py",
   "mimetype": "text/x-python",
   "name": "python",
   "nbconvert_exporter": "python",
   "pygments_lexer": "ipython3",
   "version": "3.11.5"
  }
 },
 "nbformat": 4,
 "nbformat_minor": 5
}
