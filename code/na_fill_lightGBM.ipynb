{
 "cells": [
  {
   "cell_type": "code",
   "execution_count": 2,
   "id": "86192290-0bf9-4f0a-9c1d-825fc91809a2",
   "metadata": {},
   "outputs": [],
   "source": [
    "import pandas as pd\n",
    "import numpy as np\n"
   ]
  },
  {
   "cell_type": "code",
   "execution_count": null,
   "id": "9e430851-4aae-43ed-8799-e117f198dc07",
   "metadata": {},
   "outputs": [],
   "source": []
  },
  {
   "cell_type": "code",
   "execution_count": 3,
   "id": "1e2695a7-324b-45d1-bf5f-86a5f02db4d5",
   "metadata": {},
   "outputs": [
    {
     "name": "stderr",
     "output_type": "stream",
     "text": [
      "/tmp/ipykernel_902508/1053068604.py:1: DtypeWarning: Columns (47,48,49,50,51,52,53,54,55,56,57,58,59,60,61,62,63,64,65,66,67,68,69,70,71,72,73,74,75,76,77,78,79,80,81,82,83,84,85,86,87,88,89,90,91,92) have mixed types. Specify dtype option on import or set low_memory=False.\n",
      "  df = pd.read_csv('../data/data_NA.csv')\n"
     ]
    }
   ],
   "source": [
    "df = pd.read_csv('../data/data_NA.csv')"
   ]
  },
  {
   "cell_type": "code",
   "execution_count": 4,
   "id": "da0cd80f",
   "metadata": {},
   "outputs": [
    {
     "data": {
      "text/plain": [
       "(17620, 93)"
      ]
     },
     "execution_count": 4,
     "metadata": {},
     "output_type": "execute_result"
    }
   ],
   "source": [
    "df.shape"
   ]
  },
  {
   "cell_type": "code",
   "execution_count": 5,
   "id": "b1e7524c",
   "metadata": {},
   "outputs": [],
   "source": [
    "# Read the file into a vector (list of lines)\n",
    "def read_file_as_vector(file_path):\n",
    "    with open(file_path, 'r') as file:\n",
    "        lines = file.readlines()\n",
    "    # Remove newline characters from each line\n",
    "    lines = [line.strip() for line in lines]\n",
    "    return lines"
   ]
  },
  {
   "cell_type": "code",
   "execution_count": 6,
   "id": "3ec9fd31",
   "metadata": {},
   "outputs": [],
   "source": [
    "num_cols = read_file_as_vector('../data/num_columns.txt')\n",
    "cat_cols = read_file_as_vector('../data/factor_columns.txt')\n",
    "bool_cols = read_file_as_vector('../data/logical_columns.txt')"
   ]
  },
  {
   "cell_type": "code",
   "execution_count": 7,
   "id": "5169c76b",
   "metadata": {},
   "outputs": [
    {
     "data": {
      "text/plain": [
       "46"
      ]
     },
     "execution_count": 7,
     "metadata": {},
     "output_type": "execute_result"
    }
   ],
   "source": [
    "len(bool_cols)"
   ]
  },
  {
   "cell_type": "code",
   "execution_count": 9,
   "id": "b8e35c56-c9f1-4d53-8936-f9a38c3b6ca7",
   "metadata": {},
   "outputs": [
    {
     "data": {
      "text/plain": [
       "['delivery_anesthesia_epidural',\n",
       " 'delivery_anesthesia_spinal',\n",
       " 'delivery_anesthesia_local',\n",
       " 'delivery_anesthesia_pudenal',\n",
       " 'delivery_anesthesia_cse',\n",
       " 'delivery_anesthesia_general',\n",
       " 'delivery_anesthesia_intrathe',\n",
       " 'labor_anesthesia_epidural',\n",
       " 'labor_anesthesia_spinal',\n",
       " 'labor_anesthesia_cse',\n",
       " 'labor_anesthesia_general',\n",
       " 'labor_anesthesia_iv_sedation',\n",
       " 'laceration_type_none',\n",
       " 'laceration_type_vaginal',\n",
       " 'laceration_type_perineal',\n",
       " 'laceration_type_periuret',\n",
       " 'laceration_type_cervical',\n",
       " 'laceration_type_other',\n",
       " 'infant_complications_A_brady',\n",
       " 'infant_complications_A_acidosis',\n",
       " 'infant_complications_A_meconium',\n",
       " 'infant_complications_A_cord_pro',\n",
       " 'infant_complications_A_MLD',\n",
       " 'infant_complications_A_MVD',\n",
       " 'infant_complications_A_oligohyd',\n",
       " 'infant_complications_A_shol_dys',\n",
       " 'infant_complications_A_polyhydr',\n",
       " 'infant_complications_A_decvarib',\n",
       " 'infant_complications_A_tachy',\n",
       " 'infant_complications_A_other',\n",
       " 'reason_for_admission_Spon_Ab',\n",
       " 'reason_for_admission_Labor',\n",
       " 'reason_for_admission_PTL',\n",
       " 'reason_for_admission_Induce',\n",
       " 'reason_for_admission_Rept_CS',\n",
       " 'reason_for_admission_Prim_CS',\n",
       " 'reason_for_admission_ROM',\n",
       " 'reason_for_admission_Observe',\n",
       " 'reason_for_admission_other',\n",
       " 'race_black',\n",
       " 'race_white',\n",
       " 'race_pacific_islander',\n",
       " 'race_asian',\n",
       " 'race_arabic',\n",
       " 'race_american_indian',\n",
       " 'race_other']"
      ]
     },
     "execution_count": 9,
     "metadata": {},
     "output_type": "execute_result"
    }
   ],
   "source": [
    "bool_cols"
   ]
  },
  {
   "cell_type": "code",
   "execution_count": 8,
   "id": "b6cdbea6",
   "metadata": {},
   "outputs": [],
   "source": [
    "df[bool_cols] = df[bool_cols].astype(bool)"
   ]
  },
  {
   "cell_type": "code",
   "execution_count": 10,
   "id": "b9552300-3e36-42db-b1bb-63e5626c9279",
   "metadata": {},
   "outputs": [
    {
     "name": "stdout",
     "output_type": "stream",
     "text": [
      "Age                       True\n",
      "County                    True\n",
      "Gravida                   True\n",
      "Para                      True\n",
      "Episiotomy                True\n",
      "                         ...  \n",
      "race_pacific_islander    False\n",
      "race_asian               False\n",
      "race_arabic              False\n",
      "race_american_indian     False\n",
      "race_other               False\n",
      "Length: 93, dtype: bool\n"
     ]
    }
   ],
   "source": [
    "print(df.isna().any())"
   ]
  }
 ],
 "metadata": {
  "kernelspec": {
   "display_name": "Python 3 (ipykernel)",
   "language": "python",
   "name": "python3"
  },
  "language_info": {
   "codemirror_mode": {
    "name": "ipython",
    "version": 3
   },
   "file_extension": ".py",
   "mimetype": "text/x-python",
   "name": "python",
   "nbconvert_exporter": "python",
   "pygments_lexer": "ipython3",
   "version": "3.11.5"
  }
 },
 "nbformat": 4,
 "nbformat_minor": 5
}
