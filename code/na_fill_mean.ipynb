{
 "cells": [
  {
   "cell_type": "code",
   "execution_count": 1,
   "id": "86192290-0bf9-4f0a-9c1d-825fc91809a2",
   "metadata": {},
   "outputs": [],
   "source": [
    "import pandas as pd\n",
    "import numpy as np"
   ]
  },
  {
   "cell_type": "code",
   "execution_count": 2,
   "id": "1e2695a7-324b-45d1-bf5f-86a5f02db4d5",
   "metadata": {},
   "outputs": [
    {
     "name": "stderr",
     "output_type": "stream",
     "text": [
      "/var/folders/0r/r2dplk4d72d437ygr7ycq8kw0000gn/T/ipykernel_93991/1053068604.py:1: DtypeWarning: Columns (47,48,49,50,51,52,53,54,55,56,57,58,59,60,61,62,63,64,65,66,67,68,69,70,71,72,73,74,75,76,77,78,79,80,81,82,83,84,85,86,87,88,89,90,91,92) have mixed types. Specify dtype option on import or set low_memory=False.\n",
      "  df = pd.read_csv('../data/data_NA.csv')\n"
     ]
    }
   ],
   "source": [
    "df = pd.read_csv('../data/data_NA.csv')"
   ]
  },
  {
   "cell_type": "code",
   "execution_count": 3,
   "id": "95681407",
   "metadata": {},
   "outputs": [],
   "source": [
    "# Read the file into a vector (list of lines)\n",
    "def read_file_as_vector(file_path):\n",
    "    with open(file_path, 'r') as file:\n",
    "        lines = file.readlines()\n",
    "    # Remove newline characters from each line\n",
    "    lines = [line.strip() for line in lines]\n",
    "    return lines"
   ]
  },
  {
   "cell_type": "code",
   "execution_count": 4,
   "id": "100edfee",
   "metadata": {},
   "outputs": [],
   "source": [
    "num_cols = read_file_as_vector('../data/num_columns.txt')\n",
    "cat_cols = read_file_as_vector('../data/factor_columns.txt')\n",
    "bool_cols = read_file_as_vector('../data/logical_columns.txt')"
   ]
  },
  {
   "cell_type": "code",
   "execution_count": 5,
   "id": "d790f6b9",
   "metadata": {},
   "outputs": [],
   "source": [
    "df[bool_cols] = df[bool_cols].astype(bool)"
   ]
  },
  {
   "cell_type": "code",
   "execution_count": 6,
   "id": "cfada794",
   "metadata": {},
   "outputs": [],
   "source": [
    "missing_percentage=df.isnull().mean().round(4).mul(100)"
   ]
  },
  {
   "cell_type": "code",
   "execution_count": 7,
   "id": "6f0e9be3",
   "metadata": {},
   "outputs": [
    {
     "data": {
      "text/plain": [
       "Age                      0.07\n",
       "County                   9.59\n",
       "Gravida                  0.11\n",
       "Para                     0.28\n",
       "Episiotomy               2.19\n",
       "                         ... \n",
       "race_pacific_islander    0.00\n",
       "race_asian               0.00\n",
       "race_arabic              0.00\n",
       "race_american_indian     0.00\n",
       "race_other               0.00\n",
       "Length: 93, dtype: float64"
      ]
     },
     "execution_count": 7,
     "metadata": {},
     "output_type": "execute_result"
    }
   ],
   "source": [
    "missing_percentage"
   ]
  },
  {
   "cell_type": "code",
   "execution_count": 8,
   "id": "d7077980",
   "metadata": {},
   "outputs": [
    {
     "data": {
      "text/plain": [
       "(17620, 93)"
      ]
     },
     "execution_count": 8,
     "metadata": {},
     "output_type": "execute_result"
    }
   ],
   "source": [
    "df.shape"
   ]
  },
  {
   "cell_type": "code",
   "execution_count": 9,
   "id": "8dfc3cd2-aec5-4131-a556-2a7d10585c59",
   "metadata": {},
   "outputs": [],
   "source": [
    "data_bool = df[bool_cols].copy()\n",
    "data_cat = df[cat_cols].copy()\n",
    "data_num = df[num_cols].copy()"
   ]
  },
  {
   "cell_type": "code",
   "execution_count": 10,
   "id": "ff60a38e",
   "metadata": {},
   "outputs": [
    {
     "data": {
      "text/plain": [
       "Age                           float64\n",
       "Gravida                       float64\n",
       "Para                          float64\n",
       "Number.of.Babies.In.Womb      float64\n",
       "Delivery.Year                 float64\n",
       "Infant.Cord.Vessels.A         float64\n",
       "Infant.Length.A               float64\n",
       "Birthweight.A                 float64\n",
       "GA.At.Birth.A                 float64\n",
       "Weight.Prepregnancy           float64\n",
       "Weight.Gain.Pounds            float64\n",
       "OFC.At.Birth.Baby.A.In        float64\n",
       "Quantitative.Blood.Loss.DS    float64\n",
       "Weight.Delivery               float64\n",
       "BMI_delivery                  float64\n",
       "BMI_prepregnancy              float64\n",
       "Labortime                     float64\n",
       "dtype: object"
      ]
     },
     "execution_count": 10,
     "metadata": {},
     "output_type": "execute_result"
    }
   ],
   "source": [
    "data_num.dtypes"
   ]
  },
  {
   "cell_type": "code",
   "execution_count": 11,
   "id": "a3c20a62",
   "metadata": {},
   "outputs": [],
   "source": [
    "data_bool = data_bool.apply(lambda x: x.fillna(False))"
   ]
  },
  {
   "cell_type": "code",
   "execution_count": 12,
   "id": "5b29354d",
   "metadata": {},
   "outputs": [
    {
     "data": {
      "text/plain": [
       "Index(['County', 'Episiotomy', 'Laceration.Extension', 'Amniotic.Fluid.Color',\n",
       "       'Attempt.to.Vbac', 'Csection.Incidence', 'Csection.Urgency',\n",
       "       'Membranes.Rupture.Method', 'Oxytocin', 'Delivery.Month',\n",
       "       'Gestational.Status.A', 'Born.In.Route.A', 'Fetal.Presentation.A',\n",
       "       'Method.of.Delivery.A', 'Forceps.a', 'Vacuum.Extraction.A', 'VBAC.A',\n",
       "       'Infant.Sex.A', 'Cervical.Ripening.Agents', 'Preterm.Labor',\n",
       "       'Premature.Rom', 'Hypertensive.Disorders.Preg', 'Diabetes',\n",
       "       'Adm.Alcohol', 'Adm.Cigarettes', 'Adm.Marijuana', 'Adm.Cocaine.Crack',\n",
       "       'Adm.Illicit.Drugs', 'Provider.On.Admission', 'Ethnicity'],\n",
       "      dtype='object')"
      ]
     },
     "execution_count": 12,
     "metadata": {},
     "output_type": "execute_result"
    }
   ],
   "source": [
    "data_cat.columns"
   ]
  },
  {
   "cell_type": "code",
   "execution_count": 13,
   "id": "5f6e0177-2ffc-40f9-888f-f61ad6ee4a52",
   "metadata": {},
   "outputs": [],
   "source": [
    "data_cat['County'].fillna('unknown', inplace=True)"
   ]
  },
  {
   "cell_type": "code",
   "execution_count": 15,
   "id": "63ddb9d8-05de-411c-9794-7a7744a28a18",
   "metadata": {},
   "outputs": [],
   "source": [
    "data_cat['Oxytocin'].fillna('unknown', inplace=True)"
   ]
  },
  {
   "cell_type": "code",
   "execution_count": 14,
   "id": "9b9db58a-2aeb-4722-b190-acf12a46a105",
   "metadata": {},
   "outputs": [],
   "source": [
    "data_cat['Provider.On.Admission'].fillna('unknown', inplace=True)"
   ]
  },
  {
   "cell_type": "code",
   "execution_count": 16,
   "id": "8035a192-3dbb-4c93-840f-819ed981e685",
   "metadata": {},
   "outputs": [],
   "source": [
    "data_cat = data_cat.apply(lambda x: x.fillna(x.value_counts().index[0]))"
   ]
  },
  {
   "cell_type": "code",
   "execution_count": 17,
   "id": "b9552300-3e36-42db-b1bb-63e5626c9279",
   "metadata": {},
   "outputs": [],
   "source": [
    "data_num = data_num.apply(lambda x: x.fillna(x.mean()))"
   ]
  },
  {
   "cell_type": "code",
   "execution_count": null,
   "id": "1be1f24e-b6a4-4d89-a424-c8e55ad1928b",
   "metadata": {},
   "outputs": [],
   "source": []
  },
  {
   "cell_type": "code",
   "execution_count": null,
   "id": "0cb71c83",
   "metadata": {},
   "outputs": [],
   "source": []
  },
  {
   "cell_type": "code",
   "execution_count": 18,
   "id": "17a358be-afc2-4c9c-bd87-5ccab2010187",
   "metadata": {},
   "outputs": [
    {
     "data": {
      "text/plain": [
       "Age                         False\n",
       "Gravida                     False\n",
       "Para                        False\n",
       "Number.of.Babies.In.Womb    False\n",
       "Delivery.Year               False\n",
       "                            ...  \n",
       "race_pacific_islander       False\n",
       "race_asian                  False\n",
       "race_arabic                 False\n",
       "race_american_indian        False\n",
       "race_other                  False\n",
       "Length: 93, dtype: bool"
      ]
     },
     "execution_count": 18,
     "metadata": {},
     "output_type": "execute_result"
    }
   ],
   "source": [
    "new_data = pd.concat([data_num, data_cat, data_bool], axis=1)\n",
    "new_data.isna().any()"
   ]
  },
  {
   "cell_type": "code",
   "execution_count": 127,
   "id": "48cffe6e-2f71-4866-83c6-2fc34f4d10a4",
   "metadata": {},
   "outputs": [],
   "source": [
    "new_data.to_csv('../data/data_mean.csv')"
   ]
  },
  {
   "cell_type": "code",
   "execution_count": 19,
   "id": "e8c908c0",
   "metadata": {},
   "outputs": [
    {
     "data": {
      "text/plain": [
       "(17620, 93)"
      ]
     },
     "execution_count": 19,
     "metadata": {},
     "output_type": "execute_result"
    }
   ],
   "source": [
    "new_data.shape"
   ]
  }
 ],
 "metadata": {
  "kernelspec": {
   "display_name": "Python 3 (ipykernel)",
   "language": "python",
   "name": "python3"
  },
  "language_info": {
   "codemirror_mode": {
    "name": "ipython",
    "version": 3
   },
   "file_extension": ".py",
   "mimetype": "text/x-python",
   "name": "python",
   "nbconvert_exporter": "python",
   "pygments_lexer": "ipython3",
   "version": "3.10.9"
  }
 },
 "nbformat": 4,
 "nbformat_minor": 5
}
