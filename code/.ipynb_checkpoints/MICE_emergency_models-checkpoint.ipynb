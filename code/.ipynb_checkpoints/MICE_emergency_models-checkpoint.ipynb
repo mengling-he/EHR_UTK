{
 "cells": [
  {
   "cell_type": "code",
   "execution_count": 1,
   "id": "127ace4d",
   "metadata": {},
   "outputs": [],
   "source": [
    "import pandas as pd\n",
    "import numpy as np\n",
    "import scipy.stats as st\n",
    "from sklearn.preprocessing import LabelEncoder\n",
    "from collections import Counter\n",
    "import matplotlib.pyplot as plt\n",
    "import seaborn as sns\n",
    "import os\n",
    "from sklearn.metrics import accuracy_score, precision_score, recall_score, roc_auc_score"
   ]
  },
  {
   "cell_type": "code",
   "execution_count": 2,
   "id": "4833f1f3",
   "metadata": {},
   "outputs": [
    {
     "name": "stderr",
     "output_type": "stream",
     "text": [
      "2024-07-12 16:56:21.167766: I tensorflow/core/platform/cpu_feature_guard.cc:193] This TensorFlow binary is optimized with oneAPI Deep Neural Network Library (oneDNN) to use the following CPU instructions in performance-critical operations:  SSE4.1 SSE4.2 AVX AVX2 FMA\n",
      "To enable them in other operations, rebuild TensorFlow with the appropriate compiler flags.\n"
     ]
    }
   ],
   "source": [
    "from functions import helpers\n",
    "from functions import models\n",
    "from functions import classifiers\n",
    "from functions import metric"
   ]
  },
  {
   "cell_type": "code",
   "execution_count": 3,
   "id": "21c39c13",
   "metadata": {},
   "outputs": [],
   "source": [
    "df_mice = pd.read_csv('../data/data_mice.csv')\n",
    "df_mice = df_mice[df_mice['Csection.Urgency'] != 'Schedule']\n",
    "del df_mice['Method.of.Delivery.A']\n",
    "del df_mice['Csection.Incidence'] "
   ]
  },
  {
   "cell_type": "code",
   "execution_count": 4,
   "id": "1e97bed1",
   "metadata": {},
   "outputs": [],
   "source": [
    "urgency_mice = df_mice.pop('Csection.Urgency')"
   ]
  },
  {
   "cell_type": "code",
   "execution_count": 5,
   "id": "2716934c",
   "metadata": {},
   "outputs": [
    {
     "name": "stdout",
     "output_type": "stream",
     "text": [
      "Counter({1: 12334, 2: 2572, 0: 500})\n"
     ]
    }
   ],
   "source": [
    "labels_mice=LabelEncoder().fit_transform(urgency_mice)\n",
    "print(Counter(labels_mice))"
   ]
  },
  {
   "cell_type": "code",
   "execution_count": 6,
   "id": "d1bfb8b8",
   "metadata": {},
   "outputs": [
    {
     "name": "stdout",
     "output_type": "stream",
     "text": [
      "<class 'pandas.core.frame.DataFrame'>\n",
      "Int64Index: 15406 entries, 0 to 17619\n",
      "Data columns (total 90 columns):\n",
      " #   Column                           Non-Null Count  Dtype  \n",
      "---  ------                           --------------  -----  \n",
      " 0   Age                              15406 non-null  int64  \n",
      " 1   Gravida                          15406 non-null  int64  \n",
      " 2   Para                             15406 non-null  int64  \n",
      " 3   Number.of.Babies.In.Womb         15406 non-null  int64  \n",
      " 4   Delivery.Year                    15406 non-null  int64  \n",
      " 5   Infant.Cord.Vessels.A            15406 non-null  int64  \n",
      " 6   Infant.Length.A                  15406 non-null  float64\n",
      " 7   Birthweight.A                    15406 non-null  int64  \n",
      " 8   GA.At.Birth.A                    15406 non-null  float64\n",
      " 9   Weight.Prepregnancy              15406 non-null  int64  \n",
      " 10  Weight.Gain.Pounds               15406 non-null  int64  \n",
      " 11  OFC.At.Birth.Baby.A.In           15406 non-null  float64\n",
      " 12  Quantitative.Blood.Loss.DS       15406 non-null  int64  \n",
      " 13  Weight.Delivery                  15406 non-null  int64  \n",
      " 14  BMI_delivery                     15406 non-null  float64\n",
      " 15  BMI_prepregnancy                 15406 non-null  float64\n",
      " 16  Labortime                        15406 non-null  int64  \n",
      " 17  County                           15406 non-null  object \n",
      " 18  Episiotomy                       15406 non-null  object \n",
      " 19  Laceration.Extension             15406 non-null  object \n",
      " 20  Amniotic.Fluid.Color             15406 non-null  object \n",
      " 21  Attempt.to.Vbac                  15406 non-null  object \n",
      " 22  Membranes.Rupture.Method         15406 non-null  object \n",
      " 23  Oxytocin                         15406 non-null  object \n",
      " 24  Delivery.Month                   15406 non-null  object \n",
      " 25  Gestational.Status.A             15406 non-null  object \n",
      " 26  Born.In.Route.A                  15406 non-null  object \n",
      " 27  Fetal.Presentation.A             15406 non-null  object \n",
      " 28  Forceps.a                        15406 non-null  object \n",
      " 29  Vacuum.Extraction.A              15406 non-null  object \n",
      " 30  VBAC.A                           15406 non-null  object \n",
      " 31  Infant.Sex.A                     15406 non-null  object \n",
      " 32  Cervical.Ripening.Agents         15406 non-null  object \n",
      " 33  Preterm.Labor                    15406 non-null  object \n",
      " 34  Premature.Rom                    15406 non-null  object \n",
      " 35  Hypertensive.Disorders.Preg      15406 non-null  object \n",
      " 36  Diabetes                         15406 non-null  object \n",
      " 37  Adm.Alcohol                      15406 non-null  object \n",
      " 38  Adm.Cigarettes                   15406 non-null  object \n",
      " 39  Adm.Marijuana                    15406 non-null  object \n",
      " 40  Adm.Cocaine.Crack                15406 non-null  object \n",
      " 41  Adm.Illicit.Drugs                15406 non-null  object \n",
      " 42  Provider.On.Admission            15406 non-null  object \n",
      " 43  Ethnicity                        15406 non-null  object \n",
      " 44  delivery_anesthesia_epidural     15406 non-null  bool   \n",
      " 45  delivery_anesthesia_spinal       15406 non-null  bool   \n",
      " 46  delivery_anesthesia_local        15406 non-null  bool   \n",
      " 47  delivery_anesthesia_pudenal      15406 non-null  bool   \n",
      " 48  delivery_anesthesia_cse          15406 non-null  bool   \n",
      " 49  delivery_anesthesia_general      15406 non-null  bool   \n",
      " 50  delivery_anesthesia_intrathe     15406 non-null  bool   \n",
      " 51  labor_anesthesia_epidural        15406 non-null  bool   \n",
      " 52  labor_anesthesia_spinal          15406 non-null  bool   \n",
      " 53  labor_anesthesia_cse             15406 non-null  bool   \n",
      " 54  labor_anesthesia_general         15406 non-null  bool   \n",
      " 55  labor_anesthesia_iv_sedation     15406 non-null  bool   \n",
      " 56  laceration_type_none             15406 non-null  bool   \n",
      " 57  laceration_type_vaginal          15406 non-null  bool   \n",
      " 58  laceration_type_perineal         15406 non-null  bool   \n",
      " 59  laceration_type_periuret         15406 non-null  bool   \n",
      " 60  laceration_type_cervical         15406 non-null  bool   \n",
      " 61  laceration_type_other            15406 non-null  bool   \n",
      " 62  infant_complications_A_brady     15406 non-null  bool   \n",
      " 63  infant_complications_A_acidosis  15406 non-null  bool   \n",
      " 64  infant_complications_A_meconium  15406 non-null  bool   \n",
      " 65  infant_complications_A_cord_pro  15406 non-null  bool   \n",
      " 66  infant_complications_A_MLD       15406 non-null  bool   \n",
      " 67  infant_complications_A_MVD       15406 non-null  bool   \n",
      " 68  infant_complications_A_oligohyd  15406 non-null  bool   \n",
      " 69  infant_complications_A_shol_dys  15406 non-null  bool   \n",
      " 70  infant_complications_A_polyhydr  15406 non-null  bool   \n",
      " 71  infant_complications_A_decvarib  15406 non-null  bool   \n",
      " 72  infant_complications_A_tachy     15406 non-null  bool   \n",
      " 73  infant_complications_A_other     15406 non-null  bool   \n",
      " 74  reason_for_admission_Spon_Ab     15406 non-null  bool   \n",
      " 75  reason_for_admission_Labor       15406 non-null  bool   \n",
      " 76  reason_for_admission_PTL         15406 non-null  bool   \n",
      " 77  reason_for_admission_Induce      15406 non-null  bool   \n",
      " 78  reason_for_admission_Rept_CS     15406 non-null  bool   \n",
      " 79  reason_for_admission_Prim_CS     15406 non-null  bool   \n",
      " 80  reason_for_admission_ROM         15406 non-null  bool   \n",
      " 81  reason_for_admission_Observe     15406 non-null  bool   \n",
      " 82  reason_for_admission_other       15406 non-null  bool   \n",
      " 83  race_black                       15406 non-null  bool   \n",
      " 84  race_white                       15406 non-null  bool   \n",
      " 85  race_pacific_islander            15406 non-null  bool   \n",
      " 86  race_asian                       15406 non-null  bool   \n",
      " 87  race_arabic                      15406 non-null  bool   \n",
      " 88  race_american_indian             15406 non-null  bool   \n",
      " 89  race_other                       15406 non-null  bool   \n",
      "dtypes: bool(46), float64(5), int64(12), object(27)\n",
      "memory usage: 6.0+ MB\n"
     ]
    }
   ],
   "source": [
    "df_mice.info()"
   ]
  },
  {
   "cell_type": "markdown",
   "id": "4e24ce48",
   "metadata": {},
   "source": [
    "###  Model ( RF / CatBoost)"
   ]
  },
  {
   "cell_type": "code",
   "execution_count": 8,
   "id": "64d85a45",
   "metadata": {},
   "outputs": [],
   "source": [
    "features = pd.get_dummies(df_mice)"
   ]
  },
  {
   "cell_type": "code",
   "execution_count": 9,
   "id": "d273c47c",
   "metadata": {},
   "outputs": [],
   "source": [
    "X_train, X_test, y_train, y_test = helpers.split_and_scale_data(features, labels_mice)"
   ]
  },
  {
   "cell_type": "code",
   "execution_count": 10,
   "id": "c860c680",
   "metadata": {},
   "outputs": [
    {
     "name": "stdout",
     "output_type": "stream",
     "text": [
      "(10784, 235) (4622, 235)\n"
     ]
    }
   ],
   "source": [
    "print(X_train.shape,X_test.shape)"
   ]
  },
  {
   "cell_type": "code",
   "execution_count": 11,
   "id": "24aa0e1d",
   "metadata": {},
   "outputs": [
    {
     "name": "stdout",
     "output_type": "stream",
     "text": [
      "Counter({1: 8608, 2: 1815, 0: 361})\n"
     ]
    }
   ],
   "source": [
    "print(Counter(y_train))"
   ]
  },
  {
   "cell_type": "code",
   "execution_count": 12,
   "id": "9e4c585c",
   "metadata": {},
   "outputs": [
    {
     "name": "stdout",
     "output_type": "stream",
     "text": [
      "Counter({1: 3726, 2: 757, 0: 139})\n"
     ]
    }
   ],
   "source": [
    "print(Counter(y_test))"
   ]
  },
  {
   "cell_type": "code",
   "execution_count": 13,
   "id": "1d2aae0f",
   "metadata": {},
   "outputs": [
    {
     "name": "stdout",
     "output_type": "stream",
     "text": [
      "Counter({1: 8608, 2: 8608, 0: 8608})\n"
     ]
    }
   ],
   "source": [
    "X_train, y_train = helpers.perform_SMOTE(X_train, y_train)\n",
    "print(Counter(y_train))"
   ]
  },
  {
   "cell_type": "code",
   "execution_count": 14,
   "id": "84d57d2e",
   "metadata": {},
   "outputs": [
    {
     "data": {
      "text/plain": [
       "array([1, 1, 1, ..., 1, 1, 1])"
      ]
     },
     "execution_count": 14,
     "metadata": {},
     "output_type": "execute_result"
    }
   ],
   "source": [
    "y_test"
   ]
  },
  {
   "cell_type": "code",
   "execution_count": null,
   "id": "87928328",
   "metadata": {},
   "outputs": [],
   "source": []
  },
  {
   "cell_type": "markdown",
   "id": "56431ae2",
   "metadata": {},
   "source": [
    "#### LASSO"
   ]
  },
  {
   "cell_type": "markdown",
   "id": "50733d8a",
   "metadata": {},
   "source": [
    "#### RF"
   ]
  },
  {
   "cell_type": "code",
   "execution_count": 15,
   "id": "a84abc2c",
   "metadata": {},
   "outputs": [
    {
     "name": "stdout",
     "output_type": "stream",
     "text": [
      "Building model for label: Urgent Csection\n",
      "Predicting on test data for label: Urgent Csection\n"
     ]
    }
   ],
   "source": [
    "y_pred_binary2, y_pred2 = classifiers.run_RF(X_train, X_test, y_train, y_test, label='Urgent Csection')"
   ]
  },
  {
   "cell_type": "code",
   "execution_count": 28,
   "id": "dec15738",
   "metadata": {},
   "outputs": [
    {
     "name": "stdout",
     "output_type": "stream",
     "text": [
      "Counter({1: 3726, 2: 757, 0: 139})\n"
     ]
    }
   ],
   "source": [
    "print(Counter(y_test))"
   ]
  },
  {
   "cell_type": "code",
   "execution_count": 29,
   "id": "065e93f7",
   "metadata": {},
   "outputs": [
    {
     "name": "stdout",
     "output_type": "stream",
     "text": [
      "Counter({1: 2182, 0: 2147, 2: 293})\n"
     ]
    }
   ],
   "source": [
    "print(Counter(y_pred_binary2))"
   ]
  },
  {
   "cell_type": "code",
   "execution_count": 53,
   "id": "01229d53",
   "metadata": {},
   "outputs": [],
   "source": [
    "from sklearn import metrics\n",
    "def confusion_matrix2(y_true, y_pred):\n",
    "    plt.figure(figsize = (16,8))\n",
    "    unique_labels = np.unique(y_true)\n",
    "    sns.heatmap(metrics.confusion_matrix(y_true, y_pred), annot = True,fmt='d',\n",
    "                annot_kws={\"size\": 18},xticklabels = unique_labels, yticklabels = unique_labels, cmap = 'summer')\n",
    "    plt.xlabel('Predicted Labels',fontsize=16)\n",
    "    plt.ylabel('True Labels', fontsize=16)\n",
    "    plt.xticks(fontsize=16)  # Change the size of x-tick labels\n",
    "    plt.yticks(fontsize=16)\n",
    "    plt.show()"
   ]
  },
  {
   "cell_type": "code",
   "execution_count": 54,
   "id": "9b1ecd45",
   "metadata": {},
   "outputs": [
    {
     "data": {
      "text/plain": [
       "array([[ 124,    4,   11],\n",
       "       [1512, 2176,   38],\n",
       "       [ 511,    2,  244]])"
      ]
     },
     "execution_count": 54,
     "metadata": {},
     "output_type": "execute_result"
    }
   ],
   "source": [
    "metrics.confusion_matrix(y_test,y_pred_binary2)"
   ]
  },
  {
   "cell_type": "code",
   "execution_count": 55,
   "id": "ddf74718",
   "metadata": {},
   "outputs": [
    {
     "data": {
      "image/png": "[encoded data removed]",
      "text/plain": [
       "<Figure size 1600x800 with 2 Axes>"
      ]
     },
     "metadata": {},
     "output_type": "display_data"
    }
   ],
   "source": [
    "confusion_matrix2(y_test,y_pred_binary2)"
   ]
  },
  {
   "cell_type": "code",
   "execution_count": 50,
   "id": "36c908e7",
   "metadata": {},
   "outputs": [
    {
     "name": "stdout",
     "output_type": "stream",
     "text": [
      "AUC: {0: 0.7204130070915384, 1: 0.7886539327888965, 2: 0.6548235442895203}\n",
      "Accuracy: 0.5504110774556469\n",
      "Precision: 0.6292565793091276\n",
      "Recall: 0.599471861686319\n",
      "F1: 0.43662522030386497\n"
     ]
    }
   ],
   "source": [
    "print('AUC:', metric.roc_auc_score_multiclass(y_test, y_pred_binary2))\n",
    "print('Accuracy:', metric.accuracy(y_test, y_pred_binary2))\n",
    "print('Precision:', metric.macro_precision(y_test, y_pred_binary2))\n",
    "print('Recall:', metric.macro_recall(y_test, y_pred_binary2))\n",
    "print('F1:', metric.macro_f1(y_test, y_pred_binary2))"
   ]
  },
  {
   "cell_type": "code",
   "execution_count": 99,
   "id": "a00b90c9",
   "metadata": {},
   "outputs": [
    {
     "name": "stdout",
     "output_type": "stream",
     "text": [
      "Precision: 0.631926202524276\n",
      "Recall: 0.6080262581134341\n",
      "F1: 0.4526647874603769\n"
     ]
    }
   ],
   "source": [
    "print('Precision:', macro_precision(y_test, y_pred_binary2))\n",
    "print('Recall:', macro_recall(y_test, y_pred_binary2))\n",
    "print('F1:', macro_f1(y_test, y_pred_binary2))"
   ]
  },
  {
   "cell_type": "markdown",
   "id": "a6dfe645",
   "metadata": {},
   "source": []
  },
  {
   "cell_type": "markdown",
   "id": "faaee169",
   "metadata": {},
   "source": [
    "#### CatBoost "
   ]
  },
  {
   "cell_type": "code",
   "execution_count": 51,
   "id": "22c7bc5f",
   "metadata": {},
   "outputs": [
    {
     "name": "stdout",
     "output_type": "stream",
     "text": [
      "0:\tlearn: 0.9904001\ttotal: 144ms\tremaining: 14.3s\n",
      "10:\tlearn: 0.5572053\ttotal: 476ms\tremaining: 3.85s\n",
      "20:\tlearn: 0.4302674\ttotal: 811ms\tremaining: 3.05s\n",
      "30:\tlearn: 0.3661369\ttotal: 1.29s\tremaining: 2.87s\n",
      "40:\tlearn: 0.3249541\ttotal: 1.85s\tremaining: 2.66s\n",
      "50:\tlearn: 0.2984105\ttotal: 2.38s\tremaining: 2.29s\n",
      "60:\tlearn: 0.2753954\ttotal: 2.77s\tremaining: 1.77s\n",
      "70:\tlearn: 0.2564706\ttotal: 3.12s\tremaining: 1.27s\n",
      "80:\tlearn: 0.2415546\ttotal: 3.45s\tremaining: 809ms\n",
      "90:\tlearn: 0.2287052\ttotal: 3.91s\tremaining: 387ms\n",
      "99:\tlearn: 0.2176657\ttotal: 4.29s\tremaining: 0us\n"
     ]
    },
    {
     "data": {
      "text/plain": [
       "<catboost.core.CatBoostClassifier at 0x7fe879a37160>"
      ]
     },
     "execution_count": 51,
     "metadata": {},
     "output_type": "execute_result"
    }
   ],
   "source": [
    "from catboost import CatBoostClassifier\n",
    "# Create CatBoost classifier\n",
    "clf = CatBoostClassifier(iterations=100, learning_rate=0.1, depth=6)\n",
    "\n",
    "# Fit the classifier to the training data\n",
    "clf.fit(X_train, y_train, verbose=10)"
   ]
  },
  {
   "cell_type": "code",
   "execution_count": 52,
   "id": "c32ac5e9",
   "metadata": {},
   "outputs": [],
   "source": [
    "# Make predictions on the testing data\n",
    "y_pred_prob = clf.predict_proba(X_test)"
   ]
  },
  {
   "cell_type": "code",
   "execution_count": 57,
   "id": "fae227c0",
   "metadata": {},
   "outputs": [],
   "source": [
    "y_pred = clf.predict(X_test)"
   ]
  },
  {
   "cell_type": "code",
   "execution_count": 77,
   "id": "20dd65f8",
   "metadata": {},
   "outputs": [
    {
     "data": {
      "text/plain": [
       "array([[1],\n",
       "       [1],\n",
       "       [1],\n",
       "       ...,\n",
       "       [1],\n",
       "       [1],\n",
       "       [1]])"
      ]
     },
     "execution_count": 77,
     "metadata": {},
     "output_type": "execute_result"
    }
   ],
   "source": [
    "y_pred"
   ]
  },
  {
   "cell_type": "code",
   "execution_count": 33,
   "id": "c1a2eabd",
   "metadata": {},
   "outputs": [
    {
     "data": {
      "text/plain": [
       "array([[0.1513622 , 0.74696444, 0.10167336],\n",
       "       [0.19170167, 0.59727311, 0.21102523],\n",
       "       [0.02956459, 0.94030475, 0.03013066],\n",
       "       ...,\n",
       "       [0.01079521, 0.97113331, 0.01807147],\n",
       "       [0.06504043, 0.86795277, 0.0670068 ],\n",
       "       [0.09751752, 0.85715   , 0.04533248]])"
      ]
     },
     "execution_count": 33,
     "metadata": {},
     "output_type": "execute_result"
    }
   ],
   "source": [
    "y_pred_prob_0 = y_pred_prob[,0]"
   ]
  },
  {
   "cell_type": "code",
   "execution_count": 38,
   "id": "7d83cbdb",
   "metadata": {},
   "outputs": [],
   "source": [
    "#y_pred_prob_0 = y_pred_prob[:,0]"
   ]
  },
  {
   "cell_type": "code",
   "execution_count": 39,
   "id": "7cb51582",
   "metadata": {},
   "outputs": [
    {
     "data": {
      "text/plain": [
       "array([0.1513622 , 0.19170167, 0.02956459, ..., 0.01079521, 0.06504043,\n",
       "       0.09751752])"
      ]
     },
     "execution_count": 39,
     "metadata": {},
     "output_type": "execute_result"
    }
   ],
   "source": [
    "#y_pred_prob_0"
   ]
  },
  {
   "cell_type": "code",
   "execution_count": 58,
   "id": "327f228f",
   "metadata": {},
   "outputs": [
    {
     "data": {
      "image/png": "[encoded data removed]",
      "text/plain": [
       "<Figure size 1600x800 with 2 Axes>"
      ]
     },
     "metadata": {},
     "output_type": "display_data"
    }
   ],
   "source": [
    "confusion_matrix2(y_test,y_pred)"
   ]
  },
  {
   "cell_type": "code",
   "execution_count": 78,
   "id": "14a071b9",
   "metadata": {},
   "outputs": [
    {
     "data": {
      "image/png": "[encoded data removed]",
      "text/plain": [
       "<Figure size 1800x800 with 2 Axes>"
      ]
     },
     "metadata": {},
     "output_type": "display_data"
    }
   ],
   "source": [
    "metric.confusion_matrix2(y_test,y_pred)"
   ]
  },
  {
   "cell_type": "code",
   "execution_count": 61,
   "id": "74af2616",
   "metadata": {},
   "outputs": [
    {
     "name": "stdout",
     "output_type": "stream",
     "text": [
      "AUC: {0: 0.8186121190043281, 1: 0.9460319856606089, 2: 0.861855113379053}\n",
      "Accuracy: 0.8855473820856772\n",
      "Precision: 0.6598110349006455\n",
      "Recall: 0.7987238983409869\n",
      "F1: 0.6912025478456291\n"
     ]
    }
   ],
   "source": [
    "print('AUC:', metric.roc_auc_score_multiclass(y_test, y_pred))\n",
    "print('Accuracy:', metric.accuracy(y_test, y_pred))\n",
    "print('Precision:', metric.macro_precision(y_test, y_pred))\n",
    "print('Recall:', metric.macro_recall(y_test, y_pred))\n",
    "print('F1:', metric.macro_f1(y_test, y_pred))"
   ]
  },
  {
   "cell_type": "code",
   "execution_count": 97,
   "id": "c13c7cd6",
   "metadata": {},
   "outputs": [],
   "source": [
    "\n"
   ]
  },
  {
   "cell_type": "code",
   "execution_count": null,
   "id": "de01d35e",
   "metadata": {},
   "outputs": [],
   "source": []
  },
  {
   "cell_type": "code",
   "execution_count": null,
   "id": "1f3c3b11",
   "metadata": {},
   "outputs": [],
   "source": []
  },
  {
   "cell_type": "markdown",
   "id": "1b86204e",
   "metadata": {},
   "source": [
    "###  Model (AE +LASSO / RF/ CatBoost)"
   ]
  },
  {
   "cell_type": "code",
   "execution_count": 62,
   "id": "ef6f0561",
   "metadata": {},
   "outputs": [
    {
     "name": "stdout",
     "output_type": "stream",
     "text": [
      "807/807 [==============================] - 1s 1ms/step\n",
      "145/145 [==============================] - 0s 847us/step\n"
     ]
    }
   ],
   "source": [
    "AE_train, AE_test = models.run_AE(X_train, X_test)"
   ]
  },
  {
   "cell_type": "code",
   "execution_count": null,
   "id": "9f11a5ef",
   "metadata": {},
   "outputs": [],
   "source": []
  },
  {
   "cell_type": "markdown",
   "id": "74f012e6",
   "metadata": {},
   "source": [
    "#### RF"
   ]
  },
  {
   "cell_type": "code",
   "execution_count": 63,
   "id": "a97deb3e",
   "metadata": {},
   "outputs": [
    {
     "name": "stdout",
     "output_type": "stream",
     "text": [
      "Building model for label: Urgent Csection\n",
      "Predicting on test data for label: Urgent Csection\n"
     ]
    }
   ],
   "source": [
    "y_pred_AErf, y_pred_prob_AE = classifiers.run_RF(AE_train, AE_test, y_train, y_test, label='Urgent Csection')"
   ]
  },
  {
   "cell_type": "code",
   "execution_count": 64,
   "id": "340aa329",
   "metadata": {},
   "outputs": [
    {
     "data": {
      "image/png": "[encoded data removed]",
      "text/plain": [
       "<Figure size 1600x800 with 2 Axes>"
      ]
     },
     "metadata": {},
     "output_type": "display_data"
    }
   ],
   "source": [
    "confusion_matrix2(y_test,y_pred_AErf)"
   ]
  },
  {
   "cell_type": "code",
   "execution_count": 65,
   "id": "1fef484a",
   "metadata": {},
   "outputs": [
    {
     "name": "stdout",
     "output_type": "stream",
     "text": [
      "AUC: {0: 0.7265641423956529, 1: 0.835513057376735, 2: 0.7823981775955676}\n",
      "Accuracy: 0.8517957594115102\n"
     ]
    }
   ],
   "source": [
    "print('AUC:', metric.roc_auc_score_multiclass(y_test, y_pred_AErf))\n",
    "print('Accuracy:', metric.accuracy(y_test, y_pred_AErf))"
   ]
  },
  {
   "cell_type": "code",
   "execution_count": 66,
   "id": "ee6fcb08",
   "metadata": {},
   "outputs": [
    {
     "name": "stdout",
     "output_type": "stream",
     "text": [
      "Precision: 0.6124616107508515\n",
      "Recall: 0.6806253707508346\n",
      "F1: 0.6344173264992291\n"
     ]
    }
   ],
   "source": [
    "print('Precision:', metric.macro_precision(y_test, y_pred_AErf))\n",
    "print('Recall:', metric.macro_recall(y_test, y_pred_AErf))\n",
    "print('F1:', metric.macro_f1(y_test, y_pred_AErf))"
   ]
  },
  {
   "cell_type": "code",
   "execution_count": null,
   "id": "a1d05078",
   "metadata": {},
   "outputs": [],
   "source": []
  },
  {
   "cell_type": "markdown",
   "id": "8a8dcc2b",
   "metadata": {},
   "source": [
    "#### CatBoost"
   ]
  },
  {
   "cell_type": "code",
   "execution_count": 67,
   "id": "fc4b90a1",
   "metadata": {},
   "outputs": [
    {
     "name": "stdout",
     "output_type": "stream",
     "text": [
      "0:\tlearn: 1.0637070\ttotal: 75.9ms\tremaining: 7.51s\n",
      "10:\tlearn: 0.8486636\ttotal: 356ms\tremaining: 2.88s\n",
      "20:\tlearn: 0.7344671\ttotal: 617ms\tremaining: 2.32s\n",
      "30:\tlearn: 0.6539458\ttotal: 983ms\tremaining: 2.19s\n",
      "40:\tlearn: 0.5928646\ttotal: 1.31s\tremaining: 1.88s\n",
      "50:\tlearn: 0.5452486\ttotal: 1.75s\tremaining: 1.69s\n",
      "60:\tlearn: 0.5077598\ttotal: 2.05s\tremaining: 1.31s\n",
      "70:\tlearn: 0.4724170\ttotal: 2.38s\tremaining: 972ms\n",
      "80:\tlearn: 0.4431873\ttotal: 2.66s\tremaining: 623ms\n",
      "90:\tlearn: 0.4164494\ttotal: 2.94s\tremaining: 290ms\n",
      "99:\tlearn: 0.3953750\ttotal: 3.16s\tremaining: 0us\n"
     ]
    },
    {
     "data": {
      "text/plain": [
       "<catboost.core.CatBoostClassifier at 0x7fe890a8d330>"
      ]
     },
     "execution_count": 67,
     "metadata": {},
     "output_type": "execute_result"
    }
   ],
   "source": [
    "## AE+catboost (very fast, because no grid search?)\n",
    "clf_AE = CatBoostClassifier(iterations=100, learning_rate=0.1, depth=6)\n",
    "# Fit the classifier to the training data\n",
    "clf_AE.fit(AE_train, y_train, verbose=10)"
   ]
  },
  {
   "cell_type": "code",
   "execution_count": 68,
   "id": "a8d2963c",
   "metadata": {},
   "outputs": [],
   "source": [
    "# Make predictions on the testing data\n",
    "y_pred_prob_AEcat = clf_AE.predict_proba(AE_test)\n",
    "y_pred_AEcat = clf_AE.predict(AE_test)"
   ]
  },
  {
   "cell_type": "code",
   "execution_count": 69,
   "id": "c8f724f0",
   "metadata": {},
   "outputs": [
    {
     "data": {
      "image/png": "[encoded data removed]",
      "text/plain": [
       "<Figure size 1600x800 with 2 Axes>"
      ]
     },
     "metadata": {},
     "output_type": "display_data"
    }
   ],
   "source": [
    "confusion_matrix2(y_test,y_pred_AEcat)"
   ]
  },
  {
   "cell_type": "code",
   "execution_count": 70,
   "id": "5f6be2c4",
   "metadata": {},
   "outputs": [
    {
     "name": "stdout",
     "output_type": "stream",
     "text": [
      "AUC: {0: 0.7343441329916214, 1: 0.8650691808526954, 2: 0.8163635307206051}\n",
      "Accuracy: 0.8496321938554738\n"
     ]
    }
   ],
   "source": [
    "print('AUC:', metric.roc_auc_score_multiclass(y_test, y_pred_AEcat))\n",
    "print('Accuracy:', metric.accuracy(y_test, y_pred_AEcat))"
   ]
  },
  {
   "cell_type": "code",
   "execution_count": 71,
   "id": "04ca8cff",
   "metadata": {},
   "outputs": [
    {
     "name": "stdout",
     "output_type": "stream",
     "text": [
      "Precision: 0.608538230731889\n",
      "Recall: 0.7084107556791591\n",
      "F1: 0.6406676366682946\n"
     ]
    }
   ],
   "source": [
    "print('Precision:', metric.macro_precision(y_test, y_pred_AEcat))\n",
    "print('Recall:',metric.macro_recall(y_test, y_pred_AEcat))\n",
    "print('F1:', metric.macro_f1(y_test, y_pred_AEcat))"
   ]
  },
  {
   "cell_type": "code",
   "execution_count": null,
   "id": "07864005",
   "metadata": {},
   "outputs": [],
   "source": []
  },
  {
   "cell_type": "code",
   "execution_count": null,
   "id": "c754cc7d",
   "metadata": {},
   "outputs": [],
   "source": []
  },
  {
   "cell_type": "code",
   "execution_count": 121,
   "id": "19b65d35",
   "metadata": {},
   "outputs": [
    {
     "data": {
      "text/plain": [
       "array([2, 1, 2, ..., 1, 0, 1])"
      ]
     },
     "execution_count": 121,
     "metadata": {},
     "output_type": "execute_result"
    }
   ],
   "source": [
    "labels_mice"
   ]
  },
  {
   "cell_type": "code",
   "execution_count": 119,
   "id": "5f008811",
   "metadata": {},
   "outputs": [],
   "source": [
    "y_onehot = to_categorical(labels_mice, num_classes=3) "
   ]
  },
  {
   "cell_type": "code",
   "execution_count": 120,
   "id": "56db7e56",
   "metadata": {},
   "outputs": [
    {
     "data": {
      "text/plain": [
       "array([[0., 0., 1.],\n",
       "       [0., 1., 0.],\n",
       "       [0., 0., 1.],\n",
       "       ...,\n",
       "       [0., 1., 0.],\n",
       "       [1., 0., 0.],\n",
       "       [0., 1., 0.]], dtype=float32)"
      ]
     },
     "execution_count": 120,
     "metadata": {},
     "output_type": "execute_result"
    }
   ],
   "source": [
    "y_onehot"
   ]
  },
  {
   "cell_type": "code",
   "execution_count": 122,
   "id": "fc9b28bb",
   "metadata": {},
   "outputs": [],
   "source": [
    "X_train_nn, X_test_nn, y_train_nn, y_test_nn = helpers.split_and_scale_data(features, y_onehot)"
   ]
  },
  {
   "cell_type": "code",
   "execution_count": 114,
   "id": "b24814f6",
   "metadata": {},
   "outputs": [],
   "source": [
    "import tensorflow as tf\n",
    "from tensorflow.keras.models import Sequential\n",
    "from tensorflow.keras.layers import Dense\n",
    "from tensorflow.keras.utils import to_categorical\n",
    "from sklearn.datasets import make_classification"
   ]
  },
  {
   "cell_type": "code",
   "execution_count": 115,
   "id": "ba7ab866",
   "metadata": {},
   "outputs": [],
   "source": [
    "# Build the DNN model\n",
    "model_nn = Sequential()\n",
    "model_nn.add(Dense(64, input_dim=X_train.shape[1], activation='relu'))\n",
    "model_nn.add(Dense(32, activation='relu'))\n",
    "model_nn.add(Dense(16, activation='relu'))\n",
    "model_nn.add(Dense(3, activation='softmax'))  # 3 output classes"
   ]
  },
  {
   "cell_type": "code",
   "execution_count": 116,
   "id": "f3b9639e",
   "metadata": {},
   "outputs": [],
   "source": [
    "# Compile the model\n",
    "model_nn.compile(optimizer='adam', loss='categorical_crossentropy', metrics=['accuracy'])"
   ]
  },
  {
   "cell_type": "code",
   "execution_count": 123,
   "id": "8933e85c",
   "metadata": {},
   "outputs": [
    {
     "name": "stdout",
     "output_type": "stream",
     "text": [
      "Epoch 1/50\n"
     ]
    },
    {
     "ename": "ValueError",
     "evalue": "Creating variables on a non-first call to a function decorated with tf.function.",
     "output_type": "error",
     "traceback": [
      "\u001b[0;31m---------------------------------------------------------------------------\u001b[0m",
      "\u001b[0;31mValueError\u001b[0m                                Traceback (most recent call last)",
      "Cell \u001b[0;32mIn[123], line 2\u001b[0m\n\u001b[1;32m      1\u001b[0m \u001b[38;5;66;03m# Train the model\u001b[39;00m\n\u001b[0;32m----> 2\u001b[0m history \u001b[38;5;241m=\u001b[39m \u001b[43mmodel_nn\u001b[49m\u001b[38;5;241;43m.\u001b[39;49m\u001b[43mfit\u001b[49m\u001b[43m(\u001b[49m\u001b[43mX_train_nn\u001b[49m\u001b[43m,\u001b[49m\u001b[43m \u001b[49m\u001b[43my_train_nn\u001b[49m\u001b[43m,\u001b[49m\u001b[43m \u001b[49m\u001b[43mepochs\u001b[49m\u001b[38;5;241;43m=\u001b[39;49m\u001b[38;5;241;43m50\u001b[39;49m\u001b[43m,\u001b[49m\u001b[43m \u001b[49m\u001b[43mbatch_size\u001b[49m\u001b[38;5;241;43m=\u001b[39;49m\u001b[38;5;241;43m32\u001b[39;49m\u001b[43m,\u001b[49m\u001b[43m \u001b[49m\u001b[43mvalidation_split\u001b[49m\u001b[38;5;241;43m=\u001b[39;49m\u001b[38;5;241;43m0.2\u001b[39;49m\u001b[43m)\u001b[49m\n",
      "File \u001b[0;32m~/anaconda3/lib/python3.10/site-packages/keras/utils/traceback_utils.py:70\u001b[0m, in \u001b[0;36mfilter_traceback.<locals>.error_handler\u001b[0;34m(*args, **kwargs)\u001b[0m\n\u001b[1;32m     67\u001b[0m     filtered_tb \u001b[38;5;241m=\u001b[39m _process_traceback_frames(e\u001b[38;5;241m.\u001b[39m__traceback__)\n\u001b[1;32m     68\u001b[0m     \u001b[38;5;66;03m# To get the full stack trace, call:\u001b[39;00m\n\u001b[1;32m     69\u001b[0m     \u001b[38;5;66;03m# `tf.debugging.disable_traceback_filtering()`\u001b[39;00m\n\u001b[0;32m---> 70\u001b[0m     \u001b[38;5;28;01mraise\u001b[39;00m e\u001b[38;5;241m.\u001b[39mwith_traceback(filtered_tb) \u001b[38;5;28;01mfrom\u001b[39;00m \u001b[38;5;28mNone\u001b[39m\n\u001b[1;32m     71\u001b[0m \u001b[38;5;28;01mfinally\u001b[39;00m:\n\u001b[1;32m     72\u001b[0m     \u001b[38;5;28;01mdel\u001b[39;00m filtered_tb\n",
      "File \u001b[0;32m~/anaconda3/lib/python3.10/site-packages/tensorflow/python/eager/def_function.py:956\u001b[0m, in \u001b[0;36mFunction._call\u001b[0;34m(self, *args, **kwds)\u001b[0m\n\u001b[1;32m    954\u001b[0m   results \u001b[38;5;241m=\u001b[39m \u001b[38;5;28mself\u001b[39m\u001b[38;5;241m.\u001b[39m_stateful_fn(\u001b[38;5;241m*\u001b[39margs, \u001b[38;5;241m*\u001b[39m\u001b[38;5;241m*\u001b[39mkwds)\n\u001b[1;32m    955\u001b[0m   \u001b[38;5;28;01mif\u001b[39;00m \u001b[38;5;28mself\u001b[39m\u001b[38;5;241m.\u001b[39m_created_variables \u001b[38;5;129;01mand\u001b[39;00m \u001b[38;5;129;01mnot\u001b[39;00m ALLOW_DYNAMIC_VARIABLE_CREATION:\n\u001b[0;32m--> 956\u001b[0m     \u001b[38;5;28;01mraise\u001b[39;00m \u001b[38;5;167;01mValueError\u001b[39;00m(\u001b[38;5;124m\"\u001b[39m\u001b[38;5;124mCreating variables on a non-first call to a function\u001b[39m\u001b[38;5;124m\"\u001b[39m\n\u001b[1;32m    957\u001b[0m                      \u001b[38;5;124m\"\u001b[39m\u001b[38;5;124m decorated with tf.function.\u001b[39m\u001b[38;5;124m\"\u001b[39m)\n\u001b[1;32m    958\u001b[0m   \u001b[38;5;28;01mreturn\u001b[39;00m results\n\u001b[1;32m    960\u001b[0m \u001b[38;5;28;01mtry\u001b[39;00m:\n\u001b[1;32m    961\u001b[0m   \u001b[38;5;66;03m# This is the first call of __call__, so we have to initialize.\u001b[39;00m\n",
      "\u001b[0;31mValueError\u001b[0m: Creating variables on a non-first call to a function decorated with tf.function."
     ]
    }
   ],
   "source": [
    "# Train the model\n",
    "history = model_nn.fit(X_train_nn, y_train_nn, epochs=50, batch_size=32, validation_split=0.2)\n"
   ]
  },
  {
   "cell_type": "code",
   "execution_count": null,
   "id": "2d12e2c1",
   "metadata": {},
   "outputs": [],
   "source": [
    "\n",
    "# Evaluate the model\n",
    "loss, accuracy = model.evaluate(X_test, y_test)\n",
    "print(f'Test Accuracy: {accuracy:.4f}')\n"
   ]
  },
  {
   "cell_type": "code",
   "execution_count": null,
   "id": "f4ae1126",
   "metadata": {},
   "outputs": [],
   "source": [
    "# Make predictions\n",
    "y_pred = model.predict(X_test)\n",
    "y_pred_classes = np.argmax(y_pred, axis=1)\n",
    "y_true = np.argmax(y_test, axis=1)"
   ]
  },
  {
   "cell_type": "code",
   "execution_count": null,
   "id": "57aa540f",
   "metadata": {},
   "outputs": [],
   "source": []
  }
 ],
 "metadata": {
  "kernelspec": {
   "display_name": "Python 3 (ipykernel)",
   "language": "python",
   "name": "python3"
  },
  "language_info": {
   "codemirror_mode": {
    "name": "ipython",
    "version": 3
   },
   "file_extension": ".py",
   "mimetype": "text/x-python",
   "name": "python",
   "nbconvert_exporter": "python",
   "pygments_lexer": "ipython3",
   "version": "3.10.9"
  }
 },
 "nbformat": 4,
 "nbformat_minor": 5
}
