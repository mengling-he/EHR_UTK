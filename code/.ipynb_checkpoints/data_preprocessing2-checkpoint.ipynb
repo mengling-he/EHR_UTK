{
 "cells": [
  {
   "cell_type": "code",
   "execution_count": 16,
   "id": "33635f96",
   "metadata": {},
   "outputs": [],
   "source": [
    "import os\n",
    "import pandas as pd\n",
    "import numpy as np\n",
    "import scipy.stats as st\n",
    "import matplotlib.pyplot as plt"
   ]
  },
  {
   "cell_type": "code",
   "execution_count": 17,
   "id": "ec39f3f3",
   "metadata": {},
   "outputs": [],
   "source": [
    "FILE = 'UTK_med_data_cleaned.csv'# this dataset do not have immutation\n",
    "data_path = os.path.join('../data', FILE)\n",
    "data = pd.read_csv(data_path, index_col=0)"
   ]
  },
  {
   "cell_type": "code",
   "execution_count": 18,
   "id": "414d5a21",
   "metadata": {},
   "outputs": [],
   "source": [
    "#fixing ages\n",
    "data.loc[data.Age < 10.0] = np.nan\n",
    "data.loc[data.Age > 55.0] = np.nan"
   ]
  },
  {
   "cell_type": "code",
   "execution_count": 19,
   "id": "37af3c8b",
   "metadata": {},
   "outputs": [],
   "source": [
    "data.loc[data['Weight Prepregnancy'] <= 40, 'Weight Prepregnancy'] = np.nan\n",
    "data.loc[data['Weight Delivery'] <= 40, 'Weight Delivery'] = np.nan"
   ]
  },
  {
   "cell_type": "code",
   "execution_count": 20,
   "id": "3460ee0e",
   "metadata": {},
   "outputs": [],
   "source": [
    "data.loc[data['Height Inches'] < 30, 'Height Inches'] = np.nan"
   ]
  },
  {
   "cell_type": "code",
   "execution_count": 21,
   "id": "a3bfdacd",
   "metadata": {},
   "outputs": [],
   "source": [
    "data.loc[data['Birthweight A'] < 500, 'Birthweight A'] = np.nan"
   ]
  },
  {
   "cell_type": "code",
   "execution_count": 22,
   "id": "5ca01f6c",
   "metadata": {},
   "outputs": [],
   "source": [
    "data.loc[(data['Labortime'] <=0)|(data['Labortime'] >1000), 'Labortime'] = np.nan"
   ]
  },
  {
   "cell_type": "code",
   "execution_count": 23,
   "id": "5e5d3cfd",
   "metadata": {},
   "outputs": [],
   "source": [
    "data.loc[(data['Labortime_3'] <=0)|(data['Labortime_3'] >1000), 'Labortime_3'] = np.nan"
   ]
  },
  {
   "cell_type": "code",
   "execution_count": 24,
   "id": "a1f7b1da",
   "metadata": {},
   "outputs": [
    {
     "data": {
      "text/plain": [
       "Age                      float64\n",
       "County                    object\n",
       "Gravida                  float64\n",
       "Para                     float64\n",
       "Delivery Anesthesia       object\n",
       "                          ...   \n",
       "race_pacific_islander     object\n",
       "race_asian                object\n",
       "race_arabic               object\n",
       "race_american_indian      object\n",
       "race_other                object\n",
       "Length: 127, dtype: object"
      ]
     },
     "execution_count": 24,
     "metadata": {},
     "output_type": "execute_result"
    }
   ],
   "source": [
    "data.dtypes"
   ]
  },
  {
   "cell_type": "code",
   "execution_count": 25,
   "id": "0aca7c15",
   "metadata": {},
   "outputs": [
    {
     "data": {
      "text/plain": [
       "never     13156\n",
       "former     2139\n",
       "daily      2133\n",
       "light        21\n",
       "vape          3\n",
       "heavy         1\n",
       "Name: Adm Cigarettes, dtype: int64"
      ]
     },
     "execution_count": 25,
     "metadata": {},
     "output_type": "execute_result"
    }
   ],
   "source": [
    "data['Adm Cigarettes'].value_counts()"
   ]
  },
  {
   "cell_type": "code",
   "execution_count": 26,
   "id": "24822821",
   "metadata": {},
   "outputs": [],
   "source": [
    "data.to_csv('../data/UTK_med_data_cleaned_with_nan.csv')"
   ]
  },
  {
   "cell_type": "code",
   "execution_count": 28,
   "id": "261d182e",
   "metadata": {},
   "outputs": [
    {
     "data": {
      "text/plain": [
       "['Age',\n",
       " 'County',\n",
       " 'Gravida',\n",
       " 'Para',\n",
       " 'Delivery Anesthesia',\n",
       " 'Labor Anesthesia',\n",
       " 'Episiotomy',\n",
       " 'Laceration Extension',\n",
       " 'Laceration Type',\n",
       " 'Amniotic Fluid Color',\n",
       " 'Attempt to Vbac',\n",
       " 'Csection Incidence',\n",
       " 'Csection Urgency',\n",
       " 'Membranes Rupture Method',\n",
       " 'Membranes Rupture Time',\n",
       " 'Number of Babies In Womb',\n",
       " 'Oxytocin',\n",
       " 'Placenta Delivery Time',\n",
       " 'Reason For Csection',\n",
       " 'Delivery Month',\n",
       " 'Delivery Year',\n",
       " 'Gestational Status A',\n",
       " 'Born In Route A',\n",
       " 'Infant Cord Vessels A',\n",
       " 'Infant Length A',\n",
       " 'Fetal Presentation A',\n",
       " 'Method of Delivery A',\n",
       " 'Forceps a',\n",
       " 'Vacuum Extraction A',\n",
       " 'VBAC A',\n",
       " 'Infant Sex A',\n",
       " 'Birthweight A',\n",
       " 'Condition A',\n",
       " 'GA At Birth A',\n",
       " 'APGAR 1 minute  A',\n",
       " 'APGAR 5 minutes A',\n",
       " 'APGAR 10 minutes A',\n",
       " 'Infant Complications A',\n",
       " 'Cervical Ripening Agents',\n",
       " 'Feeding Plans at Discharge',\n",
       " 'Feeding Preference',\n",
       " 'Weight Prepregnancy',\n",
       " 'Weight Gain Pounds',\n",
       " 'Height Inches',\n",
       " 'Preterm Labor',\n",
       " 'Premature Rom',\n",
       " 'Hypertensive Disorders Preg',\n",
       " 'Diabetes',\n",
       " 'Comments Diabetes',\n",
       " 'Pitocin Start Date Time',\n",
       " 'Feeding preference PP',\n",
       " 'Adm Alcohol',\n",
       " 'Adm Cigarettes',\n",
       " 'Adm Marijuana',\n",
       " 'Adm Cocaine Crack',\n",
       " 'Adm Illicit Drugs',\n",
       " 'Adm Illicit Drugs Text',\n",
       " 'OFC At Birth Baby A In',\n",
       " 'Provider On Admission',\n",
       " 'Total Rom Time Prior to Del',\n",
       " 'CS Called Date Time',\n",
       " 'Complete Dilatation',\n",
       " 'Labor Hours Stage 2',\n",
       " 'Labor Minutes Stage 2',\n",
       " 'Reason For Admission LD',\n",
       " 'Reason For Admission Other',\n",
       " 'Quantitative Blood Loss DS',\n",
       " 'QBL2 hrs PP',\n",
       " 'Units RBCS Transfused',\n",
       " 'Total Units RBCS Received',\n",
       " 'QBL Total LD',\n",
       " 'Race',\n",
       " 'Ethnicity',\n",
       " 'AdmitToDelMinutes',\n",
       " 'AdmitToDischargeMinutes',\n",
       " 'DeliveryToDischargeMinutes',\n",
       " 'Weight Delivery',\n",
       " 'BMI_delivery',\n",
       " 'BMI_prepregnancy',\n",
       " 'Labortime',\n",
       " 'Labortime_3',\n",
       " 'delivery_anesthesia_epidural',\n",
       " 'delivery_anesthesia_spinal',\n",
       " 'delivery_anesthesia_local',\n",
       " 'delivery_anesthesia_pudenal',\n",
       " 'delivery_anesthesia_cse',\n",
       " 'delivery_anesthesia_general',\n",
       " 'delivery_anesthesia_intrathe',\n",
       " 'labor_anesthesia_epidural',\n",
       " 'labor_anesthesia_spinal',\n",
       " 'labor_anesthesia_cse',\n",
       " 'labor_anesthesia_general',\n",
       " 'labor_anesthesia_iv_sedation',\n",
       " 'laceration_type_none',\n",
       " 'laceration_type_vaginal',\n",
       " 'laceration_type_perineal',\n",
       " 'laceration_type_periuret',\n",
       " 'laceration_type_cervical',\n",
       " 'laceration_type_other',\n",
       " 'infant_complications_A_brady',\n",
       " 'infant_complications_A_acidosis',\n",
       " 'infant_complications_A_meconium',\n",
       " 'infant_complications_A_cord_pro',\n",
       " 'infant_complications_A_MLD',\n",
       " 'infant_complications_A_MVD',\n",
       " 'infant_complications_A_oligohyd',\n",
       " 'infant_complications_A_shol_dys',\n",
       " 'infant_complications_A_polyhydr',\n",
       " 'infant_complications_A_decvarib',\n",
       " 'infant_complications_A_tachy',\n",
       " 'infant_complications_A_other',\n",
       " 'reason_for_admission_Spon_Ab',\n",
       " 'reason_for_admission_Labor',\n",
       " 'reason_for_admission_PTL',\n",
       " 'reason_for_admission_Induce',\n",
       " 'reason_for_admission_Rept_CS',\n",
       " 'reason_for_admission_Prim_CS',\n",
       " 'reason_for_admission_ROM',\n",
       " 'reason_for_admission_Observe',\n",
       " 'reason_for_admission_other',\n",
       " 'race_black',\n",
       " 'race_white',\n",
       " 'race_pacific_islander',\n",
       " 'race_asian',\n",
       " 'race_arabic',\n",
       " 'race_american_indian',\n",
       " 'race_other']"
      ]
     },
     "execution_count": 28,
     "metadata": {},
     "output_type": "execute_result"
    }
   ],
   "source": [
    "list(data.columns)"
   ]
  }
 ],
 "metadata": {
  "kernelspec": {
   "display_name": "Python 3 (ipykernel)",
   "language": "python",
   "name": "python3"
  },
  "language_info": {
   "codemirror_mode": {
    "name": "ipython",
    "version": 3
   },
   "file_extension": ".py",
   "mimetype": "text/x-python",
   "name": "python",
   "nbconvert_exporter": "python",
   "pygments_lexer": "ipython3",
   "version": "3.10.9"
  }
 },
 "nbformat": 4,
 "nbformat_minor": 5
}
