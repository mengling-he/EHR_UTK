{
 "cells": [
  {
   "cell_type": "markdown",
   "id": "945562d8",
   "metadata": {},
   "source": [
    "can use this to think about how to make the input more reasonable."
   ]
  },
  {
   "cell_type": "code",
   "execution_count": 666,
   "id": "e6c21f5d-72fe-4561-a86c-6403e5632c50",
   "metadata": {},
   "outputs": [],
   "source": [
    "import os\n",
    "import pandas as pd\n",
    "import numpy as np\n",
    "import seaborn as sns\n",
    "import scipy.stats as st"
   ]
  },
  {
   "cell_type": "code",
   "execution_count": 667,
   "id": "4c16a402-9b99-4c38-b739-2eb191b34949",
   "metadata": {},
   "outputs": [],
   "source": [
    "###### the original dataset without datacleaning\n",
    "###### replaced N/A with N_A\n",
    "PATH = '../data/'\n",
    "FILES = ['UTK_UTMC_OBGYN_DEIDENTIFIED_2023-4-26_Data_N_A.xlsx', 'UTK_UTMC_OBGYN_DEIDENTIFIED_2023-4-26_VariableNames.xlsx']"
   ]
  },
  {
   "cell_type": "code",
   "execution_count": 668,
   "id": "a9ab899d-a5dc-4a93-9ac5-561fe5ae4de0",
   "metadata": {},
   "outputs": [],
   "source": [
    "df = pd.read_excel(PATH+FILES[0], index_col=0)"
   ]
  },
  {
   "cell_type": "code",
   "execution_count": 669,
   "id": "5d9beac8-c3aa-4c64-8829-3dfde8196a94",
   "metadata": {},
   "outputs": [],
   "source": [
    "var = pd.read_excel(PATH+FILES[1])"
   ]
  },
  {
   "cell_type": "code",
   "execution_count": 670,
   "id": "12e7bbfa-36ca-4801-9eb9-c491a26ddecf",
   "metadata": {},
   "outputs": [
    {
     "data": {
      "text/html": [
       "<div>\n",
       "<style scoped>\n",
       "    .dataframe tbody tr th:only-of-type {\n",
       "        vertical-align: middle;\n",
       "    }\n",
       "\n",
       "    .dataframe tbody tr th {\n",
       "        vertical-align: top;\n",
       "    }\n",
       "\n",
       "    .dataframe thead th {\n",
       "        text-align: right;\n",
       "    }\n",
       "</style>\n",
       "<table border=\"1\" class=\"dataframe\">\n",
       "  <thead>\n",
       "    <tr style=\"text-align: right;\">\n",
       "      <th></th>\n",
       "      <th>Column</th>\n",
       "      <th>Primary title</th>\n",
       "      <th>Item #</th>\n",
       "      <th>Item name</th>\n",
       "      <th>Type</th>\n",
       "      <th>Unnamed: 5</th>\n",
       "    </tr>\n",
       "  </thead>\n",
       "  <tbody>\n",
       "    <tr>\n",
       "      <th>0</th>\n",
       "      <td>a</td>\n",
       "      <td>Study ID</td>\n",
       "      <td></td>\n",
       "      <td>Study ID</td>\n",
       "      <td>Unique study made ID</td>\n",
       "      <td>NaN</td>\n",
       "    </tr>\n",
       "    <tr>\n",
       "      <th>1</th>\n",
       "      <td>b</td>\n",
       "      <td>Age</td>\n",
       "      <td>301</td>\n",
       "      <td>PT-AGE</td>\n",
       "      <td>Numeric</td>\n",
       "      <td>NaN</td>\n",
       "    </tr>\n",
       "    <tr>\n",
       "      <th>2</th>\n",
       "      <td>c</td>\n",
       "      <td>County</td>\n",
       "      <td>1851</td>\n",
       "      <td>PT-COUNTYCODE</td>\n",
       "      <td>Code</td>\n",
       "      <td>NaN</td>\n",
       "    </tr>\n",
       "    <tr>\n",
       "      <th>3</th>\n",
       "      <td>d</td>\n",
       "      <td>Gravida</td>\n",
       "      <td>1875</td>\n",
       "      <td>Gravida</td>\n",
       "      <td>Numeric</td>\n",
       "      <td>NaN</td>\n",
       "    </tr>\n",
       "    <tr>\n",
       "      <th>4</th>\n",
       "      <td>e</td>\n",
       "      <td>Para</td>\n",
       "      <td>1876</td>\n",
       "      <td>Para</td>\n",
       "      <td>Numeric</td>\n",
       "      <td>NaN</td>\n",
       "    </tr>\n",
       "    <tr>\n",
       "      <th>5</th>\n",
       "      <td>f</td>\n",
       "      <td>Delivery Anesthesia</td>\n",
       "      <td>2419</td>\n",
       "      <td>Anesthesia Delivery</td>\n",
       "      <td>Multicode</td>\n",
       "      <td>NaN</td>\n",
       "    </tr>\n",
       "    <tr>\n",
       "      <th>6</th>\n",
       "      <td>g</td>\n",
       "      <td>Labor Anesthesia</td>\n",
       "      <td>4211</td>\n",
       "      <td>Anesthesia Labor</td>\n",
       "      <td>Code</td>\n",
       "      <td>NaN</td>\n",
       "    </tr>\n",
       "    <tr>\n",
       "      <th>7</th>\n",
       "      <td>h</td>\n",
       "      <td>Episiotomy</td>\n",
       "      <td>2426</td>\n",
       "      <td>Episiotomy Type</td>\n",
       "      <td>Code</td>\n",
       "      <td>NaN</td>\n",
       "    </tr>\n",
       "    <tr>\n",
       "      <th>8</th>\n",
       "      <td>i</td>\n",
       "      <td>Laceration Extension</td>\n",
       "      <td>2427</td>\n",
       "      <td>Laceration Extension</td>\n",
       "      <td>Code</td>\n",
       "      <td>NaN</td>\n",
       "    </tr>\n",
       "    <tr>\n",
       "      <th>9</th>\n",
       "      <td>j</td>\n",
       "      <td>Laceration Type</td>\n",
       "      <td>2428</td>\n",
       "      <td>Laceration Type</td>\n",
       "      <td>Multicode</td>\n",
       "      <td>NaN</td>\n",
       "    </tr>\n",
       "    <tr>\n",
       "      <th>10</th>\n",
       "      <td>k</td>\n",
       "      <td>Amniotic Fluid Color</td>\n",
       "      <td>2349</td>\n",
       "      <td>Amniotic Fluid Color</td>\n",
       "      <td>Code</td>\n",
       "      <td>NaN</td>\n",
       "    </tr>\n",
       "    <tr>\n",
       "      <th>11</th>\n",
       "      <td>l</td>\n",
       "      <td>Attempt to VBAC</td>\n",
       "      <td>6742</td>\n",
       "      <td>Attempt to VBAC</td>\n",
       "      <td>Code</td>\n",
       "      <td>NaN</td>\n",
       "    </tr>\n",
       "    <tr>\n",
       "      <th>12</th>\n",
       "      <td>m</td>\n",
       "      <td>CSection Incidence</td>\n",
       "      <td>4207</td>\n",
       "      <td>CSection Incidence</td>\n",
       "      <td>Code</td>\n",
       "      <td>NaN</td>\n",
       "    </tr>\n",
       "    <tr>\n",
       "      <th>13</th>\n",
       "      <td>n</td>\n",
       "      <td>CSection Urgency</td>\n",
       "      <td>4208</td>\n",
       "      <td>CSection Urgency</td>\n",
       "      <td>Code</td>\n",
       "      <td>NaN</td>\n",
       "    </tr>\n",
       "    <tr>\n",
       "      <th>14</th>\n",
       "      <td>o</td>\n",
       "      <td>Membranes Rupture Method</td>\n",
       "      <td>4202</td>\n",
       "      <td>Membranes Rupture Method</td>\n",
       "      <td>Code</td>\n",
       "      <td>NaN</td>\n",
       "    </tr>\n",
       "    <tr>\n",
       "      <th>15</th>\n",
       "      <td>p</td>\n",
       "      <td>Membranes Rupture Time</td>\n",
       "      <td>7992</td>\n",
       "      <td>ROM Datetime Perinatal</td>\n",
       "      <td>Time</td>\n",
       "      <td>NaN</td>\n",
       "    </tr>\n",
       "    <tr>\n",
       "      <th>16</th>\n",
       "      <td>q</td>\n",
       "      <td>Number of Babies in Womb</td>\n",
       "      <td>4210</td>\n",
       "      <td>Baby, Number in Womb</td>\n",
       "      <td>Numeric</td>\n",
       "      <td>NaN</td>\n",
       "    </tr>\n",
       "    <tr>\n",
       "      <th>17</th>\n",
       "      <td>r</td>\n",
       "      <td>Oxytocin</td>\n",
       "      <td>4212</td>\n",
       "      <td>Oxytocin</td>\n",
       "      <td>Code</td>\n",
       "      <td>NaN</td>\n",
       "    </tr>\n",
       "    <tr>\n",
       "      <th>18</th>\n",
       "      <td>s</td>\n",
       "      <td>Placenta Delivery Time</td>\n",
       "      <td>2434</td>\n",
       "      <td>Placenta Delivery Time</td>\n",
       "      <td>Time</td>\n",
       "      <td>NaN</td>\n",
       "    </tr>\n",
       "    <tr>\n",
       "      <th>19</th>\n",
       "      <td>t</td>\n",
       "      <td>Reason for CSection</td>\n",
       "      <td>3896</td>\n",
       "      <td>CSection, Primary Indication</td>\n",
       "      <td>Code</td>\n",
       "      <td>NaN</td>\n",
       "    </tr>\n",
       "    <tr>\n",
       "      <th>20</th>\n",
       "      <td>u</td>\n",
       "      <td>Intrapartum Complications</td>\n",
       "      <td>2949</td>\n",
       "      <td>Intrapartum Maternal Complicatio</td>\n",
       "      <td>Multicode</td>\n",
       "      <td>NaN</td>\n",
       "    </tr>\n",
       "    <tr>\n",
       "      <th>21</th>\n",
       "      <td>v</td>\n",
       "      <td>Other Intrapartum Complication</td>\n",
       "      <td>8106</td>\n",
       "      <td>Intrapartum Mat Comp Other</td>\n",
       "      <td>Text</td>\n",
       "      <td>NaN</td>\n",
       "    </tr>\n",
       "    <tr>\n",
       "      <th>22</th>\n",
       "      <td>NaN</td>\n",
       "      <td>DELIVERY SUMMARY - INFANT A</td>\n",
       "      <td></td>\n",
       "      <td></td>\n",
       "      <td>NaN</td>\n",
       "      <td>NaN</td>\n",
       "    </tr>\n",
       "    <tr>\n",
       "      <th>23</th>\n",
       "      <td>w</td>\n",
       "      <td>Delivery Month</td>\n",
       "      <td>NaN</td>\n",
       "      <td>Delivery Month Infant A</td>\n",
       "      <td>Abbreviated month</td>\n",
       "      <td>NaN</td>\n",
       "    </tr>\n",
       "    <tr>\n",
       "      <th>24</th>\n",
       "      <td>x</td>\n",
       "      <td>Delivery Year</td>\n",
       "      <td>NaN</td>\n",
       "      <td>Delivery Year Infant A</td>\n",
       "      <td>Year of Delivery A</td>\n",
       "      <td>NaN</td>\n",
       "    </tr>\n",
       "    <tr>\n",
       "      <th>25</th>\n",
       "      <td>y</td>\n",
       "      <td>Gestational Status A</td>\n",
       "      <td>4269</td>\n",
       "      <td>Gestational Status Baby A</td>\n",
       "      <td>Code</td>\n",
       "      <td>NaN</td>\n",
       "    </tr>\n",
       "    <tr>\n",
       "      <th>26</th>\n",
       "      <td>z</td>\n",
       "      <td>Born In Route A</td>\n",
       "      <td>4213</td>\n",
       "      <td>Born in Route Baby A</td>\n",
       "      <td>Code</td>\n",
       "      <td>NaN</td>\n",
       "    </tr>\n",
       "    <tr>\n",
       "      <th>27</th>\n",
       "      <td>aa</td>\n",
       "      <td>Other Infant Complications A</td>\n",
       "      <td>3969</td>\n",
       "      <td>Infant Complications Other BabyA</td>\n",
       "      <td>Text</td>\n",
       "      <td>NaN</td>\n",
       "    </tr>\n",
       "    <tr>\n",
       "      <th>28</th>\n",
       "      <td>ab</td>\n",
       "      <td>Infant Cord Vessels A</td>\n",
       "      <td>4234</td>\n",
       "      <td>Infant Cord Vessels Baby A</td>\n",
       "      <td>Numeric</td>\n",
       "      <td>NaN</td>\n",
       "    </tr>\n",
       "    <tr>\n",
       "      <th>29</th>\n",
       "      <td>ac</td>\n",
       "      <td>Infant Length A</td>\n",
       "      <td>7968</td>\n",
       "      <td>Infant Length A inches</td>\n",
       "      <td>Numeric</td>\n",
       "      <td>NaN</td>\n",
       "    </tr>\n",
       "    <tr>\n",
       "      <th>30</th>\n",
       "      <td>ad</td>\n",
       "      <td>IUFD A</td>\n",
       "      <td>4259</td>\n",
       "      <td>Intrauterine Fetal Demise Baby A</td>\n",
       "      <td>Code - changed from time to \"yes\"</td>\n",
       "      <td>NaN</td>\n",
       "    </tr>\n",
       "    <tr>\n",
       "      <th>31</th>\n",
       "      <td>ae</td>\n",
       "      <td>Neonatal Death A</td>\n",
       "      <td>4264</td>\n",
       "      <td>Neonatal Death Baby A</td>\n",
       "      <td>Code - changed from time to \"yes\"</td>\n",
       "      <td>NaN</td>\n",
       "    </tr>\n",
       "    <tr>\n",
       "      <th>32</th>\n",
       "      <td>af</td>\n",
       "      <td>Fetal Presentation A</td>\n",
       "      <td>2358</td>\n",
       "      <td>Fetal Presentation Baby A</td>\n",
       "      <td>Code</td>\n",
       "      <td>NaN</td>\n",
       "    </tr>\n",
       "    <tr>\n",
       "      <th>33</th>\n",
       "      <td>ag</td>\n",
       "      <td>Method of Delivery A</td>\n",
       "      <td>2817</td>\n",
       "      <td>Method of Delivery Baby A</td>\n",
       "      <td>Code</td>\n",
       "      <td>NaN</td>\n",
       "    </tr>\n",
       "    <tr>\n",
       "      <th>34</th>\n",
       "      <td>ah</td>\n",
       "      <td>Forceps A</td>\n",
       "      <td>3894</td>\n",
       "      <td>Forceps Baby A</td>\n",
       "      <td>Code</td>\n",
       "      <td>NaN</td>\n",
       "    </tr>\n",
       "    <tr>\n",
       "      <th>35</th>\n",
       "      <td>ai</td>\n",
       "      <td>Vacuum Extraction A</td>\n",
       "      <td>4215</td>\n",
       "      <td>Vacuum Extraction Baby A</td>\n",
       "      <td>Code</td>\n",
       "      <td>NaN</td>\n",
       "    </tr>\n",
       "    <tr>\n",
       "      <th>36</th>\n",
       "      <td>aj</td>\n",
       "      <td>VBAC A</td>\n",
       "      <td>3895</td>\n",
       "      <td>VBAC Baby A</td>\n",
       "      <td>Code</td>\n",
       "      <td>NaN</td>\n",
       "    </tr>\n",
       "    <tr>\n",
       "      <th>37</th>\n",
       "      <td>ak</td>\n",
       "      <td>Infant Sex A</td>\n",
       "      <td>2786</td>\n",
       "      <td>Infant Sex Baby A</td>\n",
       "      <td>Code</td>\n",
       "      <td>NaN</td>\n",
       "    </tr>\n",
       "    <tr>\n",
       "      <th>38</th>\n",
       "      <td>al</td>\n",
       "      <td>Birthweight A</td>\n",
       "      <td>2895</td>\n",
       "      <td>Infant Birthweight Baby A</td>\n",
       "      <td>Numeric</td>\n",
       "      <td>grams</td>\n",
       "    </tr>\n",
       "    <tr>\n",
       "      <th>39</th>\n",
       "      <td>am</td>\n",
       "      <td>Condition A</td>\n",
       "      <td>2872</td>\n",
       "      <td>Infant Condition Baby A</td>\n",
       "      <td>Code</td>\n",
       "      <td>NaN</td>\n",
       "    </tr>\n",
       "    <tr>\n",
       "      <th>40</th>\n",
       "      <td>an</td>\n",
       "      <td>GA at Birth A</td>\n",
       "      <td>1868</td>\n",
       "      <td>Gestational Age at Deliv Baby A</td>\n",
       "      <td>Numeric</td>\n",
       "      <td>weeks</td>\n",
       "    </tr>\n",
       "    <tr>\n",
       "      <th>41</th>\n",
       "      <td>ao</td>\n",
       "      <td>Apgar 1 Minute A</td>\n",
       "      <td>2891</td>\n",
       "      <td>Apgar Score 1 Baby A</td>\n",
       "      <td>Compute</td>\n",
       "      <td>NaN</td>\n",
       "    </tr>\n",
       "    <tr>\n",
       "      <th>42</th>\n",
       "      <td>ap</td>\n",
       "      <td>Apgar 5 Minutes A</td>\n",
       "      <td>2892</td>\n",
       "      <td>Apgar Score 5 Baby A</td>\n",
       "      <td>Compute</td>\n",
       "      <td>NaN</td>\n",
       "    </tr>\n",
       "    <tr>\n",
       "      <th>43</th>\n",
       "      <td>aq</td>\n",
       "      <td>Apgar 10 Minutes A</td>\n",
       "      <td>2893</td>\n",
       "      <td>Apgar Score 10 Baby A</td>\n",
       "      <td>Compute</td>\n",
       "      <td>NaN</td>\n",
       "    </tr>\n",
       "    <tr>\n",
       "      <th>44</th>\n",
       "      <td>ar</td>\n",
       "      <td>Infant Complications A</td>\n",
       "      <td>2838</td>\n",
       "      <td>Infant Complications Baby A</td>\n",
       "      <td>Multicode</td>\n",
       "      <td>NaN</td>\n",
       "    </tr>\n",
       "    <tr>\n",
       "      <th>45</th>\n",
       "      <td>NaN</td>\n",
       "      <td>DELIVERY SUMMARY - INFANT B</td>\n",
       "      <td></td>\n",
       "      <td></td>\n",
       "      <td>NaN</td>\n",
       "      <td>NaN</td>\n",
       "    </tr>\n",
       "    <tr>\n",
       "      <th>46</th>\n",
       "      <td>as</td>\n",
       "      <td>Gestational Status B</td>\n",
       "      <td>4270</td>\n",
       "      <td>Gestational Status Baby B</td>\n",
       "      <td>Code</td>\n",
       "      <td>NaN</td>\n",
       "    </tr>\n",
       "    <tr>\n",
       "      <th>47</th>\n",
       "      <td>at</td>\n",
       "      <td>Born In Route B</td>\n",
       "      <td>4284</td>\n",
       "      <td>Born in Route Baby B</td>\n",
       "      <td>Code</td>\n",
       "      <td>NaN</td>\n",
       "    </tr>\n",
       "    <tr>\n",
       "      <th>48</th>\n",
       "      <td>au</td>\n",
       "      <td>Other Complications B</td>\n",
       "      <td>3970</td>\n",
       "      <td>Infant Complications Other BabyB</td>\n",
       "      <td>Text</td>\n",
       "      <td>NaN</td>\n",
       "    </tr>\n",
       "    <tr>\n",
       "      <th>49</th>\n",
       "      <td>av</td>\n",
       "      <td>Infant Cord Vessels B</td>\n",
       "      <td>4235</td>\n",
       "      <td>Infant Cord Vessels Baby B</td>\n",
       "      <td>Numeric</td>\n",
       "      <td>NaN</td>\n",
       "    </tr>\n",
       "    <tr>\n",
       "      <th>50</th>\n",
       "      <td>aw</td>\n",
       "      <td>Infant Length B</td>\n",
       "      <td>7975</td>\n",
       "      <td>Infant Length B Inches</td>\n",
       "      <td>Numeric</td>\n",
       "      <td>NaN</td>\n",
       "    </tr>\n",
       "    <tr>\n",
       "      <th>51</th>\n",
       "      <td>ax</td>\n",
       "      <td>IUFD B</td>\n",
       "      <td>4260</td>\n",
       "      <td>Intrauterine Fetal Demise Baby B</td>\n",
       "      <td>Code - changed from time to \"yes\"</td>\n",
       "      <td>NaN</td>\n",
       "    </tr>\n",
       "    <tr>\n",
       "      <th>52</th>\n",
       "      <td>ay</td>\n",
       "      <td>Neonatal Death B</td>\n",
       "      <td>4265</td>\n",
       "      <td>Neonatal Death Baby B</td>\n",
       "      <td>Code - changed from time to \"yes\"</td>\n",
       "      <td>NaN</td>\n",
       "    </tr>\n",
       "    <tr>\n",
       "      <th>53</th>\n",
       "      <td>az</td>\n",
       "      <td>Fetal Presentation B</td>\n",
       "      <td>3957</td>\n",
       "      <td>Fetal Presentation Baby B</td>\n",
       "      <td>Code</td>\n",
       "      <td>NaN</td>\n",
       "    </tr>\n",
       "    <tr>\n",
       "      <th>54</th>\n",
       "      <td>ba</td>\n",
       "      <td>Method of Delivery B</td>\n",
       "      <td>3978</td>\n",
       "      <td>Method of Delivery Baby B</td>\n",
       "      <td>Code</td>\n",
       "      <td>NaN</td>\n",
       "    </tr>\n",
       "    <tr>\n",
       "      <th>55</th>\n",
       "      <td>bb</td>\n",
       "      <td>Forceps B</td>\n",
       "      <td>3982</td>\n",
       "      <td>Forceps Baby B</td>\n",
       "      <td>Code</td>\n",
       "      <td>NaN</td>\n",
       "    </tr>\n",
       "    <tr>\n",
       "      <th>56</th>\n",
       "      <td>bc</td>\n",
       "      <td>Vacuum Extraction B</td>\n",
       "      <td>4216</td>\n",
       "      <td>Vacuum Extraction Baby B</td>\n",
       "      <td>Code</td>\n",
       "      <td>NaN</td>\n",
       "    </tr>\n",
       "    <tr>\n",
       "      <th>57</th>\n",
       "      <td>bd</td>\n",
       "      <td>VBAC B</td>\n",
       "      <td>3986</td>\n",
       "      <td>VBAC Baby B</td>\n",
       "      <td>Code</td>\n",
       "      <td>NaN</td>\n",
       "    </tr>\n",
       "    <tr>\n",
       "      <th>58</th>\n",
       "      <td>be</td>\n",
       "      <td>Infant Sex B</td>\n",
       "      <td>3990</td>\n",
       "      <td>Infant Sex Baby B</td>\n",
       "      <td>Code</td>\n",
       "      <td>NaN</td>\n",
       "    </tr>\n",
       "    <tr>\n",
       "      <th>59</th>\n",
       "      <td>bf</td>\n",
       "      <td>Birthweight B</td>\n",
       "      <td>3994</td>\n",
       "      <td>Infant Birthweight Baby B</td>\n",
       "      <td>Numeric</td>\n",
       "      <td>grams</td>\n",
       "    </tr>\n",
       "    <tr>\n",
       "      <th>60</th>\n",
       "      <td>bg</td>\n",
       "      <td>Condition B</td>\n",
       "      <td>3998</td>\n",
       "      <td>Infant Condition Baby B</td>\n",
       "      <td>Code</td>\n",
       "      <td>NaN</td>\n",
       "    </tr>\n",
       "    <tr>\n",
       "      <th>61</th>\n",
       "      <td>bh</td>\n",
       "      <td>GA at Birth B</td>\n",
       "      <td>4002</td>\n",
       "      <td>Gestational Age at Deliv Baby B</td>\n",
       "      <td>Numeric</td>\n",
       "      <td>NaN</td>\n",
       "    </tr>\n",
       "    <tr>\n",
       "      <th>62</th>\n",
       "      <td>bi</td>\n",
       "      <td>Apgar 1 Minute B</td>\n",
       "      <td>4150</td>\n",
       "      <td>Apgar Score 1 Baby B</td>\n",
       "      <td>Compute</td>\n",
       "      <td>NaN</td>\n",
       "    </tr>\n",
       "    <tr>\n",
       "      <th>63</th>\n",
       "      <td>bj</td>\n",
       "      <td>Apgar 5 Minutes B</td>\n",
       "      <td>4158</td>\n",
       "      <td>Apgar Score 5 Baby B</td>\n",
       "      <td>Compute</td>\n",
       "      <td>NaN</td>\n",
       "    </tr>\n",
       "    <tr>\n",
       "      <th>64</th>\n",
       "      <td>bk</td>\n",
       "      <td>Apgar 10 Minutes B</td>\n",
       "      <td>4154</td>\n",
       "      <td>Apgar Score 10 Baby B</td>\n",
       "      <td>Compute</td>\n",
       "      <td>NaN</td>\n",
       "    </tr>\n",
       "    <tr>\n",
       "      <th>65</th>\n",
       "      <td>bl</td>\n",
       "      <td>Infant Complications B</td>\n",
       "      <td>4025</td>\n",
       "      <td>Infant Complications Baby B</td>\n",
       "      <td>Multicode</td>\n",
       "      <td>NaN</td>\n",
       "    </tr>\n",
       "    <tr>\n",
       "      <th>66</th>\n",
       "      <td>bm</td>\n",
       "      <td>Resident</td>\n",
       "      <td>8673</td>\n",
       "      <td>Resident</td>\n",
       "      <td>Code</td>\n",
       "      <td>NaN</td>\n",
       "    </tr>\n",
       "    <tr>\n",
       "      <th>67</th>\n",
       "      <td>bn</td>\n",
       "      <td>Cervical Ripening Agents</td>\n",
       "      <td>8671</td>\n",
       "      <td>Cervical Ripening Agents</td>\n",
       "      <td>Multicode</td>\n",
       "      <td>NaN</td>\n",
       "    </tr>\n",
       "    <tr>\n",
       "      <th>68</th>\n",
       "      <td>bo</td>\n",
       "      <td>Other Cervical Ripening Agents</td>\n",
       "      <td>8672</td>\n",
       "      <td>Cervical Ripening Agents Other</td>\n",
       "      <td>Text</td>\n",
       "      <td>NaN</td>\n",
       "    </tr>\n",
       "    <tr>\n",
       "      <th>69</th>\n",
       "      <td>bp</td>\n",
       "      <td>Feeding Plans at Discharge</td>\n",
       "      <td>10258</td>\n",
       "      <td>Feeding Plans at Discharge</td>\n",
       "      <td>Code</td>\n",
       "      <td>NaN</td>\n",
       "    </tr>\n",
       "    <tr>\n",
       "      <th>70</th>\n",
       "      <td>bq</td>\n",
       "      <td>Physical Findings A</td>\n",
       "      <td>6517</td>\n",
       "      <td>Physical Findings at Deliv BabyA</td>\n",
       "      <td>Multicode</td>\n",
       "      <td>NaN</td>\n",
       "    </tr>\n",
       "    <tr>\n",
       "      <th>71</th>\n",
       "      <td>br</td>\n",
       "      <td>Feeding Preference</td>\n",
       "      <td>2365</td>\n",
       "      <td>Feeding Preference</td>\n",
       "      <td>Code</td>\n",
       "      <td>NaN</td>\n",
       "    </tr>\n",
       "    <tr>\n",
       "      <th>72</th>\n",
       "      <td>bs</td>\n",
       "      <td>Weight Prepregnancy</td>\n",
       "      <td>2344</td>\n",
       "      <td>Weight Prepregnancy</td>\n",
       "      <td>Numeric</td>\n",
       "      <td>NaN</td>\n",
       "    </tr>\n",
       "    <tr>\n",
       "      <th>73</th>\n",
       "      <td>bt</td>\n",
       "      <td>Weight</td>\n",
       "      <td>2098</td>\n",
       "      <td>Weight</td>\n",
       "      <td>Numeric</td>\n",
       "      <td>NaN</td>\n",
       "    </tr>\n",
       "    <tr>\n",
       "      <th>74</th>\n",
       "      <td>bu</td>\n",
       "      <td>Weight Gain Pounds</td>\n",
       "      <td>4404</td>\n",
       "      <td>Weight Gain (lb)</td>\n",
       "      <td>Compute</td>\n",
       "      <td>NaN</td>\n",
       "    </tr>\n",
       "    <tr>\n",
       "      <th>75</th>\n",
       "      <td>bv</td>\n",
       "      <td>Height Inches</td>\n",
       "      <td>553</td>\n",
       "      <td>Height {inches}</td>\n",
       "      <td>Numeric</td>\n",
       "      <td>NaN</td>\n",
       "    </tr>\n",
       "    <tr>\n",
       "      <th>76</th>\n",
       "      <td>bw</td>\n",
       "      <td>Preterm Labor</td>\n",
       "      <td>9264</td>\n",
       "      <td>Preterm Labor</td>\n",
       "      <td>Code</td>\n",
       "      <td>NaN</td>\n",
       "    </tr>\n",
       "    <tr>\n",
       "      <th>77</th>\n",
       "      <td>bx</td>\n",
       "      <td>Comments Preterm Labor</td>\n",
       "      <td>9280</td>\n",
       "      <td>Comments (Preterm Labor)</td>\n",
       "      <td>Text</td>\n",
       "      <td>NaN</td>\n",
       "    </tr>\n",
       "    <tr>\n",
       "      <th>78</th>\n",
       "      <td>by</td>\n",
       "      <td>Premature Rom</td>\n",
       "      <td>9265</td>\n",
       "      <td>Premature Rupture of Membranes</td>\n",
       "      <td>Code</td>\n",
       "      <td>NaN</td>\n",
       "    </tr>\n",
       "    <tr>\n",
       "      <th>79</th>\n",
       "      <td>bz</td>\n",
       "      <td>Comments Prom</td>\n",
       "      <td>9281</td>\n",
       "      <td>Comments (PROM)</td>\n",
       "      <td>Text</td>\n",
       "      <td>NaN</td>\n",
       "    </tr>\n",
       "    <tr>\n",
       "      <th>80</th>\n",
       "      <td>ca</td>\n",
       "      <td>Hypertensive Disorders Preg</td>\n",
       "      <td>9269</td>\n",
       "      <td>Hypertensive Disorders/Preg</td>\n",
       "      <td>Code</td>\n",
       "      <td>NaN</td>\n",
       "    </tr>\n",
       "    <tr>\n",
       "      <th>81</th>\n",
       "      <td>cb</td>\n",
       "      <td>Comments Pih Hellp</td>\n",
       "      <td>9285</td>\n",
       "      <td>Comments (PIH/HELLP)</td>\n",
       "      <td>Text</td>\n",
       "      <td>NaN</td>\n",
       "    </tr>\n",
       "    <tr>\n",
       "      <th>82</th>\n",
       "      <td>cc</td>\n",
       "      <td>Diabetes</td>\n",
       "      <td>9274</td>\n",
       "      <td>Diabetes</td>\n",
       "      <td>Code</td>\n",
       "      <td>NaN</td>\n",
       "    </tr>\n",
       "    <tr>\n",
       "      <th>83</th>\n",
       "      <td>cd</td>\n",
       "      <td>Comments Diabetes</td>\n",
       "      <td>9290</td>\n",
       "      <td>Comments (Diabetes)</td>\n",
       "      <td>Text</td>\n",
       "      <td>NaN</td>\n",
       "    </tr>\n",
       "    <tr>\n",
       "      <th>84</th>\n",
       "      <td>ce</td>\n",
       "      <td>Pitocin Start Date Time</td>\n",
       "      <td>17582</td>\n",
       "      <td>Pitocin Start D/T</td>\n",
       "      <td>Time</td>\n",
       "      <td>NaN</td>\n",
       "    </tr>\n",
       "    <tr>\n",
       "      <th>85</th>\n",
       "      <td>cf</td>\n",
       "      <td>Feeding Preference Pp</td>\n",
       "      <td>17584</td>\n",
       "      <td>Feeding Preference Postpartum</td>\n",
       "      <td>Code</td>\n",
       "      <td>NaN</td>\n",
       "    </tr>\n",
       "    <tr>\n",
       "      <th>86</th>\n",
       "      <td>cg</td>\n",
       "      <td>Adm Alcohol</td>\n",
       "      <td>8587</td>\n",
       "      <td>Adm Alcohol</td>\n",
       "      <td>Code</td>\n",
       "      <td>NaN</td>\n",
       "    </tr>\n",
       "    <tr>\n",
       "      <th>87</th>\n",
       "      <td>ch</td>\n",
       "      <td>Adm Cigarettes</td>\n",
       "      <td>8593</td>\n",
       "      <td>Adm Cigarettes</td>\n",
       "      <td>Code</td>\n",
       "      <td>NaN</td>\n",
       "    </tr>\n",
       "    <tr>\n",
       "      <th>88</th>\n",
       "      <td>ci</td>\n",
       "      <td>Adm Marijuana</td>\n",
       "      <td>8594</td>\n",
       "      <td>Adm Marijuana</td>\n",
       "      <td>Code</td>\n",
       "      <td>NaN</td>\n",
       "    </tr>\n",
       "    <tr>\n",
       "      <th>89</th>\n",
       "      <td>cj</td>\n",
       "      <td>Adm Cocaine Crack</td>\n",
       "      <td>8595</td>\n",
       "      <td>Adm Cocaine/Crack</td>\n",
       "      <td>Code</td>\n",
       "      <td>NaN</td>\n",
       "    </tr>\n",
       "    <tr>\n",
       "      <th>90</th>\n",
       "      <td>ck</td>\n",
       "      <td>Adm Illicit Drugs</td>\n",
       "      <td>8596</td>\n",
       "      <td>Adm Illicit Drugs</td>\n",
       "      <td>Code</td>\n",
       "      <td>NaN</td>\n",
       "    </tr>\n",
       "    <tr>\n",
       "      <th>91</th>\n",
       "      <td>cl</td>\n",
       "      <td>Adm Illicit Drugs Text</td>\n",
       "      <td>8601</td>\n",
       "      <td>Adm Illicit Drugs, Text</td>\n",
       "      <td>Text</td>\n",
       "      <td>NaN</td>\n",
       "    </tr>\n",
       "    <tr>\n",
       "      <th>92</th>\n",
       "      <td>cm</td>\n",
       "      <td>OFC at Birth Baby A In</td>\n",
       "      <td>17601</td>\n",
       "      <td>OFC at Birth Baby A (in)</td>\n",
       "      <td>Numeric</td>\n",
       "      <td>NaN</td>\n",
       "    </tr>\n",
       "    <tr>\n",
       "      <th>93</th>\n",
       "      <td>cn</td>\n",
       "      <td>Provider on Admission</td>\n",
       "      <td>18156</td>\n",
       "      <td>Provider on Admission</td>\n",
       "      <td>Code</td>\n",
       "      <td>NaN</td>\n",
       "    </tr>\n",
       "    <tr>\n",
       "      <th>94</th>\n",
       "      <td>co</td>\n",
       "      <td>Total ROM Time Prior to Delivery</td>\n",
       "      <td>10301</td>\n",
       "      <td>Total ROM Time Prior to Delivery</td>\n",
       "      <td>Compute</td>\n",
       "      <td>NaN</td>\n",
       "    </tr>\n",
       "    <tr>\n",
       "      <th>95</th>\n",
       "      <td>cp</td>\n",
       "      <td>CSection called Date Time</td>\n",
       "      <td>18216</td>\n",
       "      <td>CSection called D/T</td>\n",
       "      <td>Time</td>\n",
       "      <td>NaN</td>\n",
       "    </tr>\n",
       "    <tr>\n",
       "      <th>96</th>\n",
       "      <td>cq</td>\n",
       "      <td>Compete Dilatation</td>\n",
       "      <td>2433</td>\n",
       "      <td>Complete Dilatation</td>\n",
       "      <td>Time</td>\n",
       "      <td>NaN</td>\n",
       "    </tr>\n",
       "    <tr>\n",
       "      <th>97</th>\n",
       "      <td>cr</td>\n",
       "      <td>Labor Hours Stage 2</td>\n",
       "      <td>8722</td>\n",
       "      <td>Labor Hours Stage 2</td>\n",
       "      <td>Compute</td>\n",
       "      <td>NaN</td>\n",
       "    </tr>\n",
       "    <tr>\n",
       "      <th>98</th>\n",
       "      <td>cs</td>\n",
       "      <td>Labor Minutes Stage 2</td>\n",
       "      <td>8723</td>\n",
       "      <td>Labor Minutes Stage 2</td>\n",
       "      <td>Compute</td>\n",
       "      <td>NaN</td>\n",
       "    </tr>\n",
       "    <tr>\n",
       "      <th>99</th>\n",
       "      <td>ct</td>\n",
       "      <td>Prenatal Provider Name</td>\n",
       "      <td>3443</td>\n",
       "      <td>Prenatal Provider Name</td>\n",
       "      <td>Code</td>\n",
       "      <td>NaN</td>\n",
       "    </tr>\n",
       "    <tr>\n",
       "      <th>100</th>\n",
       "      <td>cu</td>\n",
       "      <td>Reason for Admission LD</td>\n",
       "      <td>315</td>\n",
       "      <td>Reason for Admission (L&amp;D)</td>\n",
       "      <td>Multicode</td>\n",
       "      <td>NaN</td>\n",
       "    </tr>\n",
       "    <tr>\n",
       "      <th>101</th>\n",
       "      <td>cv</td>\n",
       "      <td>Reason for Admission Other</td>\n",
       "      <td>3924</td>\n",
       "      <td>Reason for Admission Other</td>\n",
       "      <td>Text</td>\n",
       "      <td>NaN</td>\n",
       "    </tr>\n",
       "    <tr>\n",
       "      <th>102</th>\n",
       "      <td>cw</td>\n",
       "      <td>Quantitative Blood Loss DS</td>\n",
       "      <td>18370</td>\n",
       "      <td>Quantitative Blood Loss DS</td>\n",
       "      <td>Numeric</td>\n",
       "      <td>NaN</td>\n",
       "    </tr>\n",
       "    <tr>\n",
       "      <th>103</th>\n",
       "      <td>cx</td>\n",
       "      <td>Quantitative Blood Loss OR</td>\n",
       "      <td>18372</td>\n",
       "      <td>Quantitative Blood Loss-OR</td>\n",
       "      <td>Numeric</td>\n",
       "      <td>NaN</td>\n",
       "    </tr>\n",
       "    <tr>\n",
       "      <th>104</th>\n",
       "      <td>cy</td>\n",
       "      <td>QBL2 hrs PP</td>\n",
       "      <td>18373</td>\n",
       "      <td>Quantitative Blood Loss-2hrs PP</td>\n",
       "      <td>Numeric</td>\n",
       "      <td>NaN</td>\n",
       "    </tr>\n",
       "    <tr>\n",
       "      <th>105</th>\n",
       "      <td>cz</td>\n",
       "      <td>Units RBCS Transfused</td>\n",
       "      <td>18391</td>\n",
       "      <td>Units RBC's Transfused</td>\n",
       "      <td>Numeric</td>\n",
       "      <td>NaN</td>\n",
       "    </tr>\n",
       "    <tr>\n",
       "      <th>106</th>\n",
       "      <td>da</td>\n",
       "      <td>Total Units RBCS received</td>\n",
       "      <td>18395</td>\n",
       "      <td>Total Units RBCs received</td>\n",
       "      <td>Compute</td>\n",
       "      <td>NaN</td>\n",
       "    </tr>\n",
       "    <tr>\n",
       "      <th>107</th>\n",
       "      <td>db</td>\n",
       "      <td>QBL Total LD</td>\n",
       "      <td>18394</td>\n",
       "      <td>QBL Total L&amp;D</td>\n",
       "      <td>Compute</td>\n",
       "      <td>NaN</td>\n",
       "    </tr>\n",
       "    <tr>\n",
       "      <th>108</th>\n",
       "      <td>dc</td>\n",
       "      <td>Race</td>\n",
       "      <td>NaN</td>\n",
       "      <td>Mother's Race</td>\n",
       "      <td>Text</td>\n",
       "      <td>NaN</td>\n",
       "    </tr>\n",
       "    <tr>\n",
       "      <th>109</th>\n",
       "      <td>dd</td>\n",
       "      <td>Ethicity</td>\n",
       "      <td>NaN</td>\n",
       "      <td>Mother's ethnicity</td>\n",
       "      <td>o=Non-Hispanic; H=Hispanic?</td>\n",
       "      <td>NaN</td>\n",
       "    </tr>\n",
       "    <tr>\n",
       "      <th>110</th>\n",
       "      <td>de</td>\n",
       "      <td>AdmitToDelMinutes</td>\n",
       "      <td>NaN</td>\n",
       "      <td>Admit Time to Delivery in minutes</td>\n",
       "      <td>Numeric</td>\n",
       "      <td>NaN</td>\n",
       "    </tr>\n",
       "    <tr>\n",
       "      <th>111</th>\n",
       "      <td>df</td>\n",
       "      <td>AdmitToDischargeMinutes</td>\n",
       "      <td>NaN</td>\n",
       "      <td>Admit Time to Discharge in minutes</td>\n",
       "      <td>numeric</td>\n",
       "      <td>NaN</td>\n",
       "    </tr>\n",
       "    <tr>\n",
       "      <th>112</th>\n",
       "      <td>dg</td>\n",
       "      <td>DeliveryToDischargeMinutes</td>\n",
       "      <td>NaN</td>\n",
       "      <td>DeliveryTime to Discharge in Minutes</td>\n",
       "      <td>numeric</td>\n",
       "      <td>NaN</td>\n",
       "    </tr>\n",
       "  </tbody>\n",
       "</table>\n",
       "</div>"
      ],
      "text/plain": [
       "    Column                     Primary title Item #  \\\n",
       "0        a                          Study ID          \n",
       "1        b                               Age    301   \n",
       "2        c                            County   1851   \n",
       "3        d                           Gravida   1875   \n",
       "4        e                              Para   1876   \n",
       "5        f               Delivery Anesthesia   2419   \n",
       "6        g                  Labor Anesthesia   4211   \n",
       "7        h                        Episiotomy   2426   \n",
       "8        i              Laceration Extension   2427   \n",
       "9        j                   Laceration Type   2428   \n",
       "10       k              Amniotic Fluid Color   2349   \n",
       "11       l                   Attempt to VBAC   6742   \n",
       "12       m                CSection Incidence   4207   \n",
       "13       n                  CSection Urgency   4208   \n",
       "14       o          Membranes Rupture Method   4202   \n",
       "15       p            Membranes Rupture Time   7992   \n",
       "16       q          Number of Babies in Womb   4210   \n",
       "17       r                          Oxytocin   4212   \n",
       "18       s            Placenta Delivery Time   2434   \n",
       "19       t               Reason for CSection   3896   \n",
       "20       u         Intrapartum Complications   2949   \n",
       "21       v    Other Intrapartum Complication   8106   \n",
       "22     NaN       DELIVERY SUMMARY - INFANT A          \n",
       "23       w                    Delivery Month    NaN   \n",
       "24       x                     Delivery Year    NaN   \n",
       "25       y              Gestational Status A   4269   \n",
       "26       z                   Born In Route A   4213   \n",
       "27      aa      Other Infant Complications A   3969   \n",
       "28      ab             Infant Cord Vessels A   4234   \n",
       "29      ac                   Infant Length A   7968   \n",
       "30      ad                            IUFD A   4259   \n",
       "31      ae                  Neonatal Death A   4264   \n",
       "32      af              Fetal Presentation A   2358   \n",
       "33      ag              Method of Delivery A   2817   \n",
       "34      ah                         Forceps A   3894   \n",
       "35      ai               Vacuum Extraction A   4215   \n",
       "36      aj                            VBAC A   3895   \n",
       "37      ak                      Infant Sex A   2786   \n",
       "38      al                     Birthweight A   2895   \n",
       "39      am                       Condition A   2872   \n",
       "40      an                     GA at Birth A   1868   \n",
       "41      ao                  Apgar 1 Minute A   2891   \n",
       "42      ap                 Apgar 5 Minutes A   2892   \n",
       "43      aq                Apgar 10 Minutes A   2893   \n",
       "44      ar            Infant Complications A   2838   \n",
       "45     NaN       DELIVERY SUMMARY - INFANT B          \n",
       "46      as              Gestational Status B   4270   \n",
       "47      at                   Born In Route B   4284   \n",
       "48      au             Other Complications B   3970   \n",
       "49      av             Infant Cord Vessels B   4235   \n",
       "50      aw                   Infant Length B   7975   \n",
       "51      ax                            IUFD B   4260   \n",
       "52      ay                  Neonatal Death B   4265   \n",
       "53      az              Fetal Presentation B   3957   \n",
       "54      ba              Method of Delivery B   3978   \n",
       "55      bb                         Forceps B   3982   \n",
       "56      bc               Vacuum Extraction B   4216   \n",
       "57      bd                            VBAC B   3986   \n",
       "58      be                      Infant Sex B   3990   \n",
       "59      bf                     Birthweight B   3994   \n",
       "60      bg                       Condition B   3998   \n",
       "61      bh                     GA at Birth B   4002   \n",
       "62      bi                  Apgar 1 Minute B   4150   \n",
       "63      bj                 Apgar 5 Minutes B   4158   \n",
       "64      bk                Apgar 10 Minutes B   4154   \n",
       "65      bl            Infant Complications B   4025   \n",
       "66      bm                          Resident   8673   \n",
       "67      bn          Cervical Ripening Agents   8671   \n",
       "68      bo    Other Cervical Ripening Agents   8672   \n",
       "69      bp        Feeding Plans at Discharge  10258   \n",
       "70      bq               Physical Findings A   6517   \n",
       "71      br                Feeding Preference   2365   \n",
       "72      bs               Weight Prepregnancy   2344   \n",
       "73      bt                            Weight   2098   \n",
       "74      bu                Weight Gain Pounds   4404   \n",
       "75      bv                     Height Inches    553   \n",
       "76      bw                     Preterm Labor   9264   \n",
       "77      bx            Comments Preterm Labor   9280   \n",
       "78      by                     Premature Rom   9265   \n",
       "79      bz                     Comments Prom   9281   \n",
       "80      ca       Hypertensive Disorders Preg   9269   \n",
       "81      cb                Comments Pih Hellp   9285   \n",
       "82      cc                          Diabetes   9274   \n",
       "83      cd                 Comments Diabetes   9290   \n",
       "84      ce           Pitocin Start Date Time  17582   \n",
       "85      cf             Feeding Preference Pp  17584   \n",
       "86      cg                       Adm Alcohol   8587   \n",
       "87      ch                    Adm Cigarettes   8593   \n",
       "88      ci                     Adm Marijuana   8594   \n",
       "89      cj                 Adm Cocaine Crack   8595   \n",
       "90      ck                 Adm Illicit Drugs   8596   \n",
       "91      cl            Adm Illicit Drugs Text   8601   \n",
       "92      cm            OFC at Birth Baby A In  17601   \n",
       "93      cn             Provider on Admission  18156   \n",
       "94      co  Total ROM Time Prior to Delivery  10301   \n",
       "95      cp         CSection called Date Time  18216   \n",
       "96      cq                Compete Dilatation   2433   \n",
       "97      cr               Labor Hours Stage 2   8722   \n",
       "98      cs             Labor Minutes Stage 2   8723   \n",
       "99      ct            Prenatal Provider Name   3443   \n",
       "100     cu           Reason for Admission LD    315   \n",
       "101     cv        Reason for Admission Other   3924   \n",
       "102     cw        Quantitative Blood Loss DS  18370   \n",
       "103     cx        Quantitative Blood Loss OR  18372   \n",
       "104     cy                       QBL2 hrs PP  18373   \n",
       "105     cz             Units RBCS Transfused  18391   \n",
       "106     da         Total Units RBCS received  18395   \n",
       "107     db                      QBL Total LD  18394   \n",
       "108     dc                              Race    NaN   \n",
       "109     dd                          Ethicity    NaN   \n",
       "110     de                 AdmitToDelMinutes    NaN   \n",
       "111     df           AdmitToDischargeMinutes    NaN   \n",
       "112     dg        DeliveryToDischargeMinutes    NaN   \n",
       "\n",
       "                                Item name                                Type  \\\n",
       "0                                Study ID                Unique study made ID   \n",
       "1                                  PT-AGE                             Numeric   \n",
       "2                           PT-COUNTYCODE                                Code   \n",
       "3                                 Gravida                             Numeric   \n",
       "4                                    Para                             Numeric   \n",
       "5                     Anesthesia Delivery                           Multicode   \n",
       "6                        Anesthesia Labor                                Code   \n",
       "7                         Episiotomy Type                                Code   \n",
       "8                    Laceration Extension                                Code   \n",
       "9                         Laceration Type                           Multicode   \n",
       "10                   Amniotic Fluid Color                                Code   \n",
       "11                        Attempt to VBAC                                Code   \n",
       "12                     CSection Incidence                                Code   \n",
       "13                       CSection Urgency                                Code   \n",
       "14               Membranes Rupture Method                                Code   \n",
       "15                 ROM Datetime Perinatal                                Time   \n",
       "16                   Baby, Number in Womb                             Numeric   \n",
       "17                               Oxytocin                                Code   \n",
       "18                 Placenta Delivery Time                                Time   \n",
       "19           CSection, Primary Indication                                Code   \n",
       "20       Intrapartum Maternal Complicatio                           Multicode   \n",
       "21             Intrapartum Mat Comp Other                                Text   \n",
       "22                                                                        NaN   \n",
       "23                Delivery Month Infant A                   Abbreviated month   \n",
       "24                 Delivery Year Infant A                  Year of Delivery A   \n",
       "25              Gestational Status Baby A                                Code   \n",
       "26                   Born in Route Baby A                                Code   \n",
       "27       Infant Complications Other BabyA                                Text   \n",
       "28             Infant Cord Vessels Baby A                             Numeric   \n",
       "29                 Infant Length A inches                             Numeric   \n",
       "30       Intrauterine Fetal Demise Baby A  Code - changed from time to \"yes\"    \n",
       "31                  Neonatal Death Baby A  Code - changed from time to \"yes\"    \n",
       "32              Fetal Presentation Baby A                                Code   \n",
       "33              Method of Delivery Baby A                                Code   \n",
       "34                         Forceps Baby A                                Code   \n",
       "35               Vacuum Extraction Baby A                                Code   \n",
       "36                            VBAC Baby A                                Code   \n",
       "37                      Infant Sex Baby A                                Code   \n",
       "38              Infant Birthweight Baby A                             Numeric   \n",
       "39                Infant Condition Baby A                                Code   \n",
       "40        Gestational Age at Deliv Baby A                             Numeric   \n",
       "41                   Apgar Score 1 Baby A                             Compute   \n",
       "42                   Apgar Score 5 Baby A                             Compute   \n",
       "43                  Apgar Score 10 Baby A                             Compute   \n",
       "44            Infant Complications Baby A                           Multicode   \n",
       "45                                                                        NaN   \n",
       "46              Gestational Status Baby B                                Code   \n",
       "47                   Born in Route Baby B                                Code   \n",
       "48       Infant Complications Other BabyB                                Text   \n",
       "49             Infant Cord Vessels Baby B                             Numeric   \n",
       "50                 Infant Length B Inches                             Numeric   \n",
       "51       Intrauterine Fetal Demise Baby B  Code - changed from time to \"yes\"    \n",
       "52                  Neonatal Death Baby B  Code - changed from time to \"yes\"    \n",
       "53              Fetal Presentation Baby B                                Code   \n",
       "54              Method of Delivery Baby B                                Code   \n",
       "55                         Forceps Baby B                                Code   \n",
       "56               Vacuum Extraction Baby B                                Code   \n",
       "57                            VBAC Baby B                                Code   \n",
       "58                      Infant Sex Baby B                                Code   \n",
       "59              Infant Birthweight Baby B                             Numeric   \n",
       "60                Infant Condition Baby B                                Code   \n",
       "61        Gestational Age at Deliv Baby B                             Numeric   \n",
       "62                   Apgar Score 1 Baby B                             Compute   \n",
       "63                   Apgar Score 5 Baby B                             Compute   \n",
       "64                  Apgar Score 10 Baby B                             Compute   \n",
       "65            Infant Complications Baby B                           Multicode   \n",
       "66                               Resident                                Code   \n",
       "67               Cervical Ripening Agents                           Multicode   \n",
       "68         Cervical Ripening Agents Other                                Text   \n",
       "69             Feeding Plans at Discharge                                Code   \n",
       "70       Physical Findings at Deliv BabyA                           Multicode   \n",
       "71                     Feeding Preference                                Code   \n",
       "72                    Weight Prepregnancy                             Numeric   \n",
       "73                                 Weight                             Numeric   \n",
       "74                       Weight Gain (lb)                             Compute   \n",
       "75                        Height {inches}                             Numeric   \n",
       "76                          Preterm Labor                                Code   \n",
       "77               Comments (Preterm Labor)                                Text   \n",
       "78         Premature Rupture of Membranes                                Code   \n",
       "79                        Comments (PROM)                                Text   \n",
       "80            Hypertensive Disorders/Preg                                Code   \n",
       "81                   Comments (PIH/HELLP)                                Text   \n",
       "82                               Diabetes                                Code   \n",
       "83                    Comments (Diabetes)                                Text   \n",
       "84                      Pitocin Start D/T                                Time   \n",
       "85          Feeding Preference Postpartum                                Code   \n",
       "86                            Adm Alcohol                                Code   \n",
       "87                         Adm Cigarettes                                Code   \n",
       "88                          Adm Marijuana                                Code   \n",
       "89                      Adm Cocaine/Crack                                Code   \n",
       "90                      Adm Illicit Drugs                                Code   \n",
       "91                Adm Illicit Drugs, Text                                Text   \n",
       "92               OFC at Birth Baby A (in)                             Numeric   \n",
       "93                  Provider on Admission                                Code   \n",
       "94       Total ROM Time Prior to Delivery                             Compute   \n",
       "95                    CSection called D/T                                Time   \n",
       "96                    Complete Dilatation                                Time   \n",
       "97                    Labor Hours Stage 2                             Compute   \n",
       "98                  Labor Minutes Stage 2                             Compute   \n",
       "99                 Prenatal Provider Name                                Code   \n",
       "100            Reason for Admission (L&D)                           Multicode   \n",
       "101            Reason for Admission Other                                Text   \n",
       "102            Quantitative Blood Loss DS                             Numeric   \n",
       "103            Quantitative Blood Loss-OR                             Numeric   \n",
       "104       Quantitative Blood Loss-2hrs PP                             Numeric   \n",
       "105                Units RBC's Transfused                             Numeric   \n",
       "106             Total Units RBCs received                             Compute   \n",
       "107                         QBL Total L&D                             Compute   \n",
       "108                         Mother's Race                                Text   \n",
       "109                    Mother's ethnicity         o=Non-Hispanic; H=Hispanic?   \n",
       "110     Admit Time to Delivery in minutes                             Numeric   \n",
       "111    Admit Time to Discharge in minutes                             numeric   \n",
       "112  DeliveryTime to Discharge in Minutes                             numeric   \n",
       "\n",
       "    Unnamed: 5  \n",
       "0          NaN  \n",
       "1          NaN  \n",
       "2          NaN  \n",
       "3          NaN  \n",
       "4          NaN  \n",
       "5          NaN  \n",
       "6          NaN  \n",
       "7          NaN  \n",
       "8          NaN  \n",
       "9          NaN  \n",
       "10         NaN  \n",
       "11         NaN  \n",
       "12         NaN  \n",
       "13         NaN  \n",
       "14         NaN  \n",
       "15         NaN  \n",
       "16         NaN  \n",
       "17         NaN  \n",
       "18         NaN  \n",
       "19         NaN  \n",
       "20         NaN  \n",
       "21         NaN  \n",
       "22         NaN  \n",
       "23         NaN  \n",
       "24         NaN  \n",
       "25         NaN  \n",
       "26         NaN  \n",
       "27         NaN  \n",
       "28         NaN  \n",
       "29         NaN  \n",
       "30         NaN  \n",
       "31         NaN  \n",
       "32         NaN  \n",
       "33         NaN  \n",
       "34         NaN  \n",
       "35         NaN  \n",
       "36         NaN  \n",
       "37         NaN  \n",
       "38       grams  \n",
       "39         NaN  \n",
       "40       weeks  \n",
       "41         NaN  \n",
       "42         NaN  \n",
       "43         NaN  \n",
       "44         NaN  \n",
       "45         NaN  \n",
       "46         NaN  \n",
       "47         NaN  \n",
       "48         NaN  \n",
       "49         NaN  \n",
       "50         NaN  \n",
       "51         NaN  \n",
       "52         NaN  \n",
       "53         NaN  \n",
       "54         NaN  \n",
       "55         NaN  \n",
       "56         NaN  \n",
       "57         NaN  \n",
       "58         NaN  \n",
       "59       grams  \n",
       "60         NaN  \n",
       "61         NaN  \n",
       "62         NaN  \n",
       "63         NaN  \n",
       "64         NaN  \n",
       "65         NaN  \n",
       "66         NaN  \n",
       "67         NaN  \n",
       "68         NaN  \n",
       "69         NaN  \n",
       "70         NaN  \n",
       "71         NaN  \n",
       "72         NaN  \n",
       "73         NaN  \n",
       "74         NaN  \n",
       "75         NaN  \n",
       "76         NaN  \n",
       "77         NaN  \n",
       "78         NaN  \n",
       "79         NaN  \n",
       "80         NaN  \n",
       "81         NaN  \n",
       "82         NaN  \n",
       "83         NaN  \n",
       "84         NaN  \n",
       "85         NaN  \n",
       "86         NaN  \n",
       "87         NaN  \n",
       "88         NaN  \n",
       "89         NaN  \n",
       "90         NaN  \n",
       "91         NaN  \n",
       "92         NaN  \n",
       "93         NaN  \n",
       "94         NaN  \n",
       "95         NaN  \n",
       "96         NaN  \n",
       "97         NaN  \n",
       "98         NaN  \n",
       "99         NaN  \n",
       "100        NaN  \n",
       "101        NaN  \n",
       "102        NaN  \n",
       "103        NaN  \n",
       "104        NaN  \n",
       "105        NaN  \n",
       "106        NaN  \n",
       "107        NaN  \n",
       "108        NaN  \n",
       "109        NaN  \n",
       "110        NaN  \n",
       "111        NaN  \n",
       "112        NaN  "
      ]
     },
     "execution_count": 670,
     "metadata": {},
     "output_type": "execute_result"
    }
   ],
   "source": [
    "var"
   ]
  },
  {
   "cell_type": "code",
   "execution_count": 671,
   "id": "2b8e4e02",
   "metadata": {},
   "outputs": [
    {
     "data": {
      "text/html": [
       "<div>\n",
       "<style scoped>\n",
       "    .dataframe tbody tr th:only-of-type {\n",
       "        vertical-align: middle;\n",
       "    }\n",
       "\n",
       "    .dataframe tbody tr th {\n",
       "        vertical-align: top;\n",
       "    }\n",
       "\n",
       "    .dataframe thead th {\n",
       "        text-align: right;\n",
       "    }\n",
       "</style>\n",
       "<table border=\"1\" class=\"dataframe\">\n",
       "  <thead>\n",
       "    <tr style=\"text-align: right;\">\n",
       "      <th></th>\n",
       "      <th>Column</th>\n",
       "      <th>Primary title</th>\n",
       "      <th>Item #</th>\n",
       "      <th>Item name</th>\n",
       "      <th>Type</th>\n",
       "      <th>Unnamed: 5</th>\n",
       "    </tr>\n",
       "  </thead>\n",
       "  <tbody>\n",
       "    <tr>\n",
       "      <th>21</th>\n",
       "      <td>v</td>\n",
       "      <td>Other Intrapartum Complication</td>\n",
       "      <td>8106</td>\n",
       "      <td>Intrapartum Mat Comp Other</td>\n",
       "      <td>Text</td>\n",
       "      <td>NaN</td>\n",
       "    </tr>\n",
       "    <tr>\n",
       "      <th>27</th>\n",
       "      <td>aa</td>\n",
       "      <td>Other Infant Complications A</td>\n",
       "      <td>3969</td>\n",
       "      <td>Infant Complications Other BabyA</td>\n",
       "      <td>Text</td>\n",
       "      <td>NaN</td>\n",
       "    </tr>\n",
       "    <tr>\n",
       "      <th>48</th>\n",
       "      <td>au</td>\n",
       "      <td>Other Complications B</td>\n",
       "      <td>3970</td>\n",
       "      <td>Infant Complications Other BabyB</td>\n",
       "      <td>Text</td>\n",
       "      <td>NaN</td>\n",
       "    </tr>\n",
       "    <tr>\n",
       "      <th>68</th>\n",
       "      <td>bo</td>\n",
       "      <td>Other Cervical Ripening Agents</td>\n",
       "      <td>8672</td>\n",
       "      <td>Cervical Ripening Agents Other</td>\n",
       "      <td>Text</td>\n",
       "      <td>NaN</td>\n",
       "    </tr>\n",
       "    <tr>\n",
       "      <th>77</th>\n",
       "      <td>bx</td>\n",
       "      <td>Comments Preterm Labor</td>\n",
       "      <td>9280</td>\n",
       "      <td>Comments (Preterm Labor)</td>\n",
       "      <td>Text</td>\n",
       "      <td>NaN</td>\n",
       "    </tr>\n",
       "    <tr>\n",
       "      <th>79</th>\n",
       "      <td>bz</td>\n",
       "      <td>Comments Prom</td>\n",
       "      <td>9281</td>\n",
       "      <td>Comments (PROM)</td>\n",
       "      <td>Text</td>\n",
       "      <td>NaN</td>\n",
       "    </tr>\n",
       "    <tr>\n",
       "      <th>81</th>\n",
       "      <td>cb</td>\n",
       "      <td>Comments Pih Hellp</td>\n",
       "      <td>9285</td>\n",
       "      <td>Comments (PIH/HELLP)</td>\n",
       "      <td>Text</td>\n",
       "      <td>NaN</td>\n",
       "    </tr>\n",
       "    <tr>\n",
       "      <th>83</th>\n",
       "      <td>cd</td>\n",
       "      <td>Comments Diabetes</td>\n",
       "      <td>9290</td>\n",
       "      <td>Comments (Diabetes)</td>\n",
       "      <td>Text</td>\n",
       "      <td>NaN</td>\n",
       "    </tr>\n",
       "    <tr>\n",
       "      <th>91</th>\n",
       "      <td>cl</td>\n",
       "      <td>Adm Illicit Drugs Text</td>\n",
       "      <td>8601</td>\n",
       "      <td>Adm Illicit Drugs, Text</td>\n",
       "      <td>Text</td>\n",
       "      <td>NaN</td>\n",
       "    </tr>\n",
       "    <tr>\n",
       "      <th>101</th>\n",
       "      <td>cv</td>\n",
       "      <td>Reason for Admission Other</td>\n",
       "      <td>3924</td>\n",
       "      <td>Reason for Admission Other</td>\n",
       "      <td>Text</td>\n",
       "      <td>NaN</td>\n",
       "    </tr>\n",
       "    <tr>\n",
       "      <th>108</th>\n",
       "      <td>dc</td>\n",
       "      <td>Race</td>\n",
       "      <td>NaN</td>\n",
       "      <td>Mother's Race</td>\n",
       "      <td>Text</td>\n",
       "      <td>NaN</td>\n",
       "    </tr>\n",
       "  </tbody>\n",
       "</table>\n",
       "</div>"
      ],
      "text/plain": [
       "    Column                     Primary title Item #  \\\n",
       "21       v    Other Intrapartum Complication   8106   \n",
       "27      aa      Other Infant Complications A   3969   \n",
       "48      au             Other Complications B   3970   \n",
       "68      bo    Other Cervical Ripening Agents   8672   \n",
       "77      bx            Comments Preterm Labor   9280   \n",
       "79      bz                     Comments Prom   9281   \n",
       "81      cb                Comments Pih Hellp   9285   \n",
       "83      cd                 Comments Diabetes   9290   \n",
       "91      cl            Adm Illicit Drugs Text   8601   \n",
       "101     cv        Reason for Admission Other   3924   \n",
       "108     dc                              Race    NaN   \n",
       "\n",
       "                            Item name  Type Unnamed: 5  \n",
       "21         Intrapartum Mat Comp Other  Text        NaN  \n",
       "27   Infant Complications Other BabyA  Text        NaN  \n",
       "48   Infant Complications Other BabyB  Text        NaN  \n",
       "68     Cervical Ripening Agents Other  Text        NaN  \n",
       "77           Comments (Preterm Labor)  Text        NaN  \n",
       "79                    Comments (PROM)  Text        NaN  \n",
       "81               Comments (PIH/HELLP)  Text        NaN  \n",
       "83                Comments (Diabetes)  Text        NaN  \n",
       "91            Adm Illicit Drugs, Text  Text        NaN  \n",
       "101        Reason for Admission Other  Text        NaN  \n",
       "108                     Mother's Race  Text        NaN  "
      ]
     },
     "execution_count": 671,
     "metadata": {},
     "output_type": "execute_result"
    }
   ],
   "source": [
    "var.loc[var['Type']=='Text']"
   ]
  },
  {
   "cell_type": "code",
   "execution_count": 672,
   "id": "6d4acd56-25a0-4af0-8132-7f565a3b8c89",
   "metadata": {},
   "outputs": [],
   "source": [
    "pd.set_option('display.max_rows', 150)"
   ]
  },
  {
   "cell_type": "code",
   "execution_count": 673,
   "id": "14ff47f2-9d62-4918-9e28-ffcf4c4032f6",
   "metadata": {},
   "outputs": [
    {
     "data": {
      "text/plain": [
       "Index(['Age', 'County', 'Gravida', 'Para', 'Delivery Anesthesia',\n",
       "       'Labor Anesthesia', 'Episiotomy', 'Laceration Extension',\n",
       "       'Laceration Type', 'Amniotic Fluid Color',\n",
       "       ...\n",
       "       'Quantitative Blood Loss OR', 'QBL2 hrs PP', 'Units RBCS Transfused',\n",
       "       'Total Units RBCS Received', 'QBL Total LD', 'Race', 'Ethnicity',\n",
       "       'AdmitToDelMinutes', 'AdmitToDischargeMinutes',\n",
       "       'DeliveryToDischargeMinutes'],\n",
       "      dtype='object', length=110)"
      ]
     },
     "execution_count": 673,
     "metadata": {},
     "output_type": "execute_result"
    }
   ],
   "source": [
    "df.columns"
   ]
  },
  {
   "cell_type": "code",
   "execution_count": 674,
   "id": "61bc92f3",
   "metadata": {},
   "outputs": [
    {
     "data": {
      "text/plain": [
       "(17620, 110)"
      ]
     },
     "execution_count": 674,
     "metadata": {},
     "output_type": "execute_result"
    }
   ],
   "source": [
    "df.shape"
   ]
  },
  {
   "cell_type": "code",
   "execution_count": 675,
   "id": "72dc5178-8150-4c39-a848-6d1bf9d3d085",
   "metadata": {},
   "outputs": [],
   "source": [
    "#dtypes = ['int16', 'int32', 'int64', 'float16', 'float32', 'float64', 'object']\n",
    "#data = df.select_dtypes(dtypes) #removing time columns for now"
   ]
  },
  {
   "cell_type": "code",
   "execution_count": 676,
   "id": "875eea72",
   "metadata": {},
   "outputs": [
    {
     "data": {
      "text/plain": [
       "object            67\n",
       "float64           37\n",
       "datetime64[ns]     5\n",
       "int64              1\n",
       "dtype: int64"
      ]
     },
     "execution_count": 676,
     "metadata": {},
     "output_type": "execute_result"
    }
   ],
   "source": [
    "df.dtypes.value_counts()"
   ]
  },
  {
   "cell_type": "code",
   "execution_count": 677,
   "id": "d237e56e",
   "metadata": {},
   "outputs": [],
   "source": [
    "datetime_columns = df.select_dtypes(include=['datetime64'])"
   ]
  },
  {
   "cell_type": "code",
   "execution_count": 678,
   "id": "4fe8547d",
   "metadata": {},
   "outputs": [],
   "source": [
    "int_columns = df.select_dtypes(include=['int64'])"
   ]
  },
  {
   "cell_type": "code",
   "execution_count": 679,
   "id": "db3d1a56",
   "metadata": {},
   "outputs": [
    {
     "data": {
      "text/plain": [
       "Index(['Delivery Year'], dtype='object')"
      ]
     },
     "execution_count": 679,
     "metadata": {},
     "output_type": "execute_result"
    }
   ],
   "source": [
    "int_columns.columns"
   ]
  },
  {
   "cell_type": "code",
   "execution_count": 680,
   "id": "1da145be",
   "metadata": {},
   "outputs": [
    {
     "data": {
      "text/plain": [
       "Index(['Membranes Rupture Time', 'Placenta Delivery Time',\n",
       "       'Pitocin Start Date Time', 'CS Called Date Time',\n",
       "       'Complete Dilatation'],\n",
       "      dtype='object')"
      ]
     },
     "execution_count": 680,
     "metadata": {},
     "output_type": "execute_result"
    }
   ],
   "source": [
    "datetime_columns.columns"
   ]
  },
  {
   "cell_type": "code",
   "execution_count": null,
   "id": "92481af6",
   "metadata": {},
   "outputs": [],
   "source": []
  },
  {
   "cell_type": "code",
   "execution_count": null,
   "id": "19ea5f2b",
   "metadata": {},
   "outputs": [],
   "source": []
  },
  {
   "cell_type": "markdown",
   "id": "328c4ed6",
   "metadata": {},
   "source": [
    "### 1. 100% missing variables"
   ]
  },
  {
   "cell_type": "code",
   "execution_count": 681,
   "id": "1c44e7e4",
   "metadata": {},
   "outputs": [],
   "source": [
    "allmissingcolumn = ['Intrapartum Complications','Physical Findings A','Quantitative Blood Loss OR']"
   ]
  },
  {
   "cell_type": "code",
   "execution_count": 682,
   "id": "50632d2f",
   "metadata": {},
   "outputs": [
    {
     "data": {
      "text/plain": [
       "Intrapartum Complications     100.0\n",
       "Physical Findings A           100.0\n",
       "Quantitative Blood Loss OR    100.0\n",
       "dtype: float64"
      ]
     },
     "execution_count": 682,
     "metadata": {},
     "output_type": "execute_result"
    }
   ],
   "source": [
    "df[allmissingcolumn].isnull().mean().round(4).mul(100)"
   ]
  },
  {
   "cell_type": "code",
   "execution_count": 683,
   "id": "80817caf",
   "metadata": {},
   "outputs": [],
   "source": [
    "data=df.drop(allmissingcolumn, axis=1)"
   ]
  },
  {
   "cell_type": "code",
   "execution_count": 684,
   "id": "61f5e53c",
   "metadata": {},
   "outputs": [
    {
     "data": {
      "text/plain": [
       "(17620, 107)"
      ]
     },
     "execution_count": 684,
     "metadata": {},
     "output_type": "execute_result"
    }
   ],
   "source": [
    "data.shape"
   ]
  },
  {
   "cell_type": "markdown",
   "id": "5800a1c2",
   "metadata": {},
   "source": [
    "### 2. Remove B variables"
   ]
  },
  {
   "cell_type": "code",
   "execution_count": 685,
   "id": "a8eb6114-259d-4a2b-b96a-5a7a31a63232",
   "metadata": {},
   "outputs": [],
   "source": [
    "remove_cols = [\n",
    " 'Gestational Status B',\n",
    " 'Born In Route B',\n",
    " 'Other Complications B',\n",
    " 'Infant Cord Vessels B',\n",
    " 'Infant Length B',\n",
    " 'IUFD B',\n",
    " 'Neonatal Death B',\n",
    " 'Fetal Presentation B',\n",
    " 'Method of Delivery B',\n",
    " 'Forceps B',\n",
    " 'Vacuum Extraction B',\n",
    " 'VBAC B',\n",
    " 'Infant Sex B',\n",
    " 'Birthweight B',\n",
    " 'Condition B',\n",
    " 'GA At Birth B',\n",
    " 'APGAR 1 minute B',\n",
    " 'APGAR 5 minutes B',\n",
    " 'APGAR 10 Minutes B',\n",
    " 'Infant Complications B',\n",
    " 'Other Intrapartum Complication',\n",
    " 'Other Infant Complications A',\n",
    " 'Resident',\n",
    " 'Other Cervical Ripening Agents',\n",
    " 'Comments Preterm Labor',\n",
    " 'Comments Prom', \n",
    " 'Comments Pih Hellp',\n",
    " 'Comments Diabetes'\n",
    " 'Reason For Admission Other',\n",
    " 'Prenatal Provider Name',\n",
    " 'Physical Findings A'\n",
    "]"
   ]
  },
  {
   "cell_type": "code",
   "execution_count": 686,
   "id": "55eebac9-8bf2-4f85-9235-190514281d64",
   "metadata": {},
   "outputs": [],
   "source": [
    "data = data.loc[:, ~data.columns.isin(remove_cols)] "
   ]
  },
  {
   "cell_type": "code",
   "execution_count": 687,
   "id": "088bf3ff-a233-4bd2-a614-922518e79112",
   "metadata": {
    "scrolled": true
   },
   "outputs": [
    {
     "data": {
      "text/plain": [
       "Neonatal Death A               99.80\n",
       "IUFD A                         99.00\n",
       "Pitocin Start Date Time        97.94\n",
       "Total Units RBCS Received      97.71\n",
       "Units RBCS Transfused          97.62\n",
       "APGAR 10 minutes A             97.36\n",
       "Adm Illicit Drugs Text         91.65\n",
       "CS Called Date Time            87.87\n",
       "Reason For Admission Other     86.33\n",
       "QBL Total LD                   84.62\n",
       "QBL2 hrs PP                    81.79\n",
       "Comments Diabetes              81.00\n",
       "Quantitative Blood Loss DS     44.58\n",
       "Labor Minutes Stage 2          32.54\n",
       "Labor Hours Stage 2            32.54\n",
       "Complete Dilatation            32.52\n",
       "Cervical Ripening Agents       26.66\n",
       "AdmitToDischargeMinutes        24.52\n",
       "DeliveryToDischargeMinutes     19.12\n",
       "Feeding Plans at Discharge     18.04\n",
       "Weight Gain Pounds             16.21\n",
       "Weight Prepregnancy            13.56\n",
       "County                          9.23\n",
       "OFC At Birth Baby A In          7.87\n",
       "Ethnicity                       7.17\n",
       "Infant Length A                 7.12\n",
       "AdmitToDelMinutes               7.08\n",
       "Reason For Csection             5.46\n",
       "Height Inches                   5.45\n",
       "Csection Incidence              5.43\n",
       "Csection Urgency                5.43\n",
       "Weight                          4.77\n",
       "Premature Rom                   4.38\n",
       "Labor Anesthesia                4.36\n",
       "Preterm Labor                   4.07\n",
       "Diabetes                        3.76\n",
       "Laceration Type                 3.60\n",
       "Hypertensive Disorders Preg     3.52\n",
       "Reason For Admission LD         2.85\n",
       "Oxytocin                        2.81\n",
       "Infant Complications A          2.60\n",
       "Laceration Extension            2.56\n",
       "Race                            2.30\n",
       "Episiotomy                      2.16\n",
       "Amniotic Fluid Color            2.09\n",
       "Infant Cord Vessels A           2.00\n",
       "Attempt to Vbac                 1.99\n",
       "Total Rom Time Prior to Del     1.94\n",
       "Membranes Rupture Time          1.92\n",
       "APGAR 5 minutes A               1.74\n",
       "APGAR 1 minute  A               1.66\n",
       "Membranes Rupture Method        1.61\n",
       "Birthweight A                   1.36\n",
       "Adm Cigarettes                  0.87\n",
       "Placenta Delivery Time          0.86\n",
       "Delivery Anesthesia             0.66\n",
       "Feeding preference PP           0.61\n",
       "Number of Babies In Womb        0.58\n",
       "Adm Cocaine Crack               0.53\n",
       "Adm Illicit Drugs               0.52\n",
       "Vacuum Extraction A             0.49\n",
       "Forceps a                       0.33\n",
       "Adm Marijuana                   0.32\n",
       "Adm Alcohol                     0.32\n",
       "Fetal Presentation A            0.30\n",
       "Feeding Preference              0.28\n",
       "Para                            0.27\n",
       "Provider On Admission           0.22\n",
       "Gestational Status A            0.20\n",
       "VBAC A                          0.20\n",
       "Condition A                     0.18\n",
       "GA At Birth A                   0.18\n",
       "Infant Sex A                    0.11\n",
       "Gravida                         0.09\n",
       "Born In Route A                 0.08\n",
       "Method of Delivery A            0.03\n",
       "Age                             0.01\n",
       "Delivery Month                  0.00\n",
       "Delivery Year                   0.00\n",
       "dtype: float64"
      ]
     },
     "execution_count": 687,
     "metadata": {},
     "output_type": "execute_result"
    }
   ],
   "source": [
    "pd.set_option('display.max_rows', 150)\n",
    "data.isnull().mean().round(4).mul(100).sort_values(ascending=False)"
   ]
  },
  {
   "cell_type": "code",
   "execution_count": 688,
   "id": "80430da1-acb7-4968-9ca8-4f04b4d9e5f9",
   "metadata": {},
   "outputs": [
    {
     "data": {
      "text/plain": [
       "<Axes: >"
      ]
     },
     "execution_count": 688,
     "metadata": {},
     "output_type": "execute_result"
    },
    {
     "data": {
      "image/png": "[encoded data removed]",
      "text/plain": [
       "<Figure size 640x480 with 2 Axes>"
      ]
     },
     "metadata": {},
     "output_type": "display_data"
    }
   ],
   "source": [
    "#check for any strange correlations between numeric columns\n",
    "numerics = ['int64', 'float64']\n",
    "matrix = data.select_dtypes(numerics).corr(method='spearman').round(2)\n",
    "sns.set(font_scale=0.75)\n",
    "sns.heatmap(matrix, xticklabels=1, yticklabels=1)#, annot=True)"
   ]
  },
  {
   "cell_type": "markdown",
   "id": "ac400c1d",
   "metadata": {},
   "source": [
    "### 3. fix ages"
   ]
  },
  {
   "cell_type": "code",
   "execution_count": null,
   "id": "b4fdf046-0c9a-426e-bc91-eac7212bfa71",
   "metadata": {},
   "outputs": [],
   "source": []
  },
  {
   "cell_type": "code",
   "execution_count": 689,
   "id": "8195ec32-3f62-42c3-b757-b327abe3960e",
   "metadata": {},
   "outputs": [
    {
     "data": {
      "text/plain": [
       "29.0     1147\n",
       "28.0     1118\n",
       "30.0     1100\n",
       "27.0     1026\n",
       "25.0     1016\n",
       "26.0      996\n",
       "32.0      990\n",
       "31.0      986\n",
       "24.0      943\n",
       "33.0      863\n",
       "23.0      843\n",
       "22.0      798\n",
       "34.0      748\n",
       "21.0      701\n",
       "35.0      671\n",
       "20.0      635\n",
       "36.0      518\n",
       "19.0      493\n",
       "37.0      431\n",
       "38.0      325\n",
       "39.0      266\n",
       "18.0      266\n",
       "40.0      183\n",
       "17.0      145\n",
       "41.0      110\n",
       "42.0       96\n",
       "16.0       70\n",
       "43.0       39\n",
       "15.0       28\n",
       "44.0       25\n",
       "14.0        9\n",
       "45.0        8\n",
       "0.0         6\n",
       "47.0        4\n",
       "46.0        4\n",
       "48.0        2\n",
       "49.0        2\n",
       "13.0        1\n",
       "57.0        1\n",
       "52.0        1\n",
       "63.0        1\n",
       "121.0       1\n",
       "51.0        1\n",
       "12.0        1\n",
       "Name: Age, dtype: int64"
      ]
     },
     "execution_count": 689,
     "metadata": {},
     "output_type": "execute_result"
    }
   ],
   "source": [
    "#I left age 12, 13, 14 since these are valid ages; as well as 63, 51 - we can decide to remove later if we run into outlier problems\n",
    "data['Age'].value_counts()"
   ]
  },
  {
   "cell_type": "markdown",
   "id": "62797b70",
   "metadata": {},
   "source": [
    "### 4. fix counties"
   ]
  },
  {
   "cell_type": "code",
   "execution_count": 690,
   "id": "285850d1-9996-4d9a-9dc6-4e57370de0fc",
   "metadata": {},
   "outputs": [],
   "source": [
    "#fixing counties\n",
    "data2 = data.copy()\n",
    "\n",
    "counties = data2['County'].str.replace(' ', '').str.lower()\n",
    "data2['County'] = counties\n",
    "data2.loc[data2.County == 'knoxville'] = 'knox'\n",
    "data2.loc[data2.County == 'blout'] = 'blount'\n",
    "data2.loc[data2.County == 'jefferso'] = 'jefferson'\n",
    "data2.loc[data2.County == 'jeff'] = 'jefferson'\n",
    "data2.loc[data2.County == 'cumberla'] = 'cumberland'\n",
    "data2.loc[data2.County == 'cumberland,ky.'] = 'outofstate'\n",
    "data2.loc[data2.County == 'orleansparish'] = 'outofstate'\n",
    "data2.loc[data2.County == 'whitleyco.'] = 'outofstate'\n",
    "data2.loc[data2.County == 'whitley'] = 'outofstate'\n",
    "data2.loc[data2.County == 'newportnews'] = 'outofstate'\n",
    "data2.loc[data2.County == 'other'] = np.nan\n",
    "\n",
    "data['County'] = data2['County']"
   ]
  },
  {
   "cell_type": "code",
   "execution_count": 691,
   "id": "fc0d700c-f3d6-4373-9f9f-952376facd31",
   "metadata": {},
   "outputs": [
    {
     "data": {
      "text/plain": [
       "knox           8540\n",
       "blount         1425\n",
       "campbell        702\n",
       "loudon          630\n",
       "anderson        589\n",
       "hamblen         562\n",
       "jefferson       525\n",
       "sevier          523\n",
       "monroe          408\n",
       "scott           324\n",
       "roane           288\n",
       "grainger        233\n",
       "mcminn          229\n",
       "union           215\n",
       "claiborn        214\n",
       "cocke           166\n",
       "morgan           70\n",
       "hawkins          65\n",
       "greene           49\n",
       "meigs            27\n",
       "cumberland       25\n",
       "rhea             25\n",
       "sullivan         16\n",
       "fentress         15\n",
       "outofstate       11\n",
       "hancock           9\n",
       "washington        6\n",
       "bradley           4\n",
       "carter            4\n",
       "polk              3\n",
       "overton           3\n",
       "harlan            3\n",
       "lee               3\n",
       "washburn          2\n",
       "bell              2\n",
       "hamilton          2\n",
       "putnam            2\n",
       "kenton            1\n",
       "mccreary          1\n",
       "jackson           1\n",
       "oak               1\n",
       "rutledge          1\n",
       "decatur           1\n",
       "unicoi            1\n",
       "onslow            1\n",
       "mecklenburg       1\n",
       "handcock          1\n",
       "clinton           1\n",
       "davidson          1\n",
       "johnson           1\n",
       "clay              1\n",
       "Name: County, dtype: int64"
      ]
     },
     "execution_count": 691,
     "metadata": {},
     "output_type": "execute_result"
    }
   ],
   "source": [
    "data['County'].value_counts()"
   ]
  },
  {
   "cell_type": "markdown",
   "id": "0e1d5646",
   "metadata": {},
   "source": [
    "### 5. gravida vs. para"
   ]
  },
  {
   "cell_type": "code",
   "execution_count": 692,
   "id": "babcd4ed-2b00-467e-adfe-9e78a0bb20f1",
   "metadata": {},
   "outputs": [
    {
     "data": {
      "text/plain": [
       "62"
      ]
     },
     "execution_count": 692,
     "metadata": {},
     "output_type": "execute_result"
    }
   ],
   "source": [
    "#double checking gravida -- leaving for now\n",
    "#not valid must have been pregnant at least once\n",
    "len(data.loc[data.Gravida > 10.0])"
   ]
  },
  {
   "cell_type": "code",
   "execution_count": 693,
   "id": "01d5c932-bd8b-46d4-8485-e07240c6553a",
   "metadata": {},
   "outputs": [
    {
     "data": {
      "text/plain": [
       "1.0     5290\n",
       "2.0     4870\n",
       "3.0     3278\n",
       "4.0     2011\n",
       "5.0     1009\n",
       "6.0      552\n",
       "7.0      270\n",
       "8.0      136\n",
       "9.0       86\n",
       "10.0      39\n",
       "11.0      21\n",
       "12.0      12\n",
       "13.0      10\n",
       "14.0       5\n",
       "20.0       5\n",
       "15.0       4\n",
       "17.0       2\n",
       "16.0       2\n",
       "18.0       1\n",
       "0.0        1\n",
       "Name: Gravida, dtype: int64"
      ]
     },
     "execution_count": 693,
     "metadata": {},
     "output_type": "execute_result"
    }
   ],
   "source": [
    "data['Gravida'].value_counts()"
   ]
  },
  {
   "cell_type": "code",
   "execution_count": 694,
   "id": "4bebb08c",
   "metadata": {},
   "outputs": [],
   "source": [
    "data.loc[data.Gravida == 0.0] = np.nan"
   ]
  },
  {
   "cell_type": "code",
   "execution_count": 695,
   "id": "058b09ff-ca0e-4dba-bb00-4d903e9e5985",
   "metadata": {},
   "outputs": [
    {
     "data": {
      "text/plain": [
       "34"
      ]
     },
     "execution_count": 695,
     "metadata": {},
     "output_type": "execute_result"
    }
   ],
   "source": [
    "#double checking para -- leaving for now\n",
    "len(data.loc[data.Para > 7.0])"
   ]
  },
  {
   "cell_type": "code",
   "execution_count": 696,
   "id": "da9c39b8-9678-4479-817b-0d474f4133d5",
   "metadata": {},
   "outputs": [
    {
     "data": {
      "text/plain": [
       "0.0     6425\n",
       "1.0     5645\n",
       "2.0     3139\n",
       "3.0     1426\n",
       "4.0      536\n",
       "5.0      229\n",
       "6.0      100\n",
       "7.0       38\n",
       "8.0       16\n",
       "9.0        7\n",
       "10.0       5\n",
       "11.0       3\n",
       "12.0       3\n",
       "Name: Para, dtype: int64"
      ]
     },
     "execution_count": 696,
     "metadata": {},
     "output_type": "execute_result"
    }
   ],
   "source": [
    "data['Para'].value_counts()"
   ]
  },
  {
   "cell_type": "code",
   "execution_count": 697,
   "id": "881bf57e-a3dc-48bb-b053-fcc06e17c917",
   "metadata": {},
   "outputs": [
    {
     "name": "stdout",
     "output_type": "stream",
     "text": [
      "           Age     County  Gravida  Para Delivery Anesthesia Labor Anesthesia  \\\n",
      "Study ID                                                                        \n",
      "4550      36.0  jefferson      2.0   3.0            Epidural         Epidural   \n",
      "10676     33.0     blount      2.0   3.0            Epidural         Epidural   \n",
      "11607     24.0       knox      1.0   2.0            Epidural         Epidural   \n",
      "\n",
      "         Episiotomy Laceration Extension Laceration Type Amniotic Fluid Color  \\\n",
      "Study ID                                                                        \n",
      "4550           None               Second        Perineal                Clear   \n",
      "10676          None               Second        Perineal             HvyMecon   \n",
      "11607          None                First        Perineal                Clear   \n",
      "\n",
      "          ... Quantitative Blood Loss DS QBL2 hrs PP Units RBCS Transfused  \\\n",
      "Study ID  ...                                                                \n",
      "4550      ...                        NaN         NaN                   NaN   \n",
      "10676     ...                       34.0        48.0                   NaN   \n",
      "11607     ...                      504.0         NaN                   NaN   \n",
      "\n",
      "         Total Units RBCS Received QBL Total LD   Race Ethnicity  \\\n",
      "Study ID                                                           \n",
      "4550                           NaN          NaN  White         O   \n",
      "10676                          NaN         82.0  White         O   \n",
      "11607                          NaN          NaN  White         O   \n",
      "\n",
      "         AdmitToDelMinutes AdmitToDischargeMinutes DeliveryToDischargeMinutes  \n",
      "Study ID                                                                       \n",
      "4550                 153.0                  3755.0                     3602.0  \n",
      "10676             -21243.0                -17275.0                     3968.0  \n",
      "11607               1729.0                 15253.0                    13524.0  \n",
      "\n",
      "[3 rows x 79 columns]\n"
     ]
    }
   ],
   "source": [
    "# possible for para to be larger than gravida?\n",
    "print(data.loc[data['Gravida'] < data['Para'], ])\n"
   ]
  },
  {
   "cell_type": "code",
   "execution_count": 698,
   "id": "0922df3e",
   "metadata": {},
   "outputs": [
    {
     "name": "stdout",
     "output_type": "stream",
     "text": [
      "Study ID\n",
      "4550     1.0\n",
      "10676    2.0\n",
      "11607    1.0\n",
      "Name: Number of Babies In Womb, dtype: float64\n"
     ]
    }
   ],
   "source": [
    "print(data.loc[data['Gravida'] < data['Para'],'Number of Babies In Womb' ])"
   ]
  },
  {
   "cell_type": "markdown",
   "id": "8a582e13",
   "metadata": {},
   "source": []
  },
  {
   "cell_type": "code",
   "execution_count": null,
   "id": "2e2f9c02-2203-4b3f-928e-b997693b5110",
   "metadata": {},
   "outputs": [],
   "source": []
  },
  {
   "cell_type": "code",
   "execution_count": 699,
   "id": "cfdc2333",
   "metadata": {},
   "outputs": [],
   "source": [
    "#### Delivery Anesthesia and Labor Anesthesia refer to dummy variables part below"
   ]
  },
  {
   "cell_type": "code",
   "execution_count": 700,
   "id": "276929f5-7fb5-4b16-ac4b-14322754e427",
   "metadata": {},
   "outputs": [
    {
     "data": {
      "text/plain": [
       "None        16809\n",
       "RT_Medio      213\n",
       "Midline       200\n",
       "LT_Medio       17\n",
       "Name: Episiotomy, dtype: int64"
      ]
     },
     "execution_count": 700,
     "metadata": {},
     "output_type": "execute_result"
    }
   ],
   "source": [
    "#all good!\n",
    "data['Episiotomy'].value_counts()"
   ]
  },
  {
   "cell_type": "code",
   "execution_count": null,
   "id": "1b480a7e",
   "metadata": {},
   "outputs": [],
   "source": []
  },
  {
   "cell_type": "code",
   "execution_count": 701,
   "id": "29af71a9-ce7f-481b-9373-8e35cb8d4fe9",
   "metadata": {},
   "outputs": [
    {
     "data": {
      "text/plain": [
       "N_A       9808\n",
       "Second    4418\n",
       "First     2674\n",
       "Third      238\n",
       "Fourth      30\n",
       "Name: Laceration Extension, dtype: int64"
      ]
     },
     "execution_count": 701,
     "metadata": {},
     "output_type": "execute_result"
    }
   ],
   "source": [
    "#all good!\n",
    "data['Laceration Extension'].value_counts()"
   ]
  },
  {
   "cell_type": "code",
   "execution_count": 702,
   "id": "a958c829",
   "metadata": {},
   "outputs": [],
   "source": [
    "#### laceration Type refer to dummy variables part below"
   ]
  },
  {
   "cell_type": "code",
   "execution_count": null,
   "id": "346e4228-468c-4c5b-b0b0-f65cdf40ac13",
   "metadata": {},
   "outputs": [],
   "source": []
  },
  {
   "cell_type": "code",
   "execution_count": 703,
   "id": "137de1c6-962b-4cbd-9d99-f159373719fa",
   "metadata": {},
   "outputs": [],
   "source": [
    "data2 = data.copy()\n",
    "\n",
    "data2.loc[data2['Amniotic Fluid Color'] == 'Unknown. Pt says she was wearing brown shorts at rupture time.'] = np.nan\n",
    "data2.loc[data2['Amniotic Fluid Color'] == 'Old blood'] = 'brown'\n",
    "data2.loc[data2['Amniotic Fluid Color'] == 'Clear'] = 'clear'\n",
    "data2.loc[data2['Amniotic Fluid Color'] == 'blood tinged'] = 'bloody'\n",
    "data2.loc[data2['Amniotic Fluid Color'] == 'Bloody'] = 'bloody'\n",
    "data2.loc[data2['Amniotic Fluid Color'] == 'HvyMecon'] = 'heavy meconium'\n",
    "data2.loc[data2['Amniotic Fluid Color'] == 'LtMecon'] = 'light meconium'\n",
    "data2.loc[data2['Amniotic Fluid Color'] == 'PartMecon'] = 'part meconium'\n",
    "data2.loc[data2['Amniotic Fluid Color'] == 'N_A'] = 'none'\n",
    "\n",
    "data['Amniotic Fluid Color'] = data2['Amniotic Fluid Color']"
   ]
  },
  {
   "cell_type": "code",
   "execution_count": 704,
   "id": "7d38aa61-037d-4f7b-acfc-faf98bb33adf",
   "metadata": {},
   "outputs": [
    {
     "data": {
      "text/plain": [
       "clear                14549\n",
       "light meconium        1219\n",
       "bloody                 969\n",
       "heavy meconium         474\n",
       "PartMec                 32\n",
       "none                     3\n",
       "brown                    2\n",
       "moderate meconium        1\n",
       "Name: Amniotic Fluid Color, dtype: int64"
      ]
     },
     "execution_count": 704,
     "metadata": {},
     "output_type": "execute_result"
    }
   ],
   "source": [
    "data['Amniotic Fluid Color'].value_counts()"
   ]
  },
  {
   "cell_type": "code",
   "execution_count": 705,
   "id": "b0533384-2448-416c-916f-ad721524c28a",
   "metadata": {},
   "outputs": [
    {
     "data": {
      "text/plain": [
       "N_A    14182\n",
       "No      2282\n",
       "Yes      803\n",
       "Name: Attempt to Vbac, dtype: int64"
      ]
     },
     "execution_count": 705,
     "metadata": {},
     "output_type": "execute_result"
    }
   ],
   "source": [
    "data.loc[data['Attempt to Vbac'] == '11', 'Attempt to Vbac'] = np.nan\n",
    "data['Attempt to Vbac'].value_counts()"
   ]
  },
  {
   "cell_type": "code",
   "execution_count": null,
   "id": "2d22ddc8",
   "metadata": {},
   "outputs": [],
   "source": []
  },
  {
   "cell_type": "code",
   "execution_count": 706,
   "id": "d4c88397-e6fa-4fa2-a650-ce73e28c4595",
   "metadata": {},
   "outputs": [
    {
     "data": {
      "text/plain": [
       "N_A        11362\n",
       "Primary     2808\n",
       "Repeat      2492\n",
       "Name: Csection Incidence, dtype: int64"
      ]
     },
     "execution_count": 706,
     "metadata": {},
     "output_type": "execute_result"
    }
   ],
   "source": [
    "#all good!\n",
    "data['Csection Incidence'].value_counts()"
   ]
  },
  {
   "cell_type": "code",
   "execution_count": 707,
   "id": "345e4367",
   "metadata": {},
   "outputs": [
    {
     "name": "stdout",
     "output_type": "stream",
     "text": [
      "958\n"
     ]
    }
   ],
   "source": [
    "print(data['Csection Incidence'].isna().sum())"
   ]
  },
  {
   "cell_type": "code",
   "execution_count": 708,
   "id": "a93f7b86",
   "metadata": {},
   "outputs": [
    {
     "name": "stdout",
     "output_type": "stream",
     "text": [
      "0\n"
     ]
    }
   ],
   "source": [
    "print((data['Csection Incidence'] == \"\").sum())"
   ]
  },
  {
   "cell_type": "code",
   "execution_count": 709,
   "id": "7ed83103",
   "metadata": {},
   "outputs": [
    {
     "name": "stdout",
     "output_type": "stream",
     "text": [
      "{nan, 'Primary', 'Repeat', 'N_A'}\n"
     ]
    }
   ],
   "source": [
    "print(set(data['Csection Incidence']))"
   ]
  },
  {
   "cell_type": "code",
   "execution_count": 710,
   "id": "b06bfe58",
   "metadata": {},
   "outputs": [
    {
     "data": {
      "text/plain": [
       "N_A         11374\n",
       "Nonemer      2574\n",
       "Schedule     2215\n",
       "Emergent      499\n",
       "Urgent          1\n",
       "Name: Csection Urgency, dtype: int64"
      ]
     },
     "execution_count": 710,
     "metadata": {},
     "output_type": "execute_result"
    }
   ],
   "source": [
    "data['Csection Urgency'].value_counts()"
   ]
  },
  {
   "cell_type": "code",
   "execution_count": 711,
   "id": "dddca015-9352-40de-a044-feb69113334c",
   "metadata": {},
   "outputs": [
    {
     "data": {
      "text/plain": [
       "N_A         11374\n",
       "Nonemer      2574\n",
       "Schedule     2215\n",
       "Emergent      500\n",
       "Name: Csection Urgency, dtype: int64"
      ]
     },
     "execution_count": 711,
     "metadata": {},
     "output_type": "execute_result"
    }
   ],
   "source": [
    "#this is different with Ashley (just 1 case)\n",
    "data.loc[data['Csection Urgency'] == 'Urgent', 'Csection Urgency'] = 'Emergent'\n",
    "data['Csection Urgency'].value_counts()"
   ]
  },
  {
   "cell_type": "code",
   "execution_count": null,
   "id": "b65ab8d8",
   "metadata": {},
   "outputs": [],
   "source": []
  },
  {
   "cell_type": "code",
   "execution_count": 712,
   "id": "219d9271",
   "metadata": {},
   "outputs": [
    {
     "name": "stdout",
     "output_type": "stream",
     "text": [
      "{'N_A', 'Emergent', 'Schedule', 'Nonemer', nan}\n"
     ]
    }
   ],
   "source": [
    "print(set(data['Csection Urgency']))"
   ]
  },
  {
   "cell_type": "code",
   "execution_count": 713,
   "id": "0f2a85d9",
   "metadata": {},
   "outputs": [
    {
     "data": {
      "text/html": [
       "<div>\n",
       "<style scoped>\n",
       "    .dataframe tbody tr th:only-of-type {\n",
       "        vertical-align: middle;\n",
       "    }\n",
       "\n",
       "    .dataframe tbody tr th {\n",
       "        vertical-align: top;\n",
       "    }\n",
       "\n",
       "    .dataframe thead th {\n",
       "        text-align: right;\n",
       "    }\n",
       "</style>\n",
       "<table border=\"1\" class=\"dataframe\">\n",
       "  <thead>\n",
       "    <tr style=\"text-align: right;\">\n",
       "      <th>Csection Incidence</th>\n",
       "      <th>N_A</th>\n",
       "      <th>Primary</th>\n",
       "      <th>Repeat</th>\n",
       "    </tr>\n",
       "    <tr>\n",
       "      <th>Csection Urgency</th>\n",
       "      <th></th>\n",
       "      <th></th>\n",
       "      <th></th>\n",
       "    </tr>\n",
       "  </thead>\n",
       "  <tbody>\n",
       "    <tr>\n",
       "      <th>Emergent</th>\n",
       "      <td>1</td>\n",
       "      <td>405</td>\n",
       "      <td>93</td>\n",
       "    </tr>\n",
       "    <tr>\n",
       "      <th>N_A</th>\n",
       "      <td>11352</td>\n",
       "      <td>13</td>\n",
       "      <td>9</td>\n",
       "    </tr>\n",
       "    <tr>\n",
       "      <th>Nonemer</th>\n",
       "      <td>8</td>\n",
       "      <td>1841</td>\n",
       "      <td>725</td>\n",
       "    </tr>\n",
       "    <tr>\n",
       "      <th>Schedule</th>\n",
       "      <td>1</td>\n",
       "      <td>549</td>\n",
       "      <td>1665</td>\n",
       "    </tr>\n",
       "  </tbody>\n",
       "</table>\n",
       "</div>"
      ],
      "text/plain": [
       "Csection Incidence    N_A  Primary  Repeat\n",
       "Csection Urgency                          \n",
       "Emergent                1      405      93\n",
       "N_A                 11352       13       9\n",
       "Nonemer                 8     1841     725\n",
       "Schedule                1      549    1665"
      ]
     },
     "execution_count": 713,
     "metadata": {},
     "output_type": "execute_result"
    }
   ],
   "source": [
    "pd.crosstab(data['Csection Urgency'], data['Csection Incidence'])"
   ]
  },
  {
   "cell_type": "markdown",
   "id": "c5acea80",
   "metadata": {},
   "source": [
    "##  might not be true"
   ]
  },
  {
   "cell_type": "code",
   "execution_count": 714,
   "id": "225fa254",
   "metadata": {},
   "outputs": [],
   "source": [
    "data.loc[data['Method of Delivery A'] == '2790', 'Method of Delivery A'] = 'C/S'\n",
    "data.loc[data['Method of Delivery A'] == 'D&E', 'Method of Delivery A'] = 'Vag'"
   ]
  },
  {
   "cell_type": "code",
   "execution_count": 715,
   "id": "3bf6cc59",
   "metadata": {},
   "outputs": [
    {
     "data": {
      "text/plain": [
       "Vag    12311\n",
       "C/S     5302\n",
       "Name: Method of Delivery A, dtype: int64"
      ]
     },
     "execution_count": 715,
     "metadata": {},
     "output_type": "execute_result"
    }
   ],
   "source": [
    "data['Method of Delivery A'].value_counts()"
   ]
  },
  {
   "cell_type": "code",
   "execution_count": 716,
   "id": "e2079c1d",
   "metadata": {},
   "outputs": [
    {
     "data": {
      "text/html": [
       "<div>\n",
       "<style scoped>\n",
       "    .dataframe tbody tr th:only-of-type {\n",
       "        vertical-align: middle;\n",
       "    }\n",
       "\n",
       "    .dataframe tbody tr th {\n",
       "        vertical-align: top;\n",
       "    }\n",
       "\n",
       "    .dataframe thead th {\n",
       "        text-align: right;\n",
       "    }\n",
       "</style>\n",
       "<table border=\"1\" class=\"dataframe\">\n",
       "  <thead>\n",
       "    <tr style=\"text-align: right;\">\n",
       "      <th>Csection Urgency</th>\n",
       "      <th>Emergent</th>\n",
       "      <th>N_A</th>\n",
       "      <th>Nonemer</th>\n",
       "      <th>Schedule</th>\n",
       "    </tr>\n",
       "    <tr>\n",
       "      <th>Method of Delivery A</th>\n",
       "      <th></th>\n",
       "      <th></th>\n",
       "      <th></th>\n",
       "      <th></th>\n",
       "    </tr>\n",
       "  </thead>\n",
       "  <tbody>\n",
       "    <tr>\n",
       "      <th>C/S</th>\n",
       "      <td>489</td>\n",
       "      <td>25</td>\n",
       "      <td>2553</td>\n",
       "      <td>2204</td>\n",
       "    </tr>\n",
       "    <tr>\n",
       "      <th>Vag</th>\n",
       "      <td>11</td>\n",
       "      <td>11346</td>\n",
       "      <td>21</td>\n",
       "      <td>11</td>\n",
       "    </tr>\n",
       "  </tbody>\n",
       "</table>\n",
       "</div>"
      ],
      "text/plain": [
       "Csection Urgency      Emergent    N_A  Nonemer  Schedule\n",
       "Method of Delivery A                                    \n",
       "C/S                        489     25     2553      2204\n",
       "Vag                         11  11346       21        11"
      ]
     },
     "execution_count": 716,
     "metadata": {},
     "output_type": "execute_result"
    }
   ],
   "source": [
    "pd.crosstab(data['Method of Delivery A'], data['Csection Urgency'])"
   ]
  },
  {
   "cell_type": "code",
   "execution_count": 717,
   "id": "c615ef5c",
   "metadata": {},
   "outputs": [
    {
     "data": {
      "text/html": [
       "<div>\n",
       "<style scoped>\n",
       "    .dataframe tbody tr th:only-of-type {\n",
       "        vertical-align: middle;\n",
       "    }\n",
       "\n",
       "    .dataframe tbody tr th {\n",
       "        vertical-align: top;\n",
       "    }\n",
       "\n",
       "    .dataframe thead th {\n",
       "        text-align: right;\n",
       "    }\n",
       "</style>\n",
       "<table border=\"1\" class=\"dataframe\">\n",
       "  <thead>\n",
       "    <tr style=\"text-align: right;\">\n",
       "      <th>Csection Incidence</th>\n",
       "      <th>N_A</th>\n",
       "      <th>Primary</th>\n",
       "      <th>Repeat</th>\n",
       "    </tr>\n",
       "    <tr>\n",
       "      <th>Method of Delivery A</th>\n",
       "      <th></th>\n",
       "      <th></th>\n",
       "      <th></th>\n",
       "    </tr>\n",
       "  </thead>\n",
       "  <tbody>\n",
       "    <tr>\n",
       "      <th>C/S</th>\n",
       "      <td>13</td>\n",
       "      <td>2782</td>\n",
       "      <td>2476</td>\n",
       "    </tr>\n",
       "    <tr>\n",
       "      <th>Vag</th>\n",
       "      <td>11346</td>\n",
       "      <td>26</td>\n",
       "      <td>16</td>\n",
       "    </tr>\n",
       "  </tbody>\n",
       "</table>\n",
       "</div>"
      ],
      "text/plain": [
       "Csection Incidence      N_A  Primary  Repeat\n",
       "Method of Delivery A                        \n",
       "C/S                      13     2782    2476\n",
       "Vag                   11346       26      16"
      ]
     },
     "execution_count": 717,
     "metadata": {},
     "output_type": "execute_result"
    }
   ],
   "source": [
    "pd.crosstab(data['Method of Delivery A'], data['Csection Incidence'])"
   ]
  },
  {
   "cell_type": "code",
   "execution_count": null,
   "id": "2b30718d",
   "metadata": {},
   "outputs": [],
   "source": []
  },
  {
   "cell_type": "code",
   "execution_count": 718,
   "id": "5e7ca911",
   "metadata": {},
   "outputs": [],
   "source": [
    "#data.loc[data['Method of Delivery A']=='Vag' , ['Csection Incidence', 'Csection Urgency','Reason For Csection']] = 'NoCsection'"
   ]
  },
  {
   "cell_type": "code",
   "execution_count": 719,
   "id": "0f4bc81d",
   "metadata": {},
   "outputs": [
    {
     "data": {
      "text/html": [
       "<div>\n",
       "<style scoped>\n",
       "    .dataframe tbody tr th:only-of-type {\n",
       "        vertical-align: middle;\n",
       "    }\n",
       "\n",
       "    .dataframe tbody tr th {\n",
       "        vertical-align: top;\n",
       "    }\n",
       "\n",
       "    .dataframe thead th {\n",
       "        text-align: right;\n",
       "    }\n",
       "</style>\n",
       "<table border=\"1\" class=\"dataframe\">\n",
       "  <thead>\n",
       "    <tr style=\"text-align: right;\">\n",
       "      <th>Csection Incidence</th>\n",
       "      <th>N_A</th>\n",
       "      <th>Primary</th>\n",
       "      <th>Repeat</th>\n",
       "    </tr>\n",
       "    <tr>\n",
       "      <th>Csection Urgency</th>\n",
       "      <th></th>\n",
       "      <th></th>\n",
       "      <th></th>\n",
       "    </tr>\n",
       "  </thead>\n",
       "  <tbody>\n",
       "    <tr>\n",
       "      <th>Emergent</th>\n",
       "      <td>1</td>\n",
       "      <td>405</td>\n",
       "      <td>93</td>\n",
       "    </tr>\n",
       "    <tr>\n",
       "      <th>N_A</th>\n",
       "      <td>11352</td>\n",
       "      <td>13</td>\n",
       "      <td>9</td>\n",
       "    </tr>\n",
       "    <tr>\n",
       "      <th>Nonemer</th>\n",
       "      <td>8</td>\n",
       "      <td>1841</td>\n",
       "      <td>725</td>\n",
       "    </tr>\n",
       "    <tr>\n",
       "      <th>Schedule</th>\n",
       "      <td>1</td>\n",
       "      <td>549</td>\n",
       "      <td>1665</td>\n",
       "    </tr>\n",
       "  </tbody>\n",
       "</table>\n",
       "</div>"
      ],
      "text/plain": [
       "Csection Incidence    N_A  Primary  Repeat\n",
       "Csection Urgency                          \n",
       "Emergent                1      405      93\n",
       "N_A                 11352       13       9\n",
       "Nonemer                 8     1841     725\n",
       "Schedule                1      549    1665"
      ]
     },
     "execution_count": 719,
     "metadata": {},
     "output_type": "execute_result"
    }
   ],
   "source": [
    "pd.crosstab(data['Csection Urgency'], data['Csection Incidence'])"
   ]
  },
  {
   "cell_type": "code",
   "execution_count": 720,
   "id": "d5412ce8",
   "metadata": {},
   "outputs": [
    {
     "data": {
      "text/plain": [
       "AROM                                12546\n",
       "SROM                                 4787\n",
       "N_A                                     1\n",
       "Baby delivered in unruptured sac        1\n",
       "Name: Membranes Rupture Method, dtype: int64"
      ]
     },
     "execution_count": 720,
     "metadata": {},
     "output_type": "execute_result"
    }
   ],
   "source": [
    "data['Membranes Rupture Method'].value_counts()"
   ]
  },
  {
   "cell_type": "code",
   "execution_count": 721,
   "id": "12dd5588-a143-4fd6-8c12-77ebd6bf5b37",
   "metadata": {},
   "outputs": [],
   "source": [
    "data.loc[data['Membranes Rupture Method'] == 'Baby delivered in unruptured sac', 'Membranes Rupture Method'] = 'N_A'"
   ]
  },
  {
   "cell_type": "code",
   "execution_count": null,
   "id": "c9ce721c",
   "metadata": {},
   "outputs": [],
   "source": []
  },
  {
   "cell_type": "code",
   "execution_count": 722,
   "id": "abebed2b-0f8e-4f12-b030-f2e9834107d2",
   "metadata": {},
   "outputs": [
    {
     "data": {
      "text/plain": [
       "1.0    17127\n",
       "2.0      357\n",
       "3.0       16\n",
       "4.0        1\n",
       "5.0        1\n",
       "Name: Number of Babies In Womb, dtype: int64"
      ]
     },
     "execution_count": 722,
     "metadata": {},
     "output_type": "execute_result"
    }
   ],
   "source": [
    "#all good!\n",
    "data.loc[data['Number of Babies In Womb'] == 0, 'Number of Babies In Womb'] = np.nan #mmust have a baby\n",
    "data['Number of Babies In Womb'].value_counts()"
   ]
  },
  {
   "cell_type": "code",
   "execution_count": null,
   "id": "2e3774d9",
   "metadata": {},
   "outputs": [],
   "source": []
  },
  {
   "cell_type": "code",
   "execution_count": 723,
   "id": "e5c55eb1",
   "metadata": {},
   "outputs": [
    {
     "data": {
      "text/plain": [
       "Ind    7996\n",
       "N_A    7173\n",
       "Aug    1953\n",
       "1         1\n",
       "Name: Oxytocin, dtype: int64"
      ]
     },
     "execution_count": 723,
     "metadata": {},
     "output_type": "execute_result"
    }
   ],
   "source": [
    "data['Oxytocin'].value_counts()"
   ]
  },
  {
   "cell_type": "code",
   "execution_count": 724,
   "id": "2946c850-91d9-4f20-9b00-8abd46486600",
   "metadata": {},
   "outputs": [
    {
     "data": {
      "text/plain": [
       "Ind    7996\n",
       "N_A    7173\n",
       "Aug    1953\n",
       "Name: Oxytocin, dtype: int64"
      ]
     },
     "execution_count": 724,
     "metadata": {},
     "output_type": "execute_result"
    }
   ],
   "source": [
    "data.loc[data.Oxytocin == '1', 'Oxytocin'] = np.nan\n",
    "data['Oxytocin'].value_counts()"
   ]
  },
  {
   "cell_type": "code",
   "execution_count": null,
   "id": "590dc20d",
   "metadata": {},
   "outputs": [],
   "source": []
  },
  {
   "cell_type": "code",
   "execution_count": 725,
   "id": "18052c9d-73be-4f2a-a519-4a5309adbbca",
   "metadata": {},
   "outputs": [
    {
     "data": {
      "text/plain": [
       "n_a                                    11364\n",
       "rptelect                                1984\n",
       "nonrefhr                                 644\n",
       "other                                    589\n",
       "breech                                   513\n",
       "arrdscnt                                 272\n",
       "2ndardil                                 225\n",
       "faildscn                                 215\n",
       "multgest                                  89\n",
       "placprev                                  77\n",
       "indcfail                                  67\n",
       "profetde                                  65\n",
       "abrplac                                   53\n",
       "pih                                       52\n",
       "proactiv                                  50\n",
       "prolaten                                  49\n",
       "xvrscmpl                                  47\n",
       "cord_pro                                  45\n",
       ">2csects                                  43\n",
       "fetbrady                                  42\n",
       "utrnscar                                  21\n",
       "failuretoprogress                         20\n",
       "cpd                                       18\n",
       "prvmyome                                  17\n",
       "prodecel                                  15\n",
       "acherpes                                  14\n",
       "protdesc                                  13\n",
       "?utrnrup                                  11\n",
       "arrestofdilation                           5\n",
       "fetalintoleranceoflabor                    4\n",
       "elective                                   3\n",
       "ftp                                        2\n",
       "eclampsia                                  2\n",
       "condylom                                   2\n",
       "funiccordpresentation                      1\n",
       "maternalaorticstenosis                     1\n",
       "possibleuterinerupture                     1\n",
       "non-reassurringfetalheartratestatus        1\n",
       "ppromat24.4wks,ptl,malpresentation         1\n",
       "iaedf,iugr,nrnst                           1\n",
       "nonreassuringfetalstatus                   1\n",
       "fetalintolerancetolabor                    1\n",
       "macrosomia                                 1\n",
       "prolapsedcord                              1\n",
       "suspectedplacentalabruption                1\n",
       "failuretodilate                            1\n",
       "pretermlabor                               1\n",
       "hellp                                      1\n",
       "suspectedmacrosomia                        1\n",
       "srom                                       1\n",
       "pre-ewithoutseverefeatures                 1\n",
       "uterineseptum                              1\n",
       "primaryelective                            1\n",
       "prolongedruptureofmembranes                1\n",
       "arrestofdilatation                         1\n",
       "diditwins/breechpresentation               1\n",
       "hellp,severeiugrlessthan3%                 1\n",
       "vaginalbleeding                            1\n",
       "fetalgrowthrestriction                     1\n",
       "Name: Reason For Csection, dtype: int64"
      ]
     },
     "execution_count": 725,
     "metadata": {},
     "output_type": "execute_result"
    }
   ],
   "source": [
    "#still seems some small errors here but OK for now -----> in R script have recategorized\n",
    "data['Reason For Csection'] = data['Reason For Csection'].str.lower().str.replace(' ', '')\n",
    "data['Reason For Csection'].value_counts()"
   ]
  },
  {
   "cell_type": "code",
   "execution_count": null,
   "id": "d0070896",
   "metadata": {},
   "outputs": [],
   "source": []
  },
  {
   "cell_type": "code",
   "execution_count": null,
   "id": "1fadc2a7",
   "metadata": {},
   "outputs": [],
   "source": []
  },
  {
   "cell_type": "code",
   "execution_count": 726,
   "id": "d0b933df-e712-4c4c-a3e1-213298e3b4ac",
   "metadata": {},
   "outputs": [],
   "source": [
    "data2 = data.copy()\n",
    "\n",
    "data2.loc[data2['Delivery Month'] == 'Jan '] = 'Jan'\n",
    "\n",
    "data['Delivery Month'] = data2['Delivery Month']"
   ]
  },
  {
   "cell_type": "code",
   "execution_count": 727,
   "id": "e23e69a3-6c08-4eb0-bbb9-609ed855ba00",
   "metadata": {},
   "outputs": [
    {
     "data": {
      "text/plain": [
       "Jan     1750\n",
       "Dec     1564\n",
       "Aug     1552\n",
       "July    1551\n",
       "Sept    1537\n",
       "Oct     1483\n",
       "May     1418\n",
       "Nov     1413\n",
       "June    1385\n",
       "Apr     1365\n",
       "Mar     1348\n",
       "Feb     1253\n",
       "Name: Delivery Month, dtype: int64"
      ]
     },
     "execution_count": 727,
     "metadata": {},
     "output_type": "execute_result"
    }
   ],
   "source": [
    "#all good!\n",
    "data['Delivery Month'].value_counts()"
   ]
  },
  {
   "cell_type": "code",
   "execution_count": 728,
   "id": "f34a9b9c-b6f4-4487-9689-c28686ce9dff",
   "metadata": {},
   "outputs": [
    {
     "data": {
      "text/plain": [
       "2019.0    4605\n",
       "2022.0    4325\n",
       "2021.0    4235\n",
       "2020.0    4066\n",
       "2023.0     388\n",
       "Name: Delivery Year, dtype: int64"
      ]
     },
     "execution_count": 728,
     "metadata": {},
     "output_type": "execute_result"
    }
   ],
   "source": [
    "#all good!\n",
    "data['Delivery Year'].value_counts()"
   ]
  },
  {
   "cell_type": "code",
   "execution_count": 729,
   "id": "b6d6aaaf-86d0-431f-a279-5959233fa426",
   "metadata": {},
   "outputs": [
    {
     "data": {
      "text/plain": [
       "Term        14787\n",
       "Preterm      2584\n",
       "Postterm      210\n",
       "unknown         1\n",
       "2               1\n",
       "4               1\n",
       "Name: Gestational Status A, dtype: int64"
      ]
     },
     "execution_count": 729,
     "metadata": {},
     "output_type": "execute_result"
    }
   ],
   "source": [
    "data['Gestational Status A'].value_counts()"
   ]
  },
  {
   "cell_type": "code",
   "execution_count": 730,
   "id": "3fbc77a5-ffc2-46f3-bcea-57662181df0b",
   "metadata": {},
   "outputs": [
    {
     "data": {
      "text/plain": [
       "No     17477\n",
       "Yes      128\n",
       "Name: Born In Route A, dtype: int64"
      ]
     },
     "execution_count": 730,
     "metadata": {},
     "output_type": "execute_result"
    }
   ],
   "source": [
    "#all good!\n",
    "data['Born In Route A'].value_counts()"
   ]
  },
  {
   "cell_type": "code",
   "execution_count": 731,
   "id": "256688bb-e214-49ce-810f-7a323e370e33",
   "metadata": {},
   "outputs": [
    {
     "data": {
      "text/plain": [
       "count    17267.000000\n",
       "mean         2.976139\n",
       "std          0.234093\n",
       "min          0.000000\n",
       "25%          3.000000\n",
       "50%          3.000000\n",
       "75%          3.000000\n",
       "max          5.000000\n",
       "Name: Infant Cord Vessels A, dtype: float64"
      ]
     },
     "execution_count": 731,
     "metadata": {},
     "output_type": "execute_result"
    }
   ],
   "source": [
    "#all good!\n",
    "data['Infant Cord Vessels A'].describe()"
   ]
  },
  {
   "cell_type": "code",
   "execution_count": 732,
   "id": "8e9b1914-5484-4de8-9b79-4418685e418e",
   "metadata": {},
   "outputs": [
    {
     "data": {
      "text/plain": [
       "count    16353.000000\n",
       "mean        19.741469\n",
       "std          1.504797\n",
       "min          5.000000\n",
       "25%         19.000000\n",
       "50%         20.000000\n",
       "75%         20.500000\n",
       "max         48.000000\n",
       "Name: Infant Length A, dtype: float64"
      ]
     },
     "execution_count": 732,
     "metadata": {},
     "output_type": "execute_result"
    }
   ],
   "source": [
    "data.loc[data['Infant Length A'] < 5, 'Infant Length A'] = np.nan #assuming 5cm min length (~1.5 inches)\n",
    "data['Infant Length A'].describe()"
   ]
  },
  {
   "cell_type": "code",
   "execution_count": 733,
   "id": "e8b72d29-65ff-4850-9205-d0a2adbec55f",
   "metadata": {},
   "outputs": [],
   "source": [
    "data.loc[data['Fetal Presentation A'] == \"N_A, unsure, baby in mother's hands as RN entered room\", 'Fetal Presentation A'] = np.nan\n",
    "data.loc[data['Fetal Presentation A'] == \"`23\", 'Fetal Presentation A'] = np.nan\n",
    "data.loc[data['Fetal Presentation A'] == \"N_A\", 'Fetal Presentation A'] = np.nan"
   ]
  },
  {
   "cell_type": "code",
   "execution_count": 734,
   "id": "21410749-a961-4a1b-9578-415a218d554c",
   "metadata": {},
   "outputs": [
    {
     "data": {
      "text/plain": [
       "Cephalic    16434\n",
       "Breech        904\n",
       "Compound       88\n",
       "Transver       69\n",
       "UnAssess       34\n",
       "Oblique         1\n",
       "Name: Fetal Presentation A, dtype: int64"
      ]
     },
     "execution_count": 734,
     "metadata": {},
     "output_type": "execute_result"
    }
   ],
   "source": [
    "data['Fetal Presentation A'].value_counts()"
   ]
  },
  {
   "cell_type": "code",
   "execution_count": null,
   "id": "68626a54-41b5-461f-9cec-224da8b99951",
   "metadata": {},
   "outputs": [],
   "source": []
  },
  {
   "cell_type": "code",
   "execution_count": 735,
   "id": "5dd6e546-776b-40e3-ad9f-6ea29938e3ff",
   "metadata": {},
   "outputs": [
    {
     "data": {
      "text/plain": [
       "Vag    12311\n",
       "C/S     5302\n",
       "Name: Method of Delivery A, dtype: int64"
      ]
     },
     "execution_count": 735,
     "metadata": {},
     "output_type": "execute_result"
    }
   ],
   "source": [
    "#all good!\n",
    "data['Method of Delivery A'].value_counts()"
   ]
  },
  {
   "cell_type": "code",
   "execution_count": 736,
   "id": "a617688f-e6d2-4c5d-a320-da9913477682",
   "metadata": {},
   "outputs": [
    {
     "data": {
      "text/plain": [
       "N_A           17180\n",
       "Outlet          176\n",
       "Low             140\n",
       "Cesarean         28\n",
       "Breech           16\n",
       "Failed           12\n",
       "Mid               7\n",
       "successful        1\n",
       "Simsons           1\n",
       "Name: Forceps a, dtype: int64"
      ]
     },
     "execution_count": 736,
     "metadata": {},
     "output_type": "execute_result"
    }
   ],
   "source": [
    "#ok, but should probably remove\n",
    "data['Forceps a'].value_counts()"
   ]
  },
  {
   "cell_type": "code",
   "execution_count": 737,
   "id": "64596796-3b34-42a1-b6d7-a24f3935bafd",
   "metadata": {},
   "outputs": [
    {
     "data": {
      "text/plain": [
       "Yes    35\n",
       "Name: Neonatal Death A, dtype: int64"
      ]
     },
     "execution_count": 737,
     "metadata": {},
     "output_type": "execute_result"
    }
   ],
   "source": [
    "data['Neonatal Death A'].value_counts()"
   ]
  },
  {
   "cell_type": "code",
   "execution_count": 738,
   "id": "e0387448-cecb-4323-b512-30ce50f91ff5",
   "metadata": {},
   "outputs": [
    {
     "data": {
      "text/plain": [
       "Yes    177\n",
       "Name: IUFD A, dtype: int64"
      ]
     },
     "execution_count": 738,
     "metadata": {},
     "output_type": "execute_result"
    }
   ],
   "source": [
    "data['IUFD A'].value_counts()"
   ]
  },
  {
   "cell_type": "code",
   "execution_count": 739,
   "id": "3fc6a09e-796f-4ca6-8e2f-362dff40c3eb",
   "metadata": {},
   "outputs": [
    {
     "data": {
      "text/plain": [
       "N_A         17060\n",
       "Success       311\n",
       "Cesarean      140\n",
       "Failed         21\n",
       "Name: Vacuum Extraction A, dtype: int64"
      ]
     },
     "execution_count": 739,
     "metadata": {},
     "output_type": "execute_result"
    }
   ],
   "source": [
    "data.loc[data['Vacuum Extraction A'] == '565628', 'Vacuum Extraction A'] = np.nan\n",
    "data['Vacuum Extraction A'].value_counts()"
   ]
  },
  {
   "cell_type": "code",
   "execution_count": 740,
   "id": "dc09f8d0-07f3-4a27-b031-5bee57946910",
   "metadata": {},
   "outputs": [
    {
     "data": {
      "text/plain": [
       "N_A        16827\n",
       "Success      601\n",
       "Failed       154\n",
       "Name: VBAC A, dtype: int64"
      ]
     },
     "execution_count": 740,
     "metadata": {},
     "output_type": "execute_result"
    }
   ],
   "source": [
    "data.loc[data['VBAC A'] == '39.6', 'VBAC A'] = np.nan\n",
    "data['VBAC A'].value_counts()"
   ]
  },
  {
   "cell_type": "code",
   "execution_count": 741,
   "id": "df10dfd3",
   "metadata": {},
   "outputs": [
    {
     "name": "stdout",
     "output_type": "stream",
     "text": [
      "Attempt to Vbac  VBAC A \n",
      "N_A              N_A        14140\n",
      "No               N_A         2275\n",
      "Yes              Success      573\n",
      "                 Failed       152\n",
      "                 N_A           78\n",
      "N_A              Success       19\n",
      "No               Success        6\n",
      "                 Failed         1\n",
      "dtype: int64\n"
     ]
    }
   ],
   "source": [
    "print(data[['Attempt to Vbac','VBAC A']].value_counts())"
   ]
  },
  {
   "cell_type": "code",
   "execution_count": 742,
   "id": "c8c82cab-ca87-4f95-b9bf-bff8d5025cbc",
   "metadata": {},
   "outputs": [],
   "source": [
    "data.loc[data['Infant Sex A'] == \"Unknown\", 'Infant Sex A'] = np.nan\n",
    "data.loc[data['Infant Sex A'] == \"A\", 'Infant Sex A'] = np.nan"
   ]
  },
  {
   "cell_type": "code",
   "execution_count": 743,
   "id": "d5731b7f-9599-4001-9c36-e31e8cbc6330",
   "metadata": {},
   "outputs": [
    {
     "data": {
      "text/plain": [
       "M    9185\n",
       "F    8401\n",
       "Name: Infant Sex A, dtype: int64"
      ]
     },
     "execution_count": 743,
     "metadata": {},
     "output_type": "execute_result"
    }
   ],
   "source": [
    "data['Infant Sex A'].value_counts()"
   ]
  },
  {
   "cell_type": "code",
   "execution_count": 744,
   "id": "4e2be6e9-1ff0-46f7-a213-47d81e2d3e1d",
   "metadata": {},
   "outputs": [
    {
     "data": {
      "text/plain": [
       "count    17380.000000\n",
       "mean      3182.914845\n",
       "std        659.940946\n",
       "min         20.000000\n",
       "25%       2890.000000\n",
       "50%       3260.000000\n",
       "75%       3590.000000\n",
       "max       5130.000000\n",
       "Name: Birthweight A, dtype: float64"
      ]
     },
     "execution_count": 744,
     "metadata": {},
     "output_type": "execute_result"
    }
   ],
   "source": [
    "#data.loc[data['Birthweight A'] < 500, 'Birthweight A'] = np.nan\n",
    "data['Birthweight A'].describe()"
   ]
  },
  {
   "cell_type": "code",
   "execution_count": 745,
   "id": "a776e6e3-7bfc-42cb-83ef-0393487bc840",
   "metadata": {},
   "outputs": [
    {
     "data": {
      "text/plain": [
       "SignificanceResult(statistic=0.7295528420193172, pvalue=0.0)"
      ]
     },
     "execution_count": 745,
     "metadata": {},
     "output_type": "execute_result"
    }
   ],
   "source": [
    "#checks out that weight and length are correlated\n",
    "st.spearmanr(data['Infant Length A'], data['Birthweight A'], nan_policy='omit')"
   ]
  },
  {
   "cell_type": "markdown",
   "id": "01de7500",
   "metadata": {},
   "source": [
    "### Condition A vs. IUFD vs. Neonatal Death "
   ]
  },
  {
   "cell_type": "code",
   "execution_count": 746,
   "id": "d4513034-38a2-4777-b122-ab6859ef85de",
   "metadata": {},
   "outputs": [
    {
     "data": {
      "text/plain": [
       "Stable            16562\n",
       "Fair                656\n",
       "N_A                 188\n",
       "Critical            179\n",
       "IUFD                  2\n",
       "Neonatal Death        1\n",
       "Name: Condition A, dtype: int64"
      ]
     },
     "execution_count": 746,
     "metadata": {},
     "output_type": "execute_result"
    }
   ],
   "source": [
    "#all good!\n",
    "data['Condition A'].value_counts()"
   ]
  },
  {
   "cell_type": "code",
   "execution_count": 747,
   "id": "73108e12",
   "metadata": {},
   "outputs": [
    {
     "data": {
      "text/plain": [
       "Yes    177\n",
       "Name: IUFD A, dtype: int64"
      ]
     },
     "execution_count": 747,
     "metadata": {},
     "output_type": "execute_result"
    }
   ],
   "source": [
    "data['IUFD A'].value_counts()"
   ]
  },
  {
   "cell_type": "code",
   "execution_count": 748,
   "id": "d56fe859",
   "metadata": {},
   "outputs": [
    {
     "data": {
      "text/plain": [
       "N_A         172\n",
       "IUFD          2\n",
       "Fair          1\n",
       "Critical      1\n",
       "Name: Condition A, dtype: int64"
      ]
     },
     "execution_count": 748,
     "metadata": {},
     "output_type": "execute_result"
    }
   ],
   "source": [
    "data.loc[data['IUFD A'] == 'Yes', 'Condition A'].value_counts()"
   ]
  },
  {
   "cell_type": "code",
   "execution_count": 749,
   "id": "cbb1382d",
   "metadata": {},
   "outputs": [
    {
     "data": {
      "text/plain": [
       "Stable            16562\n",
       "Fair                655\n",
       "Critical            178\n",
       "IUFD                177\n",
       "N_A                  16\n",
       "Neonatal Death        1\n",
       "Name: Condition A, dtype: int64"
      ]
     },
     "execution_count": 749,
     "metadata": {},
     "output_type": "execute_result"
    }
   ],
   "source": [
    "data2 = data.copy()\n",
    "\n",
    "data2.loc[data2['IUFD A'] == 'Yes','Condition A'] = 'IUFD'\n",
    "\n",
    "data['Condition A'] = data2['Condition A']\n",
    "\n",
    "data['Condition A'].value_counts()"
   ]
  },
  {
   "cell_type": "code",
   "execution_count": 750,
   "id": "9b39f7e1",
   "metadata": {},
   "outputs": [],
   "source": [
    "del data['IUFD A']"
   ]
  },
  {
   "cell_type": "code",
   "execution_count": 751,
   "id": "fc510e11",
   "metadata": {},
   "outputs": [
    {
     "data": {
      "text/plain": [
       "Yes    35\n",
       "Name: Neonatal Death A, dtype: int64"
      ]
     },
     "execution_count": 751,
     "metadata": {},
     "output_type": "execute_result"
    }
   ],
   "source": [
    "data['Neonatal Death A'].value_counts()"
   ]
  },
  {
   "cell_type": "code",
   "execution_count": 752,
   "id": "42641268",
   "metadata": {},
   "outputs": [
    {
     "data": {
      "text/plain": [
       "Critical          29\n",
       "N_A                2\n",
       "Fair               1\n",
       "Neonatal Death     1\n",
       "Name: Condition A, dtype: int64"
      ]
     },
     "execution_count": 752,
     "metadata": {},
     "output_type": "execute_result"
    }
   ],
   "source": [
    "data.loc[data['Neonatal Death A'] == 'Yes', 'Condition A'].value_counts()"
   ]
  },
  {
   "cell_type": "code",
   "execution_count": 753,
   "id": "f13fc222",
   "metadata": {},
   "outputs": [
    {
     "data": {
      "text/plain": [
       "Stable            16562\n",
       "Fair                654\n",
       "IUFD                177\n",
       "Critical            149\n",
       "Neonatal Death       35\n",
       "N_A                  14\n",
       "Name: Condition A, dtype: int64"
      ]
     },
     "execution_count": 753,
     "metadata": {},
     "output_type": "execute_result"
    }
   ],
   "source": [
    "data2 = data.copy()\n",
    "\n",
    "data2.loc[data2['Neonatal Death A'] == 'Yes','Condition A'] = 'Neonatal Death'\n",
    "\n",
    "data['Condition A'] = data2['Condition A']\n",
    "\n",
    "data['Condition A'].value_counts()"
   ]
  },
  {
   "cell_type": "code",
   "execution_count": 754,
   "id": "0fec35dc",
   "metadata": {},
   "outputs": [],
   "source": [
    "del data['Neonatal Death A']"
   ]
  },
  {
   "cell_type": "code",
   "execution_count": null,
   "id": "478deb97",
   "metadata": {},
   "outputs": [],
   "source": []
  },
  {
   "cell_type": "code",
   "execution_count": 755,
   "id": "44b082b3-c834-4c9e-bccb-306e5de34b06",
   "metadata": {},
   "outputs": [
    {
     "data": {
      "text/plain": [
       "count    17562.000000\n",
       "mean        38.120436\n",
       "std          2.778868\n",
       "min         14.100000\n",
       "25%         37.400000\n",
       "50%         39.000000\n",
       "75%         39.400000\n",
       "max         43.400000\n",
       "Name: GA At Birth A, dtype: float64"
      ]
     },
     "execution_count": 755,
     "metadata": {},
     "output_type": "execute_result"
    }
   ],
   "source": [
    "#all good!\n",
    "#data.loc[data['GA At Birth A'] < 22, 'GA At Birth A'] = np.nan;\n",
    "data.loc[data['GA At Birth A'] == 0, 'GA At Birth A'] = np.nan\n",
    "data['GA At Birth A'].describe()"
   ]
  },
  {
   "cell_type": "code",
   "execution_count": 756,
   "id": "660ab651-7824-4fb8-b2b4-cf50515f7a29",
   "metadata": {},
   "outputs": [
    {
     "data": {
      "text/plain": [
       "count    17326.000000\n",
       "mean         7.462369\n",
       "std          1.563896\n",
       "min          0.000000\n",
       "25%          8.000000\n",
       "50%          8.000000\n",
       "75%          8.000000\n",
       "max         10.000000\n",
       "Name: APGAR 1 minute  A, dtype: float64"
      ]
     },
     "execution_count": 756,
     "metadata": {},
     "output_type": "execute_result"
    }
   ],
   "source": [
    "#all good!\n",
    "data['APGAR 1 minute  A'].describe()"
   ]
  },
  {
   "cell_type": "code",
   "execution_count": 757,
   "id": "4db4e347-59e2-49e2-b1cf-15d87b9f6da9",
   "metadata": {},
   "outputs": [
    {
     "data": {
      "text/plain": [
       "count    17313.000000\n",
       "mean         8.717496\n",
       "std          1.150406\n",
       "min          0.000000\n",
       "25%          9.000000\n",
       "50%          9.000000\n",
       "75%          9.000000\n",
       "max         10.000000\n",
       "Name: APGAR 5 minutes A, dtype: float64"
      ]
     },
     "execution_count": 757,
     "metadata": {},
     "output_type": "execute_result"
    }
   ],
   "source": [
    "#all good!\n",
    "data['APGAR 5 minutes A'].describe()"
   ]
  },
  {
   "cell_type": "code",
   "execution_count": 758,
   "id": "d38315f5-9567-4008-b5c2-ef478758d2fb",
   "metadata": {},
   "outputs": [
    {
     "data": {
      "text/plain": [
       "count    465.000000\n",
       "mean       6.507527\n",
       "std        3.100411\n",
       "min        0.000000\n",
       "25%        6.000000\n",
       "50%        8.000000\n",
       "75%        9.000000\n",
       "max       10.000000\n",
       "Name: APGAR 10 minutes A, dtype: float64"
      ]
     },
     "execution_count": 758,
     "metadata": {},
     "output_type": "execute_result"
    }
   ],
   "source": [
    "#all good!\n",
    "data['APGAR 10 minutes A'].describe()"
   ]
  },
  {
   "cell_type": "code",
   "execution_count": null,
   "id": "e63afcb1",
   "metadata": {},
   "outputs": [],
   "source": []
  },
  {
   "cell_type": "code",
   "execution_count": null,
   "id": "189f164f",
   "metadata": {},
   "outputs": [],
   "source": []
  },
  {
   "cell_type": "code",
   "execution_count": 759,
   "id": "b76442c1-b2dd-498b-85a2-e8b1cb4a3015",
   "metadata": {},
   "outputs": [
    {
     "data": {
      "text/plain": [
       "N_A         8603\n",
       "FoleyBal    2389\n",
       "Other        981\n",
       "Misopros     807\n",
       "Cervidil     138\n",
       "Prepidil       2\n",
       "Laminari       1\n",
       "Name: Cervical Ripening Agents, dtype: int64"
      ]
     },
     "execution_count": 759,
     "metadata": {},
     "output_type": "execute_result"
    }
   ],
   "source": [
    "#OK for now\n",
    "data['Cervical Ripening Agents'].value_counts()"
   ]
  },
  {
   "cell_type": "code",
   "execution_count": 760,
   "id": "b53ccf48-eba2-4544-b83d-1eff5fd6b455",
   "metadata": {},
   "outputs": [],
   "source": [
    "data.loc[data['Feeding Plans at Discharge'] == 'infant not going home with pt', 'Feeding Plans at Discharge'] = np.nan\n",
    "data.loc[data['Feeding Plans at Discharge'] == 'Mom will go back to fulltime feeding at the breast and pumping as necessary to bring up her milk supply.', 'Feeding Plans at Discharge'] = 'Breast'\n",
    "data.loc[data['Feeding Plans at Discharge'] == 'Mother to pump 8-10 times daily', 'Feeding Plans at Discharge'] = 'Pumping' \n",
    "data.loc[data['Feeding Plans at Discharge'] == 'Undecided', 'Feeding Plans at Discharge'] = np.nan\n",
    "data.loc[data['Feeding Plans at Discharge'] == 'pt needs to speak witn NICU team to determine what feeding is appropriate for her', 'Feeding Plans at Discharge'] = np.nan"
   ]
  },
  {
   "cell_type": "code",
   "execution_count": 761,
   "id": "9e9296de-8da0-4158-85fe-ed8bed34095f",
   "metadata": {},
   "outputs": [
    {
     "data": {
      "text/plain": [
       "Breast     5470\n",
       "Both       4751\n",
       "Formula    2738\n",
       "Pumping    1261\n",
       "N_A         218\n",
       "Name: Feeding Plans at Discharge, dtype: int64"
      ]
     },
     "execution_count": 761,
     "metadata": {},
     "output_type": "execute_result"
    }
   ],
   "source": [
    "data['Feeding Plans at Discharge'].value_counts()"
   ]
  },
  {
   "cell_type": "code",
   "execution_count": 762,
   "id": "09648ca5-e834-438f-892d-09096110fcba",
   "metadata": {},
   "outputs": [],
   "source": [
    "data.loc[data['Feeding Preference'] == 'Baby in NICU // adoption ', 'Feeding Preference'] = np.nan\n",
    "data.loc[data['Feeding Preference'] == 'will evaluate appropriateness of pumping w/ PNP and CM', 'Feeding Preference'] = np.nan\n",
    "data.loc[data['Feeding Preference'] == 'formula and pumping', 'Feeding Preference'] = 'Both'\n",
    "data.loc[data['Feeding Preference'] == 'will discuss with patient how to dry up milk', 'Feeding Preference'] = np.nan\n",
    "data.loc[data['Feeding Preference'] == 'PP readmit infant not in our care. ', 'Feeding Preference'] = np.nan\n",
    "data.loc[data['Feeding Preference'] == 'pt unsure', 'Feeding Preference'] = np.nan\n",
    "data.loc[data['Feeding Preference'] == 'previously pumping', 'Feeding Preference'] = np.nan\n",
    "data.loc[data['Feeding Preference'] == 'N/A ', 'Feeding Preference'] = np.nan\n",
    "data.loc[data['Feeding Preference'] == '0+3', 'Feeding Preference'] = np.nan\n",
    "data.loc[data['Feeding Preference'] == 'nb in nicu', 'Feeding Preference'] = np.nan\n",
    "data.loc[data['Feeding Preference'] == 'unknown', 'Feeding Preference'] = np.nan\n",
    "data.loc[data['Feeding Preference'] == 'patient instructed on drying up milk \\n', 'Feeding Preference'] = np.nan"
   ]
  },
  {
   "cell_type": "code",
   "execution_count": 763,
   "id": "edc3cf31-afae-44f6-bbc5-94bd1dd6c1df",
   "metadata": {},
   "outputs": [
    {
     "data": {
      "text/plain": [
       "Breast     8700\n",
       "Both       4281\n",
       "Formula    3253\n",
       "Pumping    1042\n",
       "N_A         270\n",
       "Contra       12\n",
       "N_A           1\n",
       "Name: Feeding Preference, dtype: int64"
      ]
     },
     "execution_count": 763,
     "metadata": {},
     "output_type": "execute_result"
    }
   ],
   "source": [
    "#what is contra? Is it valid?\n",
    "data['Feeding Preference'].value_counts()"
   ]
  },
  {
   "cell_type": "code",
   "execution_count": 764,
   "id": "15885cc4-6ce0-4509-a6d4-16e3c64e80a3",
   "metadata": {},
   "outputs": [],
   "source": [
    "data.loc[data['Feeding preference PP'] == 'manually expressing\\n', 'Feeding preference PP'] = 'Pumping'\n",
    "data.loc[data['Feeding preference PP'] == 'pumping and formula', 'Feeding preference PP'] = 'Both'\n",
    "data.loc[data['Feeding preference PP'] == 'unknown, pt still deciding', 'Feeding preference PP'] = 'unknown'\n",
    "data.loc[data['Feeding preference PP'] == 'formula, mother pumping', 'Feeding preference PP'] = 'Both'\n",
    "data.loc[data['Feeding preference PP'] == 'breast/formula/pumping', 'Feeding preference PP'] = 'Both'\n",
    "data.loc[data['Feeding preference PP'] == 'pumping and bottle feeding ', 'Feeding preference PP'] = 'Pumping'"
   ]
  },
  {
   "cell_type": "code",
   "execution_count": 765,
   "id": "95b56632-4619-433c-ae21-3955861d0ea1",
   "metadata": {},
   "outputs": [
    {
     "data": {
      "text/plain": [
       "Breast     6402\n",
       "Both       5225\n",
       "Formula    3952\n",
       "Pumping    1641\n",
       "N_A         291\n",
       "unknown       1\n",
       "Name: Feeding preference PP, dtype: int64"
      ]
     },
     "execution_count": 765,
     "metadata": {},
     "output_type": "execute_result"
    }
   ],
   "source": [
    "data['Feeding preference PP'].value_counts()"
   ]
  },
  {
   "cell_type": "code",
   "execution_count": null,
   "id": "55862da8",
   "metadata": {},
   "outputs": [],
   "source": []
  },
  {
   "cell_type": "markdown",
   "id": "ba805995",
   "metadata": {},
   "source": [
    "### 7. weight"
   ]
  },
  {
   "cell_type": "code",
   "execution_count": 766,
   "id": "9fa8dac9",
   "metadata": {},
   "outputs": [],
   "source": [
    "# weight Gain Pounds' is more correct,create a variable Weight Delivery\n",
    "data['Weight Delivery'] = data['Weight Prepregnancy'] + data['Weight Gain Pounds']\n",
    "data['Weight check'] = data['Weight Delivery'] -data['Weight']"
   ]
  },
  {
   "cell_type": "code",
   "execution_count": 767,
   "id": "3069d5b5",
   "metadata": {},
   "outputs": [
    {
     "data": {
      "text/plain": [
       "Study ID\n",
       "306       -5.0\n",
       "1852     166.0\n",
       "3197      -1.0\n",
       "3460     155.0\n",
       "7049     248.0\n",
       "7599      30.0\n",
       "8537     -11.0\n",
       "9565       1.0\n",
       "14230      1.0\n",
       "Name: Weight check, dtype: float64"
      ]
     },
     "execution_count": 767,
     "metadata": {},
     "output_type": "execute_result"
    }
   ],
   "source": [
    "data[data['Weight check'].notna() & (data['Weight check'] != 0)]['Weight check']"
   ]
  },
  {
   "cell_type": "code",
   "execution_count": 768,
   "id": "ba9fd35d-7004-484b-9175-95f46a5f5666",
   "metadata": {},
   "outputs": [
    {
     "data": {
      "text/plain": [
       "Study ID\n",
       "1852     166.0\n",
       "3197      -1.0\n",
       "3460     155.0\n",
       "7049     248.0\n",
       "9565       1.0\n",
       "14230      1.0\n",
       "Name: Weight check, dtype: float64"
      ]
     },
     "execution_count": 768,
     "metadata": {},
     "output_type": "execute_result"
    }
   ],
   "source": [
    "data.loc[data['Weight check'].isin([-5, 30, -11]), 'Weight Delivery'] = np.nan\n",
    "data['Weight check'] = data['Weight Delivery'] -data['Weight']\n",
    "data[data['Weight check'].notna() & (data['Weight check'] != 0)]['Weight check']"
   ]
  },
  {
   "cell_type": "code",
   "execution_count": null,
   "id": "2cbce34d",
   "metadata": {},
   "outputs": [],
   "source": []
  },
  {
   "cell_type": "code",
   "execution_count": 769,
   "id": "f024e20c-d611-4b67-bb13-82fb05e24563",
   "metadata": {},
   "outputs": [
    {
     "data": {
      "text/plain": [
       "count    15230.000000\n",
       "mean       163.324688\n",
       "std         46.668448\n",
       "min          0.000000\n",
       "25%        130.000000\n",
       "50%        152.000000\n",
       "75%        185.000000\n",
       "max        456.000000\n",
       "Name: Weight Prepregnancy, dtype: float64"
      ]
     },
     "execution_count": 769,
     "metadata": {},
     "output_type": "execute_result"
    }
   ],
   "source": [
    "data['Weight Prepregnancy'].describe()"
   ]
  },
  {
   "cell_type": "code",
   "execution_count": 770,
   "id": "9a42edb9",
   "metadata": {},
   "outputs": [
    {
     "data": {
      "text/plain": [
       "count    14760.000000\n",
       "mean       193.259417\n",
       "std         45.741433\n",
       "min         22.000000\n",
       "25%        160.000000\n",
       "50%        185.000000\n",
       "75%        218.000000\n",
       "max        476.000000\n",
       "Name: Weight Delivery, dtype: float64"
      ]
     },
     "execution_count": 770,
     "metadata": {},
     "output_type": "execute_result"
    }
   ],
   "source": [
    "data['Weight Delivery'].describe()"
   ]
  },
  {
   "cell_type": "code",
   "execution_count": 771,
   "id": "e3abfaba-d0da-4deb-9596-f9b6c3ef1f1a",
   "metadata": {},
   "outputs": [],
   "source": [
    "#data.loc[data['Weight'] <= 40, 'Weight'] = np.nan"
   ]
  },
  {
   "cell_type": "code",
   "execution_count": 772,
   "id": "861a09bb-1559-428d-9f52-eb67117dd5b7",
   "metadata": {},
   "outputs": [],
   "source": [
    "data = data.drop(['Weight check','Weight'],axis='columns')"
   ]
  },
  {
   "cell_type": "code",
   "execution_count": null,
   "id": "e05f3b23",
   "metadata": {},
   "outputs": [],
   "source": []
  },
  {
   "cell_type": "code",
   "execution_count": 773,
   "id": "809076a5-c24d-4f80-a65d-3913aadf32dd",
   "metadata": {},
   "outputs": [
    {
     "data": {
      "text/plain": [
       "count    16658.000000\n",
       "mean        64.143042\n",
       "std          3.234246\n",
       "min         21.300000\n",
       "25%         62.000000\n",
       "50%         64.000000\n",
       "75%         66.000000\n",
       "max         96.000000\n",
       "Name: Height Inches, dtype: float64"
      ]
     },
     "execution_count": 773,
     "metadata": {},
     "output_type": "execute_result"
    }
   ],
   "source": [
    "data.loc[data['Height Inches'] ==5, 'Height Inches'] =60 # foot to inches\n",
    "data.loc[data['Height Inches'] ==5.7, 'Height Inches'] = 68.4  # foot to inches\n",
    "#data.loc[data['Height Inches'] < 30, 'Height Inches'] = np.nan\n",
    "data['Height Inches'].describe()"
   ]
  },
  {
   "cell_type": "code",
   "execution_count": null,
   "id": "a1cdb0e1",
   "metadata": {},
   "outputs": [],
   "source": []
  },
  {
   "cell_type": "code",
   "execution_count": 774,
   "id": "9e57a16c-2c7f-4ea2-9aa0-b58f0a3d60b9",
   "metadata": {},
   "outputs": [],
   "source": [
    "#calculate BMI\n",
    "data['BMI_delivery'] = (data['Weight Delivery']*703)/(data['Height Inches']*data['Height Inches'])\n",
    "data['BMI_prepregnancy'] = (data['Weight Prepregnancy']*703)/(data['Height Inches']*data['Height Inches'])"
   ]
  },
  {
   "cell_type": "code",
   "execution_count": 775,
   "id": "ccfbf0bf",
   "metadata": {},
   "outputs": [],
   "source": [
    "data.loc[data['Preterm Labor'] == 'Unknown', 'Preterm Labor'] = np.nan"
   ]
  },
  {
   "cell_type": "code",
   "execution_count": 776,
   "id": "9dcc380b-6fea-4920-9594-ccdc41813077",
   "metadata": {},
   "outputs": [],
   "source": [
    "data.loc[data['Premature Rom'] == 'Unknown', 'Premature Rom'] = np.nan"
   ]
  },
  {
   "cell_type": "code",
   "execution_count": 777,
   "id": "2c38f184-85c8-4523-87bd-f1c203dc7414",
   "metadata": {},
   "outputs": [
    {
     "data": {
      "text/plain": [
       "No     16210\n",
       "Yes      608\n",
       "Name: Premature Rom, dtype: int64"
      ]
     },
     "execution_count": 777,
     "metadata": {},
     "output_type": "execute_result"
    }
   ],
   "source": [
    "data['Premature Rom'].value_counts()"
   ]
  },
  {
   "cell_type": "code",
   "execution_count": 778,
   "id": "2ecb5ce3-9614-4aea-af42-5f4f2c1fd822",
   "metadata": {},
   "outputs": [],
   "source": [
    "data.loc[data['Hypertensive Disorders Preg'] == 'Unknown', 'Hypertensive Disorders Preg'] = np.nan"
   ]
  },
  {
   "cell_type": "code",
   "execution_count": 779,
   "id": "7ae2d856-4cfd-48ca-ab0d-499957ca04f5",
   "metadata": {},
   "outputs": [
    {
     "data": {
      "text/plain": [
       "No     13073\n",
       "Yes     3865\n",
       "Name: Hypertensive Disorders Preg, dtype: int64"
      ]
     },
     "execution_count": 779,
     "metadata": {},
     "output_type": "execute_result"
    }
   ],
   "source": [
    "data['Hypertensive Disorders Preg'].value_counts()"
   ]
  },
  {
   "cell_type": "code",
   "execution_count": 780,
   "id": "63a08ed8-ff73-4de3-81ea-7b05782967dd",
   "metadata": {},
   "outputs": [],
   "source": [
    "data.loc[data['Diabetes'] == 'Unknown', 'Diabetes'] = np.nan"
   ]
  },
  {
   "cell_type": "code",
   "execution_count": 781,
   "id": "873fa157-f754-489d-bb81-9431639e77ac",
   "metadata": {},
   "outputs": [
    {
     "data": {
      "text/plain": [
       "No     14308\n",
       "Yes     2536\n",
       "Name: Diabetes, dtype: int64"
      ]
     },
     "execution_count": 781,
     "metadata": {},
     "output_type": "execute_result"
    }
   ],
   "source": [
    "data['Diabetes'].value_counts()"
   ]
  },
  {
   "cell_type": "code",
   "execution_count": 782,
   "id": "a7266681-1c83-4dc6-aa16-b6b0e952c161",
   "metadata": {},
   "outputs": [
    {
     "data": {
      "text/plain": [
       "No     17132\n",
       "YES      431\n",
       "Name: Adm Alcohol, dtype: int64"
      ]
     },
     "execution_count": 782,
     "metadata": {},
     "output_type": "execute_result"
    }
   ],
   "source": [
    "#all good!\n",
    "data['Adm Alcohol'].value_counts()"
   ]
  },
  {
   "cell_type": "code",
   "execution_count": 783,
   "id": "01ee3bb9-c819-4e18-997d-5f7a2e5e50c1",
   "metadata": {},
   "outputs": [],
   "source": [
    "#fix cigarettes\n",
    "data['Adm Cigarettes'] = data['Adm Cigarettes'].str.replace(' ', '').str.lower()\n",
    "data.loc[data['Adm Cigarettes'] == 'unknown', 'Adm Cigarettes'] = np.nan\n",
    "data.loc[data['Adm Cigarettes'] == 'unkhist', 'Adm Cigarettes'] = np.nan\n",
    "data.loc[data['Adm Cigarettes'] == 'neversmoked', 'Adm Cigarettes'] = 'never'\n",
    "data.loc[data['Adm Cigarettes'] == 'formersmoker', 'Adm Cigarettes'] = 'former'\n",
    "data.loc[data['Adm Cigarettes'] == 'f', 'Adm Cigarettes'] = 'former'\n",
    "data.loc[data['Adm Cigarettes'] == 'formervapor', 'Adm Cigarettes'] = 'former'\n",
    "data.loc[data['Adm Cigarettes'] == 'vaping', 'Adm Cigarettes'] = 'vape'\n",
    "data.loc[data['Adm Cigarettes'] == 'someday', 'Adm Cigarettes'] = 'never'"
   ]
  },
  {
   "cell_type": "code",
   "execution_count": 784,
   "id": "89e2cf1b-873a-4387-89fc-9baa8014390b",
   "metadata": {},
   "outputs": [
    {
     "data": {
      "text/plain": [
       "never     13157\n",
       "former     2140\n",
       "daily      2133\n",
       "light        21\n",
       "vape          3\n",
       "heavy         1\n",
       "Name: Adm Cigarettes, dtype: int64"
      ]
     },
     "execution_count": 784,
     "metadata": {},
     "output_type": "execute_result"
    }
   ],
   "source": [
    "data['Adm Cigarettes'].value_counts()"
   ]
  },
  {
   "cell_type": "code",
   "execution_count": 785,
   "id": "3de0b801-c7ad-4cde-9e39-5ad26ba9a0ae",
   "metadata": {},
   "outputs": [
    {
     "data": {
      "text/plain": [
       "No     15521\n",
       "YES     2042\n",
       "Name: Adm Marijuana, dtype: int64"
      ]
     },
     "execution_count": 785,
     "metadata": {},
     "output_type": "execute_result"
    }
   ],
   "source": [
    "#all good!\n",
    "data['Adm Marijuana'].value_counts()"
   ]
  },
  {
   "cell_type": "code",
   "execution_count": 786,
   "id": "75892048-4b42-4761-9e92-493088bc59e8",
   "metadata": {},
   "outputs": [
    {
     "data": {
      "text/plain": [
       "No     17370\n",
       "YES      156\n",
       "Name: Adm Cocaine Crack, dtype: int64"
      ]
     },
     "execution_count": 786,
     "metadata": {},
     "output_type": "execute_result"
    }
   ],
   "source": [
    "#all good!\n",
    "data['Adm Cocaine Crack'].value_counts()"
   ]
  },
  {
   "cell_type": "code",
   "execution_count": 787,
   "id": "49590be0-852e-4375-aac5-6c0d5cb718a6",
   "metadata": {},
   "outputs": [
    {
     "data": {
      "text/plain": [
       "No     16240\n",
       "YES     1288\n",
       "Name: Adm Illicit Drugs, dtype: int64"
      ]
     },
     "execution_count": 787,
     "metadata": {},
     "output_type": "execute_result"
    }
   ],
   "source": [
    "#all good!\n",
    "data['Adm Illicit Drugs'].value_counts()"
   ]
  },
  {
   "cell_type": "code",
   "execution_count": 788,
   "id": "baaae590-416b-46b3-9322-0379e56bbd11",
   "metadata": {
    "scrolled": true
   },
   "outputs": [
    {
     "data": {
      "text/plain": [
       "count    16233.000000\n",
       "mean        13.413306\n",
       "std          0.985683\n",
       "min          0.000000\n",
       "25%         13.000000\n",
       "50%         13.500000\n",
       "75%         14.000000\n",
       "max         41.300000\n",
       "Name: OFC At Birth Baby A In, dtype: float64"
      ]
     },
     "execution_count": 788,
     "metadata": {},
     "output_type": "execute_result"
    }
   ],
   "source": [
    "data['OFC At Birth Baby A In'].describe()"
   ]
  },
  {
   "cell_type": "code",
   "execution_count": 789,
   "id": "29418327-868f-4fe7-bdc9-355d850ca9ba",
   "metadata": {},
   "outputs": [
    {
     "data": {
      "text/plain": [
       "count    11886.000000\n",
       "mean         0.931684\n",
       "std         86.299946\n",
       "min      -2205.000000\n",
       "25%          0.000000\n",
       "50%          0.000000\n",
       "75%          1.000000\n",
       "max       8760.000000\n",
       "Name: Labor Hours Stage 2, dtype: float64"
      ]
     },
     "execution_count": 789,
     "metadata": {},
     "output_type": "execute_result"
    }
   ],
   "source": [
    "#this cant be negative?\n",
    "#data.loc[data['Labor Hours Stage 2'] < 0, 'Labor Hours Stage 2'] = np.nan\n",
    "data['Labor Hours Stage 2'].describe()"
   ]
  },
  {
   "cell_type": "code",
   "execution_count": 790,
   "id": "93aeb3f3-ed8a-4507-9615-0fbc26a06bd5",
   "metadata": {},
   "outputs": [
    {
     "data": {
      "text/plain": [
       "count    11886.000000\n",
       "mean        21.618627\n",
       "std         17.345096\n",
       "min        -59.000000\n",
       "25%          9.000000\n",
       "50%         19.000000\n",
       "75%         34.000000\n",
       "max         59.000000\n",
       "Name: Labor Minutes Stage 2, dtype: float64"
      ]
     },
     "execution_count": 790,
     "metadata": {},
     "output_type": "execute_result"
    }
   ],
   "source": [
    "#data.loc[data['Labor Minutes Stage 2'] <= 0, 'Labor Minutes Stage 2'] = np.nan\n",
    "data['Labor Minutes Stage 2'].describe()"
   ]
  },
  {
   "cell_type": "code",
   "execution_count": 791,
   "id": "42730c9b-e7b8-4679-9d86-fa5c810a98b8",
   "metadata": {},
   "outputs": [
    {
     "data": {
      "text/plain": [
       "count     11886.000000\n",
       "mean         77.519687\n",
       "std        5178.582926\n",
       "min     -132337.000000\n",
       "25%          12.000000\n",
       "50%          29.000000\n",
       "75%          78.750000\n",
       "max      525621.000000\n",
       "Name: Labortime, dtype: float64"
      ]
     },
     "execution_count": 791,
     "metadata": {},
     "output_type": "execute_result"
    }
   ],
   "source": [
    "data['Labortime'] = data['Labor Hours Stage 2']*60+data['Labor Minutes Stage 2']\n",
    "data['Labortime'].describe()"
   ]
  },
  {
   "cell_type": "code",
   "execution_count": 792,
   "id": "58b64a9e-fa7d-4dc4-bb98-49da4c2fba53",
   "metadata": {},
   "outputs": [],
   "source": [
    "data['Placenta Delivery Time']=pd.to_datetime(data['Placenta Delivery Time'])\n",
    "data['Complete Dilatation']=pd.to_datetime(data['Complete Dilatation'])\n",
    "\n",
    "data['Labortime_23'] = data['Placenta Delivery Time']-data['Complete Dilatation']\n",
    "data['Labortime_23']= data['Labortime_23'].dt.total_seconds()/60\n",
    "data['Labortime_3'] = data['Labortime_23']-data['Labortime'] \n",
    "del data['Labortime_23']"
   ]
  },
  {
   "cell_type": "code",
   "execution_count": 793,
   "id": "6f8af1d7",
   "metadata": {},
   "outputs": [
    {
     "data": {
      "text/plain": [
       "count    1.182000e+04\n",
       "mean    -1.322238e+02\n",
       "std      1.472395e+04\n",
       "min     -1.594077e+06\n",
       "25%      3.000000e+00\n",
       "50%      4.000000e+00\n",
       "75%      7.000000e+00\n",
       "max      8.490200e+04\n",
       "Name: Labortime_3, dtype: float64"
      ]
     },
     "execution_count": 793,
     "metadata": {},
     "output_type": "execute_result"
    }
   ],
   "source": [
    "data['Labortime_3'].describe()"
   ]
  },
  {
   "cell_type": "code",
   "execution_count": null,
   "id": "81f84eaf",
   "metadata": {},
   "outputs": [],
   "source": []
  },
  {
   "cell_type": "code",
   "execution_count": 794,
   "id": "82577379-25f0-4804-9a04-b44f05cbb818",
   "metadata": {},
   "outputs": [
    {
     "data": {
      "text/plain": [
       "count    9764.000000\n",
       "mean      457.488324\n",
       "std       382.448434\n",
       "min         0.000000\n",
       "25%       187.000000\n",
       "50%       375.000000\n",
       "75%       617.000000\n",
       "max      4812.000000\n",
       "Name: Quantitative Blood Loss DS, dtype: float64"
      ]
     },
     "execution_count": 794,
     "metadata": {},
     "output_type": "execute_result"
    }
   ],
   "source": [
    "#all good!\n",
    "data['Quantitative Blood Loss DS'].describe()"
   ]
  },
  {
   "cell_type": "code",
   "execution_count": 795,
   "id": "663e691c-aa8a-4eed-b71e-30efa5280293",
   "metadata": {},
   "outputs": [
    {
     "data": {
      "text/plain": [
       "count    3209.000000\n",
       "mean      144.589592\n",
       "std       244.729016\n",
       "min         0.000000\n",
       "25%        47.000000\n",
       "50%        75.000000\n",
       "75%       130.000000\n",
       "max      4812.000000\n",
       "Name: QBL2 hrs PP, dtype: float64"
      ]
     },
     "execution_count": 795,
     "metadata": {},
     "output_type": "execute_result"
    }
   ],
   "source": [
    "data['QBL2 hrs PP'].describe()"
   ]
  },
  {
   "cell_type": "code",
   "execution_count": 796,
   "id": "58019559-407f-4c8d-ae5d-d98a10b94d02",
   "metadata": {},
   "outputs": [
    {
     "data": {
      "text/plain": [
       "count    420.000000\n",
       "mean       0.478571\n",
       "std        0.773683\n",
       "min        0.000000\n",
       "25%        0.000000\n",
       "50%        0.000000\n",
       "75%        1.000000\n",
       "max        5.000000\n",
       "Name: Units RBCS Transfused, dtype: float64"
      ]
     },
     "execution_count": 796,
     "metadata": {},
     "output_type": "execute_result"
    }
   ],
   "source": [
    "data['Units RBCS Transfused'].describe()"
   ]
  },
  {
   "cell_type": "code",
   "execution_count": 797,
   "id": "cd82f116-72af-4111-aa66-aa13d343bd95",
   "metadata": {},
   "outputs": [
    {
     "data": {
      "text/plain": [
       "count    403.000000\n",
       "mean       0.595533\n",
       "std        0.960762\n",
       "min        0.000000\n",
       "25%        0.000000\n",
       "50%        0.000000\n",
       "75%        1.000000\n",
       "max        7.000000\n",
       "Name: Total Units RBCS Received, dtype: float64"
      ]
     },
     "execution_count": 797,
     "metadata": {},
     "output_type": "execute_result"
    }
   ],
   "source": [
    "data['Total Units RBCS Received'].describe()"
   ]
  },
  {
   "cell_type": "code",
   "execution_count": 798,
   "id": "4e1957e0-3057-4801-bdd7-b90f79bded0b",
   "metadata": {},
   "outputs": [
    {
     "data": {
      "text/plain": [
       "count    2710.000000\n",
       "mean      593.481181\n",
       "std       518.187075\n",
       "min        24.000000\n",
       "25%       277.000000\n",
       "50%       460.000000\n",
       "75%       755.000000\n",
       "max      9624.000000\n",
       "Name: QBL Total LD, dtype: float64"
      ]
     },
     "execution_count": 798,
     "metadata": {},
     "output_type": "execute_result"
    }
   ],
   "source": [
    "data['QBL Total LD'].describe()"
   ]
  },
  {
   "cell_type": "code",
   "execution_count": null,
   "id": "73021c2a-15df-43e5-bf3e-c66112a094dc",
   "metadata": {},
   "outputs": [],
   "source": []
  },
  {
   "cell_type": "code",
   "execution_count": 799,
   "id": "26578684-a090-4f8b-9307-e3d3c73ea160",
   "metadata": {},
   "outputs": [
    {
     "name": "stdout",
     "output_type": "stream",
     "text": [
      "{'Other, White', 'hispanic', 'Black, PacIslnd, Other', 'ARABIC', 'Black, White', 'Black', 'ME_NA', 'Black, Other', 'SPANISH', 'White', 'Black/African', 'arabic', 'Asian per PNR', 'Asian', 'Unavail', 'Declined', 'AmerInd', 'PacIslnd', 'Other', nan}\n"
     ]
    }
   ],
   "source": [
    "#column no longer exists\n",
    "print(set(data['Race']))"
   ]
  },
  {
   "cell_type": "code",
   "execution_count": 800,
   "id": "7bff4cb8-681e-4728-89b0-a0a6a446d4df",
   "metadata": {},
   "outputs": [
    {
     "data": {
      "text/plain": [
       "O    13681\n",
       "H     2339\n",
       "D      213\n",
       "U      122\n",
       "Name: Ethnicity, dtype: int64"
      ]
     },
     "execution_count": 800,
     "metadata": {},
     "output_type": "execute_result"
    }
   ],
   "source": [
    "#I think ok for now, many of the above are ethnicities not races?\n",
    "data['Ethnicity'].value_counts()"
   ]
  },
  {
   "cell_type": "code",
   "execution_count": 801,
   "id": "6420a0fe",
   "metadata": {},
   "outputs": [
    {
     "data": {
      "text/html": [
       "<div>\n",
       "<style scoped>\n",
       "    .dataframe tbody tr th:only-of-type {\n",
       "        vertical-align: middle;\n",
       "    }\n",
       "\n",
       "    .dataframe tbody tr th {\n",
       "        vertical-align: top;\n",
       "    }\n",
       "\n",
       "    .dataframe thead th {\n",
       "        text-align: right;\n",
       "    }\n",
       "</style>\n",
       "<table border=\"1\" class=\"dataframe\">\n",
       "  <thead>\n",
       "    <tr style=\"text-align: right;\">\n",
       "      <th>Race</th>\n",
       "      <th>ARABIC</th>\n",
       "      <th>AmerInd</th>\n",
       "      <th>Asian</th>\n",
       "      <th>Asian per PNR</th>\n",
       "      <th>Black</th>\n",
       "      <th>Black, Other</th>\n",
       "      <th>Black, PacIslnd, Other</th>\n",
       "      <th>Black, White</th>\n",
       "      <th>Declined</th>\n",
       "      <th>ME_NA</th>\n",
       "      <th>Other</th>\n",
       "      <th>Other, White</th>\n",
       "      <th>PacIslnd</th>\n",
       "      <th>SPANISH</th>\n",
       "      <th>Unavail</th>\n",
       "      <th>White</th>\n",
       "      <th>arabic</th>\n",
       "      <th>hispanic</th>\n",
       "      <th>All</th>\n",
       "    </tr>\n",
       "    <tr>\n",
       "      <th>Ethnicity</th>\n",
       "      <th></th>\n",
       "      <th></th>\n",
       "      <th></th>\n",
       "      <th></th>\n",
       "      <th></th>\n",
       "      <th></th>\n",
       "      <th></th>\n",
       "      <th></th>\n",
       "      <th></th>\n",
       "      <th></th>\n",
       "      <th></th>\n",
       "      <th></th>\n",
       "      <th></th>\n",
       "      <th></th>\n",
       "      <th></th>\n",
       "      <th></th>\n",
       "      <th></th>\n",
       "      <th></th>\n",
       "      <th></th>\n",
       "    </tr>\n",
       "  </thead>\n",
       "  <tbody>\n",
       "    <tr>\n",
       "      <th>D</th>\n",
       "      <td>0</td>\n",
       "      <td>0</td>\n",
       "      <td>2</td>\n",
       "      <td>0</td>\n",
       "      <td>19</td>\n",
       "      <td>0</td>\n",
       "      <td>0</td>\n",
       "      <td>0</td>\n",
       "      <td>2</td>\n",
       "      <td>1</td>\n",
       "      <td>5</td>\n",
       "      <td>0</td>\n",
       "      <td>0</td>\n",
       "      <td>0</td>\n",
       "      <td>2</td>\n",
       "      <td>181</td>\n",
       "      <td>0</td>\n",
       "      <td>0</td>\n",
       "      <td>212</td>\n",
       "    </tr>\n",
       "    <tr>\n",
       "      <th>H</th>\n",
       "      <td>0</td>\n",
       "      <td>2</td>\n",
       "      <td>17</td>\n",
       "      <td>0</td>\n",
       "      <td>14</td>\n",
       "      <td>1</td>\n",
       "      <td>0</td>\n",
       "      <td>0</td>\n",
       "      <td>5</td>\n",
       "      <td>1</td>\n",
       "      <td>835</td>\n",
       "      <td>0</td>\n",
       "      <td>6</td>\n",
       "      <td>1</td>\n",
       "      <td>69</td>\n",
       "      <td>1239</td>\n",
       "      <td>0</td>\n",
       "      <td>1</td>\n",
       "      <td>2191</td>\n",
       "    </tr>\n",
       "    <tr>\n",
       "      <th>O</th>\n",
       "      <td>1</td>\n",
       "      <td>16</td>\n",
       "      <td>213</td>\n",
       "      <td>1</td>\n",
       "      <td>1097</td>\n",
       "      <td>1</td>\n",
       "      <td>1</td>\n",
       "      <td>2</td>\n",
       "      <td>1</td>\n",
       "      <td>18</td>\n",
       "      <td>230</td>\n",
       "      <td>1</td>\n",
       "      <td>23</td>\n",
       "      <td>0</td>\n",
       "      <td>44</td>\n",
       "      <td>11979</td>\n",
       "      <td>1</td>\n",
       "      <td>0</td>\n",
       "      <td>13629</td>\n",
       "    </tr>\n",
       "    <tr>\n",
       "      <th>U</th>\n",
       "      <td>0</td>\n",
       "      <td>0</td>\n",
       "      <td>1</td>\n",
       "      <td>0</td>\n",
       "      <td>9</td>\n",
       "      <td>0</td>\n",
       "      <td>0</td>\n",
       "      <td>0</td>\n",
       "      <td>0</td>\n",
       "      <td>0</td>\n",
       "      <td>5</td>\n",
       "      <td>0</td>\n",
       "      <td>2</td>\n",
       "      <td>0</td>\n",
       "      <td>2</td>\n",
       "      <td>102</td>\n",
       "      <td>0</td>\n",
       "      <td>0</td>\n",
       "      <td>121</td>\n",
       "    </tr>\n",
       "    <tr>\n",
       "      <th>All</th>\n",
       "      <td>1</td>\n",
       "      <td>18</td>\n",
       "      <td>233</td>\n",
       "      <td>1</td>\n",
       "      <td>1139</td>\n",
       "      <td>2</td>\n",
       "      <td>1</td>\n",
       "      <td>2</td>\n",
       "      <td>8</td>\n",
       "      <td>20</td>\n",
       "      <td>1075</td>\n",
       "      <td>1</td>\n",
       "      <td>31</td>\n",
       "      <td>1</td>\n",
       "      <td>117</td>\n",
       "      <td>13501</td>\n",
       "      <td>1</td>\n",
       "      <td>1</td>\n",
       "      <td>16153</td>\n",
       "    </tr>\n",
       "  </tbody>\n",
       "</table>\n",
       "</div>"
      ],
      "text/plain": [
       "Race       ARABIC  AmerInd  Asian  Asian per PNR  Black  Black, Other  \\\n",
       "Ethnicity                                                               \n",
       "D               0        0      2              0     19             0   \n",
       "H               0        2     17              0     14             1   \n",
       "O               1       16    213              1   1097             1   \n",
       "U               0        0      1              0      9             0   \n",
       "All             1       18    233              1   1139             2   \n",
       "\n",
       "Race       Black, PacIslnd, Other  Black, White  Declined  ME_NA  Other  \\\n",
       "Ethnicity                                                                 \n",
       "D                               0             0         2      1      5   \n",
       "H                               0             0         5      1    835   \n",
       "O                               1             2         1     18    230   \n",
       "U                               0             0         0      0      5   \n",
       "All                             1             2         8     20   1075   \n",
       "\n",
       "Race       Other, White  PacIslnd  SPANISH  Unavail  White  arabic  hispanic  \\\n",
       "Ethnicity                                                                      \n",
       "D                     0         0        0        2    181       0         0   \n",
       "H                     0         6        1       69   1239       0         1   \n",
       "O                     1        23        0       44  11979       1         0   \n",
       "U                     0         2        0        2    102       0         0   \n",
       "All                   1        31        1      117  13501       1         1   \n",
       "\n",
       "Race         All  \n",
       "Ethnicity         \n",
       "D            212  \n",
       "H           2191  \n",
       "O          13629  \n",
       "U            121  \n",
       "All        16153  "
      ]
     },
     "execution_count": 801,
     "metadata": {},
     "output_type": "execute_result"
    }
   ],
   "source": [
    "pd.crosstab(data['Ethnicity'], data['Race'], margins=True)"
   ]
  },
  {
   "cell_type": "code",
   "execution_count": null,
   "id": "1c15bc8c",
   "metadata": {},
   "outputs": [],
   "source": []
  },
  {
   "cell_type": "code",
   "execution_count": 802,
   "id": "2e597abe-33d6-47ba-8c12-a882e9885e94",
   "metadata": {},
   "outputs": [
    {
     "data": {
      "text/plain": [
       "count    1.637200e+04\n",
       "mean     1.935216e+03\n",
       "std      8.263215e+04\n",
       "min     -1.855830e+05\n",
       "25%      2.290000e+02\n",
       "50%      5.790000e+02\n",
       "75%      1.045000e+03\n",
       "max      1.052019e+07\n",
       "Name: AdmitToDelMinutes, dtype: float64"
      ]
     },
     "execution_count": 802,
     "metadata": {},
     "output_type": "execute_result"
    }
   ],
   "source": [
    "#data.loc[data['AdmitToDelMinutes'] < 0, 'AdmitToDelMinutes'] = np.nan\n",
    "data['AdmitToDelMinutes'].describe()"
   ]
  },
  {
   "cell_type": "code",
   "execution_count": 803,
   "id": "5a0e2c2e-d0ad-4a18-8099-3516012c2bea",
   "metadata": {},
   "outputs": [
    {
     "data": {
      "text/plain": [
       "count    1.329900e+04\n",
       "mean     5.113634e+03\n",
       "std      9.156803e+04\n",
       "min     -4.464100e+04\n",
       "25%      2.828500e+03\n",
       "50%      3.405000e+03\n",
       "75%      4.460000e+03\n",
       "max      1.052335e+07\n",
       "Name: AdmitToDischargeMinutes, dtype: float64"
      ]
     },
     "execution_count": 803,
     "metadata": {},
     "output_type": "execute_result"
    }
   ],
   "source": [
    "#data.loc[data['AdmitToDischargeMinutes'] < 0, 'AdmitToDischargeMinutes'] = np.nan\n",
    "data['AdmitToDischargeMinutes'].describe()"
   ]
  },
  {
   "cell_type": "code",
   "execution_count": 804,
   "id": "69a0bced-c9d2-42ff-abae-7e8b5c8f0345",
   "metadata": {},
   "outputs": [
    {
     "data": {
      "text/plain": [
       "count    14250.000000\n",
       "mean      3088.675368\n",
       "std       2072.906841\n",
       "min     -84057.000000\n",
       "25%       2230.000000\n",
       "50%       2864.000000\n",
       "75%       3475.000000\n",
       "max      87945.000000\n",
       "Name: DeliveryToDischargeMinutes, dtype: float64"
      ]
     },
     "execution_count": 804,
     "metadata": {},
     "output_type": "execute_result"
    }
   ],
   "source": [
    "#data.loc[data['DeliveryToDischargeMinutes'] < 0, 'DeliveryToDischargeMinutes'] = np.nan\n",
    "data['DeliveryToDischargeMinutes'].describe()"
   ]
  },
  {
   "cell_type": "code",
   "execution_count": 805,
   "id": "838f7462-9f2a-4d50-b4e9-d23154b8c14d",
   "metadata": {},
   "outputs": [
    {
     "data": {
      "text/plain": [
       "count    17278.000000\n",
       "mean         8.251071\n",
       "std         86.336539\n",
       "min      -8702.000000\n",
       "25%          0.000000\n",
       "50%          4.000000\n",
       "75%          9.000000\n",
       "max       2886.000000\n",
       "Name: Total Rom Time Prior to Del, dtype: float64"
      ]
     },
     "execution_count": 805,
     "metadata": {},
     "output_type": "execute_result"
    }
   ],
   "source": [
    "#data.loc[data['Total Rom Time Prior to Del'] < 0, 'Total Rom Time Prior to Del'] = np.nan\n",
    "data['Total Rom Time Prior to Del'].describe()"
   ]
  },
  {
   "cell_type": "code",
   "execution_count": null,
   "id": "f6466da3",
   "metadata": {},
   "outputs": [],
   "source": []
  },
  {
   "cell_type": "markdown",
   "id": "5c3284a9",
   "metadata": {},
   "source": [
    "### 6. costom dummies for some variables"
   ]
  },
  {
   "cell_type": "code",
   "execution_count": 806,
   "id": "d3ba9196",
   "metadata": {},
   "outputs": [],
   "source": [
    "#making a custom dummy variable set\n",
    "\n",
    "epidural = [0]*len(data)\n",
    "spinal = [0]*len(data)\n",
    "local = [0]*len(data)\n",
    "pudenal = [0]*len(data)\n",
    "cse = [0]*len(data)\n",
    "general = [0]*len(data)\n",
    "intrathe = [0]*len(data)\n",
    "\n",
    "for i, elem in enumerate(data['Delivery Anesthesia']):\n",
    "\n",
    "    if not isinstance(elem, str) and np.isnan(elem):\n",
    "        epidural[i] = np.nan\n",
    "        spinal[i] = np.nan\n",
    "        local[i] = np.nan\n",
    "        pudenal[i] = np.nan\n",
    "        cse[i] = np.nan\n",
    "        general[i] = np.nan\n",
    "        intrathe[i] = np.nan\n",
    "\n",
    "        continue\n",
    "    \n",
    "    elem = elem.lower()\n",
    "\n",
    "    if elem.__contains__('epidural'):\n",
    "        epidural[i] = 1\n",
    "        \n",
    "    if elem.__contains__('spinal'):\n",
    "        spinal[i] = 1\n",
    "\n",
    "    if elem.__contains__('local'):\n",
    "        local[i] = 1\n",
    "\n",
    "    if elem.__contains__('pudenal'):\n",
    "        pudenal[i] = 1\n",
    "\n",
    "    if elem.__contains__('cse'):\n",
    "        cse[i] = 1\n",
    "\n",
    "    if elem.__contains__('general'):\n",
    "        general[i] = 1\n",
    "\n",
    "    if elem.__contains__('intrathe'):\n",
    "        intrathe[i] = 1\n",
    "        \n",
    "data['delivery_anesthesia_epidural'] = epidural\n",
    "data['delivery_anesthesia_spinal'] = spinal\n",
    "data['delivery_anesthesia_local'] = local\n",
    "data['delivery_anesthesia_pudenal'] = pudenal\n",
    "data['delivery_anesthesia_cse'] = cse\n",
    "data['delivery_anesthesia_general'] = general\n",
    "data['delivery_anesthesia_intrathe'] = intrathe\n",
    "\n",
    "del data['Delivery Anesthesia']"
   ]
  },
  {
   "cell_type": "code",
   "execution_count": 807,
   "id": "40b1cc96",
   "metadata": {},
   "outputs": [],
   "source": [
    "#custom dummies for Labor Anesthesia\n",
    "epidural = [0]*len(data)\n",
    "spinal = [0]*len(data)\n",
    "cse = [0]*len(data)\n",
    "general = [0]*len(data)\n",
    "sedation = [0]*len(data)\n",
    "\n",
    "\n",
    "\n",
    "for i, elem in enumerate(data['Labor Anesthesia']):\n",
    "\n",
    "    if not isinstance(elem, str) and np.isnan(elem):\n",
    "        epidural[i] = np.nan\n",
    "        spinal[i] = np.nan\n",
    "        cse[i] = np.nan\n",
    "        general[i] = np.nan\n",
    "        sedation[i] = np.nan\n",
    "\n",
    "        continue\n",
    "\n",
    "    if elem == 'N/A ':\n",
    "        epidural[i] = np.nan\n",
    "        spinal[i] = np.nan\n",
    "        cse[i] = np.nan\n",
    "        general[i] = np.nan\n",
    "        sedation[i] = np.nan\n",
    "\n",
    "        continue\n",
    "    \n",
    "    elem = elem.lower()\n",
    "    if elem.__contains__('epidural'):\n",
    "        epidural[i] = 1\n",
    "        \n",
    "    if elem.__contains__('spinal'):\n",
    "        spinal[i] = 1\n",
    "\n",
    "    if elem.__contains__('cse'):\n",
    "        cse[i] = 1\n",
    "\n",
    "    if elem.__contains__('general'):\n",
    "        general[i] = 1\n",
    "\n",
    "    if elem.__contains__('sed'):\n",
    "        sedation[i] = 1\n",
    "        \n",
    "\n",
    "data['labor_anesthesia_epidural'] = epidural\n",
    "data['labor_anesthesia_spinal'] = spinal\n",
    "data['labor_anesthesia_cse'] = cse\n",
    "data['labor_anesthesia_general'] = general\n",
    "data['labor_anesthesia_iv_sedation'] = sedation\n",
    "\n",
    "del data['Labor Anesthesia']"
   ]
  },
  {
   "cell_type": "code",
   "execution_count": 808,
   "id": "21d02455",
   "metadata": {},
   "outputs": [],
   "source": [
    "#custom dummies for Laceration Type\n",
    "none = [0]*len(data)\n",
    "vaginal = [0]*len(data)\n",
    "perineal = [0]*len(data)\n",
    "periuret = [0]*len(data)\n",
    "cervical = [0]*len(data)\n",
    "other = [0]*len(data)\n",
    "\n",
    "\n",
    "for i, elem in enumerate(data['Laceration Type']):\n",
    "\n",
    "    if not isinstance(elem, str) and np.isnan(elem):\n",
    "        none[i] = np.nan\n",
    "        vaginal[i] = np.nan\n",
    "        perineal[i] = np.nan\n",
    "        periuret[i] = np.nan\n",
    "        cervical[i] = np.nan\n",
    "        other[i] = np.nan\n",
    "\n",
    "        continue\n",
    "    \n",
    "    elem = elem.lower()\n",
    "\n",
    "    if elem.__contains__('none'):\n",
    "        none[i] = 1\n",
    "        \n",
    "    if elem.__contains__('N_A'):\n",
    "        none[i] = 1\n",
    "\n",
    "    if elem.__contains__('vaginal'):\n",
    "        vaginal[i] = 1\n",
    "        \n",
    "    if elem.__contains__('perineal'):\n",
    "        perineal[i] = 1\n",
    "\n",
    "    if elem.__contains__('periuret'):\n",
    "        periuret[i] = 1\n",
    "\n",
    "    if elem.__contains__('cervical'):\n",
    "        cervical[i] = 1\n",
    "\n",
    "    if elem.__contains__('other'):\n",
    "        other[i] = 1\n",
    "\n",
    "data['laceration_type_none'] = none\n",
    "data['laceration_type_vaginal'] = vaginal\n",
    "data['laceration_type_perineal'] = perineal\n",
    "data['laceration_type_periuret'] = periuret\n",
    "data['laceration_type_cervical'] = cervical\n",
    "data['laceration_type_other'] = other\n",
    "\n",
    "del data['Laceration Type']"
   ]
  },
  {
   "cell_type": "code",
   "execution_count": 809,
   "id": "4d12c13b",
   "metadata": {},
   "outputs": [],
   "source": [
    "#create custom dummies for infant complications\n",
    "brady = [0]*len(data)\n",
    "acidosis = [0]*len(data)\n",
    "meconium = [0]*len(data)\n",
    "cord_pro = [0]*len(data)\n",
    "MLD = [0]*len(data)\n",
    "MVD = [0]*len(data)\n",
    "oligohyd = [0]*len(data)\n",
    "shol_dys = [0]*len(data)\n",
    "polyhydr = [0]*len(data)\n",
    "decvarib = [0]*len(data)\n",
    "tachy = [0]*len(data)\n",
    "other = [0]*len(data)\n",
    "\n",
    "\n",
    "for i, elem in enumerate(data['Infant Complications A']):\n",
    "\n",
    "    if not isinstance(elem, str) and np.isnan(elem):\n",
    "        brady[i] = np.nan\n",
    "        acidosis[i] = np.nan\n",
    "        meconium[i] = np.nan\n",
    "        cord_pro[i] = np.nan\n",
    "        MLD[i] = np.nan\n",
    "        MVD[i] = np.nan\n",
    "        oligohyd[i] = np.nan\n",
    "        shol_dys[i] = np.nan\n",
    "        polyhydr[i] = np.nan\n",
    "        decvarib[i] = np.nan\n",
    "        tachy[i] = np.nan\n",
    "        other[i] = np.nan\n",
    "\n",
    "        continue\n",
    "    \n",
    "    elem = elem.lower()\n",
    "\n",
    "    if elem.__contains__('brady'):\n",
    "        brady[i] = 1\n",
    "\n",
    "    if elem.__contains__('acidosis'):\n",
    "        acidosis[i] = 1\n",
    "\n",
    "    if elem.__contains__('meconium'):\n",
    "        meconium[i] = 1\n",
    "\n",
    "    if elem.__contains__('cord_pro'):\n",
    "        cord_pro[i] = 1\n",
    "        \n",
    "    if elem.__contains__('mld'):\n",
    "        MLD[i] = 1\n",
    "\n",
    "    if elem.__contains__('mvd'):\n",
    "        MVD[i] = 1\n",
    "\n",
    "    if elem.__contains__('oligohyd'):\n",
    "        oligohyd[i] = 1\n",
    "\n",
    "    if elem.__contains__('shol_dys'):\n",
    "        shol_dys[i] = 1\n",
    "\n",
    "    if elem.__contains__('polyhydr'):\n",
    "        polyhydr[i] = 1\n",
    "\n",
    "    if elem.__contains__('decvarib'):\n",
    "        decvarib[i] = 1\n",
    "\n",
    "    if elem.__contains__('tachy'):\n",
    "        tachy[i] = 1\n",
    "\n",
    "    if elem.__contains__('other'):\n",
    "        other[i] = 1\n",
    "\n",
    "\n",
    "data['infant_complications_A_brady'] = brady\n",
    "data['infant_complications_A_acidosis'] = acidosis\n",
    "data['infant_complications_A_meconium'] = meconium\n",
    "data['infant_complications_A_cord_pro'] = cord_pro\n",
    "data['infant_complications_A_MLD'] = MLD\n",
    "data['infant_complications_A_MVD'] = MVD\n",
    "data['infant_complications_A_oligohyd'] = oligohyd\n",
    "data['infant_complications_A_shol_dys'] = shol_dys\n",
    "data['infant_complications_A_polyhydr'] = polyhydr\n",
    "data['infant_complications_A_decvarib'] = decvarib\n",
    "data['infant_complications_A_tachy'] = tachy\n",
    "data['infant_complications_A_other'] = other \n",
    "\n",
    "del data['Infant Complications A']"
   ]
  },
  {
   "cell_type": "code",
   "execution_count": 810,
   "id": "615b292f",
   "metadata": {},
   "outputs": [],
   "source": [
    "#make custom dummy for reason admission\n",
    "spon_ab = [0]*len(data)\n",
    "labor = [0]*len(data)\n",
    "PTL = [0]*len(data)\n",
    "induce = [0]*len(data)\n",
    "rept_cs = [0]*len(data)\n",
    "prim_cs = [0]*len(data)\n",
    "ROM = [0]*len(data)\n",
    "observe = [0]*len(data)\n",
    "other = [0]*len(data)\n",
    "\n",
    "\n",
    "\n",
    "for i, elem in enumerate(data['Reason For Admission LD']):\n",
    "\n",
    "    if not isinstance(elem, str) and np.isnan(elem):\n",
    "        spon_ab[i] = np.nan\n",
    "        labor[i] = np.nan\n",
    "        PTL[i] = np.nan\n",
    "        induce[i] = np.nan\n",
    "        rept_cs[i] = np.nan\n",
    "        prim_cs[i] = np.nan\n",
    "        ROM[i] = np.nan\n",
    "        observe[i] = np.nan\n",
    "        other[i] = np.nan\n",
    "\n",
    "        continue\n",
    "    \n",
    "    elem = elem.lower()\n",
    "\n",
    "    if elem.__contains__('spon_ab'):\n",
    "        spon_ab[i] = 1\n",
    "        \n",
    "    if elem.__contains__('labor'):\n",
    "        labor[i] = 1\n",
    "\n",
    "    if elem.__contains__('ptl'):\n",
    "        PTL[i] = 1\n",
    "\n",
    "    if elem.__contains__('induce'):\n",
    "        induce[i] = 1\n",
    "\n",
    "    if elem.__contains__('rept_cs'):\n",
    "        rept_cs[i] = 1\n",
    "\n",
    "    if elem.__contains__('prim_cs'):\n",
    "        prim_cs[i] = 1\n",
    "\n",
    "    if elem.__contains__('rom'):\n",
    "        ROM[i] = 1\n",
    "        \n",
    "    if elem.__contains__('observe'):\n",
    "        observe[i] = 1\n",
    "        \n",
    "    if elem.__contains__('other'):\n",
    "        other[i] = 1\n",
    "\n",
    "data['reason_for_admission_Spon_Ab'] = spon_ab\n",
    "data['reason_for_admission_Labor'] = labor\n",
    "data['reason_for_admission_PTL'] = PTL\n",
    "data['reason_for_admission_Induce'] = induce\n",
    "data['reason_for_admission_Rept_CS'] = rept_cs\n",
    "data['reason_for_admission_Prim_CS'] = prim_cs\n",
    "data['reason_for_admission_ROM'] = ROM\n",
    "data['reason_for_admission_Observe'] = observe\n",
    "data['reason_for_admission_other'] = other\n",
    "\n",
    "#"
   ]
  },
  {
   "cell_type": "code",
   "execution_count": 811,
   "id": "c067bd34",
   "metadata": {},
   "outputs": [],
   "source": [
    "del data['Reason For Admission LD']"
   ]
  },
  {
   "cell_type": "code",
   "execution_count": 812,
   "id": "a16347c7",
   "metadata": {},
   "outputs": [
    {
     "name": "stdout",
     "output_type": "stream",
     "text": [
      "{'Other, White', 'hispanic', 'Black, PacIslnd, Other', 'ARABIC', 'Black, White', 'Black', 'ME_NA', 'Black, Other', 'SPANISH', 'White', 'Black/African', 'arabic', 'Asian per PNR', 'Asian', 'Unavail', 'Declined', 'AmerInd', 'PacIslnd', 'Other', nan}\n"
     ]
    }
   ],
   "source": [
    "#column no longer exists\n",
    "print(set(data['Race']))"
   ]
  },
  {
   "cell_type": "code",
   "execution_count": 813,
   "id": "1ee208d2",
   "metadata": {},
   "outputs": [],
   "source": [
    "#making custom dummy for race\n",
    "black = [0]*len(data)\n",
    "white = [0]*len(data)\n",
    "pacific_islander = [0]*len(data)\n",
    "asian = [0]*len(data)\n",
    "arabic = [0]*len(data)\n",
    "american_indian = [0]*len(data)\n",
    "other = [0]*len(data)\n",
    "\n",
    "\n",
    "\n",
    "for i, elem in enumerate(data['Race']):\n",
    "\n",
    "    if not isinstance(elem, str) and np.isnan(elem):\n",
    "        black[i] = np.nan\n",
    "        white[i] = np.nan\n",
    "        pacific_islander[i] = np.nan\n",
    "        asian[i] = np.nan\n",
    "        arabic[i] = np.nan\n",
    "        american_indian[i] = np.nan\n",
    "        other[i] = np.nan\n",
    "\n",
    "        continue\n",
    "\n",
    "    if elem.__contains__('NA') or elem.__contains__('Unavail') or elem.__contains__('Declined'):\n",
    "        black[i] = np.nan\n",
    "        white[i] = np.nan\n",
    "        pacific_islander[i] = np.nan\n",
    "        asian[i] = np.nan\n",
    "        arabic[i] = np.nan\n",
    "        american_indian[i] = np.nan\n",
    "        other[i] = np.nan\n",
    "\n",
    "        continue\n",
    "    \n",
    "    elem = elem.lower()\n",
    "\n",
    "    if elem.__contains__('black'):\n",
    "        black[i] = 1\n",
    "        \n",
    "    if elem.__contains__('white') or elem.__contains__('span'):\n",
    "        white[i] = 1\n",
    "\n",
    "    if elem.__contains__('pac'):\n",
    "        pacific_islander[i] = 1\n",
    "\n",
    "    if elem.__contains__('asian'):\n",
    "        asian[i] = 1\n",
    "\n",
    "    if elem.__contains__('arabic'):\n",
    "        arabic[i] = 1\n",
    "\n",
    "    if elem.__contains__('AmerInd'):\n",
    "        american_indian[i] = 1\n",
    "\n",
    "    if elem.__contains__('other'):\n",
    "        other[i] = 1\n",
    "\n",
    "data['race_black'] = black\n",
    "data['race_white'] = white\n",
    "data['race_pacific_islander'] = pacific_islander\n",
    "data['race_asian'] = asian\n",
    "data['race_arabic'] = arabic\n",
    "data['race_american_indian'] = american_indian\n",
    "data['race_other'] = other\n",
    "\n"
   ]
  },
  {
   "cell_type": "code",
   "execution_count": 814,
   "id": "596c5e91",
   "metadata": {},
   "outputs": [],
   "source": [
    "del data['Race']"
   ]
  },
  {
   "cell_type": "code",
   "execution_count": 815,
   "id": "e67ed825-3977-4331-8ae9-c670d39bc2fe",
   "metadata": {},
   "outputs": [],
   "source": [
    "bool_cols = ['delivery_anesthesia_epidural',\n",
    " 'delivery_anesthesia_spinal',\n",
    " 'delivery_anesthesia_local',\n",
    " 'delivery_anesthesia_pudenal',\n",
    " 'delivery_anesthesia_cse',\n",
    " 'delivery_anesthesia_general',\n",
    " 'delivery_anesthesia_intrathe',\n",
    " 'labor_anesthesia_epidural',\n",
    " 'labor_anesthesia_spinal',\n",
    " 'labor_anesthesia_cse',\n",
    " 'labor_anesthesia_general',\n",
    " 'labor_anesthesia_iv_sedation',\n",
    " 'laceration_type_none',\n",
    " 'laceration_type_vaginal',\n",
    " 'laceration_type_perineal',\n",
    " 'laceration_type_periuret',\n",
    " 'laceration_type_cervical',\n",
    " 'laceration_type_other',\n",
    " 'race_black',\n",
    " 'race_white',\n",
    " 'race_pacific_islander',\n",
    " 'race_asian',\n",
    " 'race_arabic',\n",
    " 'race_american_indian',\n",
    " 'race_other',\n",
    " 'reason_for_admission_Spon_Ab',\n",
    " 'reason_for_admission_Labor',\n",
    " 'reason_for_admission_PTL',\n",
    " 'reason_for_admission_Induce',\n",
    " 'reason_for_admission_Rept_CS',\n",
    " 'reason_for_admission_Prim_CS',\n",
    " 'reason_for_admission_ROM',\n",
    " 'reason_for_admission_Observe',\n",
    " 'reason_for_admission_other',\n",
    " 'infant_complications_A_brady',\n",
    " 'infant_complications_A_acidosis',\n",
    " 'infant_complications_A_meconium',\n",
    " 'infant_complications_A_cord_pro',\n",
    " 'infant_complications_A_MLD',\n",
    " 'infant_complications_A_MVD',\n",
    " 'infant_complications_A_oligohyd',\n",
    " 'infant_complications_A_shol_dys',\n",
    " 'infant_complications_A_polyhydr',\n",
    " 'infant_complications_A_decvarib',\n",
    " 'infant_complications_A_tachy',\n",
    " 'infant_complications_A_other']\n",
    "data[bool_cols] = data[bool_cols].astype(bool)"
   ]
  },
  {
   "cell_type": "code",
   "execution_count": 816,
   "id": "bc838121",
   "metadata": {},
   "outputs": [
    {
     "data": {
      "text/plain": [
       "46"
      ]
     },
     "execution_count": 816,
     "metadata": {},
     "output_type": "execute_result"
    }
   ],
   "source": [
    "len(bool_cols)"
   ]
  },
  {
   "cell_type": "code",
   "execution_count": 817,
   "id": "602c4264",
   "metadata": {},
   "outputs": [
    {
     "data": {
      "text/plain": [
       "bool              46\n",
       "object            38\n",
       "float64           34\n",
       "datetime64[ns]     5\n",
       "dtype: int64"
      ]
     },
     "execution_count": 817,
     "metadata": {},
     "output_type": "execute_result"
    }
   ],
   "source": [
    "data.dtypes.value_counts()"
   ]
  },
  {
   "cell_type": "code",
   "execution_count": 818,
   "id": "fbfe8143",
   "metadata": {},
   "outputs": [
    {
     "data": {
      "text/plain": [
       "dtype('float64')"
      ]
     },
     "execution_count": 818,
     "metadata": {},
     "output_type": "execute_result"
    }
   ],
   "source": [
    "data['Delivery Year'].dtypes"
   ]
  },
  {
   "cell_type": "code",
   "execution_count": null,
   "id": "2ca34bb7",
   "metadata": {},
   "outputs": [],
   "source": []
  },
  {
   "cell_type": "code",
   "execution_count": null,
   "id": "0e51e38d",
   "metadata": {},
   "outputs": [],
   "source": []
  },
  {
   "cell_type": "code",
   "execution_count": null,
   "id": "0b15d930",
   "metadata": {},
   "outputs": [],
   "source": []
  },
  {
   "cell_type": "code",
   "execution_count": 819,
   "id": "d75f948e",
   "metadata": {},
   "outputs": [
    {
     "data": {
      "text/plain": [
       "['Age',\n",
       " 'County',\n",
       " 'Gravida',\n",
       " 'Para',\n",
       " 'Episiotomy',\n",
       " 'Laceration Extension',\n",
       " 'Amniotic Fluid Color',\n",
       " 'Attempt to Vbac',\n",
       " 'Csection Incidence',\n",
       " 'Csection Urgency',\n",
       " 'Membranes Rupture Method',\n",
       " 'Membranes Rupture Time',\n",
       " 'Number of Babies In Womb',\n",
       " 'Oxytocin',\n",
       " 'Placenta Delivery Time',\n",
       " 'Reason For Csection',\n",
       " 'Delivery Month',\n",
       " 'Delivery Year',\n",
       " 'Gestational Status A',\n",
       " 'Born In Route A',\n",
       " 'Infant Cord Vessels A',\n",
       " 'Infant Length A',\n",
       " 'Fetal Presentation A',\n",
       " 'Method of Delivery A',\n",
       " 'Forceps a',\n",
       " 'Vacuum Extraction A',\n",
       " 'VBAC A',\n",
       " 'Infant Sex A',\n",
       " 'Birthweight A',\n",
       " 'Condition A',\n",
       " 'GA At Birth A',\n",
       " 'APGAR 1 minute  A',\n",
       " 'APGAR 5 minutes A',\n",
       " 'APGAR 10 minutes A',\n",
       " 'Cervical Ripening Agents',\n",
       " 'Feeding Plans at Discharge',\n",
       " 'Feeding Preference',\n",
       " 'Weight Prepregnancy',\n",
       " 'Weight Gain Pounds',\n",
       " 'Height Inches',\n",
       " 'Preterm Labor',\n",
       " 'Premature Rom',\n",
       " 'Hypertensive Disorders Preg',\n",
       " 'Diabetes',\n",
       " 'Comments Diabetes',\n",
       " 'Pitocin Start Date Time',\n",
       " 'Feeding preference PP',\n",
       " 'Adm Alcohol',\n",
       " 'Adm Cigarettes',\n",
       " 'Adm Marijuana',\n",
       " 'Adm Cocaine Crack',\n",
       " 'Adm Illicit Drugs',\n",
       " 'Adm Illicit Drugs Text',\n",
       " 'OFC At Birth Baby A In',\n",
       " 'Provider On Admission',\n",
       " 'Total Rom Time Prior to Del',\n",
       " 'CS Called Date Time',\n",
       " 'Complete Dilatation',\n",
       " 'Labor Hours Stage 2',\n",
       " 'Labor Minutes Stage 2',\n",
       " 'Reason For Admission Other',\n",
       " 'Quantitative Blood Loss DS',\n",
       " 'QBL2 hrs PP',\n",
       " 'Units RBCS Transfused',\n",
       " 'Total Units RBCS Received',\n",
       " 'QBL Total LD',\n",
       " 'Ethnicity',\n",
       " 'AdmitToDelMinutes',\n",
       " 'AdmitToDischargeMinutes',\n",
       " 'DeliveryToDischargeMinutes',\n",
       " 'Weight Delivery',\n",
       " 'BMI_delivery',\n",
       " 'BMI_prepregnancy',\n",
       " 'Labortime',\n",
       " 'Labortime_3',\n",
       " 'delivery_anesthesia_none',\n",
       " 'delivery_anesthesia_epidural',\n",
       " 'delivery_anesthesia_spinal',\n",
       " 'delivery_anesthesia_local',\n",
       " 'delivery_anesthesia_pudenal',\n",
       " 'delivery_anesthesia_cse',\n",
       " 'delivery_anesthesia_general',\n",
       " 'delivery_anesthesia_intrathe',\n",
       " 'labor_anesthesia_none',\n",
       " 'labor_anesthesia_epidural',\n",
       " 'labor_anesthesia_spinal',\n",
       " 'labor_anesthesia_cse',\n",
       " 'labor_anesthesia_general',\n",
       " 'labor_anesthesia_iv_sedation',\n",
       " 'laceration_type_none',\n",
       " 'laceration_type_vaginal',\n",
       " 'laceration_type_perineal',\n",
       " 'laceration_type_periuret',\n",
       " 'laceration_type_cervical',\n",
       " 'laceration_type_other',\n",
       " 'infant_complications_A_brady',\n",
       " 'infant_complications_A_acidosis',\n",
       " 'infant_complications_A_meconium',\n",
       " 'infant_complications_A_cord_pro',\n",
       " 'infant_complications_A_MLD',\n",
       " 'infant_complications_A_MVD',\n",
       " 'infant_complications_A_oligohyd',\n",
       " 'infant_complications_A_shol_dys',\n",
       " 'infant_complications_A_polyhydr',\n",
       " 'infant_complications_A_decvarib',\n",
       " 'infant_complications_A_tachy',\n",
       " 'infant_complications_A_other',\n",
       " 'reason_for_admission_Spon_Ab',\n",
       " 'reason_for_admission_Labor',\n",
       " 'reason_for_admission_PTL',\n",
       " 'reason_for_admission_Induce',\n",
       " 'reason_for_admission_Rept_CS',\n",
       " 'reason_for_admission_Prim_CS',\n",
       " 'reason_for_admission_ROM',\n",
       " 'reason_for_admission_Observe',\n",
       " 'reason_for_admission_other',\n",
       " 'race_black',\n",
       " 'race_white',\n",
       " 'race_pacific_islander',\n",
       " 'race_asian',\n",
       " 'race_arabic',\n",
       " 'race_american_indian',\n",
       " 'race_other']"
      ]
     },
     "execution_count": 819,
     "metadata": {},
     "output_type": "execute_result"
    }
   ],
   "source": [
    "list(data.columns)"
   ]
  },
  {
   "cell_type": "code",
   "execution_count": 820,
   "id": "307ad04a-bbad-4dbc-9194-444ba381e396",
   "metadata": {},
   "outputs": [],
   "source": [
    "data.to_csv('../data/UTK_med_data_cleaned.csv')"
   ]
  },
  {
   "cell_type": "code",
   "execution_count": null,
   "id": "af21f7c3",
   "metadata": {},
   "outputs": [],
   "source": []
  },
  {
   "cell_type": "code",
   "execution_count": null,
   "id": "5127fd61",
   "metadata": {},
   "outputs": [],
   "source": []
  }
 ],
 "metadata": {
  "kernelspec": {
   "display_name": "Python 3 (ipykernel)",
   "language": "python",
   "name": "python3"
  },
  "language_info": {
   "codemirror_mode": {
    "name": "ipython",
    "version": 3
   },
   "file_extension": ".py",
   "mimetype": "text/x-python",
   "name": "python",
   "nbconvert_exporter": "python",
   "pygments_lexer": "ipython3",
   "version": "3.10.9"
  }
 },
 "nbformat": 4,
 "nbformat_minor": 5
}
