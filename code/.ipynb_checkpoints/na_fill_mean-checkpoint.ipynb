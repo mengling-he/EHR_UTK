{
 "cells": [
  {
   "cell_type": "code",
   "execution_count": 109,
   "id": "86192290-0bf9-4f0a-9c1d-825fc91809a2",
   "metadata": {},
   "outputs": [],
   "source": [
    "import pandas as pd\n",
    "import numpy as np"
   ]
  },
  {
   "cell_type": "code",
   "execution_count": 110,
   "id": "1e2695a7-324b-45d1-bf5f-86a5f02db4d5",
   "metadata": {},
   "outputs": [
    {
     "name": "stderr",
     "output_type": "stream",
     "text": [
      "/var/folders/0r/r2dplk4d72d437ygr7ycq8kw0000gn/T/ipykernel_34849/1053068604.py:1: DtypeWarning: Columns (47,48,49,50,51,52,53,54,55,56,57,58,59,60,61,62,63,64,65,66,67,68,69,70,71,72,73,74,75,76,77,78,79,80,81,82,83,84,85,86,87,88,89,90,91,92) have mixed types. Specify dtype option on import or set low_memory=False.\n",
      "  df = pd.read_csv('../data/data_NA.csv')\n"
     ]
    }
   ],
   "source": [
    "df = pd.read_csv('../data/data_NA.csv')"
   ]
  },
  {
   "cell_type": "code",
   "execution_count": 111,
   "id": "95681407",
   "metadata": {},
   "outputs": [],
   "source": [
    "# Read the file into a vector (list of lines)\n",
    "def read_file_as_vector(file_path):\n",
    "    with open(file_path, 'r') as file:\n",
    "        lines = file.readlines()\n",
    "    # Remove newline characters from each line\n",
    "    lines = [line.strip() for line in lines]\n",
    "    return lines"
   ]
  },
  {
   "cell_type": "code",
   "execution_count": 112,
   "id": "100edfee",
   "metadata": {},
   "outputs": [],
   "source": [
    "num_cols = read_file_as_vector('../data/num_columns.txt')\n",
    "cat_cols = read_file_as_vector('../data/factor_columns.txt')\n",
    "bool_cols = read_file_as_vector('../data/logical_columns.txt')"
   ]
  },
  {
   "cell_type": "code",
   "execution_count": 113,
   "id": "d790f6b9",
   "metadata": {},
   "outputs": [],
   "source": [
    "df[bool_cols] = df[bool_cols].astype(bool)"
   ]
  },
  {
   "cell_type": "code",
   "execution_count": 114,
   "id": "cfada794",
   "metadata": {},
   "outputs": [],
   "source": [
    "missing_percentage=df.isnull().mean().round(4).mul(100)"
   ]
  },
  {
   "cell_type": "code",
   "execution_count": 115,
   "id": "6f0e9be3",
   "metadata": {},
   "outputs": [
    {
     "data": {
      "text/plain": [
       "Age                                 0.07\n",
       "County                              9.59\n",
       "Gravida                             0.11\n",
       "Para                                0.28\n",
       "Episiotomy                          2.19\n",
       "Laceration.Extension                2.59\n",
       "Amniotic.Fluid.Color                2.13\n",
       "Attempt.to.Vbac                     2.03\n",
       "Csection.Incidence                  5.45\n",
       "Csection.Urgency                    5.45\n",
       "Membranes.Rupture.Method            1.64\n",
       "Number.of.Babies.In.Womb            0.69\n",
       "Oxytocin                            2.85\n",
       "Delivery.Month                      0.06\n",
       "Delivery.Year                       0.06\n",
       "Gestational.Status.A                0.23\n",
       "Born.In.Route.A                     0.13\n",
       "Infant.Cord.Vessels.A               2.02\n",
       "Infant.Length.A                     7.21\n",
       "Fetal.Presentation.A                0.33\n",
       "Method.of.Delivery.A                0.08\n",
       "Forceps.a                           0.37\n",
       "Vacuum.Extraction.A                 0.53\n",
       "VBAC.A                              0.26\n",
       "Infant.Sex.A                        0.22\n",
       "Birthweight.A                       2.07\n",
       "GA.At.Birth.A                       0.35\n",
       "Cervical.Ripening.Agents           26.69\n",
       "Weight.Prepregnancy                13.64\n",
       "Weight.Gain.Pounds                 16.22\n",
       "Preterm.Labor                       4.26\n",
       "Premature.Rom                       4.56\n",
       "Hypertensive.Disorders.Preg         3.88\n",
       "Diabetes                            4.42\n",
       "Adm.Alcohol                         0.33\n",
       "Adm.Cigarettes                      0.95\n",
       "Adm.Marijuana                       0.33\n",
       "Adm.Cocaine.Crack                   0.54\n",
       "Adm.Illicit.Drugs                   0.53\n",
       "OFC.At.Birth.Baby.A.In              7.89\n",
       "Provider.On.Admission               0.24\n",
       "Quantitative.Blood.Loss.DS         44.59\n",
       "Ethnicity                           7.19\n",
       "Weight.Delivery                    16.25\n",
       "BMI_delivery                       18.67\n",
       "BMI_prepregnancy                   16.11\n",
       "Labortime                          34.65\n",
       "delivery_anesthesia_epidural        0.00\n",
       "delivery_anesthesia_spinal          0.00\n",
       "delivery_anesthesia_local           0.00\n",
       "delivery_anesthesia_pudenal         0.00\n",
       "delivery_anesthesia_cse             0.00\n",
       "delivery_anesthesia_general         0.00\n",
       "delivery_anesthesia_intrathe        0.00\n",
       "labor_anesthesia_epidural           0.00\n",
       "labor_anesthesia_spinal             0.00\n",
       "labor_anesthesia_cse                0.00\n",
       "labor_anesthesia_general            0.00\n",
       "labor_anesthesia_iv_sedation        0.00\n",
       "laceration_type_none                0.00\n",
       "laceration_type_vaginal             0.00\n",
       "laceration_type_perineal            0.00\n",
       "laceration_type_periuret            0.00\n",
       "laceration_type_cervical            0.00\n",
       "laceration_type_other               0.00\n",
       "infant_complications_A_brady        0.00\n",
       "infant_complications_A_acidosis     0.00\n",
       "infant_complications_A_meconium     0.00\n",
       "infant_complications_A_cord_pro     0.00\n",
       "infant_complications_A_MLD          0.00\n",
       "infant_complications_A_MVD          0.00\n",
       "infant_complications_A_oligohyd     0.00\n",
       "infant_complications_A_shol_dys     0.00\n",
       "infant_complications_A_polyhydr     0.00\n",
       "infant_complications_A_decvarib     0.00\n",
       "infant_complications_A_tachy        0.00\n",
       "infant_complications_A_other        0.00\n",
       "reason_for_admission_Spon_Ab        0.00\n",
       "reason_for_admission_Labor          0.00\n",
       "reason_for_admission_PTL            0.00\n",
       "reason_for_admission_Induce         0.00\n",
       "reason_for_admission_Rept_CS        0.00\n",
       "reason_for_admission_Prim_CS        0.00\n",
       "reason_for_admission_ROM            0.00\n",
       "reason_for_admission_Observe        0.00\n",
       "reason_for_admission_other          0.00\n",
       "race_black                          0.00\n",
       "race_white                          0.00\n",
       "race_pacific_islander               0.00\n",
       "race_asian                          0.00\n",
       "race_arabic                         0.00\n",
       "race_american_indian                0.00\n",
       "race_other                          0.00\n",
       "dtype: float64"
      ]
     },
     "execution_count": 115,
     "metadata": {},
     "output_type": "execute_result"
    }
   ],
   "source": [
    "missing_percentage"
   ]
  },
  {
   "cell_type": "code",
   "execution_count": 116,
   "id": "8dfc3cd2-aec5-4131-a556-2a7d10585c59",
   "metadata": {},
   "outputs": [],
   "source": [
    "data_bool = df[bool_cols].copy()\n",
    "data_cat = df[cat_cols].copy()\n",
    "data_num = df[num_cols].copy()"
   ]
  },
  {
   "cell_type": "code",
   "execution_count": 117,
   "id": "ff60a38e",
   "metadata": {},
   "outputs": [
    {
     "data": {
      "text/plain": [
       "Age                           float64\n",
       "Gravida                       float64\n",
       "Para                          float64\n",
       "Number.of.Babies.In.Womb      float64\n",
       "Delivery.Year                 float64\n",
       "Infant.Cord.Vessels.A         float64\n",
       "Infant.Length.A               float64\n",
       "Birthweight.A                 float64\n",
       "GA.At.Birth.A                 float64\n",
       "Weight.Prepregnancy           float64\n",
       "Weight.Gain.Pounds            float64\n",
       "OFC.At.Birth.Baby.A.In        float64\n",
       "Quantitative.Blood.Loss.DS    float64\n",
       "Weight.Delivery               float64\n",
       "BMI_delivery                  float64\n",
       "BMI_prepregnancy              float64\n",
       "Labortime                     float64\n",
       "dtype: object"
      ]
     },
     "execution_count": 117,
     "metadata": {},
     "output_type": "execute_result"
    }
   ],
   "source": [
    "data_num.dtypes"
   ]
  },
  {
   "cell_type": "code",
   "execution_count": 118,
   "id": "a3c20a62",
   "metadata": {},
   "outputs": [],
   "source": [
    "data_bool = data_bool.apply(lambda x: x.fillna(False))"
   ]
  },
  {
   "cell_type": "code",
   "execution_count": 119,
   "id": "5b29354d",
   "metadata": {},
   "outputs": [
    {
     "data": {
      "text/plain": [
       "Index(['County', 'Episiotomy', 'Laceration.Extension', 'Amniotic.Fluid.Color',\n",
       "       'Attempt.to.Vbac', 'Csection.Incidence', 'Csection.Urgency',\n",
       "       'Membranes.Rupture.Method', 'Oxytocin', 'Delivery.Month',\n",
       "       'Gestational.Status.A', 'Born.In.Route.A', 'Fetal.Presentation.A',\n",
       "       'Method.of.Delivery.A', 'Forceps.a', 'Vacuum.Extraction.A', 'VBAC.A',\n",
       "       'Infant.Sex.A', 'Cervical.Ripening.Agents', 'Preterm.Labor',\n",
       "       'Premature.Rom', 'Hypertensive.Disorders.Preg', 'Diabetes',\n",
       "       'Adm.Alcohol', 'Adm.Cigarettes', 'Adm.Marijuana', 'Adm.Cocaine.Crack',\n",
       "       'Adm.Illicit.Drugs', 'Provider.On.Admission', 'Ethnicity'],\n",
       "      dtype='object')"
      ]
     },
     "execution_count": 119,
     "metadata": {},
     "output_type": "execute_result"
    }
   ],
   "source": [
    "data_cat.columns"
   ]
  },
  {
   "cell_type": "code",
   "execution_count": 120,
   "id": "5f6e0177-2ffc-40f9-888f-f61ad6ee4a52",
   "metadata": {},
   "outputs": [],
   "source": [
    "data_cat['County'].fillna('unknown', inplace=True)"
   ]
  },
  {
   "cell_type": "code",
   "execution_count": 121,
   "id": "1628162e-e089-48a0-b8d6-ab82bf2c5efa",
   "metadata": {},
   "outputs": [],
   "source": [
    "data_cat['Laceration.Extension'].fillna('unknown', inplace=True)"
   ]
  },
  {
   "cell_type": "code",
   "execution_count": 122,
   "id": "63ddb9d8-05de-411c-9794-7a7744a28a18",
   "metadata": {},
   "outputs": [],
   "source": [
    "data_cat['Oxytocin'].fillna('unknown', inplace=True)"
   ]
  },
  {
   "cell_type": "code",
   "execution_count": 123,
   "id": "9b9db58a-2aeb-4722-b190-acf12a46a105",
   "metadata": {},
   "outputs": [],
   "source": [
    "data_cat['Provider.On.Admission'].fillna('unknown', inplace=True)"
   ]
  },
  {
   "cell_type": "code",
   "execution_count": 124,
   "id": "8035a192-3dbb-4c93-840f-819ed981e685",
   "metadata": {},
   "outputs": [],
   "source": [
    "data_cat = data_cat.apply(lambda x: x.fillna(x.value_counts().index[0]))"
   ]
  },
  {
   "cell_type": "code",
   "execution_count": 125,
   "id": "b9552300-3e36-42db-b1bb-63e5626c9279",
   "metadata": {},
   "outputs": [],
   "source": [
    "data_num = data_num.apply(lambda x: x.fillna(x.mean()))"
   ]
  },
  {
   "cell_type": "code",
   "execution_count": null,
   "id": "1be1f24e-b6a4-4d89-a424-c8e55ad1928b",
   "metadata": {},
   "outputs": [],
   "source": []
  },
  {
   "cell_type": "code",
   "execution_count": null,
   "id": "0cb71c83",
   "metadata": {},
   "outputs": [],
   "source": []
  },
  {
   "cell_type": "code",
   "execution_count": 126,
   "id": "17a358be-afc2-4c9c-bd87-5ccab2010187",
   "metadata": {},
   "outputs": [
    {
     "data": {
      "text/plain": [
       "Age                                False\n",
       "Gravida                            False\n",
       "Para                               False\n",
       "Number.of.Babies.In.Womb           False\n",
       "Delivery.Year                      False\n",
       "Infant.Cord.Vessels.A              False\n",
       "Infant.Length.A                    False\n",
       "Birthweight.A                      False\n",
       "GA.At.Birth.A                      False\n",
       "Weight.Prepregnancy                False\n",
       "Weight.Gain.Pounds                 False\n",
       "OFC.At.Birth.Baby.A.In             False\n",
       "Quantitative.Blood.Loss.DS         False\n",
       "Weight.Delivery                    False\n",
       "BMI_delivery                       False\n",
       "BMI_prepregnancy                   False\n",
       "Labortime                          False\n",
       "County                             False\n",
       "Episiotomy                         False\n",
       "Laceration.Extension               False\n",
       "Amniotic.Fluid.Color               False\n",
       "Attempt.to.Vbac                    False\n",
       "Csection.Incidence                 False\n",
       "Csection.Urgency                   False\n",
       "Membranes.Rupture.Method           False\n",
       "Oxytocin                           False\n",
       "Delivery.Month                     False\n",
       "Gestational.Status.A               False\n",
       "Born.In.Route.A                    False\n",
       "Fetal.Presentation.A               False\n",
       "Method.of.Delivery.A               False\n",
       "Forceps.a                          False\n",
       "Vacuum.Extraction.A                False\n",
       "VBAC.A                             False\n",
       "Infant.Sex.A                       False\n",
       "Cervical.Ripening.Agents           False\n",
       "Preterm.Labor                      False\n",
       "Premature.Rom                      False\n",
       "Hypertensive.Disorders.Preg        False\n",
       "Diabetes                           False\n",
       "Adm.Alcohol                        False\n",
       "Adm.Cigarettes                     False\n",
       "Adm.Marijuana                      False\n",
       "Adm.Cocaine.Crack                  False\n",
       "Adm.Illicit.Drugs                  False\n",
       "Provider.On.Admission              False\n",
       "Ethnicity                          False\n",
       "delivery_anesthesia_epidural       False\n",
       "delivery_anesthesia_spinal         False\n",
       "delivery_anesthesia_local          False\n",
       "delivery_anesthesia_pudenal        False\n",
       "delivery_anesthesia_cse            False\n",
       "delivery_anesthesia_general        False\n",
       "delivery_anesthesia_intrathe       False\n",
       "labor_anesthesia_epidural          False\n",
       "labor_anesthesia_spinal            False\n",
       "labor_anesthesia_cse               False\n",
       "labor_anesthesia_general           False\n",
       "labor_anesthesia_iv_sedation       False\n",
       "laceration_type_none               False\n",
       "laceration_type_vaginal            False\n",
       "laceration_type_perineal           False\n",
       "laceration_type_periuret           False\n",
       "laceration_type_cervical           False\n",
       "laceration_type_other              False\n",
       "infant_complications_A_brady       False\n",
       "infant_complications_A_acidosis    False\n",
       "infant_complications_A_meconium    False\n",
       "infant_complications_A_cord_pro    False\n",
       "infant_complications_A_MLD         False\n",
       "infant_complications_A_MVD         False\n",
       "infant_complications_A_oligohyd    False\n",
       "infant_complications_A_shol_dys    False\n",
       "infant_complications_A_polyhydr    False\n",
       "infant_complications_A_decvarib    False\n",
       "infant_complications_A_tachy       False\n",
       "infant_complications_A_other       False\n",
       "reason_for_admission_Spon_Ab       False\n",
       "reason_for_admission_Labor         False\n",
       "reason_for_admission_PTL           False\n",
       "reason_for_admission_Induce        False\n",
       "reason_for_admission_Rept_CS       False\n",
       "reason_for_admission_Prim_CS       False\n",
       "reason_for_admission_ROM           False\n",
       "reason_for_admission_Observe       False\n",
       "reason_for_admission_other         False\n",
       "race_black                         False\n",
       "race_white                         False\n",
       "race_pacific_islander              False\n",
       "race_asian                         False\n",
       "race_arabic                        False\n",
       "race_american_indian               False\n",
       "race_other                         False\n",
       "dtype: bool"
      ]
     },
     "execution_count": 126,
     "metadata": {},
     "output_type": "execute_result"
    }
   ],
   "source": [
    "new_data = pd.concat([data_num, data_cat, data_bool], axis=1)\n",
    "new_data.isna().any()"
   ]
  },
  {
   "cell_type": "code",
   "execution_count": 127,
   "id": "48cffe6e-2f71-4866-83c6-2fc34f4d10a4",
   "metadata": {},
   "outputs": [],
   "source": [
    "new_data.to_csv('../data/data_mean.csv')"
   ]
  },
  {
   "cell_type": "code",
   "execution_count": 128,
   "id": "e8c908c0",
   "metadata": {},
   "outputs": [
    {
     "data": {
      "text/plain": [
       "Age                                float64\n",
       "Gravida                            float64\n",
       "Para                               float64\n",
       "Number.of.Babies.In.Womb           float64\n",
       "Delivery.Year                      float64\n",
       "Infant.Cord.Vessels.A              float64\n",
       "Infant.Length.A                    float64\n",
       "Birthweight.A                      float64\n",
       "GA.At.Birth.A                      float64\n",
       "Weight.Prepregnancy                float64\n",
       "Weight.Gain.Pounds                 float64\n",
       "OFC.At.Birth.Baby.A.In             float64\n",
       "Quantitative.Blood.Loss.DS         float64\n",
       "Weight.Delivery                    float64\n",
       "BMI_delivery                       float64\n",
       "BMI_prepregnancy                   float64\n",
       "Labortime                          float64\n",
       "County                              object\n",
       "Episiotomy                          object\n",
       "Laceration.Extension                object\n",
       "Amniotic.Fluid.Color                object\n",
       "Attempt.to.Vbac                     object\n",
       "Csection.Incidence                  object\n",
       "Csection.Urgency                    object\n",
       "Membranes.Rupture.Method            object\n",
       "Oxytocin                            object\n",
       "Delivery.Month                      object\n",
       "Gestational.Status.A                object\n",
       "Born.In.Route.A                     object\n",
       "Fetal.Presentation.A                object\n",
       "Method.of.Delivery.A                object\n",
       "Forceps.a                           object\n",
       "Vacuum.Extraction.A                 object\n",
       "VBAC.A                              object\n",
       "Infant.Sex.A                        object\n",
       "Cervical.Ripening.Agents            object\n",
       "Preterm.Labor                       object\n",
       "Premature.Rom                       object\n",
       "Hypertensive.Disorders.Preg         object\n",
       "Diabetes                            object\n",
       "Adm.Alcohol                         object\n",
       "Adm.Cigarettes                      object\n",
       "Adm.Marijuana                       object\n",
       "Adm.Cocaine.Crack                   object\n",
       "Adm.Illicit.Drugs                   object\n",
       "Provider.On.Admission               object\n",
       "Ethnicity                           object\n",
       "delivery_anesthesia_epidural          bool\n",
       "delivery_anesthesia_spinal            bool\n",
       "delivery_anesthesia_local             bool\n",
       "delivery_anesthesia_pudenal           bool\n",
       "delivery_anesthesia_cse               bool\n",
       "delivery_anesthesia_general           bool\n",
       "delivery_anesthesia_intrathe          bool\n",
       "labor_anesthesia_epidural             bool\n",
       "labor_anesthesia_spinal               bool\n",
       "labor_anesthesia_cse                  bool\n",
       "labor_anesthesia_general              bool\n",
       "labor_anesthesia_iv_sedation          bool\n",
       "laceration_type_none                  bool\n",
       "laceration_type_vaginal               bool\n",
       "laceration_type_perineal              bool\n",
       "laceration_type_periuret              bool\n",
       "laceration_type_cervical              bool\n",
       "laceration_type_other                 bool\n",
       "infant_complications_A_brady          bool\n",
       "infant_complications_A_acidosis       bool\n",
       "infant_complications_A_meconium       bool\n",
       "infant_complications_A_cord_pro       bool\n",
       "infant_complications_A_MLD            bool\n",
       "infant_complications_A_MVD            bool\n",
       "infant_complications_A_oligohyd       bool\n",
       "infant_complications_A_shol_dys       bool\n",
       "infant_complications_A_polyhydr       bool\n",
       "infant_complications_A_decvarib       bool\n",
       "infant_complications_A_tachy          bool\n",
       "infant_complications_A_other          bool\n",
       "reason_for_admission_Spon_Ab          bool\n",
       "reason_for_admission_Labor            bool\n",
       "reason_for_admission_PTL              bool\n",
       "reason_for_admission_Induce           bool\n",
       "reason_for_admission_Rept_CS          bool\n",
       "reason_for_admission_Prim_CS          bool\n",
       "reason_for_admission_ROM              bool\n",
       "reason_for_admission_Observe          bool\n",
       "reason_for_admission_other            bool\n",
       "race_black                            bool\n",
       "race_white                            bool\n",
       "race_pacific_islander                 bool\n",
       "race_asian                            bool\n",
       "race_arabic                           bool\n",
       "race_american_indian                  bool\n",
       "race_other                            bool\n",
       "dtype: object"
      ]
     },
     "execution_count": 128,
     "metadata": {},
     "output_type": "execute_result"
    }
   ],
   "source": [
    "new_data.dtypes"
   ]
  }
 ],
 "metadata": {
  "kernelspec": {
   "display_name": "Python 3 (ipykernel)",
   "language": "python",
   "name": "python3"
  },
  "language_info": {
   "codemirror_mode": {
    "name": "ipython",
    "version": 3
   },
   "file_extension": ".py",
   "mimetype": "text/x-python",
   "name": "python",
   "nbconvert_exporter": "python",
   "pygments_lexer": "ipython3",
   "version": "3.10.9"
  }
 },
 "nbformat": 4,
 "nbformat_minor": 5
}
